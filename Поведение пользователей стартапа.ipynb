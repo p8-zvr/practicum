{
 "cells": [
  {
   "cell_type": "markdown",
   "metadata": {},
   "source": [
    "# Сборный проект № 2. Поведение пользователей стартапа\n"
   ]
  },
  {
   "cell_type": "markdown",
   "metadata": {},
   "source": [
    "**Цель: разобраться, как ведут себя пользователи мобильного приложения.**\n",
    "\n",
    "Задачи:\n",
    "- предобработать данные\n",
    "- изучить воронку продаж\n",
    "- узнать как пользователи доходят до покупки\n",
    "- узнать сколько пользователей доходит до покупки, а сколько — «застревает» на предыдущих шагах\n",
    "- провести А/А/В эксперимент"
   ]
  },
  {
   "cell_type": "markdown",
   "metadata": {},
   "source": [
    "Описание проекта: Дизайнеры захотели поменять шрифты во всём приложении, а менеджеры испугались, что пользователям будет непривычно. Договорились принять решение по результатам A/A/B-теста. Пользователей разбили на 3 группы: 2 контрольные со старыми шрифтами и одну экспериментальную — с новыми."
   ]
  },
  {
   "cell_type": "markdown",
   "metadata": {},
   "source": [
    "## Предобработка данных "
   ]
  },
  {
   "cell_type": "markdown",
   "metadata": {},
   "source": [
    "- Замените названия столбцов на удобные для вас;\n",
    "- Проверьте пропуски и типы данных. Откорректируйте, если нужно;\n",
    "- Добавьте столбец даты и времени, а также отдельный столбец дат;"
   ]
  },
  {
   "cell_type": "code",
   "execution_count": 1,
   "metadata": {},
   "outputs": [],
   "source": [
    "import pandas as pd\n",
    "import datetime as dt\n",
    "import numpy as np\n",
    "import matplotlib.pyplot as plt\n",
    "import math \n",
    "from scipy import stats as st"
   ]
  },
  {
   "cell_type": "code",
   "execution_count": 2,
   "metadata": {},
   "outputs": [
    {
     "data": {
      "text/html": [
       "<div>\n",
       "<style scoped>\n",
       "    .dataframe tbody tr th:only-of-type {\n",
       "        vertical-align: middle;\n",
       "    }\n",
       "\n",
       "    .dataframe tbody tr th {\n",
       "        vertical-align: top;\n",
       "    }\n",
       "\n",
       "    .dataframe thead th {\n",
       "        text-align: right;\n",
       "    }\n",
       "</style>\n",
       "<table border=\"1\" class=\"dataframe\">\n",
       "  <thead>\n",
       "    <tr style=\"text-align: right;\">\n",
       "      <th></th>\n",
       "      <th>EventName</th>\n",
       "      <th>DeviceIDHash</th>\n",
       "      <th>EventTimestamp</th>\n",
       "      <th>ExpId</th>\n",
       "    </tr>\n",
       "  </thead>\n",
       "  <tbody>\n",
       "    <tr>\n",
       "      <th>0</th>\n",
       "      <td>MainScreenAppear</td>\n",
       "      <td>4575588528974610257</td>\n",
       "      <td>1564029816</td>\n",
       "      <td>246</td>\n",
       "    </tr>\n",
       "    <tr>\n",
       "      <th>1</th>\n",
       "      <td>MainScreenAppear</td>\n",
       "      <td>7416695313311560658</td>\n",
       "      <td>1564053102</td>\n",
       "      <td>246</td>\n",
       "    </tr>\n",
       "    <tr>\n",
       "      <th>2</th>\n",
       "      <td>PaymentScreenSuccessful</td>\n",
       "      <td>3518123091307005509</td>\n",
       "      <td>1564054127</td>\n",
       "      <td>248</td>\n",
       "    </tr>\n",
       "    <tr>\n",
       "      <th>3</th>\n",
       "      <td>CartScreenAppear</td>\n",
       "      <td>3518123091307005509</td>\n",
       "      <td>1564054127</td>\n",
       "      <td>248</td>\n",
       "    </tr>\n",
       "    <tr>\n",
       "      <th>4</th>\n",
       "      <td>PaymentScreenSuccessful</td>\n",
       "      <td>6217807653094995999</td>\n",
       "      <td>1564055322</td>\n",
       "      <td>248</td>\n",
       "    </tr>\n",
       "  </tbody>\n",
       "</table>\n",
       "</div>"
      ],
      "text/plain": [
       "                 EventName         DeviceIDHash  EventTimestamp  ExpId\n",
       "0         MainScreenAppear  4575588528974610257      1564029816    246\n",
       "1         MainScreenAppear  7416695313311560658      1564053102    246\n",
       "2  PaymentScreenSuccessful  3518123091307005509      1564054127    248\n",
       "3         CartScreenAppear  3518123091307005509      1564054127    248\n",
       "4  PaymentScreenSuccessful  6217807653094995999      1564055322    248"
      ]
     },
     "execution_count": 2,
     "metadata": {},
     "output_type": "execute_result"
    }
   ],
   "source": [
    "df = pd.read_csv('/datasets/logs_exp.csv', sep = '\\s+')\n",
    "df.head()"
   ]
  },
  {
   "cell_type": "code",
   "execution_count": 3,
   "metadata": {},
   "outputs": [],
   "source": [
    "def first_view(df):\n",
    "    display('Info')\n",
    "    df.info()\n",
    "    display('*'*50)\n",
    "    display('Describe')\n",
    "    display(df.describe())\n",
    "    display('*'*50)\n",
    "    display('NAN?')\n",
    "    display(df.isna().sum())"
   ]
  },
  {
   "cell_type": "code",
   "execution_count": 4,
   "metadata": {
    "scrolled": true
   },
   "outputs": [
    {
     "data": {
      "text/plain": [
       "'Info'"
      ]
     },
     "metadata": {},
     "output_type": "display_data"
    },
    {
     "name": "stdout",
     "output_type": "stream",
     "text": [
      "<class 'pandas.core.frame.DataFrame'>\n",
      "RangeIndex: 244126 entries, 0 to 244125\n",
      "Data columns (total 4 columns):\n",
      " #   Column          Non-Null Count   Dtype \n",
      "---  ------          --------------   ----- \n",
      " 0   EventName       244126 non-null  object\n",
      " 1   DeviceIDHash    244126 non-null  int64 \n",
      " 2   EventTimestamp  244126 non-null  int64 \n",
      " 3   ExpId           244126 non-null  int64 \n",
      "dtypes: int64(3), object(1)\n",
      "memory usage: 7.5+ MB\n"
     ]
    },
    {
     "data": {
      "text/plain": [
       "'**************************************************'"
      ]
     },
     "metadata": {},
     "output_type": "display_data"
    },
    {
     "data": {
      "text/plain": [
       "'**************************************************'"
      ]
     },
     "metadata": {},
     "output_type": "display_data"
    },
    {
     "data": {
      "text/plain": [
       "'Describe'"
      ]
     },
     "metadata": {},
     "output_type": "display_data"
    },
    {
     "data": {
      "text/html": [
       "<div>\n",
       "<style scoped>\n",
       "    .dataframe tbody tr th:only-of-type {\n",
       "        vertical-align: middle;\n",
       "    }\n",
       "\n",
       "    .dataframe tbody tr th {\n",
       "        vertical-align: top;\n",
       "    }\n",
       "\n",
       "    .dataframe thead th {\n",
       "        text-align: right;\n",
       "    }\n",
       "</style>\n",
       "<table border=\"1\" class=\"dataframe\">\n",
       "  <thead>\n",
       "    <tr style=\"text-align: right;\">\n",
       "      <th></th>\n",
       "      <th>DeviceIDHash</th>\n",
       "      <th>EventTimestamp</th>\n",
       "      <th>ExpId</th>\n",
       "    </tr>\n",
       "  </thead>\n",
       "  <tbody>\n",
       "    <tr>\n",
       "      <th>count</th>\n",
       "      <td>2.441260e+05</td>\n",
       "      <td>2.441260e+05</td>\n",
       "      <td>244126.000000</td>\n",
       "    </tr>\n",
       "    <tr>\n",
       "      <th>mean</th>\n",
       "      <td>4.627568e+18</td>\n",
       "      <td>1.564914e+09</td>\n",
       "      <td>247.022296</td>\n",
       "    </tr>\n",
       "    <tr>\n",
       "      <th>std</th>\n",
       "      <td>2.642425e+18</td>\n",
       "      <td>1.771343e+05</td>\n",
       "      <td>0.824434</td>\n",
       "    </tr>\n",
       "    <tr>\n",
       "      <th>min</th>\n",
       "      <td>6.888747e+15</td>\n",
       "      <td>1.564030e+09</td>\n",
       "      <td>246.000000</td>\n",
       "    </tr>\n",
       "    <tr>\n",
       "      <th>25%</th>\n",
       "      <td>2.372212e+18</td>\n",
       "      <td>1.564757e+09</td>\n",
       "      <td>246.000000</td>\n",
       "    </tr>\n",
       "    <tr>\n",
       "      <th>50%</th>\n",
       "      <td>4.623192e+18</td>\n",
       "      <td>1.564919e+09</td>\n",
       "      <td>247.000000</td>\n",
       "    </tr>\n",
       "    <tr>\n",
       "      <th>75%</th>\n",
       "      <td>6.932517e+18</td>\n",
       "      <td>1.565075e+09</td>\n",
       "      <td>248.000000</td>\n",
       "    </tr>\n",
       "    <tr>\n",
       "      <th>max</th>\n",
       "      <td>9.222603e+18</td>\n",
       "      <td>1.565213e+09</td>\n",
       "      <td>248.000000</td>\n",
       "    </tr>\n",
       "  </tbody>\n",
       "</table>\n",
       "</div>"
      ],
      "text/plain": [
       "       DeviceIDHash  EventTimestamp          ExpId\n",
       "count  2.441260e+05    2.441260e+05  244126.000000\n",
       "mean   4.627568e+18    1.564914e+09     247.022296\n",
       "std    2.642425e+18    1.771343e+05       0.824434\n",
       "min    6.888747e+15    1.564030e+09     246.000000\n",
       "25%    2.372212e+18    1.564757e+09     246.000000\n",
       "50%    4.623192e+18    1.564919e+09     247.000000\n",
       "75%    6.932517e+18    1.565075e+09     248.000000\n",
       "max    9.222603e+18    1.565213e+09     248.000000"
      ]
     },
     "metadata": {},
     "output_type": "display_data"
    },
    {
     "data": {
      "text/plain": [
       "'**************************************************'"
      ]
     },
     "metadata": {},
     "output_type": "display_data"
    },
    {
     "data": {
      "text/plain": [
       "'NAN?'"
      ]
     },
     "metadata": {},
     "output_type": "display_data"
    },
    {
     "data": {
      "text/plain": [
       "EventName         0\n",
       "DeviceIDHash      0\n",
       "EventTimestamp    0\n",
       "ExpId             0\n",
       "dtype: int64"
      ]
     },
     "metadata": {},
     "output_type": "display_data"
    }
   ],
   "source": [
    "first_view(df)"
   ]
  },
  {
   "cell_type": "code",
   "execution_count": 5,
   "metadata": {},
   "outputs": [],
   "source": [
    "# переименовываю столбцы и привожу в нижний регистр\n",
    "\n",
    "df.columns = df.columns.str.lower()\n",
    "df = df.rename(columns={'eventname' : 'event_name', 'deviceidhash': 'id', 'eventtimestamp': 'event_timestamp', 'expid': 'group'})"
   ]
  },
  {
   "cell_type": "code",
   "execution_count": 6,
   "metadata": {},
   "outputs": [],
   "source": [
    "# меняю формат даты и времени\n",
    "\n",
    "df['event_timestamp'] = df['event_timestamp'].map(lambda x: dt.datetime.fromtimestamp(x))\n",
    "df['date'] = df['event_timestamp'].dt.date\n",
    "df['time'] = df['event_timestamp'].dt.time\n"
   ]
  },
  {
   "cell_type": "code",
   "execution_count": 7,
   "metadata": {},
   "outputs": [],
   "source": [
    "df['date'] = pd.to_datetime(df['date'])"
   ]
  },
  {
   "cell_type": "code",
   "execution_count": 8,
   "metadata": {},
   "outputs": [
    {
     "data": {
      "text/plain": [
       "'количество дубликатов: 413'"
      ]
     },
     "metadata": {},
     "output_type": "display_data"
    },
    {
     "data": {
      "text/plain": [
       "'всего строк в датафрейме: 244126'"
      ]
     },
     "metadata": {},
     "output_type": "display_data"
    }
   ],
   "source": [
    "# начинаю сражение с дубликатами\n",
    "\n",
    "display(f'количество дубликатов: {df.duplicated().sum()}')\n",
    "display(f'всего строк в датафрейме: {len(df)}')"
   ]
  },
  {
   "cell_type": "code",
   "execution_count": 9,
   "metadata": {
    "scrolled": true
   },
   "outputs": [
    {
     "data": {
      "text/plain": [
       "event_name               id                   event_timestamp      group  date        time    \n",
       "PaymentScreenSuccessful  636437379427729086   2019-08-02 06:10:06  247    2019-08-02  06:10:06    5\n",
       "                         4980045449118619005  2019-08-01 13:20:40  247    2019-08-01  13:20:40    5\n",
       "Tutorial                 3473691793382022823  2019-08-01 22:11:49  248    2019-08-01  22:11:49    5\n",
       "                                              2019-08-01 22:11:53  248    2019-08-01  22:11:53    5\n",
       "                                              2019-08-01 22:14:08  248    2019-08-01  22:14:08    4\n",
       "PaymentScreenSuccessful  6932517045703054087  2019-08-05 17:00:03  248    2019-08-05  17:00:03    4\n",
       "                         3528217211962170139  2019-08-01 11:13:23  247    2019-08-01  11:13:23    4\n",
       "                         4948674310025878773  2019-08-04 19:34:36  246    2019-08-04  19:34:36    4\n",
       "                         636437379427729086   2019-08-02 06:10:05  247    2019-08-02  06:10:05    4\n",
       "                         4980045449118619005  2019-08-01 13:20:39  247    2019-08-01  13:20:39    4\n",
       "                         7757756163339431950  2019-08-03 18:37:09  247    2019-08-03  18:37:09    4\n",
       "                         6342256201668992826  2019-08-03 12:40:14  246    2019-08-03  12:40:14    4\n",
       "Tutorial                 3473691793382022823  2019-08-01 22:11:52  248    2019-08-01  22:11:52    4\n",
       "                         5767286434014984014  2019-08-05 11:25:52  246    2019-08-05  11:25:52    4\n",
       "PaymentScreenSuccessful  3460055105374208376  2019-08-03 20:13:10  246    2019-08-03  20:13:10    3\n",
       "                         1591209869024092929  2019-08-01 17:38:29  248    2019-08-01  17:38:29    3\n",
       "                         747706080571680169   2019-08-05 10:38:42  247    2019-08-05  10:38:42    3\n",
       "                         6394616444764198947  2019-08-06 11:17:18  246    2019-08-06  11:17:18    3\n",
       "                         4086924768271071570  2019-08-05 11:40:03  247    2019-08-05  11:40:03    3\n",
       "                         6394616444764198947  2019-08-06 11:17:19  246    2019-08-06  11:17:19    3\n",
       "dtype: int64"
      ]
     },
     "execution_count": 9,
     "metadata": {},
     "output_type": "execute_result"
    }
   ],
   "source": [
    "df.value_counts().head(20)"
   ]
  },
  {
   "cell_type": "markdown",
   "metadata": {},
   "source": [
    "**Дубликатов не так много 413. всего строк в датафрейме 244126, так что можно прсото удалить.**\n",
    "\n",
    "Любопытно, что в основном дубликаты возникают на этапе оплаты. Можно предположить, что у пользователей какие-то проблемы со страницей оплаты"
   ]
  },
  {
   "cell_type": "code",
   "execution_count": 10,
   "metadata": {},
   "outputs": [],
   "source": [
    "# удаляю дубликаты\n",
    "\n",
    "df.drop_duplicates(inplace = True)\n",
    "df.reset_index(drop=True, inplace = True)"
   ]
  },
  {
   "cell_type": "code",
   "execution_count": 11,
   "metadata": {},
   "outputs": [
    {
     "data": {
      "text/plain": [
       "'количество дубликатов: 0'"
      ]
     },
     "metadata": {},
     "output_type": "display_data"
    },
    {
     "data": {
      "text/plain": [
       "'всего строк в датафрейме: 243713'"
      ]
     },
     "metadata": {},
     "output_type": "display_data"
    }
   ],
   "source": [
    "display(f'количество дубликатов: {df.duplicated().sum()}')\n",
    "display(f'всего строк в датафрейме: {len(df)}')"
   ]
  },
  {
   "cell_type": "markdown",
   "metadata": {},
   "source": [
    "**Данные получены хорошие, пропусков нет. Дубликаты удалил, некоторые форматы заменил**"
   ]
  },
  {
   "cell_type": "markdown",
   "metadata": {},
   "source": [
    " Тут нам надо просто сгруппировать orders по пользователю visitorId и выбрать уникальные группы для них ['group'].nunique().reset_index(), а дальше просто обрезать тех, у кого больше чем одна группа query('group > 1')."
   ]
  },
  {
   "cell_type": "code",
   "execution_count": 51,
   "metadata": {},
   "outputs": [
    {
     "data": {
      "text/plain": [
       "id       0.0\n",
       "group    0.0\n",
       "dtype: float64"
      ]
     },
     "execution_count": 51,
     "metadata": {},
     "output_type": "execute_result"
    }
   ],
   "source": [
    "check = df.groupby('id')['group'].nunique().reset_index()\n",
    "check.query('group > 1').sum()"
   ]
  },
  {
   "cell_type": "markdown",
   "metadata": {},
   "source": [
    "**Пользователей, которые вошли в несколько групп нет**"
   ]
  },
  {
   "cell_type": "markdown",
   "metadata": {},
   "source": [
    "## Изучение и првоерка данных\n",
    "- Сколько всего событий в логе?\n",
    "- Сколько всего пользователей в логе?\n",
    "- Сколько в среднем событий приходится на пользователя?\n",
    "- Данными за какой период располагаем? Найдите максимальную и минимальную дату. Изучить, как меняется количество данных: построить столбчатую диаграмму, которая отобразит количество событий в зависимости от времени в разрезе групп. \n",
    "- Много ли событий и пользователей потеряли, отбросив старые данные?\n",
    "- Проверка групп пользователей"
   ]
  },
  {
   "cell_type": "markdown",
   "metadata": {},
   "source": [
    "### Сколько всего событий в логе?"
   ]
  },
  {
   "cell_type": "code",
   "execution_count": 13,
   "metadata": {},
   "outputs": [
    {
     "data": {
      "text/plain": [
       "array(['MainScreenAppear', 'PaymentScreenSuccessful', 'CartScreenAppear',\n",
       "       'OffersScreenAppear', 'Tutorial'], dtype=object)"
      ]
     },
     "metadata": {},
     "output_type": "display_data"
    }
   ],
   "source": [
    "display(df['event_name'].unique())"
   ]
  },
  {
   "cell_type": "code",
   "execution_count": 14,
   "metadata": {},
   "outputs": [
    {
     "data": {
      "text/plain": [
       "MainScreenAppear           119101\n",
       "OffersScreenAppear          46808\n",
       "CartScreenAppear            42668\n",
       "PaymentScreenSuccessful     34118\n",
       "Tutorial                     1018\n",
       "Name: event_name, dtype: int64"
      ]
     },
     "execution_count": 14,
     "metadata": {},
     "output_type": "execute_result"
    }
   ],
   "source": [
    "df['event_name'].value_counts().sort_values(ascending = False)"
   ]
  },
  {
   "cell_type": "code",
   "execution_count": 15,
   "metadata": {},
   "outputs": [
    {
     "data": {
      "image/png": "[encoded data removed]",
      "text/plain": [
       "<Figure size 720x432 with 1 Axes>"
      ]
     },
     "metadata": {
      "needs_background": "light"
     },
     "output_type": "display_data"
    }
   ],
   "source": [
    "df['event_name'].value_counts().sort_values(ascending = False).plot(kind = 'bar', grid = True, figsize = (10,6))\n",
    "\n",
    "plt.title('События')\n",
    "plt.xlabel('Названия событий')\n",
    "plt.ylabel('Количество событий')\n",
    "plt.xticks(rotation=50)\n",
    "plt.legend()\n",
    "plt.show()"
   ]
  },
  {
   "cell_type": "code",
   "execution_count": 16,
   "metadata": {},
   "outputs": [
    {
     "data": {
      "text/plain": [
       "event_name         28.646275\n",
       "id                 28.646275\n",
       "event_timestamp    28.646275\n",
       "group              28.646275\n",
       "date               28.646275\n",
       "time               28.646275\n",
       "dtype: float64"
      ]
     },
     "execution_count": 16,
     "metadata": {},
     "output_type": "execute_result"
    }
   ],
   "source": [
    "(df.query('event_name == \"PaymentScreenSuccessful\"').count() / df.query('event_name == \"MainScreenAppear\"').count()) * 100"
   ]
  },
  {
   "cell_type": "markdown",
   "metadata": {},
   "source": [
    "**Всего видим 5 событий. При этом подавляющее большинство событий - MainScreenAppear т.е. посещение главной страницы. Всего 1018 раз пользователи проходили туториал. Можно наблюдать, что путь пользователя от первого посещения сайта до оплаты товара проходят 28% пользователей**"
   ]
  },
  {
   "cell_type": "markdown",
   "metadata": {},
   "source": [
    "### Сколько всего пользователей в логе?"
   ]
  },
  {
   "cell_type": "code",
   "execution_count": 17,
   "metadata": {},
   "outputs": [
    {
     "data": {
      "text/plain": [
       "'всего пользователей: 7551'"
      ]
     },
     "metadata": {},
     "output_type": "display_data"
    }
   ],
   "source": [
    "display(f'всего пользователей: {df[\"id\"].nunique()}')"
   ]
  },
  {
   "cell_type": "markdown",
   "metadata": {},
   "source": [
    "### Сколько в среднем событий приходится на пользователя?"
   ]
  },
  {
   "cell_type": "code",
   "execution_count": 18,
   "metadata": {},
   "outputs": [
    {
     "data": {
      "text/plain": [
       "'на одного пользователя в среднем приходится: 32 события'"
      ]
     },
     "metadata": {},
     "output_type": "display_data"
    },
    {
     "data": {
      "text/plain": [
       "'медианно на одного пользователя приходится: 20 событий'"
      ]
     },
     "metadata": {},
     "output_type": "display_data"
    }
   ],
   "source": [
    "display(f'на одного пользователя в среднем приходится:\\\n",
    " {round(df.groupby(\"id\").agg({\"event_name\" : \"count\"}).mean()[0])} события')\n",
    "\n",
    "display(f'медианно на одного пользователя приходится:\\\n",
    " {round(df.groupby(\"id\").agg({\"event_name\" : \"count\"}).median()[0])} событий')\n"
   ]
  },
  {
   "cell_type": "markdown",
   "metadata": {},
   "source": [
    "**В среднем на одного пользователя приходится 32 события, но по медиане поменьше - 20**"
   ]
  },
  {
   "cell_type": "code",
   "execution_count": 19,
   "metadata": {},
   "outputs": [
    {
     "data": {
      "text/plain": [
       "5       260\n",
       "7       250\n",
       "6       249\n",
       "8       240\n",
       "4       236\n",
       "       ... \n",
       "150       1\n",
       "364       1\n",
       "140       1\n",
       "144       1\n",
       "1439      1\n",
       "Name: event_name, Length: 249, dtype: int64"
      ]
     },
     "execution_count": 19,
     "metadata": {},
     "output_type": "execute_result"
    }
   ],
   "source": [
    "df.groupby(\"id\").agg({\"event_name\" : \"count\"})['event_name'].value_counts()"
   ]
  },
  {
   "cell_type": "code",
   "execution_count": 20,
   "metadata": {
    "scrolled": true
   },
   "outputs": [
    {
     "data": {
      "text/html": [
       "<div>\n",
       "<style scoped>\n",
       "    .dataframe tbody tr th:only-of-type {\n",
       "        vertical-align: middle;\n",
       "    }\n",
       "\n",
       "    .dataframe tbody tr th {\n",
       "        vertical-align: top;\n",
       "    }\n",
       "\n",
       "    .dataframe thead th {\n",
       "        text-align: right;\n",
       "    }\n",
       "</style>\n",
       "<table border=\"1\" class=\"dataframe\">\n",
       "  <thead>\n",
       "    <tr style=\"text-align: right;\">\n",
       "      <th></th>\n",
       "      <th>event_name</th>\n",
       "    </tr>\n",
       "    <tr>\n",
       "      <th>id</th>\n",
       "      <th></th>\n",
       "    </tr>\n",
       "  </thead>\n",
       "  <tbody>\n",
       "    <tr>\n",
       "      <th>6304868067479728361</th>\n",
       "      <td>2307</td>\n",
       "    </tr>\n",
       "    <tr>\n",
       "      <th>197027893265565660</th>\n",
       "      <td>1998</td>\n",
       "    </tr>\n",
       "    <tr>\n",
       "      <th>4623191541214045580</th>\n",
       "      <td>1768</td>\n",
       "    </tr>\n",
       "    <tr>\n",
       "      <th>6932517045703054087</th>\n",
       "      <td>1439</td>\n",
       "    </tr>\n",
       "    <tr>\n",
       "      <th>1754140665440434215</th>\n",
       "      <td>1221</td>\n",
       "    </tr>\n",
       "    <tr>\n",
       "      <th>3337471580007169353</th>\n",
       "      <td>1186</td>\n",
       "    </tr>\n",
       "    <tr>\n",
       "      <th>7738058666231999878</th>\n",
       "      <td>888</td>\n",
       "    </tr>\n",
       "    <tr>\n",
       "      <th>1055544042902443290</th>\n",
       "      <td>854</td>\n",
       "    </tr>\n",
       "    <tr>\n",
       "      <th>4713748699910253089</th>\n",
       "      <td>824</td>\n",
       "    </tr>\n",
       "    <tr>\n",
       "      <th>8118046800480174342</th>\n",
       "      <td>755</td>\n",
       "    </tr>\n",
       "    <tr>\n",
       "      <th>1989685320445148348</th>\n",
       "      <td>729</td>\n",
       "    </tr>\n",
       "    <tr>\n",
       "      <th>3521696259961091617</th>\n",
       "      <td>702</td>\n",
       "    </tr>\n",
       "    <tr>\n",
       "      <th>3610536745613892312</th>\n",
       "      <td>661</td>\n",
       "    </tr>\n",
       "    <tr>\n",
       "      <th>1100007125648169445</th>\n",
       "      <td>661</td>\n",
       "    </tr>\n",
       "    <tr>\n",
       "      <th>2305766456715991733</th>\n",
       "      <td>658</td>\n",
       "    </tr>\n",
       "    <tr>\n",
       "      <th>5996739817823449506</th>\n",
       "      <td>585</td>\n",
       "    </tr>\n",
       "    <tr>\n",
       "      <th>3940194724501792579</th>\n",
       "      <td>569</td>\n",
       "    </tr>\n",
       "    <tr>\n",
       "      <th>8173190940950873857</th>\n",
       "      <td>555</td>\n",
       "    </tr>\n",
       "    <tr>\n",
       "      <th>2768580714092136945</th>\n",
       "      <td>529</td>\n",
       "    </tr>\n",
       "    <tr>\n",
       "      <th>674541835027541643</th>\n",
       "      <td>496</td>\n",
       "    </tr>\n",
       "  </tbody>\n",
       "</table>\n",
       "</div>"
      ],
      "text/plain": [
       "                     event_name\n",
       "id                             \n",
       "6304868067479728361        2307\n",
       "197027893265565660         1998\n",
       "4623191541214045580        1768\n",
       "6932517045703054087        1439\n",
       "1754140665440434215        1221\n",
       "3337471580007169353        1186\n",
       "7738058666231999878         888\n",
       "1055544042902443290         854\n",
       "4713748699910253089         824\n",
       "8118046800480174342         755\n",
       "1989685320445148348         729\n",
       "3521696259961091617         702\n",
       "3610536745613892312         661\n",
       "1100007125648169445         661\n",
       "2305766456715991733         658\n",
       "5996739817823449506         585\n",
       "3940194724501792579         569\n",
       "8173190940950873857         555\n",
       "2768580714092136945         529\n",
       "674541835027541643          496"
      ]
     },
     "execution_count": 20,
     "metadata": {},
     "output_type": "execute_result"
    }
   ],
   "source": [
    "df.groupby(\"id\").agg({\"event_name\" : \"count\"}).sort_values(by='event_name', ascending = False).head(20)"
   ]
  },
  {
   "cell_type": "code",
   "execution_count": 21,
   "metadata": {
    "scrolled": true
   },
   "outputs": [
    {
     "data": {
      "text/html": [
       "<div>\n",
       "<style scoped>\n",
       "    .dataframe tbody tr th:only-of-type {\n",
       "        vertical-align: middle;\n",
       "    }\n",
       "\n",
       "    .dataframe tbody tr th {\n",
       "        vertical-align: top;\n",
       "    }\n",
       "\n",
       "    .dataframe thead th {\n",
       "        text-align: right;\n",
       "    }\n",
       "</style>\n",
       "<table border=\"1\" class=\"dataframe\">\n",
       "  <thead>\n",
       "    <tr style=\"text-align: right;\">\n",
       "      <th></th>\n",
       "      <th>event_name</th>\n",
       "      <th>id</th>\n",
       "      <th>event_timestamp</th>\n",
       "      <th>group</th>\n",
       "      <th>date</th>\n",
       "      <th>time</th>\n",
       "    </tr>\n",
       "  </thead>\n",
       "  <tbody>\n",
       "    <tr>\n",
       "      <th>32882</th>\n",
       "      <td>MainScreenAppear</td>\n",
       "      <td>6304868067479728361</td>\n",
       "      <td>2019-08-01 18:01:25</td>\n",
       "      <td>248</td>\n",
       "      <td>2019-08-01</td>\n",
       "      <td>18:01:25</td>\n",
       "    </tr>\n",
       "    <tr>\n",
       "      <th>32893</th>\n",
       "      <td>CartScreenAppear</td>\n",
       "      <td>6304868067479728361</td>\n",
       "      <td>2019-08-01 18:01:43</td>\n",
       "      <td>248</td>\n",
       "      <td>2019-08-01</td>\n",
       "      <td>18:01:43</td>\n",
       "    </tr>\n",
       "    <tr>\n",
       "      <th>32894</th>\n",
       "      <td>PaymentScreenSuccessful</td>\n",
       "      <td>6304868067479728361</td>\n",
       "      <td>2019-08-01 18:01:43</td>\n",
       "      <td>248</td>\n",
       "      <td>2019-08-01</td>\n",
       "      <td>18:01:43</td>\n",
       "    </tr>\n",
       "    <tr>\n",
       "      <th>32896</th>\n",
       "      <td>MainScreenAppear</td>\n",
       "      <td>6304868067479728361</td>\n",
       "      <td>2019-08-01 18:01:44</td>\n",
       "      <td>248</td>\n",
       "      <td>2019-08-01</td>\n",
       "      <td>18:01:44</td>\n",
       "    </tr>\n",
       "    <tr>\n",
       "      <th>32897</th>\n",
       "      <td>OffersScreenAppear</td>\n",
       "      <td>6304868067479728361</td>\n",
       "      <td>2019-08-01 18:01:52</td>\n",
       "      <td>248</td>\n",
       "      <td>2019-08-01</td>\n",
       "      <td>18:01:52</td>\n",
       "    </tr>\n",
       "    <tr>\n",
       "      <th>...</th>\n",
       "      <td>...</td>\n",
       "      <td>...</td>\n",
       "      <td>...</td>\n",
       "      <td>...</td>\n",
       "      <td>...</td>\n",
       "      <td>...</td>\n",
       "    </tr>\n",
       "    <tr>\n",
       "      <th>232189</th>\n",
       "      <td>OffersScreenAppear</td>\n",
       "      <td>6304868067479728361</td>\n",
       "      <td>2019-08-07 14:54:24</td>\n",
       "      <td>248</td>\n",
       "      <td>2019-08-07</td>\n",
       "      <td>14:54:24</td>\n",
       "    </tr>\n",
       "    <tr>\n",
       "      <th>232196</th>\n",
       "      <td>CartScreenAppear</td>\n",
       "      <td>6304868067479728361</td>\n",
       "      <td>2019-08-07 14:54:28</td>\n",
       "      <td>248</td>\n",
       "      <td>2019-08-07</td>\n",
       "      <td>14:54:28</td>\n",
       "    </tr>\n",
       "    <tr>\n",
       "      <th>232208</th>\n",
       "      <td>OffersScreenAppear</td>\n",
       "      <td>6304868067479728361</td>\n",
       "      <td>2019-08-07 14:54:41</td>\n",
       "      <td>248</td>\n",
       "      <td>2019-08-07</td>\n",
       "      <td>14:54:41</td>\n",
       "    </tr>\n",
       "    <tr>\n",
       "      <th>241903</th>\n",
       "      <td>MainScreenAppear</td>\n",
       "      <td>6304868067479728361</td>\n",
       "      <td>2019-08-07 19:26:20</td>\n",
       "      <td>248</td>\n",
       "      <td>2019-08-07</td>\n",
       "      <td>19:26:20</td>\n",
       "    </tr>\n",
       "    <tr>\n",
       "      <th>241925</th>\n",
       "      <td>OffersScreenAppear</td>\n",
       "      <td>6304868067479728361</td>\n",
       "      <td>2019-08-07 19:26:48</td>\n",
       "      <td>248</td>\n",
       "      <td>2019-08-07</td>\n",
       "      <td>19:26:48</td>\n",
       "    </tr>\n",
       "  </tbody>\n",
       "</table>\n",
       "<p>2307 rows × 6 columns</p>\n",
       "</div>"
      ],
      "text/plain": [
       "                     event_name                   id     event_timestamp  \\\n",
       "32882          MainScreenAppear  6304868067479728361 2019-08-01 18:01:25   \n",
       "32893          CartScreenAppear  6304868067479728361 2019-08-01 18:01:43   \n",
       "32894   PaymentScreenSuccessful  6304868067479728361 2019-08-01 18:01:43   \n",
       "32896          MainScreenAppear  6304868067479728361 2019-08-01 18:01:44   \n",
       "32897        OffersScreenAppear  6304868067479728361 2019-08-01 18:01:52   \n",
       "...                         ...                  ...                 ...   \n",
       "232189       OffersScreenAppear  6304868067479728361 2019-08-07 14:54:24   \n",
       "232196         CartScreenAppear  6304868067479728361 2019-08-07 14:54:28   \n",
       "232208       OffersScreenAppear  6304868067479728361 2019-08-07 14:54:41   \n",
       "241903         MainScreenAppear  6304868067479728361 2019-08-07 19:26:20   \n",
       "241925       OffersScreenAppear  6304868067479728361 2019-08-07 19:26:48   \n",
       "\n",
       "        group       date      time  \n",
       "32882     248 2019-08-01  18:01:25  \n",
       "32893     248 2019-08-01  18:01:43  \n",
       "32894     248 2019-08-01  18:01:43  \n",
       "32896     248 2019-08-01  18:01:44  \n",
       "32897     248 2019-08-01  18:01:52  \n",
       "...       ...        ...       ...  \n",
       "232189    248 2019-08-07  14:54:24  \n",
       "232196    248 2019-08-07  14:54:28  \n",
       "232208    248 2019-08-07  14:54:41  \n",
       "241903    248 2019-08-07  19:26:20  \n",
       "241925    248 2019-08-07  19:26:48  \n",
       "\n",
       "[2307 rows x 6 columns]"
      ]
     },
     "execution_count": 21,
     "metadata": {},
     "output_type": "execute_result"
    }
   ],
   "source": [
    "df.query('id == 6304868067479728361')"
   ]
  },
  {
   "cell_type": "markdown",
   "metadata": {},
   "source": [
    "**Есть пользователи, котоыре совершили огромное количество событий**"
   ]
  },
  {
   "cell_type": "markdown",
   "metadata": {},
   "source": [
    "### Данными за какой период располагаем? "
   ]
  },
  {
   "cell_type": "code",
   "execution_count": 22,
   "metadata": {},
   "outputs": [
    {
     "data": {
      "text/plain": [
       "'минимальная дата 2019-07-25 00:00:00'"
      ]
     },
     "metadata": {},
     "output_type": "display_data"
    },
    {
     "data": {
      "text/plain": [
       "'максимальная дата 2019-08-07 00:00:00'"
      ]
     },
     "metadata": {},
     "output_type": "display_data"
    }
   ],
   "source": [
    "display(f'минимальная дата {df[\"date\"].min()}')\n",
    "display(f'максимальная дата {df[\"date\"].max()}')"
   ]
  },
  {
   "cell_type": "code",
   "execution_count": 23,
   "metadata": {},
   "outputs": [
    {
     "data": {
      "text/html": [
       "<div>\n",
       "<style scoped>\n",
       "    .dataframe tbody tr th:only-of-type {\n",
       "        vertical-align: middle;\n",
       "    }\n",
       "\n",
       "    .dataframe tbody tr th {\n",
       "        vertical-align: top;\n",
       "    }\n",
       "\n",
       "    .dataframe thead th {\n",
       "        text-align: right;\n",
       "    }\n",
       "</style>\n",
       "<table border=\"1\" class=\"dataframe\">\n",
       "  <thead>\n",
       "    <tr style=\"text-align: right;\">\n",
       "      <th>group</th>\n",
       "      <th>246</th>\n",
       "      <th>247</th>\n",
       "      <th>248</th>\n",
       "    </tr>\n",
       "    <tr>\n",
       "      <th>date</th>\n",
       "      <th></th>\n",
       "      <th></th>\n",
       "      <th></th>\n",
       "    </tr>\n",
       "  </thead>\n",
       "  <tbody>\n",
       "    <tr>\n",
       "      <th>2019-07-25</th>\n",
       "      <td>4</td>\n",
       "      <td>1</td>\n",
       "      <td>4</td>\n",
       "    </tr>\n",
       "    <tr>\n",
       "      <th>2019-07-26</th>\n",
       "      <td>14</td>\n",
       "      <td>8</td>\n",
       "      <td>9</td>\n",
       "    </tr>\n",
       "    <tr>\n",
       "      <th>2019-07-27</th>\n",
       "      <td>24</td>\n",
       "      <td>23</td>\n",
       "      <td>8</td>\n",
       "    </tr>\n",
       "    <tr>\n",
       "      <th>2019-07-28</th>\n",
       "      <td>33</td>\n",
       "      <td>36</td>\n",
       "      <td>36</td>\n",
       "    </tr>\n",
       "    <tr>\n",
       "      <th>2019-07-29</th>\n",
       "      <td>55</td>\n",
       "      <td>58</td>\n",
       "      <td>71</td>\n",
       "    </tr>\n",
       "    <tr>\n",
       "      <th>2019-07-30</th>\n",
       "      <td>129</td>\n",
       "      <td>138</td>\n",
       "      <td>145</td>\n",
       "    </tr>\n",
       "    <tr>\n",
       "      <th>2019-07-31</th>\n",
       "      <td>620</td>\n",
       "      <td>664</td>\n",
       "      <td>746</td>\n",
       "    </tr>\n",
       "    <tr>\n",
       "      <th>2019-08-01</th>\n",
       "      <td>11561</td>\n",
       "      <td>12306</td>\n",
       "      <td>12274</td>\n",
       "    </tr>\n",
       "    <tr>\n",
       "      <th>2019-08-02</th>\n",
       "      <td>10946</td>\n",
       "      <td>10990</td>\n",
       "      <td>13618</td>\n",
       "    </tr>\n",
       "    <tr>\n",
       "      <th>2019-08-03</th>\n",
       "      <td>10575</td>\n",
       "      <td>11024</td>\n",
       "      <td>11683</td>\n",
       "    </tr>\n",
       "    <tr>\n",
       "      <th>2019-08-04</th>\n",
       "      <td>11514</td>\n",
       "      <td>9942</td>\n",
       "      <td>11512</td>\n",
       "    </tr>\n",
       "    <tr>\n",
       "      <th>2019-08-05</th>\n",
       "      <td>12368</td>\n",
       "      <td>10949</td>\n",
       "      <td>12741</td>\n",
       "    </tr>\n",
       "    <tr>\n",
       "      <th>2019-08-06</th>\n",
       "      <td>11726</td>\n",
       "      <td>11720</td>\n",
       "      <td>12342</td>\n",
       "    </tr>\n",
       "    <tr>\n",
       "      <th>2019-08-07</th>\n",
       "      <td>10612</td>\n",
       "      <td>10091</td>\n",
       "      <td>10393</td>\n",
       "    </tr>\n",
       "  </tbody>\n",
       "</table>\n",
       "</div>"
      ],
      "text/plain": [
       "group         246    247    248\n",
       "date                           \n",
       "2019-07-25      4      1      4\n",
       "2019-07-26     14      8      9\n",
       "2019-07-27     24     23      8\n",
       "2019-07-28     33     36     36\n",
       "2019-07-29     55     58     71\n",
       "2019-07-30    129    138    145\n",
       "2019-07-31    620    664    746\n",
       "2019-08-01  11561  12306  12274\n",
       "2019-08-02  10946  10990  13618\n",
       "2019-08-03  10575  11024  11683\n",
       "2019-08-04  11514   9942  11512\n",
       "2019-08-05  12368  10949  12741\n",
       "2019-08-06  11726  11720  12342\n",
       "2019-08-07  10612  10091  10393"
      ]
     },
     "execution_count": 23,
     "metadata": {},
     "output_type": "execute_result"
    }
   ],
   "source": [
    "groups = pd.pivot_table(df, values = 'event_name', index = 'date', columns = 'group', aggfunc = {'event_name' : 'count'})\n",
    "groups"
   ]
  },
  {
   "cell_type": "code",
   "execution_count": 24,
   "metadata": {},
   "outputs": [
    {
     "data": {
      "image/png": "[encoded data removed]",
      "text/plain": [
       "<Figure size 720x432 with 1 Axes>"
      ]
     },
     "metadata": {
      "needs_background": "light"
     },
     "output_type": "display_data"
    }
   ],
   "source": [
    "groups.plot(kind = 'bar', grid = True, figsize = (10,6))\n",
    "\n",
    "plt.title('Число событий по датам')\n",
    "plt.xlabel('Дата')\n",
    "plt.ylabel('Количество событий')\n",
    "plt.xticks(rotation=50)\n",
    "plt.legend()\n",
    "plt.show()"
   ]
  },
  {
   "cell_type": "markdown",
   "metadata": {},
   "source": [
    "**Исходя из построенного графика видим, что данные неполные. До 31 июля событий очень мало. Предположу, что можно отбросить данные 1 августа. Таким образом у нас останутся полные данные за 7 дней**"
   ]
  },
  {
   "cell_type": "markdown",
   "metadata": {},
   "source": [
    "#### Много ли событий и пользователей потеряли, отбросив старые данные?\n"
   ]
  },
  {
   "cell_type": "code",
   "execution_count": 25,
   "metadata": {},
   "outputs": [],
   "source": [
    "# отбрасываю старые данные\n",
    "\n",
    "df_filtered = df.query('date > \"2019-07-31\"')"
   ]
  },
  {
   "cell_type": "code",
   "execution_count": 26,
   "metadata": {},
   "outputs": [
    {
     "data": {
      "text/plain": [
       "796"
      ]
     },
     "execution_count": 26,
     "metadata": {},
     "output_type": "execute_result"
    }
   ],
   "source": [
    "len(df.query('date < \"2019-07-31\"'))"
   ]
  },
  {
   "cell_type": "markdown",
   "metadata": {},
   "source": [
    "Избавляясь от данных до 31 июля мы потеряем всего 796 строк"
   ]
  },
  {
   "cell_type": "code",
   "execution_count": 27,
   "metadata": {},
   "outputs": [
    {
     "data": {
      "text/plain": [
       "'количество событий до фильтрации: 243713'"
      ]
     },
     "metadata": {},
     "output_type": "display_data"
    },
    {
     "data": {
      "text/plain": [
       "'количество событий после фильтрации: 240887'"
      ]
     },
     "metadata": {},
     "output_type": "display_data"
    },
    {
     "data": {
      "text/plain": [
       "'доля отброшенных событий: 0.0116'"
      ]
     },
     "metadata": {},
     "output_type": "display_data"
    }
   ],
   "source": [
    "# проверяю число потеряных событий\n",
    "\n",
    "display(f'количество событий до фильтрации: {len(df[\"event_name\"])}' )\n",
    "display(f'количество событий после фильтрации: {len(df_filtered[\"event_name\"])}' )\n",
    "display(f'доля отброшенных событий: {round((len(df[\"event_name\"])-len(df_filtered[\"event_name\"]) ) / len(df[\"event_name\"]), 4)}' )"
   ]
  },
  {
   "cell_type": "code",
   "execution_count": 28,
   "metadata": {},
   "outputs": [
    {
     "data": {
      "text/plain": [
       "'количество пользователей до фильтрации: 7551 '"
      ]
     },
     "metadata": {},
     "output_type": "display_data"
    },
    {
     "data": {
      "text/plain": [
       "'количество пользователей после фильтрации: 7534 '"
      ]
     },
     "metadata": {},
     "output_type": "display_data"
    },
    {
     "data": {
      "text/plain": [
       "'доля отброшенных пользователей: 0.0023'"
      ]
     },
     "metadata": {},
     "output_type": "display_data"
    }
   ],
   "source": [
    "# проверяю количество потеряных пользователей и долю \n",
    "\n",
    "display(f'количество пользователей до фильтрации: {df[\"id\"].nunique()} ' )\n",
    "display(f'количество пользователей после фильтрации: {df_filtered[\"id\"].nunique()} ')\n",
    "display(f'доля отброшенных пользователей: {round((df[\"id\"].nunique()-df_filtered[\"id\"].nunique() ) / df[\"id\"].nunique(), 4)}' )"
   ]
  },
  {
   "cell_type": "code",
   "execution_count": 29,
   "metadata": {},
   "outputs": [
    {
     "name": "stdout",
     "output_type": "stream",
     "text": [
      "событийй в группе 246: 79302\n",
      "событийй в группе 247: 77022\n",
      "событийй в группе 248: 84563\n"
     ]
    }
   ],
   "source": [
    "print('событийй в группе 246: {}\\n'\n",
    "      'событийй в группе 247: {}\\n'\n",
    "      'событийй в группе 248: {}'\\\n",
    "      .format(len(df_filtered.query(\"group == 246\")),\\\n",
    "              len(df_filtered.query(\"group == 247\")),\\\n",
    "              len(df_filtered.query(\"group == 248\"))))"
   ]
  },
  {
   "cell_type": "markdown",
   "metadata": {},
   "source": [
    "Для каждой группы осталось достаточно много данных. Можно продолжать работу"
   ]
  },
  {
   "cell_type": "code",
   "execution_count": 30,
   "metadata": {},
   "outputs": [
    {
     "data": {
      "text/plain": [
       "0"
      ]
     },
     "execution_count": 30,
     "metadata": {},
     "output_type": "execute_result"
    }
   ],
   "source": [
    "# ещё разок можно проверить на наличие дубликатов\n",
    "\n",
    "df_filtered.duplicated().sum()"
   ]
  },
  {
   "cell_type": "markdown",
   "metadata": {},
   "source": [
    "## Изучить воронку событий\n"
   ]
  },
  {
   "cell_type": "markdown",
   "metadata": {},
   "source": [
    "- Какие события есть в логах, как часто они встречаются. \n",
    "- Сколько пользователей совершали каждое из этих событий. \n",
    "- Какая доля пользователей проходит на следующий шаг воронки (от числа пользователей на предыдущем)?\n",
    "- На каком шаге теряется больше всего пользователей?\n",
    "- Какая доля пользователей доходит от первого события до оплаты?"
   ]
  },
  {
   "cell_type": "code",
   "execution_count": 31,
   "metadata": {},
   "outputs": [
    {
     "data": {
      "text/html": [
       "<div>\n",
       "<style scoped>\n",
       "    .dataframe tbody tr th:only-of-type {\n",
       "        vertical-align: middle;\n",
       "    }\n",
       "\n",
       "    .dataframe tbody tr th {\n",
       "        vertical-align: top;\n",
       "    }\n",
       "\n",
       "    .dataframe thead th {\n",
       "        text-align: right;\n",
       "    }\n",
       "</style>\n",
       "<table border=\"1\" class=\"dataframe\">\n",
       "  <thead>\n",
       "    <tr style=\"text-align: right;\">\n",
       "      <th></th>\n",
       "      <th>event_name</th>\n",
       "      <th>id</th>\n",
       "    </tr>\n",
       "    <tr>\n",
       "      <th>event_name</th>\n",
       "      <th></th>\n",
       "      <th></th>\n",
       "    </tr>\n",
       "  </thead>\n",
       "  <tbody>\n",
       "    <tr>\n",
       "      <th>MainScreenAppear</th>\n",
       "      <td>117328</td>\n",
       "      <td>7419</td>\n",
       "    </tr>\n",
       "    <tr>\n",
       "      <th>OffersScreenAppear</th>\n",
       "      <td>46333</td>\n",
       "      <td>4593</td>\n",
       "    </tr>\n",
       "    <tr>\n",
       "      <th>CartScreenAppear</th>\n",
       "      <td>42303</td>\n",
       "      <td>3734</td>\n",
       "    </tr>\n",
       "    <tr>\n",
       "      <th>PaymentScreenSuccessful</th>\n",
       "      <td>33918</td>\n",
       "      <td>3539</td>\n",
       "    </tr>\n",
       "    <tr>\n",
       "      <th>Tutorial</th>\n",
       "      <td>1005</td>\n",
       "      <td>840</td>\n",
       "    </tr>\n",
       "  </tbody>\n",
       "</table>\n",
       "</div>"
      ],
      "text/plain": [
       "                         event_name    id\n",
       "event_name                               \n",
       "MainScreenAppear             117328  7419\n",
       "OffersScreenAppear            46333  4593\n",
       "CartScreenAppear              42303  3734\n",
       "PaymentScreenSuccessful       33918  3539\n",
       "Tutorial                       1005   840"
      ]
     },
     "execution_count": 31,
     "metadata": {},
     "output_type": "execute_result"
    }
   ],
   "source": [
    "events = df_filtered.groupby('event_name').agg({'event_name' : 'count', 'id' : 'nunique'}).sort_values(by = 'id', ascending = False)\n",
    "events"
   ]
  },
  {
   "cell_type": "code",
   "execution_count": 32,
   "metadata": {},
   "outputs": [
    {
     "data": {
      "text/html": [
       "<div>\n",
       "<style scoped>\n",
       "    .dataframe tbody tr th:only-of-type {\n",
       "        vertical-align: middle;\n",
       "    }\n",
       "\n",
       "    .dataframe tbody tr th {\n",
       "        vertical-align: top;\n",
       "    }\n",
       "\n",
       "    .dataframe thead th {\n",
       "        text-align: right;\n",
       "    }\n",
       "</style>\n",
       "<table border=\"1\" class=\"dataframe\">\n",
       "  <thead>\n",
       "    <tr style=\"text-align: right;\">\n",
       "      <th></th>\n",
       "      <th>event_name</th>\n",
       "      <th>id</th>\n",
       "      <th>percent</th>\n",
       "    </tr>\n",
       "    <tr>\n",
       "      <th>event_name</th>\n",
       "      <th></th>\n",
       "      <th></th>\n",
       "      <th></th>\n",
       "    </tr>\n",
       "  </thead>\n",
       "  <tbody>\n",
       "    <tr>\n",
       "      <th>MainScreenAppear</th>\n",
       "      <td>117328</td>\n",
       "      <td>7419</td>\n",
       "      <td>1.00</td>\n",
       "    </tr>\n",
       "    <tr>\n",
       "      <th>OffersScreenAppear</th>\n",
       "      <td>46333</td>\n",
       "      <td>4593</td>\n",
       "      <td>0.62</td>\n",
       "    </tr>\n",
       "    <tr>\n",
       "      <th>CartScreenAppear</th>\n",
       "      <td>42303</td>\n",
       "      <td>3734</td>\n",
       "      <td>0.50</td>\n",
       "    </tr>\n",
       "    <tr>\n",
       "      <th>PaymentScreenSuccessful</th>\n",
       "      <td>33918</td>\n",
       "      <td>3539</td>\n",
       "      <td>0.48</td>\n",
       "    </tr>\n",
       "    <tr>\n",
       "      <th>Tutorial</th>\n",
       "      <td>1005</td>\n",
       "      <td>840</td>\n",
       "      <td>0.11</td>\n",
       "    </tr>\n",
       "  </tbody>\n",
       "</table>\n",
       "</div>"
      ],
      "text/plain": [
       "                         event_name    id  percent\n",
       "event_name                                        \n",
       "MainScreenAppear             117328  7419     1.00\n",
       "OffersScreenAppear            46333  4593     0.62\n",
       "CartScreenAppear              42303  3734     0.50\n",
       "PaymentScreenSuccessful       33918  3539     0.48\n",
       "Tutorial                       1005   840     0.11"
      ]
     },
     "execution_count": 32,
     "metadata": {},
     "output_type": "execute_result"
    }
   ],
   "source": [
    "events['percent'] = events['id'].apply(lambda x: round((x / events['id'].max()), 2))\n",
    "events"
   ]
  },
  {
   "cell_type": "markdown",
   "metadata": {},
   "source": [
    "**Последовательность событий правильная, но обучение оказывается лишним - его мало кто проходит. Обязательным туториал тоже не назвать. Можно от него избавиться**"
   ]
  },
  {
   "cell_type": "code",
   "execution_count": 33,
   "metadata": {},
   "outputs": [
    {
     "data": {
      "image/png": "[encoded data removed]",
      "text/plain": [
       "<Figure size 720x432 with 1 Axes>"
      ]
     },
     "metadata": {
      "needs_background": "light"
     },
     "output_type": "display_data"
    }
   ],
   "source": [
    "colors = ['orangered', 'tomato', 'coral', 'lightsalmon']\n",
    "events['percent'].plot(kind = 'bar', grid = True, figsize = (10,6), color = colors)\n",
    "\n",
    "plt.title('Доля пользователей, совершивших событие')\n",
    "plt.xlabel('Событие')\n",
    "plt.ylabel('Доля')\n",
    "plt.xticks(rotation=50)\n",
    "plt.legend()\n",
    "plt.show()"
   ]
  },
  {
   "cell_type": "markdown",
   "metadata": {},
   "source": [
    "**Видим резкое сокращение пользователей между первым и вторым событием. Однако те, кто дошёл до формирования корзины почти в польном составе дошли и до окна успешной оплаты**"
   ]
  },
  {
   "cell_type": "code",
   "execution_count": 34,
   "metadata": {},
   "outputs": [],
   "source": [
    "events = events.drop(index = \"Tutorial\")"
   ]
  },
  {
   "cell_type": "code",
   "execution_count": 35,
   "metadata": {},
   "outputs": [],
   "source": [
    "# заодно сразу удалю данные с туториалом из базового дф\n",
    "\n",
    "df_filtered = df_filtered.query('event_name != \"Tutorial\"')"
   ]
  },
  {
   "cell_type": "code",
   "execution_count": 36,
   "metadata": {},
   "outputs": [
    {
     "data": {
      "text/html": [
       "<div>\n",
       "<style scoped>\n",
       "    .dataframe tbody tr th:only-of-type {\n",
       "        vertical-align: middle;\n",
       "    }\n",
       "\n",
       "    .dataframe tbody tr th {\n",
       "        vertical-align: top;\n",
       "    }\n",
       "\n",
       "    .dataframe thead th {\n",
       "        text-align: right;\n",
       "    }\n",
       "</style>\n",
       "<table border=\"1\" class=\"dataframe\">\n",
       "  <thead>\n",
       "    <tr style=\"text-align: right;\">\n",
       "      <th></th>\n",
       "      <th>event_name</th>\n",
       "      <th>id</th>\n",
       "      <th>percent</th>\n",
       "      <th>conversion</th>\n",
       "    </tr>\n",
       "    <tr>\n",
       "      <th>event_name</th>\n",
       "      <th></th>\n",
       "      <th></th>\n",
       "      <th></th>\n",
       "      <th></th>\n",
       "    </tr>\n",
       "  </thead>\n",
       "  <tbody>\n",
       "    <tr>\n",
       "      <th>MainScreenAppear</th>\n",
       "      <td>117328</td>\n",
       "      <td>7419</td>\n",
       "      <td>1.00</td>\n",
       "      <td>NaN</td>\n",
       "    </tr>\n",
       "    <tr>\n",
       "      <th>OffersScreenAppear</th>\n",
       "      <td>46333</td>\n",
       "      <td>4593</td>\n",
       "      <td>0.62</td>\n",
       "      <td>0.62</td>\n",
       "    </tr>\n",
       "    <tr>\n",
       "      <th>CartScreenAppear</th>\n",
       "      <td>42303</td>\n",
       "      <td>3734</td>\n",
       "      <td>0.50</td>\n",
       "      <td>0.81</td>\n",
       "    </tr>\n",
       "    <tr>\n",
       "      <th>PaymentScreenSuccessful</th>\n",
       "      <td>33918</td>\n",
       "      <td>3539</td>\n",
       "      <td>0.48</td>\n",
       "      <td>0.95</td>\n",
       "    </tr>\n",
       "  </tbody>\n",
       "</table>\n",
       "</div>"
      ],
      "text/plain": [
       "                         event_name    id  percent  conversion\n",
       "event_name                                                    \n",
       "MainScreenAppear             117328  7419     1.00         NaN\n",
       "OffersScreenAppear            46333  4593     0.62        0.62\n",
       "CartScreenAppear              42303  3734     0.50        0.81\n",
       "PaymentScreenSuccessful       33918  3539     0.48        0.95"
      ]
     },
     "execution_count": 36,
     "metadata": {},
     "output_type": "execute_result"
    }
   ],
   "source": [
    "# считаю конверсию пользователей в следующее событие\n",
    "\n",
    "events['conversion'] = round(events['id'].shift(-1) / events['id'], 2)\n",
    "events['conversion'] = events['conversion'].shift(1)\n",
    "events"
   ]
  },
  {
   "cell_type": "code",
   "execution_count": 37,
   "metadata": {},
   "outputs": [
    {
     "data": {
      "image/png": "[encoded data removed]",
      "text/plain": [
       "<Figure size 720x432 with 1 Axes>"
      ]
     },
     "metadata": {
      "needs_background": "light"
     },
     "output_type": "display_data"
    }
   ],
   "source": [
    "colors = ['orangered', 'tomato', 'coral', 'lightsalmon']\n",
    "events['conversion'].plot(kind = 'bar', grid = True, figsize = (10,6), color = colors)\n",
    "\n",
    "plt.title('Конверсия пользователей в следующее событие')\n",
    "plt.xlabel('Событие')\n",
    "plt.ylabel('Доля пользователей, перешедших на следующий этап')\n",
    "plt.xticks(rotation=50)\n",
    "plt.legend()\n",
    "plt.show()"
   ]
  },
  {
   "cell_type": "markdown",
   "metadata": {},
   "source": [
    "**Больше всего пользователей теряется на переходе с первого шага \"MainScreenAppear\" на второй шаг  \"OffersScreenAppear\". Иными словами пользователи заходят на главную страницу сайта, но не продвигаются дальше. Между событиями формирования корзины и оплаты заказа разница не велика, многие доходят до конца, в среднем 48% пользователей. Конверсия Перехода с экрана корзины на экран оплаты заказа 95%**"
   ]
  },
  {
   "cell_type": "markdown",
   "metadata": {},
   "source": [
    "## Изучить результаты эксперимента\n"
   ]
  },
  {
   "cell_type": "markdown",
   "metadata": {},
   "source": [
    "\n",
    "- Сколько пользователей в каждой экспериментальной группе?\n",
    "- А/А-тест.\n",
    "- Проверка по событиям\n"
   ]
  },
  {
   "cell_type": "code",
   "execution_count": 39,
   "metadata": {},
   "outputs": [
    {
     "name": "stdout",
     "output_type": "stream",
     "text": [
      "событий в группе 246: 78985\n",
      "событий в группе 247: 76684\n",
      "событий в группе 248: 84213\n"
     ]
    }
   ],
   "source": [
    "print('событий в группе 246: {}\\n'\n",
    "      'событий в группе 247: {}\\n'\n",
    "      'событий в группе 248: {}'\\\n",
    "      .format(len(df_filtered.query(\"group == 246\")),\\\n",
    "              len(df_filtered.query(\"group == 247\")),\\\n",
    "              len(df_filtered.query(\"group == 248\"))))"
   ]
  },
  {
   "cell_type": "code",
   "execution_count": 40,
   "metadata": {},
   "outputs": [
    {
     "name": "stdout",
     "output_type": "stream",
     "text": [
      "уникальных пользователей в группе 246: 2483\n",
      "уникальных пользователей в группе 247: 2512\n",
      "уникальных пользователей в группе 248: 2535\n"
     ]
    }
   ],
   "source": [
    "print('уникальных пользователей в группе 246: {}\\n'\n",
    "      'уникальных пользователей в группе 247: {}\\n'\n",
    "      'уникальных пользователей в группе 248: {}'\\\n",
    "      .format(df_filtered.query(\"group == 246\")['id'].nunique(),\\\n",
    "              df_filtered.query(\"group == 247\")['id'].nunique(),\\\n",
    "              df_filtered.query(\"group == 248\")['id'].nunique()))"
   ]
  },
  {
   "cell_type": "markdown",
   "metadata": {},
   "source": [
    "Поскольку сравнивать нужно доли выборок, будем использовать z-критерий"
   ]
  },
  {
   "cell_type": "markdown",
   "metadata": {},
   "source": [
    "H0 = разницы долей пользователей между группами 246 и 247 нет\n",
    "\n",
    "H1 = разница долей пользователей между группами 246 и 247 есть"
   ]
  },
  {
   "cell_type": "code",
   "execution_count": 41,
   "metadata": {},
   "outputs": [
    {
     "name": "stdout",
     "output_type": "stream",
     "text": [
      "p-значение:  0.6157227013842994\n",
      "Не получилось отвергнуть нулевую гипотезу, нет оснований считать доли разными\n"
     ]
    }
   ],
   "source": [
    "   \n",
    "    alpha = 0.05  \n",
    "    \n",
    "    success = [df_filtered.query(\"group == 246\")['id'].nunique(), df_filtered.query(\"group == 247\")['id'].nunique()]\n",
    "    total = [df_filtered['id'].nunique(), df_filtered['id'].nunique()]\n",
    "\n",
    "    p1 = success[0] / total[0]\n",
    "    p2 = success[1] / total[1]\n",
    "\n",
    "    p_combined = (success[1] + success[0]) / (total[1] + total[0])\n",
    "    difference = p1-p2\n",
    "    z_value =  difference / math.sqrt(p_combined * (1 - p_combined) * (1/total[0] + 1/total[1])) \n",
    "    distr = st.norm(0, 1)\n",
    "    p_value = (1 - distr.cdf(abs(z_value))) * 2 \n",
    "\n",
    "    print('p-значение: ', p_value)\n",
    "\n",
    "    if p_value < alpha:  \n",
    "        print('Отвергаем нулевую гипотезу: между долями есть значимая разница')\n",
    "    else:\n",
    "        print(\n",
    "            'Не получилось отвергнуть нулевую гипотезу, нет оснований считать доли разными'\n",
    "        )"
   ]
  },
  {
   "cell_type": "markdown",
   "metadata": {},
   "source": [
    "**Статистически значимой разницы между долями количества пользователей в двух контрольных группах (246 и 247) нет. Следовательно можно считать, что контрольные группы равны между собой**"
   ]
  },
  {
   "cell_type": "markdown",
   "metadata": {},
   "source": [
    "#### Считаем разницы долей в контрольных группах \n"
   ]
  },
  {
   "cell_type": "markdown",
   "metadata": {},
   "source": [
    "как мы видели выше, самое популярное событие -посещение главной страницы сайта - \"MainScreenAppear\""
   ]
  },
  {
   "cell_type": "code",
   "execution_count": 42,
   "metadata": {},
   "outputs": [
    {
     "name": "stdout",
     "output_type": "stream",
     "text": [
      "пользователей совершивших событие \"MainScreenAppear\" в группе 246: 2450\n",
      "пользователей совершивших событие \"MainScreenAppear\" в группе 247: 2476\n",
      "\n"
     ]
    }
   ],
   "source": [
    "print('пользователей совершивших событие \"MainScreenAppear\" в группе 246: {}\\n'\n",
    "      'пользователей совершивших событие \"MainScreenAppear\" в группе 247: {}\\n'\n",
    "      .format(df_filtered.query('group == 246 & event_name == \"MainScreenAppear\"')['id'].nunique(),\\\n",
    "              df_filtered.query('group == 247 & event_name == \"MainScreenAppear\"')['id'].nunique()))"
   ]
  },
  {
   "cell_type": "code",
   "execution_count": 43,
   "metadata": {},
   "outputs": [
    {
     "name": "stdout",
     "output_type": "stream",
     "text": [
      "доля пользователей совершивших событие \"MainScreenAppear\" в группе 246: 0.9867096254530809\n",
      "доля пользователей совершивших событие \"MainScreenAppear\" в группе 247: 0.9856687898089171\n",
      "\n"
     ]
    }
   ],
   "source": [
    "print('доля пользователей совершивших событие \"MainScreenAppear\" в группе 246: {}\\n'\n",
    "      'доля пользователей совершивших событие \"MainScreenAppear\" в группе 247: {}\\n'\n",
    "      .format(df_filtered.query('group == 246 & event_name == \"MainScreenAppear\"')['id'].nunique()/\\\n",
    "              df_filtered.query('group == 246')['id'].nunique(),\n",
    "              df_filtered.query('group == 247 & event_name == \"MainScreenAppear\"')['id'].nunique()/\\\n",
    "              df_filtered.query('group == 247')['id'].nunique()))"
   ]
  },
  {
   "cell_type": "code",
   "execution_count": 44,
   "metadata": {},
   "outputs": [
    {
     "data": {
      "text/plain": [
       "0.0486818511574888"
      ]
     },
     "execution_count": 44,
     "metadata": {},
     "output_type": "execute_result"
    }
   ],
   "source": [
    "alpha = 0.55\n",
    "1 - (1 - alpha)**(1/16) \n"
   ]
  },
  {
   "cell_type": "code",
   "execution_count": 45,
   "metadata": {},
   "outputs": [],
   "source": [
    "# задаю функцию для расчета z-критерия\n",
    "\n",
    "def stats (group_1, group_2, event):\n",
    "    \n",
    "    alpha = 0.55\n",
    "    iterations = 16\n",
    "    \n",
    "    success = [df_filtered.query('event_name == @event & group == @group_1')['id'].nunique(),\\\n",
    "              df_filtered.query('event_name == @event & group == @group_2')['id'].nunique()]\n",
    "    \n",
    "    total = [df_filtered.query('group == @group_1')['id'].nunique(),\\\n",
    "            df_filtered.query('group == @group_2')['id'].nunique()]\n",
    "\n",
    "    p1 = success[0] / total[0]\n",
    "    p2 = success[1] / total[1]\n",
    "\n",
    "    p_combined = (success[1] + success[0]) / (total[1] + total[0])\n",
    "    difference = p1-p2\n",
    "    z_value =  difference / math.sqrt(p_combined * (1 - p_combined) * (1/total[0] + 1/total[1])) \n",
    "    distr = st.norm(0, 1)\n",
    "    p_value = (1 - distr.cdf(abs(z_value))) * 2 \n",
    "\n",
    "    shidak = 1 - (1 - alpha)**(1/iterations)\n",
    "    \n",
    "    if p_value < shidak:  \n",
    "        print('Отвергаем нулевую гипотезу: между долями есть значимая разница')\n",
    "    else:\n",
    "        print(\n",
    "            'Не получилось отвергнуть нулевую гипотезу, нет оснований считать доли разными'\n",
    "        )"
   ]
  },
  {
   "cell_type": "markdown",
   "metadata": {},
   "source": [
    "H0 = разницы долей пользователей между группами 246 и 247 в различных событиях нет\n",
    "\n",
    "H1 = разница долей пользователей между группами 246 и 247 в различных событиях есть"
   ]
  },
  {
   "cell_type": "code",
   "execution_count": 46,
   "metadata": {
    "scrolled": true
   },
   "outputs": [
    {
     "data": {
      "text/plain": [
       "'MainScreenAppear'"
      ]
     },
     "metadata": {},
     "output_type": "display_data"
    },
    {
     "name": "stdout",
     "output_type": "stream",
     "text": [
      "Не получилось отвергнуть нулевую гипотезу, нет оснований считать доли разными\n"
     ]
    },
    {
     "data": {
      "text/plain": [
       "None"
      ]
     },
     "metadata": {},
     "output_type": "display_data"
    },
    {
     "data": {
      "text/plain": [
       "'**************************************************'"
      ]
     },
     "metadata": {},
     "output_type": "display_data"
    },
    {
     "data": {
      "text/plain": [
       "'OffersScreenAppear'"
      ]
     },
     "metadata": {},
     "output_type": "display_data"
    },
    {
     "name": "stdout",
     "output_type": "stream",
     "text": [
      "Не получилось отвергнуть нулевую гипотезу, нет оснований считать доли разными\n"
     ]
    },
    {
     "data": {
      "text/plain": [
       "None"
      ]
     },
     "metadata": {},
     "output_type": "display_data"
    },
    {
     "data": {
      "text/plain": [
       "'**************************************************'"
      ]
     },
     "metadata": {},
     "output_type": "display_data"
    },
    {
     "data": {
      "text/plain": [
       "'CartScreenAppear'"
      ]
     },
     "metadata": {},
     "output_type": "display_data"
    },
    {
     "name": "stdout",
     "output_type": "stream",
     "text": [
      "Не получилось отвергнуть нулевую гипотезу, нет оснований считать доли разными\n"
     ]
    },
    {
     "data": {
      "text/plain": [
       "None"
      ]
     },
     "metadata": {},
     "output_type": "display_data"
    },
    {
     "data": {
      "text/plain": [
       "'**************************************************'"
      ]
     },
     "metadata": {},
     "output_type": "display_data"
    },
    {
     "data": {
      "text/plain": [
       "'PaymentScreenSuccessful'"
      ]
     },
     "metadata": {},
     "output_type": "display_data"
    },
    {
     "name": "stdout",
     "output_type": "stream",
     "text": [
      "Не получилось отвергнуть нулевую гипотезу, нет оснований считать доли разными\n"
     ]
    },
    {
     "data": {
      "text/plain": [
       "None"
      ]
     },
     "metadata": {},
     "output_type": "display_data"
    },
    {
     "data": {
      "text/plain": [
       "'**************************************************'"
      ]
     },
     "metadata": {},
     "output_type": "display_data"
    }
   ],
   "source": [
    "e = df_filtered['event_name'].unique()\n",
    "\n",
    "for i in e:\n",
    "    display(i)\n",
    "    display(stats(246, 247, i)),\n",
    "    display(\"*\" *50)\n"
   ]
  },
  {
   "cell_type": "markdown",
   "metadata": {},
   "source": [
    "**По итогам статистических подсчетов видим, что значимых различий между группами А/А нет. Значит, принимаем нулевую гипотезу о том, что их доли не различаются и данные разбиты на группы корректно**"
   ]
  },
  {
   "cell_type": "markdown",
   "metadata": {},
   "source": [
    "#### Считаем разницу между группами А/В "
   ]
  },
  {
   "cell_type": "markdown",
   "metadata": {},
   "source": [
    "H0 = разницы долей пользователей между группами 246 и 248 в различных событиях нет\n",
    "\n",
    "H1 = разница долей пользователей между группами 246 и 248 в различных событиях есть"
   ]
  },
  {
   "cell_type": "code",
   "execution_count": 47,
   "metadata": {
    "scrolled": true
   },
   "outputs": [
    {
     "data": {
      "text/plain": [
       "'MainScreenAppear'"
      ]
     },
     "metadata": {},
     "output_type": "display_data"
    },
    {
     "name": "stdout",
     "output_type": "stream",
     "text": [
      "Не получилось отвергнуть нулевую гипотезу, нет оснований считать доли разными\n"
     ]
    },
    {
     "data": {
      "text/plain": [
       "None"
      ]
     },
     "metadata": {},
     "output_type": "display_data"
    },
    {
     "data": {
      "text/plain": [
       "'**************************************************'"
      ]
     },
     "metadata": {},
     "output_type": "display_data"
    },
    {
     "data": {
      "text/plain": [
       "'OffersScreenAppear'"
      ]
     },
     "metadata": {},
     "output_type": "display_data"
    },
    {
     "name": "stdout",
     "output_type": "stream",
     "text": [
      "Не получилось отвергнуть нулевую гипотезу, нет оснований считать доли разными\n"
     ]
    },
    {
     "data": {
      "text/plain": [
       "None"
      ]
     },
     "metadata": {},
     "output_type": "display_data"
    },
    {
     "data": {
      "text/plain": [
       "'**************************************************'"
      ]
     },
     "metadata": {},
     "output_type": "display_data"
    },
    {
     "data": {
      "text/plain": [
       "'CartScreenAppear'"
      ]
     },
     "metadata": {},
     "output_type": "display_data"
    },
    {
     "name": "stdout",
     "output_type": "stream",
     "text": [
      "Не получилось отвергнуть нулевую гипотезу, нет оснований считать доли разными\n"
     ]
    },
    {
     "data": {
      "text/plain": [
       "None"
      ]
     },
     "metadata": {},
     "output_type": "display_data"
    },
    {
     "data": {
      "text/plain": [
       "'**************************************************'"
      ]
     },
     "metadata": {},
     "output_type": "display_data"
    },
    {
     "data": {
      "text/plain": [
       "'PaymentScreenSuccessful'"
      ]
     },
     "metadata": {},
     "output_type": "display_data"
    },
    {
     "name": "stdout",
     "output_type": "stream",
     "text": [
      "Не получилось отвергнуть нулевую гипотезу, нет оснований считать доли разными\n"
     ]
    },
    {
     "data": {
      "text/plain": [
       "None"
      ]
     },
     "metadata": {},
     "output_type": "display_data"
    },
    {
     "data": {
      "text/plain": [
       "'**************************************************'"
      ]
     },
     "metadata": {},
     "output_type": "display_data"
    }
   ],
   "source": [
    "e = df_filtered['event_name'].unique()\n",
    "\n",
    "for i in e:\n",
    "    display(i)\n",
    "    display(stats(246, 248, i)),\n",
    "    display(\"*\" *50)\n"
   ]
  },
  {
   "cell_type": "markdown",
   "metadata": {},
   "source": [
    "**Статистически значимой разницы между группами 246 и 248 нет. Следовательно, их доли равны**"
   ]
  },
  {
   "cell_type": "markdown",
   "metadata": {},
   "source": [
    "H0 = разницы долей пользователей между группами 247 и 248 в различных событиях нет\n",
    "\n",
    "H1 = разница долей пользователей между группами 247 и 248 в различных событиях есть"
   ]
  },
  {
   "cell_type": "code",
   "execution_count": 48,
   "metadata": {
    "scrolled": true
   },
   "outputs": [
    {
     "data": {
      "text/plain": [
       "'MainScreenAppear'"
      ]
     },
     "metadata": {},
     "output_type": "display_data"
    },
    {
     "name": "stdout",
     "output_type": "stream",
     "text": [
      "Не получилось отвергнуть нулевую гипотезу, нет оснований считать доли разными\n"
     ]
    },
    {
     "data": {
      "text/plain": [
       "None"
      ]
     },
     "metadata": {},
     "output_type": "display_data"
    },
    {
     "data": {
      "text/plain": [
       "'**************************************************'"
      ]
     },
     "metadata": {},
     "output_type": "display_data"
    },
    {
     "data": {
      "text/plain": [
       "'OffersScreenAppear'"
      ]
     },
     "metadata": {},
     "output_type": "display_data"
    },
    {
     "name": "stdout",
     "output_type": "stream",
     "text": [
      "Не получилось отвергнуть нулевую гипотезу, нет оснований считать доли разными\n"
     ]
    },
    {
     "data": {
      "text/plain": [
       "None"
      ]
     },
     "metadata": {},
     "output_type": "display_data"
    },
    {
     "data": {
      "text/plain": [
       "'**************************************************'"
      ]
     },
     "metadata": {},
     "output_type": "display_data"
    },
    {
     "data": {
      "text/plain": [
       "'CartScreenAppear'"
      ]
     },
     "metadata": {},
     "output_type": "display_data"
    },
    {
     "name": "stdout",
     "output_type": "stream",
     "text": [
      "Не получилось отвергнуть нулевую гипотезу, нет оснований считать доли разными\n"
     ]
    },
    {
     "data": {
      "text/plain": [
       "None"
      ]
     },
     "metadata": {},
     "output_type": "display_data"
    },
    {
     "data": {
      "text/plain": [
       "'**************************************************'"
      ]
     },
     "metadata": {},
     "output_type": "display_data"
    },
    {
     "data": {
      "text/plain": [
       "'PaymentScreenSuccessful'"
      ]
     },
     "metadata": {},
     "output_type": "display_data"
    },
    {
     "name": "stdout",
     "output_type": "stream",
     "text": [
      "Не получилось отвергнуть нулевую гипотезу, нет оснований считать доли разными\n"
     ]
    },
    {
     "data": {
      "text/plain": [
       "None"
      ]
     },
     "metadata": {},
     "output_type": "display_data"
    },
    {
     "data": {
      "text/plain": [
       "'**************************************************'"
      ]
     },
     "metadata": {},
     "output_type": "display_data"
    }
   ],
   "source": [
    "e = df_filtered['event_name'].unique()\n",
    "\n",
    "for i in e:\n",
    "    display(i)\n",
    "    display(stats(247, 248, i)),\n",
    "    display(\"*\" *50)\n"
   ]
  },
  {
   "cell_type": "markdown",
   "metadata": {},
   "source": [
    "**Статистически значимой разницы между группами 247 и 248 нет. Следовательно, их доли равны**"
   ]
  },
  {
   "cell_type": "markdown",
   "metadata": {},
   "source": [
    "##### Сравниваем результаты с объединённой контрольной группой."
   ]
  },
  {
   "cell_type": "markdown",
   "metadata": {},
   "source": [
    "H0 = разницы долей пользователей между объединенными контрольными группами и экспериментальной группой в различных событиях нет\n",
    "\n",
    "H1 = разница долей пользователей между объединенными контрольными группами и экспериментальной группой в различных событиях есть"
   ]
  },
  {
   "cell_type": "code",
   "execution_count": 49,
   "metadata": {},
   "outputs": [],
   "source": [
    "# изменяю базовую функцию и вношу поправку Бонферрони\n",
    "\n",
    "def stats_aa (group_2, event):\n",
    "    \n",
    "    alpha = 0.55  \n",
    "    iterations = 4\n",
    "    \n",
    "    success = [df_filtered.query('group == 246')['id'].nunique() + df_filtered.query('group == 247')['id'].nunique(),\\\n",
    "              df_filtered.query('event_name == @event & group == @group_2')['id'].nunique()]\n",
    "    \n",
    "    total = [df_filtered['id'].nunique(),\\\n",
    "            df_filtered.query('group == @group_2')['id'].nunique()]\n",
    "\n",
    "    p1 = success[0] / total[0]\n",
    "    p2 = success[1] / total[1]\n",
    "\n",
    "    p_combined = (success[1] + success[0]) / (total[1] + total[0])\n",
    "    difference = p1-p2\n",
    "    z_value =  difference / math.sqrt(p_combined * (1 - p_combined) * (1/total[0] + 1/total[1])) \n",
    "    distr = st.norm(0, 1)\n",
    "    p_value = (1 - distr.cdf(abs(z_value))) * 2 \n",
    "\n",
    "    print('p-значение: ', p_value)\n",
    "\n",
    "    \n",
    "    # ввожу поправку Шидака на 16 измерений\n",
    "    \n",
    "    #bonferroni = alpha / 4\n",
    "    shidak = 1 - (1 - alpha)**(1/iterations)\n",
    "    \n",
    "    if p_value < shidak:  \n",
    "        print('Отвергаем нулевую гипотезу: между долями есть значимая разница')\n",
    "    else:\n",
    "        print(\n",
    "            'Не получилось отвергнуть нулевую гипотезу, нет оснований считать доли разными'\n",
    "        )"
   ]
  },
  {
   "cell_type": "code",
   "execution_count": 50,
   "metadata": {
    "scrolled": true
   },
   "outputs": [
    {
     "data": {
      "text/plain": [
       "'MainScreenAppear'"
      ]
     },
     "metadata": {},
     "output_type": "display_data"
    },
    {
     "name": "stdout",
     "output_type": "stream",
     "text": [
      "p-значение:  0.0\n",
      "Отвергаем нулевую гипотезу: между долями есть значимая разница\n"
     ]
    },
    {
     "data": {
      "text/plain": [
       "None"
      ]
     },
     "metadata": {},
     "output_type": "display_data"
    },
    {
     "data": {
      "text/plain": [
       "'**************************************************'"
      ]
     },
     "metadata": {},
     "output_type": "display_data"
    },
    {
     "data": {
      "text/plain": [
       "'OffersScreenAppear'"
      ]
     },
     "metadata": {},
     "output_type": "display_data"
    },
    {
     "name": "stdout",
     "output_type": "stream",
     "text": [
      "p-значение:  6.030960886249659e-08\n",
      "Отвергаем нулевую гипотезу: между долями есть значимая разница\n"
     ]
    },
    {
     "data": {
      "text/plain": [
       "None"
      ]
     },
     "metadata": {},
     "output_type": "display_data"
    },
    {
     "data": {
      "text/plain": [
       "'**************************************************'"
      ]
     },
     "metadata": {},
     "output_type": "display_data"
    },
    {
     "data": {
      "text/plain": [
       "'CartScreenAppear'"
      ]
     },
     "metadata": {},
     "output_type": "display_data"
    },
    {
     "name": "stdout",
     "output_type": "stream",
     "text": [
      "p-значение:  0.0\n",
      "Отвергаем нулевую гипотезу: между долями есть значимая разница\n"
     ]
    },
    {
     "data": {
      "text/plain": [
       "None"
      ]
     },
     "metadata": {},
     "output_type": "display_data"
    },
    {
     "data": {
      "text/plain": [
       "'**************************************************'"
      ]
     },
     "metadata": {},
     "output_type": "display_data"
    },
    {
     "data": {
      "text/plain": [
       "'PaymentScreenSuccessful'"
      ]
     },
     "metadata": {},
     "output_type": "display_data"
    },
    {
     "name": "stdout",
     "output_type": "stream",
     "text": [
      "p-значение:  0.0\n",
      "Отвергаем нулевую гипотезу: между долями есть значимая разница\n"
     ]
    },
    {
     "data": {
      "text/plain": [
       "None"
      ]
     },
     "metadata": {},
     "output_type": "display_data"
    },
    {
     "data": {
      "text/plain": [
       "'**************************************************'"
      ]
     },
     "metadata": {},
     "output_type": "display_data"
    }
   ],
   "source": [
    "e = df_filtered['event_name'].unique()\n",
    "\n",
    "for i in e:\n",
    "    display(i)\n",
    "    display(stats_aa(248, i)),\n",
    "    display(\"*\" *50)\n"
   ]
  },
  {
   "cell_type": "markdown",
   "metadata": {},
   "source": [
    "**Статистически значимая разница есть, значит, доли объединенной контрольной группы и экспериментальной группы не равны**"
   ]
  },
  {
   "cell_type": "markdown",
   "metadata": {},
   "source": [
    "## Вывод"
   ]
  },
  {
   "cell_type": "markdown",
   "metadata": {},
   "source": [
    "В начале были получены довольно неплохие данные. Была проведена предподготовка, заменены форматы даты и времени, созданы дополнительные колонки с датой и временем, удалены дубликаты, переименованы некоторые столбцы. \n",
    "\n",
    "Всего в данных 5 событий, из которых обучение почти никто не проходит. Самое массовое событие - посещение главной страницы сайта. До последнего события (оплаты товаров) доходит 28% пользователей. В среднем на одного пользователя приходится 32 события, но по медиане поменьше - 20.\n",
    "\n",
    "Больше всего пользователей теряется на переходе с первого шага \"MainScreenAppear\" на второй шаг \"OffersScreenAppear\". Иными словами пользователи заходят на главную страницу сайта, но не продвигаются дальше. Между событиями формирования корзины и оплаты заказа разница не велика, многие доходят до конца, в среднем 48% пользователей. Конверсия Перехода с экрана корзины на экран оплаты заказа 95%. \n",
    "\n",
    "Контрольные группы 246 и 247 статистически не отличаются между собой. Значимой разницы между группами 246-248 и 247-248 также не обнаружено, следовательно изменения шрифта не повлияло на совершение событий пользователями.\n",
    "\n",
    "При объединении двух контрольных групп и сравнении их с экспериментальной группой статистически значимые отличия есть. Вероятно, это связано с неравным числом выборок, а не с изменением шрифтов"
   ]
  }
 ],
 "metadata": {
  "ExecuteTimeLog": [
   {
    "duration": 3,
    "start_time": "2024-02-21T11:37:36.643Z"
   },
   {
    "duration": 4,
    "start_time": "2024-02-21T11:37:49.685Z"
   },
   {
    "duration": 882,
    "start_time": "2024-02-21T13:03:28.143Z"
   },
   {
    "duration": 110,
    "start_time": "2024-02-21T13:03:33.538Z"
   },
   {
    "duration": 1724,
    "start_time": "2024-02-21T13:03:41.458Z"
   },
   {
    "duration": 359,
    "start_time": "2024-02-21T13:03:45.446Z"
   },
   {
    "duration": 90,
    "start_time": "2024-02-21T13:04:40.656Z"
   },
   {
    "duration": 335,
    "start_time": "2024-02-21T13:05:22.839Z"
   },
   {
    "duration": 99,
    "start_time": "2024-02-21T13:05:39.127Z"
   },
   {
    "duration": 313,
    "start_time": "2024-02-21T13:05:58.794Z"
   },
   {
    "duration": 224,
    "start_time": "2024-02-21T13:08:41.083Z"
   },
   {
    "duration": 4,
    "start_time": "2024-02-21T13:08:48.761Z"
   },
   {
    "duration": 11,
    "start_time": "2024-02-21T13:09:18.979Z"
   },
   {
    "duration": 22,
    "start_time": "2024-02-21T13:09:23.140Z"
   },
   {
    "duration": 232,
    "start_time": "2024-02-21T13:09:26.650Z"
   },
   {
    "duration": 57,
    "start_time": "2024-02-21T13:10:12.821Z"
   },
   {
    "duration": 117,
    "start_time": "2024-02-21T13:10:45.985Z"
   },
   {
    "duration": 4,
    "start_time": "2024-02-21T13:10:52.456Z"
   },
   {
    "duration": 14,
    "start_time": "2024-02-21T13:10:56.693Z"
   },
   {
    "duration": 59,
    "start_time": "2024-02-21T13:11:04.896Z"
   },
   {
    "duration": 200,
    "start_time": "2024-02-21T13:11:08.936Z"
   },
   {
    "duration": 100,
    "start_time": "2024-02-21T13:12:51.608Z"
   },
   {
    "duration": 114,
    "start_time": "2024-02-21T13:13:35.973Z"
   },
   {
    "duration": 12,
    "start_time": "2024-02-21T13:14:13.007Z"
   },
   {
    "duration": 6,
    "start_time": "2024-02-21T13:15:53.946Z"
   },
   {
    "duration": 7,
    "start_time": "2024-02-21T13:16:45.899Z"
   },
   {
    "duration": 63,
    "start_time": "2024-02-21T13:16:49.686Z"
   },
   {
    "duration": 18,
    "start_time": "2024-02-21T13:17:10.326Z"
   },
   {
    "duration": 1595,
    "start_time": "2024-02-21T13:18:41.868Z"
   },
   {
    "duration": 9,
    "start_time": "2024-02-21T13:18:56.627Z"
   },
   {
    "duration": 1524,
    "start_time": "2024-02-21T13:19:02.290Z"
   },
   {
    "duration": 2350,
    "start_time": "2024-02-21T13:19:15.302Z"
   },
   {
    "duration": 44,
    "start_time": "2024-02-21T13:21:36.354Z"
   },
   {
    "duration": 218,
    "start_time": "2024-02-21T13:21:50.716Z"
   },
   {
    "duration": 13,
    "start_time": "2024-02-21T13:23:27.457Z"
   },
   {
    "duration": 15,
    "start_time": "2024-02-21T13:23:30.984Z"
   },
   {
    "duration": 92,
    "start_time": "2024-02-21T13:23:35.817Z"
   },
   {
    "duration": 63,
    "start_time": "2024-02-21T13:23:48.980Z"
   },
   {
    "duration": 142,
    "start_time": "2024-02-21T13:24:43.690Z"
   },
   {
    "duration": 4,
    "start_time": "2024-02-21T13:28:35.596Z"
   },
   {
    "duration": 213,
    "start_time": "2024-02-21T13:30:34.346Z"
   },
   {
    "duration": 3,
    "start_time": "2024-02-21T13:30:37.528Z"
   },
   {
    "duration": 72,
    "start_time": "2024-02-21T13:30:41.386Z"
   },
   {
    "duration": 1682,
    "start_time": "2024-02-21T13:32:33.346Z"
   },
   {
    "duration": 7,
    "start_time": "2024-02-21T13:32:46.361Z"
   },
   {
    "duration": 1514,
    "start_time": "2024-02-21T13:32:48.264Z"
   },
   {
    "duration": 9,
    "start_time": "2024-02-21T13:33:01.240Z"
   },
   {
    "duration": 226,
    "start_time": "2024-02-21T13:33:02.041Z"
   },
   {
    "duration": 15,
    "start_time": "2024-02-21T13:33:16.144Z"
   },
   {
    "duration": 114,
    "start_time": "2024-02-21T13:33:27.799Z"
   },
   {
    "duration": 194,
    "start_time": "2024-02-21T13:33:28.679Z"
   },
   {
    "duration": 21,
    "start_time": "2024-02-21T13:34:17.354Z"
   },
   {
    "duration": 22,
    "start_time": "2024-02-21T13:34:22.855Z"
   },
   {
    "duration": 4,
    "start_time": "2024-02-21T13:35:14.994Z"
   },
   {
    "duration": 6,
    "start_time": "2024-02-21T13:40:49.477Z"
   },
   {
    "duration": 6,
    "start_time": "2024-02-21T13:40:55.082Z"
   },
   {
    "duration": 4,
    "start_time": "2024-02-21T13:41:01.864Z"
   },
   {
    "duration": 248,
    "start_time": "2024-02-21T13:41:44.288Z"
   },
   {
    "duration": 16,
    "start_time": "2024-02-21T13:41:44.864Z"
   },
   {
    "duration": 33,
    "start_time": "2024-02-21T13:41:52.271Z"
   },
   {
    "duration": 32,
    "start_time": "2024-02-21T13:41:52.619Z"
   },
   {
    "duration": 210,
    "start_time": "2024-02-21T13:45:12.159Z"
   },
   {
    "duration": 9,
    "start_time": "2024-02-21T13:45:15.188Z"
   },
   {
    "duration": 92,
    "start_time": "2024-02-21T13:45:35.359Z"
   },
   {
    "duration": 13,
    "start_time": "2024-02-21T13:45:51.118Z"
   },
   {
    "duration": 554,
    "start_time": "2024-02-21T13:45:55.440Z"
   },
   {
    "duration": 444,
    "start_time": "2024-02-21T13:46:39.204Z"
   },
   {
    "duration": 411,
    "start_time": "2024-02-21T13:47:54.903Z"
   },
   {
    "duration": 174,
    "start_time": "2024-02-21T13:49:03.028Z"
   },
   {
    "duration": 12,
    "start_time": "2024-02-21T13:49:10.214Z"
   },
   {
    "duration": 199,
    "start_time": "2024-02-21T13:49:25.408Z"
   },
   {
    "duration": 20,
    "start_time": "2024-02-21T13:49:31.439Z"
   },
   {
    "duration": 19,
    "start_time": "2024-02-21T13:49:33.264Z"
   },
   {
    "duration": 6,
    "start_time": "2024-02-21T13:49:37.551Z"
   },
   {
    "duration": 6,
    "start_time": "2024-02-21T13:49:38.892Z"
   },
   {
    "duration": 1166,
    "start_time": "2024-02-21T13:57:09.635Z"
   },
   {
    "duration": 1300,
    "start_time": "2024-02-21T13:57:25.867Z"
   },
   {
    "duration": 203,
    "start_time": "2024-02-21T13:57:35.710Z"
   },
   {
    "duration": 6,
    "start_time": "2024-02-21T13:57:39.281Z"
   },
   {
    "duration": 188,
    "start_time": "2024-02-21T13:57:41.073Z"
   },
   {
    "duration": 1132,
    "start_time": "2024-02-21T13:57:48.148Z"
   },
   {
    "duration": 1076,
    "start_time": "2024-02-21T13:57:54.333Z"
   },
   {
    "duration": 262,
    "start_time": "2024-02-21T13:57:55.411Z"
   },
   {
    "duration": 4,
    "start_time": "2024-02-21T13:57:55.674Z"
   },
   {
    "duration": 121,
    "start_time": "2024-02-21T13:57:55.680Z"
   },
   {
    "duration": 10,
    "start_time": "2024-02-21T13:57:55.804Z"
   },
   {
    "duration": 391,
    "start_time": "2024-02-21T13:57:55.816Z"
   },
   {
    "duration": 157,
    "start_time": "2024-02-21T13:57:56.209Z"
   },
   {
    "duration": 284,
    "start_time": "2024-02-21T13:57:56.368Z"
   },
   {
    "duration": 20,
    "start_time": "2024-02-21T13:57:56.654Z"
   },
   {
    "duration": 41,
    "start_time": "2024-02-21T13:57:56.676Z"
   },
   {
    "duration": 44,
    "start_time": "2024-02-21T13:57:56.719Z"
   },
   {
    "duration": 38,
    "start_time": "2024-02-21T13:57:56.765Z"
   },
   {
    "duration": 19,
    "start_time": "2024-02-21T13:57:56.805Z"
   },
   {
    "duration": 1209,
    "start_time": "2024-02-21T13:58:40.944Z"
   },
   {
    "duration": 1166,
    "start_time": "2024-02-21T13:58:47.843Z"
   },
   {
    "duration": 277,
    "start_time": "2024-02-21T13:58:49.011Z"
   },
   {
    "duration": 4,
    "start_time": "2024-02-21T13:58:49.289Z"
   },
   {
    "duration": 117,
    "start_time": "2024-02-21T13:58:49.295Z"
   },
   {
    "duration": 11,
    "start_time": "2024-02-21T13:58:49.414Z"
   },
   {
    "duration": 409,
    "start_time": "2024-02-21T13:58:49.426Z"
   },
   {
    "duration": 149,
    "start_time": "2024-02-21T13:58:49.837Z"
   },
   {
    "duration": 272,
    "start_time": "2024-02-21T13:58:49.992Z"
   },
   {
    "duration": 29,
    "start_time": "2024-02-21T13:58:50.265Z"
   },
   {
    "duration": 46,
    "start_time": "2024-02-21T13:58:50.296Z"
   },
   {
    "duration": 25,
    "start_time": "2024-02-21T13:58:50.344Z"
   },
   {
    "duration": 95,
    "start_time": "2024-02-21T13:58:50.371Z"
   },
   {
    "duration": 26,
    "start_time": "2024-02-21T13:58:50.467Z"
   },
   {
    "duration": 4,
    "start_time": "2024-02-21T13:59:26.724Z"
   },
   {
    "duration": 119,
    "start_time": "2024-02-21T13:59:57.704Z"
   },
   {
    "duration": 127,
    "start_time": "2024-02-21T14:00:24.006Z"
   },
   {
    "duration": 128,
    "start_time": "2024-02-21T14:00:59.260Z"
   },
   {
    "duration": 250,
    "start_time": "2024-02-21T14:01:28.389Z"
   },
   {
    "duration": 237,
    "start_time": "2024-02-21T14:02:25.320Z"
   },
   {
    "duration": 140,
    "start_time": "2024-02-21T14:02:30.464Z"
   },
   {
    "duration": 130,
    "start_time": "2024-02-21T14:02:35.858Z"
   },
   {
    "duration": 8,
    "start_time": "2024-02-21T14:02:41.289Z"
   },
   {
    "duration": 3,
    "start_time": "2024-02-21T14:02:51.871Z"
   },
   {
    "duration": 9,
    "start_time": "2024-02-21T14:02:58.929Z"
   },
   {
    "duration": 1071,
    "start_time": "2024-02-21T14:03:46.941Z"
   },
   {
    "duration": 288,
    "start_time": "2024-02-21T14:03:48.013Z"
   },
   {
    "duration": 4,
    "start_time": "2024-02-21T14:03:48.302Z"
   },
   {
    "duration": 110,
    "start_time": "2024-02-21T14:03:48.307Z"
   },
   {
    "duration": 9,
    "start_time": "2024-02-21T14:03:48.419Z"
   },
   {
    "duration": 442,
    "start_time": "2024-02-21T14:03:48.430Z"
   },
   {
    "duration": 145,
    "start_time": "2024-02-21T14:03:48.873Z"
   },
   {
    "duration": 275,
    "start_time": "2024-02-21T14:03:49.020Z"
   },
   {
    "duration": 3,
    "start_time": "2024-02-21T14:03:49.297Z"
   },
   {
    "duration": 51,
    "start_time": "2024-02-21T14:03:49.301Z"
   },
   {
    "duration": 39,
    "start_time": "2024-02-21T14:03:49.354Z"
   },
   {
    "duration": 36,
    "start_time": "2024-02-21T14:03:49.394Z"
   },
   {
    "duration": 38,
    "start_time": "2024-02-21T14:03:49.432Z"
   },
   {
    "duration": 22,
    "start_time": "2024-02-21T14:03:49.473Z"
   },
   {
    "duration": 15,
    "start_time": "2024-02-21T14:04:12.832Z"
   },
   {
    "duration": 151,
    "start_time": "2024-02-21T14:04:39.127Z"
   },
   {
    "duration": 128,
    "start_time": "2024-02-21T14:04:43.232Z"
   },
   {
    "duration": 130,
    "start_time": "2024-02-21T14:05:02.171Z"
   },
   {
    "duration": 226,
    "start_time": "2024-02-21T14:05:14.199Z"
   },
   {
    "duration": 137,
    "start_time": "2024-02-21T14:05:50.091Z"
   },
   {
    "duration": 8,
    "start_time": "2024-02-21T14:06:30.297Z"
   },
   {
    "duration": 16,
    "start_time": "2024-02-21T14:06:32.879Z"
   },
   {
    "duration": 118,
    "start_time": "2024-02-21T14:06:54.820Z"
   },
   {
    "duration": 254,
    "start_time": "2024-02-21T14:07:13.747Z"
   },
   {
    "duration": 15,
    "start_time": "2024-02-21T14:07:56.957Z"
   },
   {
    "duration": 22,
    "start_time": "2024-02-21T14:08:12.400Z"
   },
   {
    "duration": 55,
    "start_time": "2024-02-21T14:08:59.136Z"
   },
   {
    "duration": 19,
    "start_time": "2024-02-21T14:09:15.840Z"
   },
   {
    "duration": 10,
    "start_time": "2024-02-21T14:10:07.813Z"
   },
   {
    "duration": 27,
    "start_time": "2024-02-21T14:11:56.847Z"
   },
   {
    "duration": 21,
    "start_time": "2024-02-21T14:14:11.280Z"
   },
   {
    "duration": 28,
    "start_time": "2024-02-21T14:14:18.147Z"
   },
   {
    "duration": 64,
    "start_time": "2024-02-21T14:14:44.940Z"
   },
   {
    "duration": 62,
    "start_time": "2024-02-21T14:14:57.117Z"
   },
   {
    "duration": 61,
    "start_time": "2024-02-21T14:17:06.615Z"
   },
   {
    "duration": 59,
    "start_time": "2024-02-21T14:17:09.199Z"
   },
   {
    "duration": 62,
    "start_time": "2024-02-21T14:17:21.181Z"
   },
   {
    "duration": 61,
    "start_time": "2024-02-21T14:17:24.785Z"
   },
   {
    "duration": 67,
    "start_time": "2024-02-21T14:18:01.210Z"
   },
   {
    "duration": 1589,
    "start_time": "2024-02-21T14:18:36.184Z"
   },
   {
    "duration": 16,
    "start_time": "2024-02-21T14:18:41.885Z"
   },
   {
    "duration": 1673,
    "start_time": "2024-02-21T14:18:45.140Z"
   },
   {
    "duration": 17,
    "start_time": "2024-02-21T14:19:00.625Z"
   },
   {
    "duration": 20,
    "start_time": "2024-02-21T14:19:06.083Z"
   },
   {
    "duration": 15,
    "start_time": "2024-02-21T14:19:15.603Z"
   },
   {
    "duration": 19,
    "start_time": "2024-02-21T14:19:20.620Z"
   },
   {
    "duration": 14,
    "start_time": "2024-02-21T14:19:22.320Z"
   },
   {
    "duration": 1170,
    "start_time": "2024-02-21T14:19:39.090Z"
   },
   {
    "duration": 294,
    "start_time": "2024-02-21T14:19:40.262Z"
   },
   {
    "duration": 4,
    "start_time": "2024-02-21T14:19:40.558Z"
   },
   {
    "duration": 165,
    "start_time": "2024-02-21T14:19:40.563Z"
   },
   {
    "duration": 10,
    "start_time": "2024-02-21T14:19:40.731Z"
   },
   {
    "duration": 377,
    "start_time": "2024-02-21T14:19:40.742Z"
   },
   {
    "duration": 177,
    "start_time": "2024-02-21T14:19:41.121Z"
   },
   {
    "duration": 294,
    "start_time": "2024-02-21T14:19:41.300Z"
   },
   {
    "duration": 167,
    "start_time": "2024-02-21T14:19:41.595Z"
   },
   {
    "duration": 145,
    "start_time": "2024-02-21T14:19:41.764Z"
   },
   {
    "duration": 23,
    "start_time": "2024-02-21T14:19:41.912Z"
   },
   {
    "duration": 86,
    "start_time": "2024-02-21T14:19:41.937Z"
   },
   {
    "duration": 50,
    "start_time": "2024-02-21T14:19:42.025Z"
   },
   {
    "duration": 25,
    "start_time": "2024-02-21T14:19:42.078Z"
   },
   {
    "duration": 40,
    "start_time": "2024-02-21T14:19:42.104Z"
   },
   {
    "duration": 39,
    "start_time": "2024-02-21T14:19:42.146Z"
   },
   {
    "duration": 109,
    "start_time": "2024-02-21T14:19:42.186Z"
   },
   {
    "duration": 15,
    "start_time": "2024-02-21T14:19:42.297Z"
   },
   {
    "duration": 6,
    "start_time": "2024-02-21T14:19:48.497Z"
   },
   {
    "duration": 5,
    "start_time": "2024-02-21T14:19:52.834Z"
   },
   {
    "duration": 265,
    "start_time": "2024-02-21T14:20:07.373Z"
   },
   {
    "duration": 1065,
    "start_time": "2024-02-21T14:21:25.446Z"
   },
   {
    "duration": 279,
    "start_time": "2024-02-21T14:21:26.513Z"
   },
   {
    "duration": 5,
    "start_time": "2024-02-21T14:21:26.794Z"
   },
   {
    "duration": 168,
    "start_time": "2024-02-21T14:21:26.801Z"
   },
   {
    "duration": 20,
    "start_time": "2024-02-21T14:21:26.971Z"
   },
   {
    "duration": 383,
    "start_time": "2024-02-21T14:21:26.994Z"
   },
   {
    "duration": 159,
    "start_time": "2024-02-21T14:21:27.379Z"
   },
   {
    "duration": 288,
    "start_time": "2024-02-21T14:21:27.540Z"
   },
   {
    "duration": 153,
    "start_time": "2024-02-21T14:21:27.830Z"
   },
   {
    "duration": 130,
    "start_time": "2024-02-21T14:21:27.991Z"
   },
   {
    "duration": 21,
    "start_time": "2024-02-21T14:21:28.122Z"
   },
   {
    "duration": 80,
    "start_time": "2024-02-21T14:21:28.145Z"
   },
   {
    "duration": 10,
    "start_time": "2024-02-21T14:21:28.227Z"
   },
   {
    "duration": 26,
    "start_time": "2024-02-21T14:21:28.239Z"
   },
   {
    "duration": 26,
    "start_time": "2024-02-21T14:21:28.267Z"
   },
   {
    "duration": 36,
    "start_time": "2024-02-21T14:21:28.294Z"
   },
   {
    "duration": 1127,
    "start_time": "2024-02-21T14:21:48.366Z"
   },
   {
    "duration": 285,
    "start_time": "2024-02-21T14:21:49.495Z"
   },
   {
    "duration": 4,
    "start_time": "2024-02-21T14:21:49.781Z"
   },
   {
    "duration": 118,
    "start_time": "2024-02-21T14:21:49.791Z"
   },
   {
    "duration": 7,
    "start_time": "2024-02-21T14:21:49.911Z"
   },
   {
    "duration": 379,
    "start_time": "2024-02-21T14:21:49.920Z"
   },
   {
    "duration": 157,
    "start_time": "2024-02-21T14:21:50.301Z"
   },
   {
    "duration": 285,
    "start_time": "2024-02-21T14:21:50.460Z"
   },
   {
    "duration": 155,
    "start_time": "2024-02-21T14:21:50.747Z"
   },
   {
    "duration": 126,
    "start_time": "2024-02-21T14:21:50.904Z"
   },
   {
    "duration": 19,
    "start_time": "2024-02-21T14:21:51.032Z"
   },
   {
    "duration": 45,
    "start_time": "2024-02-21T14:21:51.053Z"
   },
   {
    "duration": 25,
    "start_time": "2024-02-21T14:21:51.100Z"
   },
   {
    "duration": 13,
    "start_time": "2024-02-21T14:21:51.128Z"
   },
   {
    "duration": 27,
    "start_time": "2024-02-21T14:21:51.143Z"
   },
   {
    "duration": 44,
    "start_time": "2024-02-21T14:21:51.172Z"
   },
   {
    "duration": 100,
    "start_time": "2024-02-21T14:21:51.219Z"
   },
   {
    "duration": 99,
    "start_time": "2024-02-21T14:21:51.321Z"
   },
   {
    "duration": 4,
    "start_time": "2024-02-21T14:21:51.422Z"
   },
   {
    "duration": 28,
    "start_time": "2024-02-21T14:21:56.011Z"
   },
   {
    "duration": 115,
    "start_time": "2024-02-21T14:22:53.533Z"
   },
   {
    "duration": 27,
    "start_time": "2024-02-21T14:23:07.635Z"
   },
   {
    "duration": 25,
    "start_time": "2024-02-21T14:23:14.420Z"
   },
   {
    "duration": 14,
    "start_time": "2024-02-21T14:24:22.296Z"
   },
   {
    "duration": 31,
    "start_time": "2024-02-21T14:24:28.066Z"
   },
   {
    "duration": 104,
    "start_time": "2024-02-21T14:25:14.643Z"
   },
   {
    "duration": 111,
    "start_time": "2024-02-21T14:25:31.254Z"
   },
   {
    "duration": 101,
    "start_time": "2024-02-21T14:25:45.111Z"
   },
   {
    "duration": 96,
    "start_time": "2024-02-21T14:25:56.393Z"
   },
   {
    "duration": 24,
    "start_time": "2024-02-21T14:26:08.477Z"
   },
   {
    "duration": 23,
    "start_time": "2024-02-21T14:26:21.910Z"
   },
   {
    "duration": 24,
    "start_time": "2024-02-21T14:26:32.297Z"
   },
   {
    "duration": 24,
    "start_time": "2024-02-21T14:26:43.669Z"
   },
   {
    "duration": 23,
    "start_time": "2024-02-21T14:26:46.414Z"
   },
   {
    "duration": 103,
    "start_time": "2024-02-21T14:26:54.029Z"
   },
   {
    "duration": 24,
    "start_time": "2024-02-21T14:26:59.534Z"
   },
   {
    "duration": 44,
    "start_time": "2024-02-21T14:27:07.092Z"
   },
   {
    "duration": 47,
    "start_time": "2024-02-21T14:27:14.970Z"
   },
   {
    "duration": 49,
    "start_time": "2024-02-21T14:27:28.758Z"
   },
   {
    "duration": 57,
    "start_time": "2024-02-21T14:27:33.552Z"
   },
   {
    "duration": 110,
    "start_time": "2024-02-21T14:27:37.263Z"
   },
   {
    "duration": 64,
    "start_time": "2024-02-21T14:27:41.167Z"
   },
   {
    "duration": 58,
    "start_time": "2024-02-21T14:27:58.639Z"
   },
   {
    "duration": 42,
    "start_time": "2024-02-21T14:28:09.628Z"
   },
   {
    "duration": 8,
    "start_time": "2024-02-21T14:28:22.289Z"
   },
   {
    "duration": 114,
    "start_time": "2024-02-21T14:28:59.399Z"
   },
   {
    "duration": 7,
    "start_time": "2024-02-21T14:29:06.526Z"
   },
   {
    "duration": 24,
    "start_time": "2024-02-21T14:29:50.457Z"
   },
   {
    "duration": 25,
    "start_time": "2024-02-21T14:29:56.642Z"
   },
   {
    "duration": 26,
    "start_time": "2024-02-21T14:30:07.630Z"
   },
   {
    "duration": 29,
    "start_time": "2024-02-21T14:30:30.856Z"
   },
   {
    "duration": 45,
    "start_time": "2024-02-21T14:31:43.587Z"
   },
   {
    "duration": 17,
    "start_time": "2024-02-21T14:32:09.659Z"
   },
   {
    "duration": 18,
    "start_time": "2024-02-21T14:32:13.761Z"
   },
   {
    "duration": 23,
    "start_time": "2024-02-21T14:32:19.087Z"
   },
   {
    "duration": 3,
    "start_time": "2024-02-21T17:20:24.946Z"
   },
   {
    "duration": 114,
    "start_time": "2024-02-21T17:21:33.117Z"
   },
   {
    "duration": 1170,
    "start_time": "2024-02-21T17:22:02.229Z"
   },
   {
    "duration": 277,
    "start_time": "2024-02-21T17:22:03.401Z"
   },
   {
    "duration": 35,
    "start_time": "2024-02-21T17:22:03.680Z"
   },
   {
    "duration": 981,
    "start_time": "2024-02-21T17:22:03.718Z"
   },
   {
    "duration": 303,
    "start_time": "2024-02-21T17:22:04.700Z"
   },
   {
    "duration": 379,
    "start_time": "2024-02-21T17:22:05.005Z"
   },
   {
    "duration": 151,
    "start_time": "2024-02-21T17:22:05.385Z"
   },
   {
    "duration": 255,
    "start_time": "2024-02-21T17:22:05.537Z"
   },
   {
    "duration": 150,
    "start_time": "2024-02-21T17:22:05.793Z"
   },
   {
    "duration": 130,
    "start_time": "2024-02-21T17:22:05.946Z"
   },
   {
    "duration": 24,
    "start_time": "2024-02-21T17:22:06.078Z"
   },
   {
    "duration": 41,
    "start_time": "2024-02-21T17:22:06.104Z"
   },
   {
    "duration": 6,
    "start_time": "2024-02-21T17:22:06.146Z"
   },
   {
    "duration": 5,
    "start_time": "2024-02-21T17:22:06.154Z"
   },
   {
    "duration": 30,
    "start_time": "2024-02-21T17:22:06.160Z"
   },
   {
    "duration": 36,
    "start_time": "2024-02-21T17:22:06.192Z"
   },
   {
    "duration": 69,
    "start_time": "2024-02-21T17:22:06.230Z"
   },
   {
    "duration": 8,
    "start_time": "2024-02-21T17:22:06.301Z"
   },
   {
    "duration": 59,
    "start_time": "2024-02-21T17:22:06.311Z"
   },
   {
    "duration": 32,
    "start_time": "2024-02-21T17:22:06.372Z"
   },
   {
    "duration": 26,
    "start_time": "2024-02-21T17:22:06.405Z"
   },
   {
    "duration": 17,
    "start_time": "2024-02-21T17:22:06.433Z"
   },
   {
    "duration": 105,
    "start_time": "2024-02-21T17:22:06.452Z"
   },
   {
    "duration": 36,
    "start_time": "2024-02-21T17:22:22.341Z"
   },
   {
    "duration": 22,
    "start_time": "2024-02-21T17:23:47.763Z"
   },
   {
    "duration": 113,
    "start_time": "2024-02-21T17:24:50.202Z"
   },
   {
    "duration": 18,
    "start_time": "2024-02-21T17:25:02.156Z"
   },
   {
    "duration": 17,
    "start_time": "2024-02-21T17:25:07.232Z"
   },
   {
    "duration": 387,
    "start_time": "2024-02-21T17:25:10.345Z"
   },
   {
    "duration": 80,
    "start_time": "2024-02-21T17:25:23.066Z"
   },
   {
    "duration": 183,
    "start_time": "2024-02-21T17:25:29.314Z"
   },
   {
    "duration": 185,
    "start_time": "2024-02-21T17:26:31.689Z"
   },
   {
    "duration": 81,
    "start_time": "2024-02-21T17:26:43.323Z"
   },
   {
    "duration": 15,
    "start_time": "2024-02-21T17:35:51.622Z"
   },
   {
    "duration": 47,
    "start_time": "2024-02-21T17:36:36.173Z"
   },
   {
    "duration": 43,
    "start_time": "2024-02-21T17:36:40.304Z"
   },
   {
    "duration": 49,
    "start_time": "2024-02-21T17:37:05.126Z"
   },
   {
    "duration": 66,
    "start_time": "2024-02-21T17:37:19.814Z"
   },
   {
    "duration": 62,
    "start_time": "2024-02-21T17:38:27.031Z"
   },
   {
    "duration": 9,
    "start_time": "2024-02-21T17:38:40.689Z"
   },
   {
    "duration": 311,
    "start_time": "2024-02-21T17:38:44.178Z"
   },
   {
    "duration": 258,
    "start_time": "2024-02-21T17:39:11.343Z"
   },
   {
    "duration": 276,
    "start_time": "2024-02-21T17:39:26.585Z"
   },
   {
    "duration": 287,
    "start_time": "2024-02-21T17:39:33.391Z"
   },
   {
    "duration": 654,
    "start_time": "2024-02-21T17:41:53.416Z"
   },
   {
    "duration": 303,
    "start_time": "2024-02-21T17:43:01.307Z"
   },
   {
    "duration": 276,
    "start_time": "2024-02-21T17:43:32.263Z"
   },
   {
    "duration": 293,
    "start_time": "2024-02-21T17:43:51.135Z"
   },
   {
    "duration": 216,
    "start_time": "2024-02-21T17:47:08.137Z"
   },
   {
    "duration": 1147,
    "start_time": "2024-02-21T17:47:38.602Z"
   },
   {
    "duration": 309,
    "start_time": "2024-02-21T17:47:39.754Z"
   },
   {
    "duration": 4,
    "start_time": "2024-02-21T17:47:40.065Z"
   },
   {
    "duration": 127,
    "start_time": "2024-02-21T17:47:40.072Z"
   },
   {
    "duration": 10,
    "start_time": "2024-02-21T17:47:40.202Z"
   },
   {
    "duration": 388,
    "start_time": "2024-02-21T17:47:40.214Z"
   },
   {
    "duration": 148,
    "start_time": "2024-02-21T17:47:40.604Z"
   },
   {
    "duration": 284,
    "start_time": "2024-02-21T17:47:40.753Z"
   },
   {
    "duration": 171,
    "start_time": "2024-02-21T17:47:41.038Z"
   },
   {
    "duration": 147,
    "start_time": "2024-02-21T17:47:41.211Z"
   },
   {
    "duration": 19,
    "start_time": "2024-02-21T17:47:41.359Z"
   },
   {
    "duration": 50,
    "start_time": "2024-02-21T17:47:41.380Z"
   },
   {
    "duration": 70,
    "start_time": "2024-02-21T17:47:41.432Z"
   },
   {
    "duration": 7,
    "start_time": "2024-02-21T17:47:41.505Z"
   },
   {
    "duration": 48,
    "start_time": "2024-02-21T17:47:41.514Z"
   },
   {
    "duration": 40,
    "start_time": "2024-02-21T17:47:41.563Z"
   },
   {
    "duration": 25,
    "start_time": "2024-02-21T17:47:41.605Z"
   },
   {
    "duration": 16,
    "start_time": "2024-02-21T17:47:41.632Z"
   },
   {
    "duration": 60,
    "start_time": "2024-02-21T17:47:41.649Z"
   },
   {
    "duration": 52,
    "start_time": "2024-02-21T17:47:41.710Z"
   },
   {
    "duration": 333,
    "start_time": "2024-02-21T17:47:41.763Z"
   },
   {
    "duration": 297,
    "start_time": "2024-02-21T17:49:14.463Z"
   },
   {
    "duration": 293,
    "start_time": "2024-02-21T17:49:20.256Z"
   },
   {
    "duration": 1161,
    "start_time": "2024-02-21T17:49:26.685Z"
   },
   {
    "duration": 262,
    "start_time": "2024-02-21T17:49:27.849Z"
   },
   {
    "duration": 4,
    "start_time": "2024-02-21T17:49:28.113Z"
   },
   {
    "duration": 115,
    "start_time": "2024-02-21T17:49:28.119Z"
   },
   {
    "duration": 10,
    "start_time": "2024-02-21T17:49:28.236Z"
   },
   {
    "duration": 387,
    "start_time": "2024-02-21T17:49:28.248Z"
   },
   {
    "duration": 148,
    "start_time": "2024-02-21T17:49:28.637Z"
   },
   {
    "duration": 271,
    "start_time": "2024-02-21T17:49:28.787Z"
   },
   {
    "duration": 157,
    "start_time": "2024-02-21T17:49:29.059Z"
   },
   {
    "duration": 126,
    "start_time": "2024-02-21T17:49:29.219Z"
   },
   {
    "duration": 19,
    "start_time": "2024-02-21T17:49:29.346Z"
   },
   {
    "duration": 82,
    "start_time": "2024-02-21T17:49:29.367Z"
   },
   {
    "duration": 78,
    "start_time": "2024-02-21T17:49:29.451Z"
   },
   {
    "duration": 7,
    "start_time": "2024-02-21T17:49:29.531Z"
   },
   {
    "duration": 59,
    "start_time": "2024-02-21T17:49:29.540Z"
   },
   {
    "duration": 24,
    "start_time": "2024-02-21T17:49:29.601Z"
   },
   {
    "duration": 34,
    "start_time": "2024-02-21T17:49:29.627Z"
   },
   {
    "duration": 30,
    "start_time": "2024-02-21T17:49:29.663Z"
   },
   {
    "duration": 41,
    "start_time": "2024-02-21T17:49:29.695Z"
   },
   {
    "duration": 88,
    "start_time": "2024-02-21T17:49:29.738Z"
   },
   {
    "duration": 381,
    "start_time": "2024-02-21T17:49:29.828Z"
   },
   {
    "duration": 172,
    "start_time": "2024-02-21T17:50:01.425Z"
   },
   {
    "duration": 57,
    "start_time": "2024-02-21T17:56:26.678Z"
   },
   {
    "duration": 500,
    "start_time": "2024-02-21T17:56:56.303Z"
   },
   {
    "duration": 60,
    "start_time": "2024-02-21T17:57:08.472Z"
   },
   {
    "duration": 45,
    "start_time": "2024-02-21T17:57:17.835Z"
   },
   {
    "duration": 38,
    "start_time": "2024-02-21T18:07:34.616Z"
   },
   {
    "duration": 1613,
    "start_time": "2024-02-21T18:07:47.200Z"
   },
   {
    "duration": 16,
    "start_time": "2024-02-21T18:07:58.092Z"
   },
   {
    "duration": 57,
    "start_time": "2024-02-21T18:08:02.452Z"
   },
   {
    "duration": 35,
    "start_time": "2024-02-21T18:08:08.710Z"
   },
   {
    "duration": 34,
    "start_time": "2024-02-21T18:09:19.533Z"
   },
   {
    "duration": 32,
    "start_time": "2024-02-21T18:09:49.689Z"
   },
   {
    "duration": 19,
    "start_time": "2024-02-21T18:11:51.117Z"
   },
   {
    "duration": 7,
    "start_time": "2024-02-21T18:12:25.271Z"
   },
   {
    "duration": 118,
    "start_time": "2024-02-21T18:12:45.684Z"
   },
   {
    "duration": 9,
    "start_time": "2024-02-21T18:12:51.594Z"
   },
   {
    "duration": 30,
    "start_time": "2024-02-21T18:13:59.906Z"
   },
   {
    "duration": 22,
    "start_time": "2024-02-21T18:14:11.907Z"
   },
   {
    "duration": 17,
    "start_time": "2024-02-21T18:14:17.572Z"
   },
   {
    "duration": 14,
    "start_time": "2024-02-21T18:16:04.853Z"
   },
   {
    "duration": 19,
    "start_time": "2024-02-21T18:16:25.178Z"
   },
   {
    "duration": 18,
    "start_time": "2024-02-21T18:16:30.014Z"
   },
   {
    "duration": 12,
    "start_time": "2024-02-21T18:16:34.959Z"
   },
   {
    "duration": 12,
    "start_time": "2024-02-21T18:16:40.751Z"
   },
   {
    "duration": 99,
    "start_time": "2024-02-21T18:17:04.796Z"
   },
   {
    "duration": 13,
    "start_time": "2024-02-21T18:17:12.186Z"
   },
   {
    "duration": 105,
    "start_time": "2024-02-21T18:17:32.931Z"
   },
   {
    "duration": 13,
    "start_time": "2024-02-21T18:17:42.414Z"
   },
   {
    "duration": 30,
    "start_time": "2024-02-21T18:17:57.378Z"
   },
   {
    "duration": 112,
    "start_time": "2024-02-21T18:18:39.273Z"
   },
   {
    "duration": 27,
    "start_time": "2024-02-21T18:24:55.893Z"
   },
   {
    "duration": 105,
    "start_time": "2024-02-21T18:25:36.101Z"
   },
   {
    "duration": 31,
    "start_time": "2024-02-21T18:25:46.350Z"
   },
   {
    "duration": 43,
    "start_time": "2024-02-21T18:25:59.993Z"
   },
   {
    "duration": 28,
    "start_time": "2024-02-21T18:26:12.517Z"
   },
   {
    "duration": 28,
    "start_time": "2024-02-21T18:26:21.169Z"
   },
   {
    "duration": 3,
    "start_time": "2024-02-21T18:26:59.044Z"
   },
   {
    "duration": 73,
    "start_time": "2024-02-21T18:29:36.577Z"
   },
   {
    "duration": 40,
    "start_time": "2024-02-21T18:29:42.702Z"
   },
   {
    "duration": 59,
    "start_time": "2024-02-21T18:30:39.287Z"
   },
   {
    "duration": 5,
    "start_time": "2024-02-21T18:31:22.380Z"
   },
   {
    "duration": 7,
    "start_time": "2024-02-21T18:31:28.188Z"
   },
   {
    "duration": 3,
    "start_time": "2024-02-21T18:32:06.486Z"
   },
   {
    "duration": 8,
    "start_time": "2024-02-21T18:32:08.167Z"
   },
   {
    "duration": 4,
    "start_time": "2024-02-21T18:32:15.041Z"
   },
   {
    "duration": 7,
    "start_time": "2024-02-21T18:32:16.733Z"
   },
   {
    "duration": 4,
    "start_time": "2024-02-21T18:32:52.220Z"
   },
   {
    "duration": 8,
    "start_time": "2024-02-21T18:32:52.875Z"
   },
   {
    "duration": 4,
    "start_time": "2024-02-21T18:33:26.306Z"
   },
   {
    "duration": 8,
    "start_time": "2024-02-21T18:33:28.396Z"
   },
   {
    "duration": 4,
    "start_time": "2024-02-21T18:33:39.463Z"
   },
   {
    "duration": 8,
    "start_time": "2024-02-21T18:33:40.994Z"
   },
   {
    "duration": 9,
    "start_time": "2024-02-21T18:33:47.257Z"
   },
   {
    "duration": 10,
    "start_time": "2024-02-21T18:34:16.180Z"
   },
   {
    "duration": 33,
    "start_time": "2024-02-21T19:41:33.147Z"
   },
   {
    "duration": 11,
    "start_time": "2024-02-21T19:43:37.486Z"
   },
   {
    "duration": 30,
    "start_time": "2024-02-21T19:44:23.780Z"
   },
   {
    "duration": 64,
    "start_time": "2024-02-21T19:44:26.059Z"
   },
   {
    "duration": 106,
    "start_time": "2024-02-21T19:45:02.462Z"
   },
   {
    "duration": 1661,
    "start_time": "2024-02-21T19:45:05.799Z"
   },
   {
    "duration": 15,
    "start_time": "2024-02-21T19:45:20.454Z"
   },
   {
    "duration": 14,
    "start_time": "2024-02-21T19:47:03.040Z"
   },
   {
    "duration": 14,
    "start_time": "2024-02-21T19:47:19.506Z"
   },
   {
    "duration": 5,
    "start_time": "2024-02-21T19:47:38.385Z"
   },
   {
    "duration": 9,
    "start_time": "2024-02-21T19:47:46.278Z"
   },
   {
    "duration": 55,
    "start_time": "2024-02-21T19:47:59.665Z"
   },
   {
    "duration": 9,
    "start_time": "2024-02-21T19:48:02.098Z"
   },
   {
    "duration": 14,
    "start_time": "2024-02-21T19:48:05.704Z"
   },
   {
    "duration": 79,
    "start_time": "2024-02-21T19:49:04.103Z"
   },
   {
    "duration": 4,
    "start_time": "2024-02-21T19:49:22.112Z"
   },
   {
    "duration": 13,
    "start_time": "2024-02-21T19:49:33.096Z"
   },
   {
    "duration": 2,
    "start_time": "2024-02-21T19:51:07.984Z"
   },
   {
    "duration": 2,
    "start_time": "2024-02-21T19:51:11.546Z"
   },
   {
    "duration": 67,
    "start_time": "2024-02-21T19:52:40.508Z"
   },
   {
    "duration": 3,
    "start_time": "2024-02-21T19:52:52.440Z"
   },
   {
    "duration": 68,
    "start_time": "2024-02-21T19:53:28.085Z"
   },
   {
    "duration": 1132,
    "start_time": "2024-02-21T19:53:55.155Z"
   },
   {
    "duration": 273,
    "start_time": "2024-02-21T19:53:56.289Z"
   },
   {
    "duration": 4,
    "start_time": "2024-02-21T19:53:56.563Z"
   },
   {
    "duration": 100,
    "start_time": "2024-02-21T19:53:56.569Z"
   },
   {
    "duration": 26,
    "start_time": "2024-02-21T19:53:56.671Z"
   },
   {
    "duration": 374,
    "start_time": "2024-02-21T19:53:56.699Z"
   },
   {
    "duration": 43,
    "start_time": "2024-02-21T19:53:57.074Z"
   },
   {
    "duration": 139,
    "start_time": "2024-02-21T19:53:57.118Z"
   },
   {
    "duration": 240,
    "start_time": "2024-02-21T19:53:57.258Z"
   },
   {
    "duration": 124,
    "start_time": "2024-02-21T19:53:57.500Z"
   },
   {
    "duration": 102,
    "start_time": "2024-02-21T19:53:57.626Z"
   },
   {
    "duration": 18,
    "start_time": "2024-02-21T19:53:57.730Z"
   },
   {
    "duration": 120,
    "start_time": "2024-02-21T19:53:57.750Z"
   },
   {
    "duration": 153,
    "start_time": "2024-02-21T19:53:57.871Z"
   },
   {
    "duration": 10,
    "start_time": "2024-02-21T19:53:58.026Z"
   },
   {
    "duration": 58,
    "start_time": "2024-02-21T19:53:58.039Z"
   },
   {
    "duration": 23,
    "start_time": "2024-02-21T19:53:58.099Z"
   },
   {
    "duration": 27,
    "start_time": "2024-02-21T19:53:58.124Z"
   },
   {
    "duration": 47,
    "start_time": "2024-02-21T19:53:58.153Z"
   },
   {
    "duration": 8,
    "start_time": "2024-02-21T19:53:58.202Z"
   },
   {
    "duration": 54,
    "start_time": "2024-02-21T19:53:58.212Z"
   },
   {
    "duration": 332,
    "start_time": "2024-02-21T19:53:58.267Z"
   },
   {
    "duration": 7,
    "start_time": "2024-02-21T19:53:58.600Z"
   },
   {
    "duration": 54,
    "start_time": "2024-02-21T19:53:58.609Z"
   },
   {
    "duration": 53,
    "start_time": "2024-02-21T19:53:58.665Z"
   },
   {
    "duration": 111,
    "start_time": "2024-02-21T19:53:58.720Z"
   },
   {
    "duration": 2,
    "start_time": "2024-02-21T19:53:58.833Z"
   },
   {
    "duration": 9,
    "start_time": "2024-02-21T19:53:58.839Z"
   },
   {
    "duration": 80,
    "start_time": "2024-02-21T19:53:58.850Z"
   },
   {
    "duration": 2,
    "start_time": "2024-02-21T19:53:58.932Z"
   },
   {
    "duration": 6,
    "start_time": "2024-02-21T19:54:59.282Z"
   },
   {
    "duration": 112,
    "start_time": "2024-02-21T19:55:47.307Z"
   },
   {
    "duration": 1696,
    "start_time": "2024-02-21T19:56:12.313Z"
   },
   {
    "duration": 6,
    "start_time": "2024-02-21T19:56:26.452Z"
   },
   {
    "duration": 8,
    "start_time": "2024-02-21T19:56:29.700Z"
   },
   {
    "duration": 8,
    "start_time": "2024-02-21T19:57:06.584Z"
   },
   {
    "duration": 1307,
    "start_time": "2024-02-22T10:32:38.047Z"
   },
   {
    "duration": 809,
    "start_time": "2024-02-22T10:32:39.356Z"
   },
   {
    "duration": 4,
    "start_time": "2024-02-22T10:32:40.168Z"
   },
   {
    "duration": 127,
    "start_time": "2024-02-22T10:32:40.174Z"
   },
   {
    "duration": 12,
    "start_time": "2024-02-22T10:32:40.303Z"
   },
   {
    "duration": 414,
    "start_time": "2024-02-22T10:32:40.317Z"
   },
   {
    "duration": 48,
    "start_time": "2024-02-22T10:32:40.732Z"
   },
   {
    "duration": 145,
    "start_time": "2024-02-22T10:32:40.782Z"
   },
   {
    "duration": 266,
    "start_time": "2024-02-22T10:32:40.930Z"
   },
   {
    "duration": 145,
    "start_time": "2024-02-22T10:32:41.198Z"
   },
   {
    "duration": 108,
    "start_time": "2024-02-22T10:32:41.345Z"
   },
   {
    "duration": 27,
    "start_time": "2024-02-22T10:32:41.454Z"
   },
   {
    "duration": 30,
    "start_time": "2024-02-22T10:32:41.482Z"
   },
   {
    "duration": 68,
    "start_time": "2024-02-22T10:32:41.514Z"
   },
   {
    "duration": 8,
    "start_time": "2024-02-22T10:32:41.583Z"
   },
   {
    "duration": 64,
    "start_time": "2024-02-22T10:32:41.593Z"
   },
   {
    "duration": 32,
    "start_time": "2024-02-22T10:32:41.659Z"
   },
   {
    "duration": 28,
    "start_time": "2024-02-22T10:32:41.693Z"
   },
   {
    "duration": 20,
    "start_time": "2024-02-22T10:32:41.722Z"
   },
   {
    "duration": 20,
    "start_time": "2024-02-22T10:32:41.743Z"
   },
   {
    "duration": 53,
    "start_time": "2024-02-22T10:32:41.765Z"
   },
   {
    "duration": 410,
    "start_time": "2024-02-22T10:32:41.820Z"
   },
   {
    "duration": 8,
    "start_time": "2024-02-22T10:32:42.232Z"
   },
   {
    "duration": 43,
    "start_time": "2024-02-22T10:32:42.241Z"
   },
   {
    "duration": 30,
    "start_time": "2024-02-22T10:32:42.285Z"
   },
   {
    "duration": 123,
    "start_time": "2024-02-22T10:32:42.317Z"
   },
   {
    "duration": 2,
    "start_time": "2024-02-22T10:32:42.443Z"
   },
   {
    "duration": 9,
    "start_time": "2024-02-22T10:32:42.446Z"
   },
   {
    "duration": 109,
    "start_time": "2024-02-22T10:32:42.457Z"
   },
   {
    "duration": 3,
    "start_time": "2024-02-22T10:32:42.569Z"
   },
   {
    "duration": 35,
    "start_time": "2024-02-22T10:32:42.573Z"
   },
   {
    "duration": 49,
    "start_time": "2024-02-22T10:32:42.610Z"
   },
   {
    "duration": 4,
    "start_time": "2024-02-22T10:53:58.601Z"
   },
   {
    "duration": 10,
    "start_time": "2024-02-22T10:54:01.830Z"
   },
   {
    "duration": 3,
    "start_time": "2024-02-22T10:54:23.040Z"
   },
   {
    "duration": 9,
    "start_time": "2024-02-22T10:54:37.799Z"
   },
   {
    "duration": 8,
    "start_time": "2024-02-22T10:54:44.243Z"
   },
   {
    "duration": 11,
    "start_time": "2024-02-22T10:55:12.094Z"
   },
   {
    "duration": 10,
    "start_time": "2024-02-22T10:55:23.499Z"
   },
   {
    "duration": 73,
    "start_time": "2024-02-22T10:55:28.806Z"
   },
   {
    "duration": 9,
    "start_time": "2024-02-22T10:55:31.701Z"
   },
   {
    "duration": 9,
    "start_time": "2024-02-22T10:55:36.690Z"
   },
   {
    "duration": 10,
    "start_time": "2024-02-22T10:57:11.814Z"
   },
   {
    "duration": 10,
    "start_time": "2024-02-22T10:59:08.051Z"
   },
   {
    "duration": 10,
    "start_time": "2024-02-22T10:59:41.257Z"
   },
   {
    "duration": 11,
    "start_time": "2024-02-22T10:59:51.261Z"
   },
   {
    "duration": 9,
    "start_time": "2024-02-22T10:59:54.819Z"
   },
   {
    "duration": 11,
    "start_time": "2024-02-22T11:00:01.605Z"
   },
   {
    "duration": 10,
    "start_time": "2024-02-22T11:00:09.655Z"
   },
   {
    "duration": 14,
    "start_time": "2024-02-22T11:00:32.932Z"
   },
   {
    "duration": 11,
    "start_time": "2024-02-22T11:00:45.567Z"
   },
   {
    "duration": 10,
    "start_time": "2024-02-22T11:01:00.629Z"
   },
   {
    "duration": 11,
    "start_time": "2024-02-22T11:01:05.873Z"
   },
   {
    "duration": 10,
    "start_time": "2024-02-22T11:01:13.951Z"
   },
   {
    "duration": 4,
    "start_time": "2024-02-22T11:01:31.869Z"
   },
   {
    "duration": 67,
    "start_time": "2024-02-22T11:04:06.775Z"
   },
   {
    "duration": 1172,
    "start_time": "2024-02-22T11:04:11.735Z"
   },
   {
    "duration": 286,
    "start_time": "2024-02-22T11:04:12.909Z"
   },
   {
    "duration": 3,
    "start_time": "2024-02-22T11:04:13.197Z"
   },
   {
    "duration": 118,
    "start_time": "2024-02-22T11:04:13.201Z"
   },
   {
    "duration": 10,
    "start_time": "2024-02-22T11:04:13.321Z"
   },
   {
    "duration": 389,
    "start_time": "2024-02-22T11:04:13.333Z"
   },
   {
    "duration": 41,
    "start_time": "2024-02-22T11:04:13.724Z"
   },
   {
    "duration": 135,
    "start_time": "2024-02-22T11:04:13.767Z"
   },
   {
    "duration": 259,
    "start_time": "2024-02-22T11:04:13.904Z"
   },
   {
    "duration": 135,
    "start_time": "2024-02-22T11:04:14.165Z"
   },
   {
    "duration": 112,
    "start_time": "2024-02-22T11:04:14.302Z"
   },
   {
    "duration": 20,
    "start_time": "2024-02-22T11:04:14.416Z"
   },
   {
    "duration": 44,
    "start_time": "2024-02-22T11:04:14.437Z"
   },
   {
    "duration": 68,
    "start_time": "2024-02-22T11:04:14.484Z"
   },
   {
    "duration": 9,
    "start_time": "2024-02-22T11:04:14.554Z"
   },
   {
    "duration": 45,
    "start_time": "2024-02-22T11:04:14.580Z"
   },
   {
    "duration": 31,
    "start_time": "2024-02-22T11:04:14.627Z"
   },
   {
    "duration": 27,
    "start_time": "2024-02-22T11:04:14.681Z"
   },
   {
    "duration": 18,
    "start_time": "2024-02-22T11:04:14.710Z"
   },
   {
    "duration": 8,
    "start_time": "2024-02-22T11:04:14.730Z"
   },
   {
    "duration": 69,
    "start_time": "2024-02-22T11:04:14.740Z"
   },
   {
    "duration": 330,
    "start_time": "2024-02-22T11:04:14.811Z"
   },
   {
    "duration": 9,
    "start_time": "2024-02-22T11:04:15.142Z"
   },
   {
    "duration": 31,
    "start_time": "2024-02-22T11:04:15.152Z"
   },
   {
    "duration": 31,
    "start_time": "2024-02-22T11:04:15.184Z"
   },
   {
    "duration": 124,
    "start_time": "2024-02-22T11:04:15.216Z"
   },
   {
    "duration": 3,
    "start_time": "2024-02-22T11:04:15.341Z"
   },
   {
    "duration": 28,
    "start_time": "2024-02-22T11:04:15.345Z"
   },
   {
    "duration": 111,
    "start_time": "2024-02-22T11:04:15.375Z"
   },
   {
    "duration": 2,
    "start_time": "2024-02-22T11:04:15.487Z"
   },
   {
    "duration": 22,
    "start_time": "2024-02-22T11:04:15.491Z"
   },
   {
    "duration": 21,
    "start_time": "2024-02-22T11:04:15.515Z"
   },
   {
    "duration": 28,
    "start_time": "2024-02-22T11:04:15.538Z"
   },
   {
    "duration": 5,
    "start_time": "2024-02-22T11:05:41.876Z"
   },
   {
    "duration": 11,
    "start_time": "2024-02-22T11:05:44.123Z"
   },
   {
    "duration": 1114,
    "start_time": "2024-02-22T11:05:57.375Z"
   },
   {
    "duration": 290,
    "start_time": "2024-02-22T11:05:58.491Z"
   },
   {
    "duration": 4,
    "start_time": "2024-02-22T11:05:58.783Z"
   },
   {
    "duration": 110,
    "start_time": "2024-02-22T11:05:58.789Z"
   },
   {
    "duration": 10,
    "start_time": "2024-02-22T11:05:58.901Z"
   },
   {
    "duration": 371,
    "start_time": "2024-02-22T11:05:58.913Z"
   },
   {
    "duration": 43,
    "start_time": "2024-02-22T11:05:59.286Z"
   },
   {
    "duration": 138,
    "start_time": "2024-02-22T11:05:59.331Z"
   },
   {
    "duration": 259,
    "start_time": "2024-02-22T11:05:59.470Z"
   },
   {
    "duration": 157,
    "start_time": "2024-02-22T11:05:59.731Z"
   },
   {
    "duration": 117,
    "start_time": "2024-02-22T11:05:59.889Z"
   },
   {
    "duration": 20,
    "start_time": "2024-02-22T11:06:00.008Z"
   },
   {
    "duration": 66,
    "start_time": "2024-02-22T11:06:00.029Z"
   },
   {
    "duration": 158,
    "start_time": "2024-02-22T11:06:00.098Z"
   },
   {
    "duration": 20,
    "start_time": "2024-02-22T11:06:00.258Z"
   },
   {
    "duration": 143,
    "start_time": "2024-02-22T11:06:00.280Z"
   },
   {
    "duration": 130,
    "start_time": "2024-02-22T11:06:00.425Z"
   },
   {
    "duration": 106,
    "start_time": "2024-02-22T11:06:00.556Z"
   },
   {
    "duration": 59,
    "start_time": "2024-02-22T11:06:00.664Z"
   },
   {
    "duration": 72,
    "start_time": "2024-02-22T11:06:00.725Z"
   },
   {
    "duration": 105,
    "start_time": "2024-02-22T11:06:00.800Z"
   },
   {
    "duration": 347,
    "start_time": "2024-02-22T11:06:00.907Z"
   },
   {
    "duration": 9,
    "start_time": "2024-02-22T11:06:01.256Z"
   },
   {
    "duration": 70,
    "start_time": "2024-02-22T11:06:01.281Z"
   },
   {
    "duration": 38,
    "start_time": "2024-02-22T11:06:01.353Z"
   },
   {
    "duration": 119,
    "start_time": "2024-02-22T11:06:01.393Z"
   },
   {
    "duration": 3,
    "start_time": "2024-02-22T11:06:01.514Z"
   },
   {
    "duration": 22,
    "start_time": "2024-02-22T11:06:01.519Z"
   },
   {
    "duration": 92,
    "start_time": "2024-02-22T11:06:01.542Z"
   },
   {
    "duration": 3,
    "start_time": "2024-02-22T11:06:01.635Z"
   },
   {
    "duration": 29,
    "start_time": "2024-02-22T11:06:01.639Z"
   },
   {
    "duration": 62,
    "start_time": "2024-02-22T11:06:01.670Z"
   },
   {
    "duration": 34,
    "start_time": "2024-02-22T11:06:01.734Z"
   },
   {
    "duration": 22,
    "start_time": "2024-02-22T11:06:01.770Z"
   },
   {
    "duration": 111,
    "start_time": "2024-02-22T11:08:13.456Z"
   },
   {
    "duration": 5,
    "start_time": "2024-02-22T11:08:41.620Z"
   },
   {
    "duration": 11,
    "start_time": "2024-02-22T11:08:43.398Z"
   },
   {
    "duration": 11,
    "start_time": "2024-02-22T11:08:47.493Z"
   },
   {
    "duration": 1132,
    "start_time": "2024-02-22T11:09:10.343Z"
   },
   {
    "duration": 277,
    "start_time": "2024-02-22T11:09:11.476Z"
   },
   {
    "duration": 4,
    "start_time": "2024-02-22T11:09:11.754Z"
   },
   {
    "duration": 121,
    "start_time": "2024-02-22T11:09:11.760Z"
   },
   {
    "duration": 10,
    "start_time": "2024-02-22T11:09:11.883Z"
   },
   {
    "duration": 399,
    "start_time": "2024-02-22T11:09:11.894Z"
   },
   {
    "duration": 42,
    "start_time": "2024-02-22T11:09:12.295Z"
   },
   {
    "duration": 134,
    "start_time": "2024-02-22T11:09:12.338Z"
   },
   {
    "duration": 254,
    "start_time": "2024-02-22T11:09:12.480Z"
   },
   {
    "duration": 130,
    "start_time": "2024-02-22T11:09:12.735Z"
   },
   {
    "duration": 99,
    "start_time": "2024-02-22T11:09:12.867Z"
   },
   {
    "duration": 35,
    "start_time": "2024-02-22T11:09:12.968Z"
   },
   {
    "duration": 28,
    "start_time": "2024-02-22T11:09:13.004Z"
   },
   {
    "duration": 74,
    "start_time": "2024-02-22T11:09:13.036Z"
   },
   {
    "duration": 7,
    "start_time": "2024-02-22T11:09:13.112Z"
   },
   {
    "duration": 60,
    "start_time": "2024-02-22T11:09:13.121Z"
   },
   {
    "duration": 25,
    "start_time": "2024-02-22T11:09:13.182Z"
   },
   {
    "duration": 26,
    "start_time": "2024-02-22T11:09:13.209Z"
   },
   {
    "duration": 45,
    "start_time": "2024-02-22T11:09:13.236Z"
   },
   {
    "duration": 9,
    "start_time": "2024-02-22T11:09:13.283Z"
   },
   {
    "duration": 42,
    "start_time": "2024-02-22T11:09:13.294Z"
   },
   {
    "duration": 348,
    "start_time": "2024-02-22T11:09:13.338Z"
   },
   {
    "duration": 7,
    "start_time": "2024-02-22T11:09:13.688Z"
   },
   {
    "duration": 14,
    "start_time": "2024-02-22T11:09:13.697Z"
   },
   {
    "duration": 30,
    "start_time": "2024-02-22T11:09:13.712Z"
   },
   {
    "duration": 131,
    "start_time": "2024-02-22T11:09:13.743Z"
   },
   {
    "duration": 3,
    "start_time": "2024-02-22T11:09:13.880Z"
   },
   {
    "duration": 6,
    "start_time": "2024-02-22T11:09:13.884Z"
   },
   {
    "duration": 71,
    "start_time": "2024-02-22T11:09:13.891Z"
   },
   {
    "duration": 15,
    "start_time": "2024-02-22T11:09:13.964Z"
   },
   {
    "duration": 7,
    "start_time": "2024-02-22T11:09:13.981Z"
   },
   {
    "duration": 16,
    "start_time": "2024-02-22T11:09:13.989Z"
   },
   {
    "duration": 23,
    "start_time": "2024-02-22T11:09:14.007Z"
   },
   {
    "duration": 8,
    "start_time": "2024-02-22T11:09:14.031Z"
   },
   {
    "duration": 10,
    "start_time": "2024-02-22T11:09:58.699Z"
   },
   {
    "duration": 9,
    "start_time": "2024-02-22T11:10:39.161Z"
   },
   {
    "duration": 9,
    "start_time": "2024-02-22T11:10:59.519Z"
   },
   {
    "duration": 106,
    "start_time": "2024-02-22T11:12:15.276Z"
   },
   {
    "duration": 8,
    "start_time": "2024-02-22T11:12:19.686Z"
   },
   {
    "duration": 11,
    "start_time": "2024-02-22T11:12:36.139Z"
   },
   {
    "duration": 17,
    "start_time": "2024-02-22T11:16:02.230Z"
   },
   {
    "duration": 17,
    "start_time": "2024-02-22T11:16:26.354Z"
   },
   {
    "duration": 12,
    "start_time": "2024-02-22T11:17:11.223Z"
   },
   {
    "duration": 25,
    "start_time": "2024-02-22T11:17:53.359Z"
   },
   {
    "duration": 23,
    "start_time": "2024-02-22T11:18:01.385Z"
   },
   {
    "duration": 13,
    "start_time": "2024-02-22T11:18:07.545Z"
   },
   {
    "duration": 13,
    "start_time": "2024-02-22T11:18:13.795Z"
   },
   {
    "duration": 105,
    "start_time": "2024-02-22T11:20:27.288Z"
   },
   {
    "duration": 103,
    "start_time": "2024-02-22T11:20:40.903Z"
   },
   {
    "duration": 105,
    "start_time": "2024-02-22T11:20:46.255Z"
   },
   {
    "duration": 109,
    "start_time": "2024-02-22T11:21:03.826Z"
   },
   {
    "duration": 97,
    "start_time": "2024-02-22T11:21:08.785Z"
   },
   {
    "duration": 115,
    "start_time": "2024-02-22T11:21:15.701Z"
   },
   {
    "duration": 94,
    "start_time": "2024-02-22T11:22:05.925Z"
   },
   {
    "duration": 103,
    "start_time": "2024-02-22T11:23:38.622Z"
   },
   {
    "duration": 19,
    "start_time": "2024-02-22T11:23:46.848Z"
   },
   {
    "duration": 19,
    "start_time": "2024-02-22T11:24:15.945Z"
   },
   {
    "duration": 19,
    "start_time": "2024-02-22T11:24:38.275Z"
   },
   {
    "duration": 21,
    "start_time": "2024-02-22T11:25:09.026Z"
   },
   {
    "duration": 17,
    "start_time": "2024-02-22T11:25:26.732Z"
   },
   {
    "duration": 21,
    "start_time": "2024-02-22T11:25:38.872Z"
   },
   {
    "duration": 22,
    "start_time": "2024-02-22T11:25:49.976Z"
   },
   {
    "duration": 33,
    "start_time": "2024-02-22T11:25:57.845Z"
   },
   {
    "duration": 25,
    "start_time": "2024-02-22T11:26:03.347Z"
   },
   {
    "duration": 27,
    "start_time": "2024-02-22T11:26:15.941Z"
   },
   {
    "duration": 27,
    "start_time": "2024-02-22T11:26:40.827Z"
   },
   {
    "duration": 24,
    "start_time": "2024-02-22T11:26:56.896Z"
   },
   {
    "duration": 95,
    "start_time": "2024-02-22T11:27:01.769Z"
   },
   {
    "duration": 100,
    "start_time": "2024-02-22T11:28:11.813Z"
   },
   {
    "duration": 98,
    "start_time": "2024-02-22T11:28:15.759Z"
   },
   {
    "duration": 97,
    "start_time": "2024-02-22T11:28:27.976Z"
   },
   {
    "duration": 102,
    "start_time": "2024-02-22T11:28:33.496Z"
   },
   {
    "duration": 26,
    "start_time": "2024-02-22T11:28:36.882Z"
   },
   {
    "duration": 107,
    "start_time": "2024-02-22T11:29:01.128Z"
   },
   {
    "duration": 27,
    "start_time": "2024-02-22T11:29:16.287Z"
   },
   {
    "duration": 25,
    "start_time": "2024-02-22T11:29:21.630Z"
   },
   {
    "duration": 27,
    "start_time": "2024-02-22T11:29:27.253Z"
   },
   {
    "duration": 26,
    "start_time": "2024-02-22T11:29:50.094Z"
   },
   {
    "duration": 2,
    "start_time": "2024-02-22T11:32:07.226Z"
   },
   {
    "duration": 4,
    "start_time": "2024-02-22T11:37:28.039Z"
   },
   {
    "duration": 22,
    "start_time": "2024-02-22T11:37:56.597Z"
   },
   {
    "duration": 37,
    "start_time": "2024-02-22T12:47:21.494Z"
   },
   {
    "duration": 2,
    "start_time": "2024-02-22T12:47:35.559Z"
   },
   {
    "duration": 28,
    "start_time": "2024-02-22T12:48:14.244Z"
   },
   {
    "duration": 4,
    "start_time": "2024-02-22T13:57:46.903Z"
   },
   {
    "duration": 42,
    "start_time": "2024-02-22T15:42:56.305Z"
   },
   {
    "duration": 30,
    "start_time": "2024-02-22T15:43:10.003Z"
   },
   {
    "duration": 25,
    "start_time": "2024-02-22T15:43:13.352Z"
   },
   {
    "duration": 18,
    "start_time": "2024-02-22T16:00:38.607Z"
   },
   {
    "duration": 17,
    "start_time": "2024-02-22T16:16:50.938Z"
   },
   {
    "duration": 12,
    "start_time": "2024-02-22T16:16:55.235Z"
   },
   {
    "duration": 12,
    "start_time": "2024-02-22T16:17:13.885Z"
   },
   {
    "duration": 19,
    "start_time": "2024-02-22T16:22:09.187Z"
   },
   {
    "duration": 19,
    "start_time": "2024-02-22T16:23:38.616Z"
   },
   {
    "duration": 3,
    "start_time": "2024-02-22T16:23:47.321Z"
   },
   {
    "duration": 71,
    "start_time": "2024-02-22T16:24:49.110Z"
   },
   {
    "duration": 20,
    "start_time": "2024-02-22T16:24:56.310Z"
   },
   {
    "duration": 18,
    "start_time": "2024-02-22T16:25:23.014Z"
   },
   {
    "duration": 32,
    "start_time": "2024-02-22T16:25:37.411Z"
   },
   {
    "duration": 6,
    "start_time": "2024-02-22T16:26:46.191Z"
   },
   {
    "duration": 19,
    "start_time": "2024-02-22T16:27:05.723Z"
   },
   {
    "duration": 19,
    "start_time": "2024-02-22T16:27:13.595Z"
   },
   {
    "duration": 20,
    "start_time": "2024-02-22T16:28:27.400Z"
   },
   {
    "duration": 1530,
    "start_time": "2024-02-22T16:30:37.761Z"
   },
   {
    "duration": 4,
    "start_time": "2024-02-22T16:34:34.646Z"
   },
   {
    "duration": 3,
    "start_time": "2024-02-22T16:34:48.906Z"
   },
   {
    "duration": 3,
    "start_time": "2024-02-22T16:36:17.522Z"
   },
   {
    "duration": 82,
    "start_time": "2024-02-22T16:37:47.392Z"
   },
   {
    "duration": 36,
    "start_time": "2024-02-22T16:38:03.068Z"
   },
   {
    "duration": 30,
    "start_time": "2024-02-22T16:38:20.894Z"
   },
   {
    "duration": 28,
    "start_time": "2024-02-22T16:38:47.606Z"
   },
   {
    "duration": 34,
    "start_time": "2024-02-22T16:38:48.485Z"
   },
   {
    "duration": 94,
    "start_time": "2024-02-22T16:39:25.410Z"
   },
   {
    "duration": 37,
    "start_time": "2024-02-22T16:39:33.150Z"
   },
   {
    "duration": 5,
    "start_time": "2024-02-22T16:39:37.590Z"
   },
   {
    "duration": 29,
    "start_time": "2024-02-22T16:39:39.794Z"
   },
   {
    "duration": 2,
    "start_time": "2024-02-22T16:40:04.473Z"
   },
   {
    "duration": 2,
    "start_time": "2024-02-22T16:41:49.561Z"
   },
   {
    "duration": 16,
    "start_time": "2024-02-22T16:43:19.543Z"
   },
   {
    "duration": 10,
    "start_time": "2024-02-22T16:45:43.609Z"
   },
   {
    "duration": 8,
    "start_time": "2024-02-22T16:45:52.653Z"
   },
   {
    "duration": 14,
    "start_time": "2024-02-22T16:45:56.708Z"
   },
   {
    "duration": 9,
    "start_time": "2024-02-22T16:46:13.800Z"
   },
   {
    "duration": 6,
    "start_time": "2024-02-22T16:46:29.204Z"
   },
   {
    "duration": 20,
    "start_time": "2024-02-22T16:52:14.724Z"
   },
   {
    "duration": 17,
    "start_time": "2024-02-22T16:52:26.654Z"
   },
   {
    "duration": 15,
    "start_time": "2024-02-22T16:52:34.232Z"
   },
   {
    "duration": 47,
    "start_time": "2024-02-22T16:52:48.561Z"
   },
   {
    "duration": 27,
    "start_time": "2024-02-22T16:52:59.413Z"
   },
   {
    "duration": 7,
    "start_time": "2024-02-22T17:39:29.266Z"
   },
   {
    "duration": 12,
    "start_time": "2024-02-22T17:39:53.975Z"
   },
   {
    "duration": 62,
    "start_time": "2024-02-22T17:39:59.732Z"
   },
   {
    "duration": 7,
    "start_time": "2024-02-22T17:40:59.640Z"
   },
   {
    "duration": 57,
    "start_time": "2024-02-22T17:41:00.390Z"
   },
   {
    "duration": 3,
    "start_time": "2024-02-22T17:41:32.803Z"
   },
   {
    "duration": 3,
    "start_time": "2024-02-22T17:41:36.196Z"
   },
   {
    "duration": 6,
    "start_time": "2024-02-22T17:41:39.900Z"
   },
   {
    "duration": 47,
    "start_time": "2024-02-22T17:41:40.427Z"
   },
   {
    "duration": 47,
    "start_time": "2024-02-22T17:42:05.051Z"
   },
   {
    "duration": 48,
    "start_time": "2024-02-22T17:42:09.187Z"
   },
   {
    "duration": 15,
    "start_time": "2024-02-22T17:44:31.101Z"
   },
   {
    "duration": 18,
    "start_time": "2024-02-22T17:44:53.039Z"
   },
   {
    "duration": 3,
    "start_time": "2024-02-22T17:49:56.858Z"
   },
   {
    "duration": 4,
    "start_time": "2024-02-22T17:50:04.650Z"
   },
   {
    "duration": 35,
    "start_time": "2024-02-22T17:55:18.540Z"
   },
   {
    "duration": 26,
    "start_time": "2024-02-22T17:55:26.370Z"
   },
   {
    "duration": 24,
    "start_time": "2024-02-22T17:57:44.081Z"
   },
   {
    "duration": 5,
    "start_time": "2024-02-22T17:58:02.966Z"
   },
   {
    "duration": 4,
    "start_time": "2024-02-22T17:58:14.187Z"
   },
   {
    "duration": 4,
    "start_time": "2024-02-22T17:58:22.305Z"
   },
   {
    "duration": 24,
    "start_time": "2024-02-22T17:58:37.919Z"
   },
   {
    "duration": 23,
    "start_time": "2024-02-22T17:58:45.071Z"
   },
   {
    "duration": 22,
    "start_time": "2024-02-22T17:58:48.976Z"
   },
   {
    "duration": 8,
    "start_time": "2024-02-22T17:59:40.366Z"
   },
   {
    "duration": 14,
    "start_time": "2024-02-22T18:00:30.185Z"
   },
   {
    "duration": 8,
    "start_time": "2024-02-22T18:01:32.486Z"
   },
   {
    "duration": 33,
    "start_time": "2024-02-22T18:01:47.711Z"
   },
   {
    "duration": 2,
    "start_time": "2024-02-22T18:04:39.783Z"
   },
   {
    "duration": 2,
    "start_time": "2024-02-22T18:04:41.877Z"
   },
   {
    "duration": 3,
    "start_time": "2024-02-22T18:04:44.022Z"
   },
   {
    "duration": 3,
    "start_time": "2024-02-22T18:04:45.972Z"
   },
   {
    "duration": 2,
    "start_time": "2024-02-22T18:04:48.146Z"
   },
   {
    "duration": 3,
    "start_time": "2024-02-22T18:04:50.661Z"
   },
   {
    "duration": 79,
    "start_time": "2024-02-22T18:08:04.648Z"
   },
   {
    "duration": 21,
    "start_time": "2024-02-22T18:08:13.132Z"
   },
   {
    "duration": 18,
    "start_time": "2024-02-22T18:08:35.443Z"
   },
   {
    "duration": 31,
    "start_time": "2024-02-22T18:08:41.634Z"
   },
   {
    "duration": 106,
    "start_time": "2024-02-22T18:09:30.472Z"
   },
   {
    "duration": 27,
    "start_time": "2024-02-22T18:09:36.893Z"
   },
   {
    "duration": 14,
    "start_time": "2024-02-22T18:09:45.927Z"
   },
   {
    "duration": 104,
    "start_time": "2024-02-22T18:12:17.691Z"
   },
   {
    "duration": 61,
    "start_time": "2024-02-22T18:12:27.854Z"
   },
   {
    "duration": 62,
    "start_time": "2024-02-22T18:12:31.305Z"
   },
   {
    "duration": 65,
    "start_time": "2024-02-22T18:12:41.518Z"
   },
   {
    "duration": 32,
    "start_time": "2024-02-22T18:19:01.484Z"
   },
   {
    "duration": 31,
    "start_time": "2024-02-22T18:19:25.474Z"
   },
   {
    "duration": 14,
    "start_time": "2024-02-22T18:22:14.244Z"
   },
   {
    "duration": 13,
    "start_time": "2024-02-22T18:24:58.552Z"
   },
   {
    "duration": 1659,
    "start_time": "2024-02-22T18:25:45.820Z"
   },
   {
    "duration": 11,
    "start_time": "2024-02-22T18:25:54.545Z"
   },
   {
    "duration": 6,
    "start_time": "2024-02-22T18:28:11.608Z"
   },
   {
    "duration": 54,
    "start_time": "2024-02-22T18:28:27.785Z"
   },
   {
    "duration": 26,
    "start_time": "2024-02-22T18:30:32.018Z"
   },
   {
    "duration": 20,
    "start_time": "2024-02-22T18:31:36.719Z"
   },
   {
    "duration": 22,
    "start_time": "2024-02-22T18:32:17.308Z"
   },
   {
    "duration": 9,
    "start_time": "2024-02-22T18:32:21.657Z"
   },
   {
    "duration": 15,
    "start_time": "2024-02-22T18:32:24.038Z"
   },
   {
    "duration": 14,
    "start_time": "2024-02-22T18:32:42.298Z"
   },
   {
    "duration": 21,
    "start_time": "2024-02-22T18:32:55.100Z"
   },
   {
    "duration": 19,
    "start_time": "2024-02-22T18:33:01.221Z"
   },
   {
    "duration": 43,
    "start_time": "2024-02-22T18:33:12.711Z"
   },
   {
    "duration": 43,
    "start_time": "2024-02-22T18:33:25.630Z"
   },
   {
    "duration": 40,
    "start_time": "2024-02-22T18:33:33.599Z"
   },
   {
    "duration": 108,
    "start_time": "2024-02-22T18:37:22.347Z"
   },
   {
    "duration": 33,
    "start_time": "2024-02-22T18:37:26.382Z"
   },
   {
    "duration": 114,
    "start_time": "2024-02-22T18:38:24.933Z"
   },
   {
    "duration": 158,
    "start_time": "2024-02-22T18:38:29.809Z"
   },
   {
    "duration": 49,
    "start_time": "2024-02-22T18:38:45.395Z"
   },
   {
    "duration": 3,
    "start_time": "2024-02-22T18:42:52.969Z"
   },
   {
    "duration": 20,
    "start_time": "2024-02-22T18:43:10.224Z"
   },
   {
    "duration": 51,
    "start_time": "2024-02-22T18:43:16.187Z"
   },
   {
    "duration": 45,
    "start_time": "2024-02-22T18:43:38.762Z"
   },
   {
    "duration": 41,
    "start_time": "2024-02-22T18:43:39.032Z"
   },
   {
    "duration": 41,
    "start_time": "2024-02-22T18:43:39.299Z"
   },
   {
    "duration": 51,
    "start_time": "2024-02-22T18:45:15.852Z"
   },
   {
    "duration": 42,
    "start_time": "2024-02-22T18:45:16.060Z"
   },
   {
    "duration": 43,
    "start_time": "2024-02-22T18:45:16.253Z"
   },
   {
    "duration": 46,
    "start_time": "2024-02-22T18:45:16.436Z"
   },
   {
    "duration": 51,
    "start_time": "2024-02-22T18:46:08.297Z"
   },
   {
    "duration": 42,
    "start_time": "2024-02-22T18:46:08.985Z"
   },
   {
    "duration": 41,
    "start_time": "2024-02-22T18:46:11.266Z"
   },
   {
    "duration": 40,
    "start_time": "2024-02-22T18:46:13.262Z"
   },
   {
    "duration": 16,
    "start_time": "2024-02-22T18:48:20.657Z"
   },
   {
    "duration": 72,
    "start_time": "2024-02-22T18:49:38.618Z"
   },
   {
    "duration": 26,
    "start_time": "2024-02-22T18:52:58.818Z"
   },
   {
    "duration": 40,
    "start_time": "2024-02-22T18:54:51.816Z"
   },
   {
    "duration": 38,
    "start_time": "2024-02-22T18:55:09.046Z"
   },
   {
    "duration": 7,
    "start_time": "2024-02-22T18:55:57.397Z"
   },
   {
    "duration": 15,
    "start_time": "2024-02-22T18:56:21.832Z"
   },
   {
    "duration": 20,
    "start_time": "2024-02-22T18:57:19.068Z"
   },
   {
    "duration": 4,
    "start_time": "2024-02-22T18:57:39.356Z"
   },
   {
    "duration": 139,
    "start_time": "2024-02-22T19:02:30.068Z"
   },
   {
    "duration": 22,
    "start_time": "2024-02-22T19:02:35.353Z"
   },
   {
    "duration": 635,
    "start_time": "2024-02-22T19:03:22.066Z"
   },
   {
    "duration": 3,
    "start_time": "2024-02-22T19:03:37.830Z"
   },
   {
    "duration": 63,
    "start_time": "2024-02-22T19:03:47.333Z"
   },
   {
    "duration": 164,
    "start_time": "2024-02-22T19:03:53.166Z"
   },
   {
    "duration": 167,
    "start_time": "2024-02-22T19:04:21.482Z"
   },
   {
    "duration": 191,
    "start_time": "2024-02-22T19:04:48.443Z"
   },
   {
    "duration": 175,
    "start_time": "2024-02-22T19:05:00.385Z"
   },
   {
    "duration": 187,
    "start_time": "2024-02-22T19:05:22.059Z"
   },
   {
    "duration": 178,
    "start_time": "2024-02-22T19:05:33.753Z"
   },
   {
    "duration": 36,
    "start_time": "2024-02-22T19:13:59.742Z"
   },
   {
    "duration": 34,
    "start_time": "2024-02-22T19:14:39.052Z"
   },
   {
    "duration": 31,
    "start_time": "2024-02-22T19:14:50.707Z"
   },
   {
    "duration": 27,
    "start_time": "2024-02-22T19:14:55.287Z"
   },
   {
    "duration": 22,
    "start_time": "2024-02-22T19:21:02.216Z"
   },
   {
    "duration": 1056,
    "start_time": "2024-02-22T19:21:12.699Z"
   },
   {
    "duration": 288,
    "start_time": "2024-02-22T19:21:13.757Z"
   },
   {
    "duration": 4,
    "start_time": "2024-02-22T19:21:14.047Z"
   },
   {
    "duration": 100,
    "start_time": "2024-02-22T19:21:14.053Z"
   },
   {
    "duration": 26,
    "start_time": "2024-02-22T19:21:14.154Z"
   },
   {
    "duration": 352,
    "start_time": "2024-02-22T19:21:14.182Z"
   },
   {
    "duration": 50,
    "start_time": "2024-02-22T19:21:14.536Z"
   },
   {
    "duration": 118,
    "start_time": "2024-02-22T19:21:14.588Z"
   },
   {
    "duration": 233,
    "start_time": "2024-02-22T19:21:14.708Z"
   },
   {
    "duration": 130,
    "start_time": "2024-02-22T19:21:14.943Z"
   },
   {
    "duration": 106,
    "start_time": "2024-02-22T19:21:15.075Z"
   },
   {
    "duration": 19,
    "start_time": "2024-02-22T19:21:15.183Z"
   },
   {
    "duration": 47,
    "start_time": "2024-02-22T19:21:15.204Z"
   },
   {
    "duration": 69,
    "start_time": "2024-02-22T19:21:15.252Z"
   },
   {
    "duration": 7,
    "start_time": "2024-02-22T19:21:15.323Z"
   },
   {
    "duration": 51,
    "start_time": "2024-02-22T19:21:15.331Z"
   },
   {
    "duration": 22,
    "start_time": "2024-02-22T19:21:15.384Z"
   },
   {
    "duration": 25,
    "start_time": "2024-02-22T19:21:15.407Z"
   },
   {
    "duration": 18,
    "start_time": "2024-02-22T19:21:15.434Z"
   },
   {
    "duration": 33,
    "start_time": "2024-02-22T19:21:15.454Z"
   },
   {
    "duration": 42,
    "start_time": "2024-02-22T19:21:15.488Z"
   },
   {
    "duration": 324,
    "start_time": "2024-02-22T19:21:15.532Z"
   },
   {
    "duration": 7,
    "start_time": "2024-02-22T19:21:15.858Z"
   },
   {
    "duration": 20,
    "start_time": "2024-02-22T19:21:15.867Z"
   },
   {
    "duration": 3,
    "start_time": "2024-02-22T19:21:15.889Z"
   },
   {
    "duration": 28,
    "start_time": "2024-02-22T19:21:15.893Z"
   },
   {
    "duration": 119,
    "start_time": "2024-02-22T19:21:15.922Z"
   },
   {
    "duration": 79,
    "start_time": "2024-02-22T19:21:16.044Z"
   },
   {
    "duration": 9,
    "start_time": "2024-02-22T19:21:16.124Z"
   },
   {
    "duration": 12,
    "start_time": "2024-02-22T19:21:16.134Z"
   },
   {
    "duration": 24,
    "start_time": "2024-02-22T19:21:16.148Z"
   },
   {
    "duration": 10,
    "start_time": "2024-02-22T19:21:16.174Z"
   },
   {
    "duration": 11,
    "start_time": "2024-02-22T19:21:16.185Z"
   },
   {
    "duration": 28,
    "start_time": "2024-02-22T19:21:16.197Z"
   },
   {
    "duration": 27,
    "start_time": "2024-02-22T19:21:16.227Z"
   },
   {
    "duration": 138,
    "start_time": "2024-02-22T19:21:16.256Z"
   },
   {
    "duration": 0,
    "start_time": "2024-02-22T19:21:16.395Z"
   },
   {
    "duration": 0,
    "start_time": "2024-02-22T19:21:16.397Z"
   },
   {
    "duration": 0,
    "start_time": "2024-02-22T19:21:16.398Z"
   },
   {
    "duration": 0,
    "start_time": "2024-02-22T19:21:16.399Z"
   },
   {
    "duration": 0,
    "start_time": "2024-02-22T19:21:16.400Z"
   },
   {
    "duration": 0,
    "start_time": "2024-02-22T19:21:16.401Z"
   },
   {
    "duration": 0,
    "start_time": "2024-02-22T19:21:16.402Z"
   },
   {
    "duration": 0,
    "start_time": "2024-02-22T19:21:16.403Z"
   },
   {
    "duration": 0,
    "start_time": "2024-02-22T19:21:16.404Z"
   },
   {
    "duration": 34,
    "start_time": "2024-02-22T19:21:28.698Z"
   },
   {
    "duration": 6,
    "start_time": "2024-02-22T19:21:34.474Z"
   },
   {
    "duration": 1037,
    "start_time": "2024-02-22T19:21:39.228Z"
   },
   {
    "duration": 287,
    "start_time": "2024-02-22T19:21:40.267Z"
   },
   {
    "duration": 3,
    "start_time": "2024-02-22T19:21:40.556Z"
   },
   {
    "duration": 131,
    "start_time": "2024-02-22T19:21:40.562Z"
   },
   {
    "duration": 10,
    "start_time": "2024-02-22T19:21:40.695Z"
   },
   {
    "duration": 369,
    "start_time": "2024-02-22T19:21:40.707Z"
   },
   {
    "duration": 44,
    "start_time": "2024-02-22T19:21:41.079Z"
   },
   {
    "duration": 133,
    "start_time": "2024-02-22T19:21:41.124Z"
   },
   {
    "duration": 247,
    "start_time": "2024-02-22T19:21:41.258Z"
   },
   {
    "duration": 132,
    "start_time": "2024-02-22T19:21:41.508Z"
   },
   {
    "duration": 106,
    "start_time": "2024-02-22T19:21:41.643Z"
   },
   {
    "duration": 19,
    "start_time": "2024-02-22T19:21:41.751Z"
   },
   {
    "duration": 31,
    "start_time": "2024-02-22T19:21:41.780Z"
   },
   {
    "duration": 54,
    "start_time": "2024-02-22T19:21:41.813Z"
   },
   {
    "duration": 7,
    "start_time": "2024-02-22T19:21:41.879Z"
   },
   {
    "duration": 50,
    "start_time": "2024-02-22T19:21:41.887Z"
   },
   {
    "duration": 42,
    "start_time": "2024-02-22T19:21:41.939Z"
   },
   {
    "duration": 25,
    "start_time": "2024-02-22T19:21:41.983Z"
   },
   {
    "duration": 24,
    "start_time": "2024-02-22T19:21:42.010Z"
   },
   {
    "duration": 8,
    "start_time": "2024-02-22T19:21:42.036Z"
   },
   {
    "duration": 84,
    "start_time": "2024-02-22T19:21:42.046Z"
   },
   {
    "duration": 348,
    "start_time": "2024-02-22T19:21:42.132Z"
   },
   {
    "duration": 7,
    "start_time": "2024-02-22T19:21:42.482Z"
   },
   {
    "duration": 12,
    "start_time": "2024-02-22T19:21:42.491Z"
   },
   {
    "duration": 2,
    "start_time": "2024-02-22T19:21:42.505Z"
   },
   {
    "duration": 29,
    "start_time": "2024-02-22T19:21:42.508Z"
   },
   {
    "duration": 126,
    "start_time": "2024-02-22T19:21:42.538Z"
   },
   {
    "duration": 70,
    "start_time": "2024-02-22T19:21:42.668Z"
   },
   {
    "duration": 9,
    "start_time": "2024-02-22T19:21:42.740Z"
   },
   {
    "duration": 15,
    "start_time": "2024-02-22T19:21:42.751Z"
   },
   {
    "duration": 22,
    "start_time": "2024-02-22T19:21:42.768Z"
   },
   {
    "duration": 10,
    "start_time": "2024-02-22T19:21:42.792Z"
   },
   {
    "duration": 14,
    "start_time": "2024-02-22T19:21:42.803Z"
   },
   {
    "duration": 27,
    "start_time": "2024-02-22T19:21:42.819Z"
   },
   {
    "duration": 36,
    "start_time": "2024-02-22T19:21:42.848Z"
   },
   {
    "duration": 29,
    "start_time": "2024-02-22T19:21:42.885Z"
   },
   {
    "duration": 32,
    "start_time": "2024-02-22T19:21:42.916Z"
   },
   {
    "duration": 73,
    "start_time": "2024-02-22T19:21:42.950Z"
   },
   {
    "duration": 17,
    "start_time": "2024-02-22T19:21:43.024Z"
   },
   {
    "duration": 5,
    "start_time": "2024-02-22T19:21:43.043Z"
   },
   {
    "duration": 198,
    "start_time": "2024-02-22T19:21:43.049Z"
   },
   {
    "duration": 213,
    "start_time": "2024-02-22T19:21:43.249Z"
   },
   {
    "duration": 208,
    "start_time": "2024-02-22T19:21:43.463Z"
   },
   {
    "duration": 20,
    "start_time": "2024-02-22T19:21:43.680Z"
   },
   {
    "duration": 138,
    "start_time": "2024-02-22T19:21:43.702Z"
   },
   {
    "duration": 40,
    "start_time": "2024-02-22T19:21:55.574Z"
   },
   {
    "duration": 3,
    "start_time": "2024-02-22T19:24:52.294Z"
   },
   {
    "duration": 8,
    "start_time": "2024-02-22T19:25:01.916Z"
   },
   {
    "duration": 3,
    "start_time": "2024-02-22T19:25:35.691Z"
   },
   {
    "duration": 15,
    "start_time": "2024-02-22T19:30:27.593Z"
   },
   {
    "duration": 202,
    "start_time": "2024-02-22T19:37:52.944Z"
   },
   {
    "duration": 216,
    "start_time": "2024-02-22T19:38:04.717Z"
   },
   {
    "duration": 210,
    "start_time": "2024-02-22T19:38:10.417Z"
   },
   {
    "duration": 5,
    "start_time": "2024-02-22T19:39:19.214Z"
   },
   {
    "duration": 6,
    "start_time": "2024-02-22T19:39:22.160Z"
   },
   {
    "duration": 9418,
    "start_time": "2024-02-22T19:41:27.911Z"
   },
   {
    "duration": 45,
    "start_time": "2024-02-22T19:41:47.858Z"
   },
   {
    "duration": 15,
    "start_time": "2024-02-22T19:42:08.133Z"
   },
   {
    "duration": 7,
    "start_time": "2024-02-22T19:44:10.651Z"
   },
   {
    "duration": 1276,
    "start_time": "2024-02-22T19:44:26.239Z"
   },
   {
    "duration": 215,
    "start_time": "2024-02-22T19:46:11.909Z"
   },
   {
    "duration": 209,
    "start_time": "2024-02-22T19:46:17.423Z"
   },
   {
    "duration": 221,
    "start_time": "2024-02-22T19:46:26.781Z"
   },
   {
    "duration": 145,
    "start_time": "2024-02-22T19:47:01.663Z"
   },
   {
    "duration": 49,
    "start_time": "2024-02-22T19:47:05.762Z"
   },
   {
    "duration": 27,
    "start_time": "2024-02-22T19:48:20.095Z"
   },
   {
    "duration": 26,
    "start_time": "2024-02-22T19:48:24.182Z"
   },
   {
    "duration": 80,
    "start_time": "2024-02-22T19:49:38.826Z"
   },
   {
    "duration": 88,
    "start_time": "2024-02-22T19:49:57.660Z"
   },
   {
    "duration": 76,
    "start_time": "2024-02-22T19:50:17.916Z"
   },
   {
    "duration": 15,
    "start_time": "2024-02-22T19:52:07.855Z"
   },
   {
    "duration": 15,
    "start_time": "2024-02-22T19:52:17.951Z"
   },
   {
    "duration": 19,
    "start_time": "2024-02-22T19:52:46.314Z"
   },
   {
    "duration": 27,
    "start_time": "2024-02-22T19:52:50.481Z"
   },
   {
    "duration": 16,
    "start_time": "2024-02-22T19:53:15.491Z"
   },
   {
    "duration": 11,
    "start_time": "2024-02-22T19:53:38.860Z"
   },
   {
    "duration": 6,
    "start_time": "2024-02-22T19:53:47.618Z"
   },
   {
    "duration": 5,
    "start_time": "2024-02-22T19:54:01.827Z"
   },
   {
    "duration": 93,
    "start_time": "2024-02-22T19:54:18.288Z"
   },
   {
    "duration": 13,
    "start_time": "2024-02-22T19:54:29.734Z"
   },
   {
    "duration": 41,
    "start_time": "2024-02-22T19:54:38.796Z"
   },
   {
    "duration": 12,
    "start_time": "2024-02-22T19:54:39.663Z"
   },
   {
    "duration": 5,
    "start_time": "2024-02-22T19:54:46.617Z"
   },
   {
    "duration": 5,
    "start_time": "2024-02-22T19:55:21.978Z"
   },
   {
    "duration": 10,
    "start_time": "2024-02-22T19:55:39.761Z"
   },
   {
    "duration": 11,
    "start_time": "2024-02-22T19:55:46.608Z"
   },
   {
    "duration": 1093,
    "start_time": "2024-02-22T19:56:03.974Z"
   },
   {
    "duration": 274,
    "start_time": "2024-02-22T19:56:05.069Z"
   },
   {
    "duration": 4,
    "start_time": "2024-02-22T19:56:05.345Z"
   },
   {
    "duration": 107,
    "start_time": "2024-02-22T19:56:05.351Z"
   },
   {
    "duration": 25,
    "start_time": "2024-02-22T19:56:05.460Z"
   },
   {
    "duration": 364,
    "start_time": "2024-02-22T19:56:05.486Z"
   },
   {
    "duration": 46,
    "start_time": "2024-02-22T19:56:05.852Z"
   },
   {
    "duration": 126,
    "start_time": "2024-02-22T19:56:05.899Z"
   },
   {
    "duration": 246,
    "start_time": "2024-02-22T19:56:06.027Z"
   },
   {
    "duration": 125,
    "start_time": "2024-02-22T19:56:06.275Z"
   },
   {
    "duration": 95,
    "start_time": "2024-02-22T19:56:06.402Z"
   },
   {
    "duration": 21,
    "start_time": "2024-02-22T19:56:06.499Z"
   },
   {
    "duration": 31,
    "start_time": "2024-02-22T19:56:06.522Z"
   },
   {
    "duration": 49,
    "start_time": "2024-02-22T19:56:06.581Z"
   },
   {
    "duration": 7,
    "start_time": "2024-02-22T19:56:06.632Z"
   },
   {
    "duration": 59,
    "start_time": "2024-02-22T19:56:06.640Z"
   },
   {
    "duration": 30,
    "start_time": "2024-02-22T19:56:06.701Z"
   },
   {
    "duration": 26,
    "start_time": "2024-02-22T19:56:06.733Z"
   },
   {
    "duration": 23,
    "start_time": "2024-02-22T19:56:06.781Z"
   },
   {
    "duration": 8,
    "start_time": "2024-02-22T19:56:06.806Z"
   },
   {
    "duration": 66,
    "start_time": "2024-02-22T19:56:06.816Z"
   },
   {
    "duration": 331,
    "start_time": "2024-02-22T19:56:06.884Z"
   },
   {
    "duration": 8,
    "start_time": "2024-02-22T19:56:07.217Z"
   },
   {
    "duration": 12,
    "start_time": "2024-02-22T19:56:07.226Z"
   },
   {
    "duration": 48,
    "start_time": "2024-02-22T19:56:07.240Z"
   },
   {
    "duration": 106,
    "start_time": "2024-02-22T19:56:07.291Z"
   },
   {
    "duration": 67,
    "start_time": "2024-02-22T19:56:07.399Z"
   },
   {
    "duration": 10,
    "start_time": "2024-02-22T19:56:07.479Z"
   },
   {
    "duration": 4,
    "start_time": "2024-02-22T19:56:07.490Z"
   },
   {
    "duration": 25,
    "start_time": "2024-02-22T19:56:07.495Z"
   },
   {
    "duration": 11,
    "start_time": "2024-02-22T19:56:07.521Z"
   },
   {
    "duration": 8,
    "start_time": "2024-02-22T19:56:07.533Z"
   },
   {
    "duration": 42,
    "start_time": "2024-02-22T19:56:07.542Z"
   },
   {
    "duration": 30,
    "start_time": "2024-02-22T19:56:07.585Z"
   },
   {
    "duration": 32,
    "start_time": "2024-02-22T19:56:07.617Z"
   },
   {
    "duration": 56,
    "start_time": "2024-02-22T19:56:07.651Z"
   },
   {
    "duration": 50,
    "start_time": "2024-02-22T19:56:07.709Z"
   },
   {
    "duration": 21,
    "start_time": "2024-02-22T19:56:07.761Z"
   },
   {
    "duration": 225,
    "start_time": "2024-02-22T19:56:07.783Z"
   },
   {
    "duration": 219,
    "start_time": "2024-02-22T19:56:08.010Z"
   },
   {
    "duration": 229,
    "start_time": "2024-02-22T19:56:08.233Z"
   },
   {
    "duration": 34,
    "start_time": "2024-02-22T19:56:08.463Z"
   },
   {
    "duration": 7,
    "start_time": "2024-02-22T19:56:08.499Z"
   },
   {
    "duration": 15,
    "start_time": "2024-02-22T19:56:08.507Z"
   },
   {
    "duration": 9,
    "start_time": "2024-02-22T19:56:08.524Z"
   },
   {
    "duration": 66,
    "start_time": "2024-02-22T19:56:08.535Z"
   },
   {
    "duration": 4,
    "start_time": "2024-02-22T19:57:07.585Z"
   },
   {
    "duration": 1351,
    "start_time": "2024-02-23T11:46:36.350Z"
   },
   {
    "duration": 794,
    "start_time": "2024-02-23T11:46:37.703Z"
   },
   {
    "duration": 4,
    "start_time": "2024-02-23T11:46:38.498Z"
   },
   {
    "duration": 120,
    "start_time": "2024-02-23T11:46:38.504Z"
   },
   {
    "duration": 10,
    "start_time": "2024-02-23T11:46:38.626Z"
   },
   {
    "duration": 366,
    "start_time": "2024-02-23T11:46:38.637Z"
   },
   {
    "duration": 42,
    "start_time": "2024-02-23T11:46:39.005Z"
   },
   {
    "duration": 166,
    "start_time": "2024-02-23T11:46:39.048Z"
   },
   {
    "duration": 249,
    "start_time": "2024-02-23T11:46:39.216Z"
   },
   {
    "duration": 123,
    "start_time": "2024-02-23T11:46:39.466Z"
   },
   {
    "duration": 100,
    "start_time": "2024-02-23T11:46:39.590Z"
   },
   {
    "duration": 18,
    "start_time": "2024-02-23T11:46:39.692Z"
   },
   {
    "duration": 28,
    "start_time": "2024-02-23T11:46:39.712Z"
   },
   {
    "duration": 67,
    "start_time": "2024-02-23T11:46:39.743Z"
   },
   {
    "duration": 7,
    "start_time": "2024-02-23T11:46:39.812Z"
   },
   {
    "duration": 60,
    "start_time": "2024-02-23T11:46:39.820Z"
   },
   {
    "duration": 24,
    "start_time": "2024-02-23T11:46:39.881Z"
   },
   {
    "duration": 26,
    "start_time": "2024-02-23T11:46:39.907Z"
   },
   {
    "duration": 42,
    "start_time": "2024-02-23T11:46:39.935Z"
   },
   {
    "duration": 8,
    "start_time": "2024-02-23T11:46:39.979Z"
   },
   {
    "duration": 39,
    "start_time": "2024-02-23T11:46:39.988Z"
   },
   {
    "duration": 379,
    "start_time": "2024-02-23T11:46:40.029Z"
   },
   {
    "duration": 9,
    "start_time": "2024-02-23T11:46:40.410Z"
   },
   {
    "duration": 26,
    "start_time": "2024-02-23T11:46:40.421Z"
   },
   {
    "duration": 56,
    "start_time": "2024-02-23T11:46:40.449Z"
   },
   {
    "duration": 129,
    "start_time": "2024-02-23T11:46:40.507Z"
   },
   {
    "duration": 84,
    "start_time": "2024-02-23T11:46:40.637Z"
   },
   {
    "duration": 9,
    "start_time": "2024-02-23T11:46:40.722Z"
   },
   {
    "duration": 10,
    "start_time": "2024-02-23T11:46:40.732Z"
   },
   {
    "duration": 44,
    "start_time": "2024-02-23T11:46:40.744Z"
   },
   {
    "duration": 36,
    "start_time": "2024-02-23T11:46:40.789Z"
   },
   {
    "duration": 23,
    "start_time": "2024-02-23T11:46:40.827Z"
   },
   {
    "duration": 30,
    "start_time": "2024-02-23T11:46:40.851Z"
   },
   {
    "duration": 29,
    "start_time": "2024-02-23T11:46:40.882Z"
   },
   {
    "duration": 33,
    "start_time": "2024-02-23T11:46:40.913Z"
   },
   {
    "duration": 56,
    "start_time": "2024-02-23T11:46:40.948Z"
   },
   {
    "duration": 52,
    "start_time": "2024-02-23T11:46:41.006Z"
   },
   {
    "duration": 7,
    "start_time": "2024-02-23T11:46:41.072Z"
   },
   {
    "duration": 230,
    "start_time": "2024-02-23T11:46:41.081Z"
   },
   {
    "duration": 222,
    "start_time": "2024-02-23T11:46:41.313Z"
   },
   {
    "duration": 220,
    "start_time": "2024-02-23T11:46:41.539Z"
   },
   {
    "duration": 21,
    "start_time": "2024-02-23T11:46:41.773Z"
   },
   {
    "duration": 4,
    "start_time": "2024-02-23T11:46:41.796Z"
   },
   {
    "duration": 24,
    "start_time": "2024-02-23T11:46:41.801Z"
   },
   {
    "duration": 5,
    "start_time": "2024-02-23T11:46:41.827Z"
   },
   {
    "duration": 63,
    "start_time": "2024-02-23T11:46:41.833Z"
   },
   {
    "duration": 6,
    "start_time": "2024-02-23T12:12:43.993Z"
   },
   {
    "duration": 6,
    "start_time": "2024-02-23T12:12:53.272Z"
   },
   {
    "duration": 166,
    "start_time": "2024-02-23T12:13:19.901Z"
   },
   {
    "duration": 6,
    "start_time": "2024-02-23T12:13:34.320Z"
   },
   {
    "duration": 190,
    "start_time": "2024-02-23T12:13:34.927Z"
   },
   {
    "duration": 6,
    "start_time": "2024-02-23T12:15:09.250Z"
   },
   {
    "duration": 1207,
    "start_time": "2024-02-23T12:19:38.247Z"
   },
   {
    "duration": 218,
    "start_time": "2024-02-23T12:19:39.456Z"
   },
   {
    "duration": 4,
    "start_time": "2024-02-23T12:19:39.676Z"
   },
   {
    "duration": 110,
    "start_time": "2024-02-23T12:19:39.681Z"
   },
   {
    "duration": 10,
    "start_time": "2024-02-23T12:19:39.793Z"
   },
   {
    "duration": 384,
    "start_time": "2024-02-23T12:19:39.805Z"
   },
   {
    "duration": 41,
    "start_time": "2024-02-23T12:19:40.191Z"
   },
   {
    "duration": 138,
    "start_time": "2024-02-23T12:19:40.234Z"
   },
   {
    "duration": 236,
    "start_time": "2024-02-23T12:19:40.373Z"
   },
   {
    "duration": 129,
    "start_time": "2024-02-23T12:19:40.611Z"
   },
   {
    "duration": 100,
    "start_time": "2024-02-23T12:19:40.742Z"
   },
   {
    "duration": 32,
    "start_time": "2024-02-23T12:19:40.843Z"
   },
   {
    "duration": 27,
    "start_time": "2024-02-23T12:19:40.877Z"
   },
   {
    "duration": 58,
    "start_time": "2024-02-23T12:19:40.907Z"
   },
   {
    "duration": 7,
    "start_time": "2024-02-23T12:19:40.973Z"
   },
   {
    "duration": 43,
    "start_time": "2024-02-23T12:19:40.981Z"
   },
   {
    "duration": 22,
    "start_time": "2024-02-23T12:19:41.026Z"
   },
   {
    "duration": 60,
    "start_time": "2024-02-23T12:19:41.050Z"
   },
   {
    "duration": 16,
    "start_time": "2024-02-23T12:19:41.111Z"
   },
   {
    "duration": 7,
    "start_time": "2024-02-23T12:19:41.129Z"
   },
   {
    "duration": 82,
    "start_time": "2024-02-23T12:19:41.138Z"
   },
   {
    "duration": 344,
    "start_time": "2024-02-23T12:19:41.222Z"
   },
   {
    "duration": 10,
    "start_time": "2024-02-23T12:19:41.568Z"
   },
   {
    "duration": 13,
    "start_time": "2024-02-23T12:19:41.580Z"
   },
   {
    "duration": 26,
    "start_time": "2024-02-23T12:19:41.595Z"
   },
   {
    "duration": 134,
    "start_time": "2024-02-23T12:19:41.623Z"
   },
   {
    "duration": 74,
    "start_time": "2024-02-23T12:19:41.758Z"
   },
   {
    "duration": 10,
    "start_time": "2024-02-23T12:19:41.834Z"
   },
   {
    "duration": 9,
    "start_time": "2024-02-23T12:19:41.846Z"
   },
   {
    "duration": 20,
    "start_time": "2024-02-23T12:19:41.873Z"
   },
   {
    "duration": 12,
    "start_time": "2024-02-23T12:19:41.894Z"
   },
   {
    "duration": 4,
    "start_time": "2024-02-23T12:19:41.907Z"
   },
   {
    "duration": 26,
    "start_time": "2024-02-23T12:19:41.912Z"
   },
   {
    "duration": 59,
    "start_time": "2024-02-23T12:19:41.940Z"
   },
   {
    "duration": 29,
    "start_time": "2024-02-23T12:19:42.001Z"
   },
   {
    "duration": 56,
    "start_time": "2024-02-23T12:19:42.032Z"
   },
   {
    "duration": 49,
    "start_time": "2024-02-23T12:19:42.090Z"
   },
   {
    "duration": 6,
    "start_time": "2024-02-23T12:19:42.140Z"
   },
   {
    "duration": 234,
    "start_time": "2024-02-23T12:19:42.147Z"
   },
   {
    "duration": 229,
    "start_time": "2024-02-23T12:19:42.382Z"
   },
   {
    "duration": 225,
    "start_time": "2024-02-23T12:19:42.614Z"
   },
   {
    "duration": 6,
    "start_time": "2024-02-23T12:19:42.840Z"
   },
   {
    "duration": 227,
    "start_time": "2024-02-23T12:19:42.848Z"
   },
   {
    "duration": 4,
    "start_time": "2024-02-23T12:20:01.754Z"
   },
   {
    "duration": 117,
    "start_time": "2024-02-23T12:20:04.283Z"
   },
   {
    "duration": 3,
    "start_time": "2024-02-23T12:20:15.968Z"
   },
   {
    "duration": 42,
    "start_time": "2024-02-23T12:20:16.422Z"
   },
   {
    "duration": 4,
    "start_time": "2024-02-23T12:20:22.275Z"
   },
   {
    "duration": 96,
    "start_time": "2024-02-23T12:20:22.496Z"
   },
   {
    "duration": 204,
    "start_time": "2024-02-23T12:21:36.995Z"
   },
   {
    "duration": 198,
    "start_time": "2024-02-23T12:21:58.362Z"
   },
   {
    "duration": 168,
    "start_time": "2024-02-23T12:24:59.842Z"
   },
   {
    "duration": 167,
    "start_time": "2024-02-23T12:25:44.641Z"
   },
   {
    "duration": 161,
    "start_time": "2024-02-23T12:26:01.740Z"
   },
   {
    "duration": 186,
    "start_time": "2024-02-23T12:26:35.875Z"
   },
   {
    "duration": 181,
    "start_time": "2024-02-23T12:27:42.023Z"
   },
   {
    "duration": 255,
    "start_time": "2024-02-23T12:28:34.978Z"
   },
   {
    "duration": 178,
    "start_time": "2024-02-23T12:28:50.884Z"
   },
   {
    "duration": 176,
    "start_time": "2024-02-23T12:29:54.238Z"
   },
   {
    "duration": 175,
    "start_time": "2024-02-23T12:30:07.410Z"
   },
   {
    "duration": 182,
    "start_time": "2024-02-23T12:30:23.797Z"
   },
   {
    "duration": 167,
    "start_time": "2024-02-23T12:31:02.022Z"
   },
   {
    "duration": 12,
    "start_time": "2024-02-23T12:33:16.625Z"
   },
   {
    "duration": 183,
    "start_time": "2024-02-23T12:33:32.768Z"
   },
   {
    "duration": 51,
    "start_time": "2024-02-23T12:39:37.520Z"
   },
   {
    "duration": 16,
    "start_time": "2024-02-23T12:49:36.287Z"
   },
   {
    "duration": 10,
    "start_time": "2024-02-23T12:50:17.960Z"
   },
   {
    "duration": 13,
    "start_time": "2024-02-23T12:50:43.775Z"
   },
   {
    "duration": 8,
    "start_time": "2024-02-23T12:50:59.690Z"
   },
   {
    "duration": 18,
    "start_time": "2024-02-23T12:51:08.166Z"
   },
   {
    "duration": 14,
    "start_time": "2024-02-23T12:51:16.686Z"
   },
   {
    "duration": 42,
    "start_time": "2024-02-23T12:51:25.190Z"
   },
   {
    "duration": 9,
    "start_time": "2024-02-23T12:51:28.105Z"
   },
   {
    "duration": 11,
    "start_time": "2024-02-23T12:51:37.231Z"
   },
   {
    "duration": 4,
    "start_time": "2024-02-23T12:51:51.368Z"
   },
   {
    "duration": 11,
    "start_time": "2024-02-23T12:52:05.493Z"
   },
   {
    "duration": 1652,
    "start_time": "2024-02-24T05:48:12.143Z"
   },
   {
    "duration": 849,
    "start_time": "2024-02-24T05:48:13.797Z"
   },
   {
    "duration": 4,
    "start_time": "2024-02-24T05:48:14.647Z"
   },
   {
    "duration": 84,
    "start_time": "2024-02-24T05:48:14.652Z"
   },
   {
    "duration": 6,
    "start_time": "2024-02-24T05:48:14.738Z"
   },
   {
    "duration": 380,
    "start_time": "2024-02-24T05:48:14.746Z"
   },
   {
    "duration": 46,
    "start_time": "2024-02-24T05:48:15.128Z"
   },
   {
    "duration": 139,
    "start_time": "2024-02-24T05:48:15.177Z"
   },
   {
    "duration": 255,
    "start_time": "2024-02-24T05:48:15.318Z"
   },
   {
    "duration": 124,
    "start_time": "2024-02-24T05:48:15.574Z"
   },
   {
    "duration": 111,
    "start_time": "2024-02-24T05:48:15.699Z"
   },
   {
    "duration": 19,
    "start_time": "2024-02-24T05:48:15.812Z"
   },
   {
    "duration": 41,
    "start_time": "2024-02-24T05:48:15.833Z"
   },
   {
    "duration": 234,
    "start_time": "2024-02-24T05:48:15.876Z"
   },
   {
    "duration": 49,
    "start_time": "2024-02-24T05:48:16.112Z"
   },
   {
    "duration": 15,
    "start_time": "2024-02-24T05:48:16.163Z"
   },
   {
    "duration": 41,
    "start_time": "2024-02-24T05:48:16.180Z"
   },
   {
    "duration": 23,
    "start_time": "2024-02-24T05:48:16.223Z"
   },
   {
    "duration": 50,
    "start_time": "2024-02-24T05:48:16.248Z"
   },
   {
    "duration": 17,
    "start_time": "2024-02-24T05:48:16.299Z"
   },
   {
    "duration": 6,
    "start_time": "2024-02-24T05:48:16.318Z"
   },
   {
    "duration": 68,
    "start_time": "2024-02-24T05:48:16.325Z"
   },
   {
    "duration": 331,
    "start_time": "2024-02-24T05:48:16.394Z"
   },
   {
    "duration": 7,
    "start_time": "2024-02-24T05:48:16.727Z"
   },
   {
    "duration": 12,
    "start_time": "2024-02-24T05:48:16.735Z"
   },
   {
    "duration": 42,
    "start_time": "2024-02-24T05:48:16.749Z"
   },
   {
    "duration": 110,
    "start_time": "2024-02-24T05:48:16.793Z"
   },
   {
    "duration": 83,
    "start_time": "2024-02-24T05:48:16.905Z"
   },
   {
    "duration": 9,
    "start_time": "2024-02-24T05:48:16.990Z"
   },
   {
    "duration": 205,
    "start_time": "2024-02-24T05:48:17.000Z"
   },
   {
    "duration": 4,
    "start_time": "2024-02-24T05:48:17.206Z"
   },
   {
    "duration": 21,
    "start_time": "2024-02-24T05:48:17.211Z"
   },
   {
    "duration": 11,
    "start_time": "2024-02-24T05:48:17.234Z"
   },
   {
    "duration": 199,
    "start_time": "2024-02-24T05:48:17.246Z"
   },
   {
    "duration": 9,
    "start_time": "2024-02-24T05:48:17.446Z"
   },
   {
    "duration": 38,
    "start_time": "2024-02-24T05:48:17.456Z"
   },
   {
    "duration": 28,
    "start_time": "2024-02-24T05:48:17.496Z"
   },
   {
    "duration": 30,
    "start_time": "2024-02-24T05:48:17.525Z"
   },
   {
    "duration": 33,
    "start_time": "2024-02-24T05:48:17.573Z"
   },
   {
    "duration": 69,
    "start_time": "2024-02-24T05:48:17.608Z"
   },
   {
    "duration": 6,
    "start_time": "2024-02-24T05:48:17.683Z"
   },
   {
    "duration": 234,
    "start_time": "2024-02-24T05:48:17.691Z"
   },
   {
    "duration": 232,
    "start_time": "2024-02-24T05:48:17.927Z"
   },
   {
    "duration": 248,
    "start_time": "2024-02-24T05:48:18.161Z"
   },
   {
    "duration": 7,
    "start_time": "2024-02-24T05:48:18.410Z"
   },
   {
    "duration": 233,
    "start_time": "2024-02-24T05:48:18.419Z"
   },
   {
    "duration": 15,
    "start_time": "2024-02-24T05:49:02.435Z"
   },
   {
    "duration": 42,
    "start_time": "2024-02-24T05:49:30.363Z"
   },
   {
    "duration": 101,
    "start_time": "2024-02-24T05:50:02.416Z"
   },
   {
    "duration": 35,
    "start_time": "2024-02-24T05:50:06.191Z"
   },
   {
    "duration": 8,
    "start_time": "2024-02-24T05:50:06.439Z"
   },
   {
    "duration": 9,
    "start_time": "2024-02-24T05:50:18.752Z"
   },
   {
    "duration": 9,
    "start_time": "2024-02-24T05:50:20.329Z"
   },
   {
    "duration": 6,
    "start_time": "2024-02-24T05:50:25.212Z"
   },
   {
    "duration": 7,
    "start_time": "2024-02-24T05:50:29.678Z"
   },
   {
    "duration": 8,
    "start_time": "2024-02-24T05:50:41.334Z"
   },
   {
    "duration": 5,
    "start_time": "2024-02-24T05:51:34.501Z"
   },
   {
    "duration": 40,
    "start_time": "2024-02-24T05:52:15.570Z"
   },
   {
    "duration": 35,
    "start_time": "2024-02-24T05:52:17.976Z"
   },
   {
    "duration": 42,
    "start_time": "2024-02-24T05:52:29.777Z"
   },
   {
    "duration": 41,
    "start_time": "2024-02-24T05:52:41.966Z"
   },
   {
    "duration": 39,
    "start_time": "2024-02-24T05:52:47.645Z"
   },
   {
    "duration": 41,
    "start_time": "2024-02-24T05:53:27.729Z"
   },
   {
    "duration": 49,
    "start_time": "2024-02-24T05:53:34.659Z"
   },
   {
    "duration": 52,
    "start_time": "2024-02-24T05:53:37.136Z"
   },
   {
    "duration": 45,
    "start_time": "2024-02-24T05:53:41.979Z"
   },
   {
    "duration": 108,
    "start_time": "2024-02-24T05:54:48.779Z"
   },
   {
    "duration": 102,
    "start_time": "2024-02-24T05:54:53.527Z"
   },
   {
    "duration": 12,
    "start_time": "2024-02-24T05:54:59.437Z"
   },
   {
    "duration": 14,
    "start_time": "2024-02-24T05:55:05.208Z"
   },
   {
    "duration": 13,
    "start_time": "2024-02-24T05:55:31.126Z"
   },
   {
    "duration": 16,
    "start_time": "2024-02-24T05:55:34.822Z"
   },
   {
    "duration": 82,
    "start_time": "2024-02-24T05:56:08.908Z"
   },
   {
    "duration": 10,
    "start_time": "2024-02-24T05:56:26.808Z"
   },
   {
    "duration": 12,
    "start_time": "2024-02-24T05:56:32.058Z"
   },
   {
    "duration": 13,
    "start_time": "2024-02-24T05:59:57.635Z"
   },
   {
    "duration": 10,
    "start_time": "2024-02-24T06:00:04.710Z"
   },
   {
    "duration": 13,
    "start_time": "2024-02-24T06:00:51.858Z"
   },
   {
    "duration": 22,
    "start_time": "2024-02-24T06:01:43.605Z"
   },
   {
    "duration": 25,
    "start_time": "2024-02-24T06:02:24.637Z"
   },
   {
    "duration": 26,
    "start_time": "2024-02-24T06:03:08.887Z"
   },
   {
    "duration": 21,
    "start_time": "2024-02-24T06:03:38.426Z"
   },
   {
    "duration": 11,
    "start_time": "2024-02-24T06:03:54.115Z"
   },
   {
    "duration": 25,
    "start_time": "2024-02-24T06:04:17.412Z"
   },
   {
    "duration": 23,
    "start_time": "2024-02-24T06:04:37.546Z"
   },
   {
    "duration": 151,
    "start_time": "2024-02-24T06:05:13.406Z"
   },
   {
    "duration": 16,
    "start_time": "2024-02-24T06:06:16.497Z"
   },
   {
    "duration": 6,
    "start_time": "2024-02-24T06:06:46.954Z"
   },
   {
    "duration": 4,
    "start_time": "2024-02-24T06:06:51.827Z"
   },
   {
    "duration": 4,
    "start_time": "2024-02-24T06:07:03.147Z"
   },
   {
    "duration": 6,
    "start_time": "2024-02-24T06:07:35.714Z"
   },
   {
    "duration": 114,
    "start_time": "2024-02-24T06:11:00.466Z"
   },
   {
    "duration": 27,
    "start_time": "2024-02-24T06:11:08.087Z"
   },
   {
    "duration": 6,
    "start_time": "2024-02-24T06:11:57.409Z"
   },
   {
    "duration": 89,
    "start_time": "2024-02-24T06:12:27.740Z"
   },
   {
    "duration": 43,
    "start_time": "2024-02-24T06:13:52.396Z"
   },
   {
    "duration": 125,
    "start_time": "2024-02-24T06:14:00.650Z"
   },
   {
    "duration": 93,
    "start_time": "2024-02-24T06:14:12.679Z"
   },
   {
    "duration": 105,
    "start_time": "2024-02-24T06:14:32.598Z"
   },
   {
    "duration": 4,
    "start_time": "2024-02-24T06:14:48.987Z"
   },
   {
    "duration": 7,
    "start_time": "2024-02-24T06:15:18.608Z"
   },
   {
    "duration": 6,
    "start_time": "2024-02-24T06:16:07.591Z"
   },
   {
    "duration": 7,
    "start_time": "2024-02-24T06:16:19.088Z"
   },
   {
    "duration": 21,
    "start_time": "2024-02-24T06:16:58.354Z"
   },
   {
    "duration": 108,
    "start_time": "2024-02-24T06:17:16.320Z"
   },
   {
    "duration": 111,
    "start_time": "2024-02-24T06:17:59.082Z"
   },
   {
    "duration": 21,
    "start_time": "2024-02-24T06:18:07.569Z"
   },
   {
    "duration": 101,
    "start_time": "2024-02-24T06:18:20.421Z"
   },
   {
    "duration": 22,
    "start_time": "2024-02-24T06:18:25.636Z"
   },
   {
    "duration": 6,
    "start_time": "2024-02-24T06:18:34.941Z"
   },
   {
    "duration": 1266,
    "start_time": "2024-02-24T06:19:09.224Z"
   },
   {
    "duration": 411,
    "start_time": "2024-02-24T06:19:10.492Z"
   },
   {
    "duration": 3,
    "start_time": "2024-02-24T06:19:10.904Z"
   },
   {
    "duration": 201,
    "start_time": "2024-02-24T06:19:10.909Z"
   },
   {
    "duration": 66,
    "start_time": "2024-02-24T06:19:11.112Z"
   },
   {
    "duration": 647,
    "start_time": "2024-02-24T06:19:11.179Z"
   },
   {
    "duration": 45,
    "start_time": "2024-02-24T06:19:11.828Z"
   },
   {
    "duration": 135,
    "start_time": "2024-02-24T06:19:11.875Z"
   },
   {
    "duration": 252,
    "start_time": "2024-02-24T06:19:12.011Z"
   },
   {
    "duration": 115,
    "start_time": "2024-02-24T06:19:12.265Z"
   },
   {
    "duration": 101,
    "start_time": "2024-02-24T06:19:12.382Z"
   },
   {
    "duration": 41,
    "start_time": "2024-02-24T06:19:12.484Z"
   },
   {
    "duration": 18,
    "start_time": "2024-02-24T06:19:12.527Z"
   },
   {
    "duration": 43,
    "start_time": "2024-02-24T06:19:12.548Z"
   },
   {
    "duration": 222,
    "start_time": "2024-02-24T06:19:12.592Z"
   },
   {
    "duration": 60,
    "start_time": "2024-02-24T06:19:12.815Z"
   },
   {
    "duration": 7,
    "start_time": "2024-02-24T06:19:12.876Z"
   },
   {
    "duration": 41,
    "start_time": "2024-02-24T06:19:12.885Z"
   },
   {
    "duration": 47,
    "start_time": "2024-02-24T06:19:12.927Z"
   },
   {
    "duration": 26,
    "start_time": "2024-02-24T06:19:12.976Z"
   },
   {
    "duration": 17,
    "start_time": "2024-02-24T06:19:13.005Z"
   },
   {
    "duration": 7,
    "start_time": "2024-02-24T06:19:13.024Z"
   },
   {
    "duration": 84,
    "start_time": "2024-02-24T06:19:13.033Z"
   },
   {
    "duration": 334,
    "start_time": "2024-02-24T06:19:13.118Z"
   },
   {
    "duration": 20,
    "start_time": "2024-02-24T06:19:13.453Z"
   },
   {
    "duration": 8,
    "start_time": "2024-02-24T06:19:13.475Z"
   },
   {
    "duration": 29,
    "start_time": "2024-02-24T06:19:13.484Z"
   },
   {
    "duration": 7,
    "start_time": "2024-02-24T06:19:13.515Z"
   },
   {
    "duration": 59,
    "start_time": "2024-02-24T06:19:13.524Z"
   },
   {
    "duration": 26,
    "start_time": "2024-02-24T06:19:13.584Z"
   },
   {
    "duration": 115,
    "start_time": "2024-02-24T06:19:13.611Z"
   },
   {
    "duration": 75,
    "start_time": "2024-02-24T06:19:13.727Z"
   },
   {
    "duration": 9,
    "start_time": "2024-02-24T06:19:13.803Z"
   },
   {
    "duration": 192,
    "start_time": "2024-02-24T06:19:13.814Z"
   },
   {
    "duration": 5,
    "start_time": "2024-02-24T06:19:14.008Z"
   },
   {
    "duration": 25,
    "start_time": "2024-02-24T06:19:14.015Z"
   },
   {
    "duration": 10,
    "start_time": "2024-02-24T06:19:14.042Z"
   },
   {
    "duration": 209,
    "start_time": "2024-02-24T06:19:14.053Z"
   },
   {
    "duration": 11,
    "start_time": "2024-02-24T06:19:14.263Z"
   },
   {
    "duration": 32,
    "start_time": "2024-02-24T06:19:14.276Z"
   },
   {
    "duration": 30,
    "start_time": "2024-02-24T06:19:14.312Z"
   },
   {
    "duration": 54,
    "start_time": "2024-02-24T06:19:14.344Z"
   },
   {
    "duration": 38,
    "start_time": "2024-02-24T06:19:14.399Z"
   },
   {
    "duration": 75,
    "start_time": "2024-02-24T06:19:14.439Z"
   },
   {
    "duration": 6,
    "start_time": "2024-02-24T06:19:14.516Z"
   },
   {
    "duration": 226,
    "start_time": "2024-02-24T06:19:14.524Z"
   },
   {
    "duration": 239,
    "start_time": "2024-02-24T06:19:14.751Z"
   },
   {
    "duration": 224,
    "start_time": "2024-02-24T06:19:14.991Z"
   },
   {
    "duration": 6,
    "start_time": "2024-02-24T06:19:15.217Z"
   },
   {
    "duration": 252,
    "start_time": "2024-02-24T06:19:15.224Z"
   },
   {
    "duration": 29,
    "start_time": "2024-02-24T06:35:07.724Z"
   },
   {
    "duration": 25,
    "start_time": "2024-02-24T06:35:16.034Z"
   },
   {
    "duration": 195,
    "start_time": "2024-02-24T06:38:40.327Z"
   },
   {
    "duration": 9,
    "start_time": "2024-02-24T06:39:00.739Z"
   },
   {
    "duration": 21,
    "start_time": "2024-02-24T06:39:25.424Z"
   },
   {
    "duration": 102,
    "start_time": "2024-02-24T06:49:01.069Z"
   },
   {
    "duration": 4,
    "start_time": "2024-02-24T06:51:54.570Z"
   },
   {
    "duration": 4,
    "start_time": "2024-02-24T06:51:57.523Z"
   },
   {
    "duration": 3,
    "start_time": "2024-02-24T06:52:25.495Z"
   },
   {
    "duration": 3,
    "start_time": "2024-02-24T06:52:30.363Z"
   },
   {
    "duration": 4,
    "start_time": "2024-02-24T06:52:35.140Z"
   },
   {
    "duration": 4,
    "start_time": "2024-02-24T06:52:39.996Z"
   },
   {
    "duration": 4,
    "start_time": "2024-02-24T06:52:44.239Z"
   },
   {
    "duration": 5,
    "start_time": "2024-02-24T07:42:33.290Z"
   },
   {
    "duration": 6,
    "start_time": "2024-02-24T07:44:56.453Z"
   },
   {
    "duration": 4,
    "start_time": "2024-02-24T07:46:05.699Z"
   },
   {
    "duration": 4,
    "start_time": "2024-02-24T07:46:09.211Z"
   },
   {
    "duration": 7,
    "start_time": "2024-02-24T07:48:06.549Z"
   },
   {
    "duration": 226,
    "start_time": "2024-02-24T07:48:10.704Z"
   },
   {
    "duration": 4,
    "start_time": "2024-02-24T07:48:25.763Z"
   },
   {
    "duration": 4,
    "start_time": "2024-02-24T07:48:30.185Z"
   },
   {
    "duration": 4,
    "start_time": "2024-02-24T07:48:33.885Z"
   },
   {
    "duration": 4,
    "start_time": "2024-02-24T07:48:37.383Z"
   },
   {
    "duration": 4,
    "start_time": "2024-02-24T07:48:40.961Z"
   },
   {
    "duration": 5,
    "start_time": "2024-02-24T07:48:43.910Z"
   },
   {
    "duration": 4,
    "start_time": "2024-02-24T07:48:46.086Z"
   },
   {
    "duration": 4,
    "start_time": "2024-02-24T07:48:48.931Z"
   },
   {
    "duration": 4,
    "start_time": "2024-02-24T07:48:53.737Z"
   },
   {
    "duration": 6,
    "start_time": "2024-02-24T07:48:59.686Z"
   },
   {
    "duration": 207,
    "start_time": "2024-02-24T07:49:01.583Z"
   },
   {
    "duration": 100,
    "start_time": "2024-02-24T07:49:18.481Z"
   },
   {
    "duration": 4,
    "start_time": "2024-02-24T07:49:21.591Z"
   },
   {
    "duration": 5,
    "start_time": "2024-02-24T07:49:43.409Z"
   },
   {
    "duration": 4,
    "start_time": "2024-02-24T07:49:45.769Z"
   },
   {
    "duration": 4,
    "start_time": "2024-02-24T07:49:48.354Z"
   },
   {
    "duration": 4,
    "start_time": "2024-02-24T07:49:51.682Z"
   },
   {
    "duration": 4,
    "start_time": "2024-02-24T07:49:55.208Z"
   },
   {
    "duration": 4,
    "start_time": "2024-02-24T07:49:57.980Z"
   },
   {
    "duration": 115,
    "start_time": "2024-02-24T07:50:52.313Z"
   },
   {
    "duration": 8,
    "start_time": "2024-02-24T07:50:57.471Z"
   },
   {
    "duration": 221,
    "start_time": "2024-02-24T07:50:59.081Z"
   },
   {
    "duration": 119,
    "start_time": "2024-02-24T07:51:28.008Z"
   },
   {
    "duration": 5,
    "start_time": "2024-02-24T07:52:35.485Z"
   },
   {
    "duration": 4,
    "start_time": "2024-02-24T07:52:38.932Z"
   },
   {
    "duration": 6,
    "start_time": "2024-02-24T07:52:43.433Z"
   },
   {
    "duration": 225,
    "start_time": "2024-02-24T07:52:47.897Z"
   },
   {
    "duration": 5,
    "start_time": "2024-02-24T07:52:57.983Z"
   },
   {
    "duration": 7,
    "start_time": "2024-02-24T07:53:05.099Z"
   },
   {
    "duration": 213,
    "start_time": "2024-02-24T07:53:06.499Z"
   },
   {
    "duration": 1223,
    "start_time": "2024-02-24T07:55:09.150Z"
   },
   {
    "duration": 220,
    "start_time": "2024-02-24T07:55:10.375Z"
   },
   {
    "duration": 4,
    "start_time": "2024-02-24T07:55:10.596Z"
   },
   {
    "duration": 111,
    "start_time": "2024-02-24T07:55:10.602Z"
   },
   {
    "duration": 10,
    "start_time": "2024-02-24T07:55:10.715Z"
   },
   {
    "duration": 383,
    "start_time": "2024-02-24T07:55:10.727Z"
   },
   {
    "duration": 42,
    "start_time": "2024-02-24T07:55:11.111Z"
   },
   {
    "duration": 126,
    "start_time": "2024-02-24T07:55:11.155Z"
   },
   {
    "duration": 258,
    "start_time": "2024-02-24T07:55:11.283Z"
   },
   {
    "duration": 118,
    "start_time": "2024-02-24T07:55:11.543Z"
   },
   {
    "duration": 95,
    "start_time": "2024-02-24T07:55:11.663Z"
   },
   {
    "duration": 50,
    "start_time": "2024-02-24T07:55:11.759Z"
   },
   {
    "duration": 20,
    "start_time": "2024-02-24T07:55:11.810Z"
   },
   {
    "duration": 44,
    "start_time": "2024-02-24T07:55:11.833Z"
   },
   {
    "duration": 224,
    "start_time": "2024-02-24T07:55:11.879Z"
   },
   {
    "duration": 53,
    "start_time": "2024-02-24T07:55:12.105Z"
   },
   {
    "duration": 7,
    "start_time": "2024-02-24T07:55:12.172Z"
   },
   {
    "duration": 44,
    "start_time": "2024-02-24T07:55:12.180Z"
   },
   {
    "duration": 23,
    "start_time": "2024-02-24T07:55:12.225Z"
   },
   {
    "duration": 44,
    "start_time": "2024-02-24T07:55:12.250Z"
   },
   {
    "duration": 15,
    "start_time": "2024-02-24T07:55:12.296Z"
   },
   {
    "duration": 6,
    "start_time": "2024-02-24T07:55:12.313Z"
   },
   {
    "duration": 59,
    "start_time": "2024-02-24T07:55:12.320Z"
   },
   {
    "duration": 323,
    "start_time": "2024-02-24T07:55:12.380Z"
   },
   {
    "duration": 14,
    "start_time": "2024-02-24T07:55:12.704Z"
   },
   {
    "duration": 12,
    "start_time": "2024-02-24T07:55:12.720Z"
   },
   {
    "duration": 15,
    "start_time": "2024-02-24T07:55:12.734Z"
   },
   {
    "duration": 42,
    "start_time": "2024-02-24T07:55:12.751Z"
   },
   {
    "duration": 26,
    "start_time": "2024-02-24T07:55:12.795Z"
   },
   {
    "duration": 118,
    "start_time": "2024-02-24T07:55:12.822Z"
   },
   {
    "duration": 72,
    "start_time": "2024-02-24T07:55:12.942Z"
   },
   {
    "duration": 10,
    "start_time": "2024-02-24T07:55:13.015Z"
   },
   {
    "duration": 186,
    "start_time": "2024-02-24T07:55:13.027Z"
   },
   {
    "duration": 3,
    "start_time": "2024-02-24T07:55:13.215Z"
   },
   {
    "duration": 35,
    "start_time": "2024-02-24T07:55:13.219Z"
   },
   {
    "duration": 12,
    "start_time": "2024-02-24T07:55:13.255Z"
   },
   {
    "duration": 184,
    "start_time": "2024-02-24T07:55:13.272Z"
   },
   {
    "duration": 9,
    "start_time": "2024-02-24T07:55:13.458Z"
   },
   {
    "duration": 25,
    "start_time": "2024-02-24T07:55:13.473Z"
   },
   {
    "duration": 31,
    "start_time": "2024-02-24T07:55:13.501Z"
   },
   {
    "duration": 55,
    "start_time": "2024-02-24T07:55:13.535Z"
   },
   {
    "duration": 33,
    "start_time": "2024-02-24T07:55:13.592Z"
   },
   {
    "duration": 65,
    "start_time": "2024-02-24T07:55:13.626Z"
   },
   {
    "duration": 4,
    "start_time": "2024-02-24T07:55:13.693Z"
   },
   {
    "duration": 23,
    "start_time": "2024-02-24T07:55:13.698Z"
   },
   {
    "duration": 261,
    "start_time": "2024-02-24T07:55:13.722Z"
   },
   {
    "duration": 257,
    "start_time": "2024-02-24T07:55:13.985Z"
   },
   {
    "duration": 242,
    "start_time": "2024-02-24T07:55:14.244Z"
   },
   {
    "duration": 6,
    "start_time": "2024-02-24T07:55:14.488Z"
   },
   {
    "duration": 225,
    "start_time": "2024-02-24T07:55:14.495Z"
   },
   {
    "duration": 43,
    "start_time": "2024-02-24T07:59:34.019Z"
   }
  ],
  "kernelspec": {
   "display_name": "Python 3 (ipykernel)",
   "language": "python",
   "name": "python3"
  },
  "language_info": {
   "codemirror_mode": {
    "name": "ipython",
    "version": 3
   },
   "file_extension": ".py",
   "mimetype": "text/x-python",
   "name": "python",
   "nbconvert_exporter": "python",
   "pygments_lexer": "ipython3",
   "version": "3.11.4"
  },
  "toc": {
   "base_numbering": 1,
   "nav_menu": {},
   "number_sections": true,
   "sideBar": true,
   "skip_h1_title": true,
   "title_cell": "Table of Contents",
   "title_sidebar": "Contents",
   "toc_cell": false,
   "toc_position": {
    "height": "calc(100% - 180px)",
    "left": "10px",
    "top": "150px",
    "width": "258px"
   },
   "toc_section_display": true,
   "toc_window_display": true
  }
 },
 "nbformat": 4,
 "nbformat_minor": 2
}
