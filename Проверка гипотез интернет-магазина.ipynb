{
 "cells": [
  {
   "cell_type": "markdown",
   "metadata": {},
   "source": [
    "# Проверка гипотез по увеличению выручки интернет-магазина "
   ]
  },
  {
   "cell_type": "markdown",
   "metadata": {},
   "source": [
    "Вы — аналитик крупного интернет-магазина. Вместе с отделом маркетинга вы подготовили список гипотез для увеличения выручки.\n",
    "Приоритизируйте гипотезы, запустите A/B-тест и проанализируйте результаты. \n",
    "\n",
    "Цель: проверить гипотезы интернет-магазина\n",
    "\n",
    "Задачи:\n",
    "1. Подготовить данные\n",
    "2. Приоритизировать гипотезы\n",
    "3. Провести А/B тестирование\n",
    "\n",
    "В качестве исходных данных представлены три датафрейма hypothesis, visitors и orders. В датафрейме hypothesis содержится информация о гипотезах увеличения выручки интернет-магазина. В датафрейме visitors содержится информация о клиентах. В датафрейме orders -информация о заказах. "
   ]
  },
  {
   "cell_type": "markdown",
   "metadata": {},
   "source": [
    "## Предобработка данных и первый взгляд"
   ]
  },
  {
   "cell_type": "code",
   "execution_count": 1,
   "metadata": {},
   "outputs": [],
   "source": [
    "import pandas as pd\n",
    "import scipy.stats as stats\n",
    "import datetime as dt\n",
    "import numpy as np\n",
    "import matplotlib.pyplot as plt"
   ]
  },
  {
   "cell_type": "code",
   "execution_count": 69,
   "metadata": {},
   "outputs": [],
   "source": [
    "hypothesis = pd.read_csv('https://code.s3.yandex.net/datasets/hypothesis.csv')\n",
    "orders = pd.read_csv('https://code.s3.yandex.net/datasets/orders.csv')\n",
    "visitors = pd.read_csv('https://code.s3.yandex.net/datasets/visitors.csv')"
   ]
  },
  {
   "cell_type": "code",
   "execution_count": 4,
   "metadata": {},
   "outputs": [],
   "source": [
    "def first_view(df):\n",
    "    display('Info')\n",
    "    df.info()\n",
    "    display('*'*50)\n",
    "    display('Value counts')\n",
    "    display(df.value_counts())\n",
    "    display('*'*50)\n",
    "    display('Describe')\n",
    "    display(df.describe())\n",
    "    display('*'*50)\n",
    "    display('NAN?')\n",
    "    display(df.isna().sum())"
   ]
  },
  {
   "cell_type": "code",
   "execution_count": 5,
   "metadata": {},
   "outputs": [
    {
     "data": {
      "text/html": [
       "<div>\n",
       "<style scoped>\n",
       "    .dataframe tbody tr th:only-of-type {\n",
       "        vertical-align: middle;\n",
       "    }\n",
       "\n",
       "    .dataframe tbody tr th {\n",
       "        vertical-align: top;\n",
       "    }\n",
       "\n",
       "    .dataframe thead th {\n",
       "        text-align: right;\n",
       "    }\n",
       "</style>\n",
       "<table border=\"1\" class=\"dataframe\">\n",
       "  <thead>\n",
       "    <tr style=\"text-align: right;\">\n",
       "      <th></th>\n",
       "      <th>Hypothesis</th>\n",
       "      <th>Reach</th>\n",
       "      <th>Impact</th>\n",
       "      <th>Confidence</th>\n",
       "      <th>Efforts</th>\n",
       "    </tr>\n",
       "  </thead>\n",
       "  <tbody>\n",
       "    <tr>\n",
       "      <th>0</th>\n",
       "      <td>Добавить два новых канала привлечения трафика,...</td>\n",
       "      <td>3</td>\n",
       "      <td>10</td>\n",
       "      <td>8</td>\n",
       "      <td>6</td>\n",
       "    </tr>\n",
       "    <tr>\n",
       "      <th>1</th>\n",
       "      <td>Запустить собственную службу доставки, что сок...</td>\n",
       "      <td>2</td>\n",
       "      <td>5</td>\n",
       "      <td>4</td>\n",
       "      <td>10</td>\n",
       "    </tr>\n",
       "    <tr>\n",
       "      <th>2</th>\n",
       "      <td>Добавить блоки рекомендаций товаров на сайт ин...</td>\n",
       "      <td>8</td>\n",
       "      <td>3</td>\n",
       "      <td>7</td>\n",
       "      <td>3</td>\n",
       "    </tr>\n",
       "    <tr>\n",
       "      <th>3</th>\n",
       "      <td>Изменить структура категорий, что увеличит кон...</td>\n",
       "      <td>8</td>\n",
       "      <td>3</td>\n",
       "      <td>3</td>\n",
       "      <td>8</td>\n",
       "    </tr>\n",
       "    <tr>\n",
       "      <th>4</th>\n",
       "      <td>Изменить цвет фона главной страницы, чтобы уве...</td>\n",
       "      <td>3</td>\n",
       "      <td>1</td>\n",
       "      <td>1</td>\n",
       "      <td>1</td>\n",
       "    </tr>\n",
       "    <tr>\n",
       "      <th>5</th>\n",
       "      <td>Добавить страницу отзывов клиентов о магазине,...</td>\n",
       "      <td>3</td>\n",
       "      <td>2</td>\n",
       "      <td>2</td>\n",
       "      <td>3</td>\n",
       "    </tr>\n",
       "    <tr>\n",
       "      <th>6</th>\n",
       "      <td>Показать на главной странице баннеры с актуаль...</td>\n",
       "      <td>5</td>\n",
       "      <td>3</td>\n",
       "      <td>8</td>\n",
       "      <td>3</td>\n",
       "    </tr>\n",
       "    <tr>\n",
       "      <th>7</th>\n",
       "      <td>Добавить форму подписки на все основные страни...</td>\n",
       "      <td>10</td>\n",
       "      <td>7</td>\n",
       "      <td>8</td>\n",
       "      <td>5</td>\n",
       "    </tr>\n",
       "    <tr>\n",
       "      <th>8</th>\n",
       "      <td>Запустить акцию, дающую скидку на товар в день...</td>\n",
       "      <td>1</td>\n",
       "      <td>9</td>\n",
       "      <td>9</td>\n",
       "      <td>5</td>\n",
       "    </tr>\n",
       "  </tbody>\n",
       "</table>\n",
       "</div>"
      ],
      "text/plain": [
       "                                          Hypothesis  Reach  Impact  \\\n",
       "0  Добавить два новых канала привлечения трафика,...      3      10   \n",
       "1  Запустить собственную службу доставки, что сок...      2       5   \n",
       "2  Добавить блоки рекомендаций товаров на сайт ин...      8       3   \n",
       "3  Изменить структура категорий, что увеличит кон...      8       3   \n",
       "4  Изменить цвет фона главной страницы, чтобы уве...      3       1   \n",
       "5  Добавить страницу отзывов клиентов о магазине,...      3       2   \n",
       "6  Показать на главной странице баннеры с актуаль...      5       3   \n",
       "7  Добавить форму подписки на все основные страни...     10       7   \n",
       "8  Запустить акцию, дающую скидку на товар в день...      1       9   \n",
       "\n",
       "   Confidence  Efforts  \n",
       "0           8        6  \n",
       "1           4       10  \n",
       "2           7        3  \n",
       "3           3        8  \n",
       "4           1        1  \n",
       "5           2        3  \n",
       "6           8        3  \n",
       "7           8        5  \n",
       "8           9        5  "
      ]
     },
     "execution_count": 5,
     "metadata": {},
     "output_type": "execute_result"
    }
   ],
   "source": [
    "hypothesis"
   ]
  },
  {
   "cell_type": "code",
   "execution_count": 6,
   "metadata": {},
   "outputs": [],
   "source": [
    "# приводим названия столбцов к нижнему регистру и переименовываем столбцы в более удобный вид\n",
    "hypothesis.columns = hypothesis.columns.str.lower()\n",
    "orders = orders.rename(columns = {'transactionId': 'transaction_id', 'visitorId' : 'visitor_id' })"
   ]
  },
  {
   "cell_type": "code",
   "execution_count": 7,
   "metadata": {},
   "outputs": [
    {
     "data": {
      "text/html": [
       "<div>\n",
       "<style scoped>\n",
       "    .dataframe tbody tr th:only-of-type {\n",
       "        vertical-align: middle;\n",
       "    }\n",
       "\n",
       "    .dataframe tbody tr th {\n",
       "        vertical-align: top;\n",
       "    }\n",
       "\n",
       "    .dataframe thead th {\n",
       "        text-align: right;\n",
       "    }\n",
       "</style>\n",
       "<table border=\"1\" class=\"dataframe\">\n",
       "  <thead>\n",
       "    <tr style=\"text-align: right;\">\n",
       "      <th></th>\n",
       "      <th>transaction_id</th>\n",
       "      <th>visitor_id</th>\n",
       "      <th>date</th>\n",
       "      <th>revenue</th>\n",
       "      <th>group</th>\n",
       "    </tr>\n",
       "  </thead>\n",
       "  <tbody>\n",
       "    <tr>\n",
       "      <th>0</th>\n",
       "      <td>3667963787</td>\n",
       "      <td>3312258926</td>\n",
       "      <td>2019-08-15</td>\n",
       "      <td>1650</td>\n",
       "      <td>B</td>\n",
       "    </tr>\n",
       "    <tr>\n",
       "      <th>1</th>\n",
       "      <td>2804400009</td>\n",
       "      <td>3642806036</td>\n",
       "      <td>2019-08-15</td>\n",
       "      <td>730</td>\n",
       "      <td>B</td>\n",
       "    </tr>\n",
       "    <tr>\n",
       "      <th>2</th>\n",
       "      <td>2961555356</td>\n",
       "      <td>4069496402</td>\n",
       "      <td>2019-08-15</td>\n",
       "      <td>400</td>\n",
       "      <td>A</td>\n",
       "    </tr>\n",
       "    <tr>\n",
       "      <th>3</th>\n",
       "      <td>3797467345</td>\n",
       "      <td>1196621759</td>\n",
       "      <td>2019-08-15</td>\n",
       "      <td>9759</td>\n",
       "      <td>B</td>\n",
       "    </tr>\n",
       "    <tr>\n",
       "      <th>4</th>\n",
       "      <td>2282983706</td>\n",
       "      <td>2322279887</td>\n",
       "      <td>2019-08-15</td>\n",
       "      <td>2308</td>\n",
       "      <td>B</td>\n",
       "    </tr>\n",
       "  </tbody>\n",
       "</table>\n",
       "</div>"
      ],
      "text/plain": [
       "   transaction_id  visitor_id        date  revenue group\n",
       "0      3667963787  3312258926  2019-08-15     1650     B\n",
       "1      2804400009  3642806036  2019-08-15      730     B\n",
       "2      2961555356  4069496402  2019-08-15      400     A\n",
       "3      3797467345  1196621759  2019-08-15     9759     B\n",
       "4      2282983706  2322279887  2019-08-15     2308     B"
      ]
     },
     "execution_count": 7,
     "metadata": {},
     "output_type": "execute_result"
    }
   ],
   "source": [
    "orders.head()"
   ]
  },
  {
   "cell_type": "code",
   "execution_count": 8,
   "metadata": {},
   "outputs": [
    {
     "data": {
      "text/plain": [
       "'Info'"
      ]
     },
     "metadata": {},
     "output_type": "display_data"
    },
    {
     "name": "stdout",
     "output_type": "stream",
     "text": [
      "<class 'pandas.core.frame.DataFrame'>\n",
      "RangeIndex: 1197 entries, 0 to 1196\n",
      "Data columns (total 5 columns):\n",
      " #   Column          Non-Null Count  Dtype \n",
      "---  ------          --------------  ----- \n",
      " 0   transaction_id  1197 non-null   int64 \n",
      " 1   visitor_id      1197 non-null   int64 \n",
      " 2   date            1197 non-null   object\n",
      " 3   revenue         1197 non-null   int64 \n",
      " 4   group           1197 non-null   object\n",
      "dtypes: int64(3), object(2)\n",
      "memory usage: 46.9+ KB\n"
     ]
    },
    {
     "data": {
      "text/plain": [
       "'**************************************************'"
      ]
     },
     "metadata": {},
     "output_type": "display_data"
    },
    {
     "data": {
      "text/plain": [
       "'Value counts'"
      ]
     },
     "metadata": {},
     "output_type": "display_data"
    },
    {
     "data": {
      "text/plain": [
       "transaction_id  visitor_id  date        revenue  group\n",
       "1062393         2661240577  2019-08-05  6420     A        1\n",
       "2883105032      3086835579  2019-08-23  2646     A        1\n",
       "2875229767      1627549308  2019-08-05  650      B        1\n",
       "2872509092      983496389   2019-08-02  165      A        1\n",
       "2866469834      3917749921  2019-08-29  3950     B        1\n",
       "                                                         ..\n",
       "1476831880      1422476412  2019-08-14  6180     A        1\n",
       "1476390797      2044161277  2019-08-31  1450     B        1\n",
       "1473132782      4069496402  2019-08-12  640      B        1\n",
       "1472783002      1617417821  2019-08-26  1690     A        1\n",
       "4293855558      8300375     2019-08-07  1790     A        1\n",
       "Length: 1197, dtype: int64"
      ]
     },
     "metadata": {},
     "output_type": "display_data"
    },
    {
     "data": {
      "text/plain": [
       "'**************************************************'"
      ]
     },
     "metadata": {},
     "output_type": "display_data"
    },
    {
     "data": {
      "text/plain": [
       "'Describe'"
      ]
     },
     "metadata": {},
     "output_type": "display_data"
    },
    {
     "data": {
      "text/html": [
       "<div>\n",
       "<style scoped>\n",
       "    .dataframe tbody tr th:only-of-type {\n",
       "        vertical-align: middle;\n",
       "    }\n",
       "\n",
       "    .dataframe tbody tr th {\n",
       "        vertical-align: top;\n",
       "    }\n",
       "\n",
       "    .dataframe thead th {\n",
       "        text-align: right;\n",
       "    }\n",
       "</style>\n",
       "<table border=\"1\" class=\"dataframe\">\n",
       "  <thead>\n",
       "    <tr style=\"text-align: right;\">\n",
       "      <th></th>\n",
       "      <th>transaction_id</th>\n",
       "      <th>visitor_id</th>\n",
       "      <th>revenue</th>\n",
       "    </tr>\n",
       "  </thead>\n",
       "  <tbody>\n",
       "    <tr>\n",
       "      <th>count</th>\n",
       "      <td>1.197000e+03</td>\n",
       "      <td>1.197000e+03</td>\n",
       "      <td>1.197000e+03</td>\n",
       "    </tr>\n",
       "    <tr>\n",
       "      <th>mean</th>\n",
       "      <td>2.155621e+09</td>\n",
       "      <td>2.165960e+09</td>\n",
       "      <td>8.348006e+03</td>\n",
       "    </tr>\n",
       "    <tr>\n",
       "      <th>std</th>\n",
       "      <td>1.229085e+09</td>\n",
       "      <td>1.236014e+09</td>\n",
       "      <td>3.919113e+04</td>\n",
       "    </tr>\n",
       "    <tr>\n",
       "      <th>min</th>\n",
       "      <td>1.062393e+06</td>\n",
       "      <td>5.114589e+06</td>\n",
       "      <td>5.000000e+01</td>\n",
       "    </tr>\n",
       "    <tr>\n",
       "      <th>25%</th>\n",
       "      <td>1.166776e+09</td>\n",
       "      <td>1.111826e+09</td>\n",
       "      <td>1.220000e+03</td>\n",
       "    </tr>\n",
       "    <tr>\n",
       "      <th>50%</th>\n",
       "      <td>2.145194e+09</td>\n",
       "      <td>2.217985e+09</td>\n",
       "      <td>2.978000e+03</td>\n",
       "    </tr>\n",
       "    <tr>\n",
       "      <th>75%</th>\n",
       "      <td>3.237740e+09</td>\n",
       "      <td>3.177606e+09</td>\n",
       "      <td>8.290000e+03</td>\n",
       "    </tr>\n",
       "    <tr>\n",
       "      <th>max</th>\n",
       "      <td>4.293856e+09</td>\n",
       "      <td>4.283872e+09</td>\n",
       "      <td>1.294500e+06</td>\n",
       "    </tr>\n",
       "  </tbody>\n",
       "</table>\n",
       "</div>"
      ],
      "text/plain": [
       "       transaction_id    visitor_id       revenue\n",
       "count    1.197000e+03  1.197000e+03  1.197000e+03\n",
       "mean     2.155621e+09  2.165960e+09  8.348006e+03\n",
       "std      1.229085e+09  1.236014e+09  3.919113e+04\n",
       "min      1.062393e+06  5.114589e+06  5.000000e+01\n",
       "25%      1.166776e+09  1.111826e+09  1.220000e+03\n",
       "50%      2.145194e+09  2.217985e+09  2.978000e+03\n",
       "75%      3.237740e+09  3.177606e+09  8.290000e+03\n",
       "max      4.293856e+09  4.283872e+09  1.294500e+06"
      ]
     },
     "metadata": {},
     "output_type": "display_data"
    },
    {
     "data": {
      "text/plain": [
       "'**************************************************'"
      ]
     },
     "metadata": {},
     "output_type": "display_data"
    },
    {
     "data": {
      "text/plain": [
       "'NAN?'"
      ]
     },
     "metadata": {},
     "output_type": "display_data"
    },
    {
     "data": {
      "text/plain": [
       "transaction_id    0\n",
       "visitor_id        0\n",
       "date              0\n",
       "revenue           0\n",
       "group             0\n",
       "dtype: int64"
      ]
     },
     "metadata": {},
     "output_type": "display_data"
    }
   ],
   "source": [
    "first_view(orders)"
   ]
  },
  {
   "cell_type": "code",
   "execution_count": 9,
   "metadata": {},
   "outputs": [],
   "source": [
    "# меняем формат даты с object на datetime \n",
    "orders['date'] = pd.to_datetime(orders['date'])"
   ]
  },
  {
   "cell_type": "code",
   "execution_count": 10,
   "metadata": {},
   "outputs": [
    {
     "data": {
      "text/plain": [
       "0"
      ]
     },
     "execution_count": 10,
     "metadata": {},
     "output_type": "execute_result"
    }
   ],
   "source": [
    "orders.duplicated().sum()"
   ]
  },
  {
   "cell_type": "code",
   "execution_count": 11,
   "metadata": {},
   "outputs": [
    {
     "data": {
      "text/plain": [
       "date        0\n",
       "group       0\n",
       "visitors    0\n",
       "dtype: int64"
      ]
     },
     "execution_count": 11,
     "metadata": {},
     "output_type": "execute_result"
    }
   ],
   "source": [
    "visitors.isna().sum()"
   ]
  },
  {
   "cell_type": "code",
   "execution_count": 12,
   "metadata": {},
   "outputs": [
    {
     "data": {
      "text/html": [
       "<div>\n",
       "<style scoped>\n",
       "    .dataframe tbody tr th:only-of-type {\n",
       "        vertical-align: middle;\n",
       "    }\n",
       "\n",
       "    .dataframe tbody tr th {\n",
       "        vertical-align: top;\n",
       "    }\n",
       "\n",
       "    .dataframe thead th {\n",
       "        text-align: right;\n",
       "    }\n",
       "</style>\n",
       "<table border=\"1\" class=\"dataframe\">\n",
       "  <thead>\n",
       "    <tr style=\"text-align: right;\">\n",
       "      <th></th>\n",
       "      <th>date</th>\n",
       "      <th>group</th>\n",
       "      <th>visitors</th>\n",
       "    </tr>\n",
       "  </thead>\n",
       "  <tbody>\n",
       "    <tr>\n",
       "      <th>0</th>\n",
       "      <td>2019-08-01</td>\n",
       "      <td>A</td>\n",
       "      <td>719</td>\n",
       "    </tr>\n",
       "    <tr>\n",
       "      <th>1</th>\n",
       "      <td>2019-08-02</td>\n",
       "      <td>A</td>\n",
       "      <td>619</td>\n",
       "    </tr>\n",
       "    <tr>\n",
       "      <th>2</th>\n",
       "      <td>2019-08-03</td>\n",
       "      <td>A</td>\n",
       "      <td>507</td>\n",
       "    </tr>\n",
       "    <tr>\n",
       "      <th>3</th>\n",
       "      <td>2019-08-04</td>\n",
       "      <td>A</td>\n",
       "      <td>717</td>\n",
       "    </tr>\n",
       "    <tr>\n",
       "      <th>4</th>\n",
       "      <td>2019-08-05</td>\n",
       "      <td>A</td>\n",
       "      <td>756</td>\n",
       "    </tr>\n",
       "  </tbody>\n",
       "</table>\n",
       "</div>"
      ],
      "text/plain": [
       "         date group  visitors\n",
       "0  2019-08-01     A       719\n",
       "1  2019-08-02     A       619\n",
       "2  2019-08-03     A       507\n",
       "3  2019-08-04     A       717\n",
       "4  2019-08-05     A       756"
      ]
     },
     "execution_count": 12,
     "metadata": {},
     "output_type": "execute_result"
    }
   ],
   "source": [
    "visitors.head()"
   ]
  },
  {
   "cell_type": "code",
   "execution_count": 13,
   "metadata": {
    "scrolled": true
   },
   "outputs": [
    {
     "data": {
      "text/plain": [
       "'Info'"
      ]
     },
     "metadata": {},
     "output_type": "display_data"
    },
    {
     "name": "stdout",
     "output_type": "stream",
     "text": [
      "<class 'pandas.core.frame.DataFrame'>\n",
      "RangeIndex: 62 entries, 0 to 61\n",
      "Data columns (total 3 columns):\n",
      " #   Column    Non-Null Count  Dtype \n",
      "---  ------    --------------  ----- \n",
      " 0   date      62 non-null     object\n",
      " 1   group     62 non-null     object\n",
      " 2   visitors  62 non-null     int64 \n",
      "dtypes: int64(1), object(2)\n",
      "memory usage: 1.6+ KB\n"
     ]
    },
    {
     "data": {
      "text/plain": [
       "'**************************************************'"
      ]
     },
     "metadata": {},
     "output_type": "display_data"
    },
    {
     "data": {
      "text/plain": [
       "'Value counts'"
      ]
     },
     "metadata": {},
     "output_type": "display_data"
    },
    {
     "data": {
      "text/plain": [
       "date        group  visitors\n",
       "2019-08-01  A      719         1\n",
       "2019-08-24  A      395         1\n",
       "2019-08-17  B      421         1\n",
       "2019-08-18  A      668         1\n",
       "            B      737         1\n",
       "                              ..\n",
       "2019-08-13  B      769         1\n",
       "2019-08-14  A      735         1\n",
       "            B      746         1\n",
       "2019-08-15  A      628         1\n",
       "2019-08-31  B      718         1\n",
       "Length: 62, dtype: int64"
      ]
     },
     "metadata": {},
     "output_type": "display_data"
    },
    {
     "data": {
      "text/plain": [
       "'**************************************************'"
      ]
     },
     "metadata": {},
     "output_type": "display_data"
    },
    {
     "data": {
      "text/plain": [
       "'Describe'"
      ]
     },
     "metadata": {},
     "output_type": "display_data"
    },
    {
     "data": {
      "text/html": [
       "<div>\n",
       "<style scoped>\n",
       "    .dataframe tbody tr th:only-of-type {\n",
       "        vertical-align: middle;\n",
       "    }\n",
       "\n",
       "    .dataframe tbody tr th {\n",
       "        vertical-align: top;\n",
       "    }\n",
       "\n",
       "    .dataframe thead th {\n",
       "        text-align: right;\n",
       "    }\n",
       "</style>\n",
       "<table border=\"1\" class=\"dataframe\">\n",
       "  <thead>\n",
       "    <tr style=\"text-align: right;\">\n",
       "      <th></th>\n",
       "      <th>visitors</th>\n",
       "    </tr>\n",
       "  </thead>\n",
       "  <tbody>\n",
       "    <tr>\n",
       "      <th>count</th>\n",
       "      <td>62.000000</td>\n",
       "    </tr>\n",
       "    <tr>\n",
       "      <th>mean</th>\n",
       "      <td>607.290323</td>\n",
       "    </tr>\n",
       "    <tr>\n",
       "      <th>std</th>\n",
       "      <td>114.400560</td>\n",
       "    </tr>\n",
       "    <tr>\n",
       "      <th>min</th>\n",
       "      <td>361.000000</td>\n",
       "    </tr>\n",
       "    <tr>\n",
       "      <th>25%</th>\n",
       "      <td>534.000000</td>\n",
       "    </tr>\n",
       "    <tr>\n",
       "      <th>50%</th>\n",
       "      <td>624.500000</td>\n",
       "    </tr>\n",
       "    <tr>\n",
       "      <th>75%</th>\n",
       "      <td>710.500000</td>\n",
       "    </tr>\n",
       "    <tr>\n",
       "      <th>max</th>\n",
       "      <td>770.000000</td>\n",
       "    </tr>\n",
       "  </tbody>\n",
       "</table>\n",
       "</div>"
      ],
      "text/plain": [
       "         visitors\n",
       "count   62.000000\n",
       "mean   607.290323\n",
       "std    114.400560\n",
       "min    361.000000\n",
       "25%    534.000000\n",
       "50%    624.500000\n",
       "75%    710.500000\n",
       "max    770.000000"
      ]
     },
     "metadata": {},
     "output_type": "display_data"
    },
    {
     "data": {
      "text/plain": [
       "'**************************************************'"
      ]
     },
     "metadata": {},
     "output_type": "display_data"
    },
    {
     "data": {
      "text/plain": [
       "'NAN?'"
      ]
     },
     "metadata": {},
     "output_type": "display_data"
    },
    {
     "data": {
      "text/plain": [
       "date        0\n",
       "group       0\n",
       "visitors    0\n",
       "dtype: int64"
      ]
     },
     "metadata": {},
     "output_type": "display_data"
    }
   ],
   "source": [
    "first_view(visitors)"
   ]
  },
  {
   "cell_type": "code",
   "execution_count": 14,
   "metadata": {},
   "outputs": [],
   "source": [
    "# меняем формат даты с object на datetime \n",
    "visitors['date'] = pd.to_datetime(visitors['date'])"
   ]
  },
  {
   "cell_type": "code",
   "execution_count": 15,
   "metadata": {},
   "outputs": [
    {
     "data": {
      "text/plain": [
       "0"
      ]
     },
     "execution_count": 15,
     "metadata": {},
     "output_type": "execute_result"
    }
   ],
   "source": [
    "visitors.duplicated().sum()"
   ]
  },
  {
   "cell_type": "markdown",
   "metadata": {},
   "source": [
    "#### Проверяю пользователей, попавших в обе группы"
   ]
  },
  {
   "cell_type": "code",
   "execution_count": 16,
   "metadata": {},
   "outputs": [
    {
     "data": {
      "text/plain": [
       "1031"
      ]
     },
     "execution_count": 16,
     "metadata": {},
     "output_type": "execute_result"
    }
   ],
   "source": [
    "orders['visitor_id'].nunique()"
   ]
  },
  {
   "cell_type": "code",
   "execution_count": 17,
   "metadata": {},
   "outputs": [
    {
     "data": {
      "text/plain": [
       "58"
      ]
     },
     "execution_count": 17,
     "metadata": {},
     "output_type": "execute_result"
    }
   ],
   "source": [
    "group_a = orders.query('group ==\"A\"')['visitor_id']\n",
    "group_b = orders.query('group ==\"B\"')['visitor_id']\n",
    "\n",
    "AB = pd.merge(group_a, group_b, on= 'visitor_id')\n",
    "\n",
    "AB['visitor_id'].nunique()"
   ]
  },
  {
   "cell_type": "code",
   "execution_count": 18,
   "metadata": {},
   "outputs": [],
   "source": [
    "#AB = AB['visitor_id'].tolist()"
   ]
  },
  {
   "cell_type": "code",
   "execution_count": 19,
   "metadata": {},
   "outputs": [],
   "source": [
    "#common_ids = AB['visitor_id'].tolist()"
   ]
  },
  {
   "cell_type": "code",
   "execution_count": 20,
   "metadata": {},
   "outputs": [
    {
     "data": {
      "text/plain": [
       "5.625606207565471"
      ]
     },
     "execution_count": 20,
     "metadata": {},
     "output_type": "execute_result"
    }
   ],
   "source": [
    "(AB['visitor_id'].nunique() / orders['visitor_id'].nunique()) * 100"
   ]
  },
  {
   "cell_type": "code",
   "execution_count": 21,
   "metadata": {},
   "outputs": [
    {
     "data": {
      "text/plain": [
       "15.288220551378446"
      ]
     },
     "execution_count": 21,
     "metadata": {},
     "output_type": "execute_result"
    }
   ],
   "source": [
    "(AB['visitor_id'].count() / orders['visitor_id'].count()) * 100"
   ]
  },
  {
   "cell_type": "code",
   "execution_count": 22,
   "metadata": {},
   "outputs": [
    {
     "data": {
      "text/plain": [
       "973"
      ]
     },
     "execution_count": 22,
     "metadata": {},
     "output_type": "execute_result"
    }
   ],
   "source": [
    "# удаляю пользователей, которые попали в обе группы\n",
    "\n",
    "AB = AB['visitor_id'].tolist()\n",
    "orders= orders.query(\"visitor_id not in @AB\")\n",
    "orders['visitor_id'].nunique()"
   ]
  },
  {
   "cell_type": "markdown",
   "metadata": {},
   "source": [
    "Данные получены хорошие. Пропусков и дубликатов не обнаружено"
   ]
  },
  {
   "cell_type": "markdown",
   "metadata": {},
   "source": [
    "## Применение фреймворков ICE и RICE"
   ]
  },
  {
   "cell_type": "markdown",
   "metadata": {},
   "source": [
    "\n",
    "### Примените фреймворк ICE для приоритизации гипотез. Сортируем их по убыванию приоритета.\n"
   ]
  },
  {
   "cell_type": "markdown",
   "metadata": {},
   "source": [
    "ICE = impact * confidence * ease\n",
    "\n",
    "ICE = (impact * confidence) / efforts"
   ]
  },
  {
   "cell_type": "code",
   "execution_count": 27,
   "metadata": {},
   "outputs": [
    {
     "data": {
      "text/html": [
       "<div>\n",
       "<style scoped>\n",
       "    .dataframe tbody tr th:only-of-type {\n",
       "        vertical-align: middle;\n",
       "    }\n",
       "\n",
       "    .dataframe tbody tr th {\n",
       "        vertical-align: top;\n",
       "    }\n",
       "\n",
       "    .dataframe thead th {\n",
       "        text-align: right;\n",
       "    }\n",
       "</style>\n",
       "<table border=\"1\" class=\"dataframe\">\n",
       "  <thead>\n",
       "    <tr style=\"text-align: right;\">\n",
       "      <th></th>\n",
       "      <th>hypothesis</th>\n",
       "      <th>reach</th>\n",
       "      <th>impact</th>\n",
       "      <th>confidence</th>\n",
       "      <th>efforts</th>\n",
       "    </tr>\n",
       "  </thead>\n",
       "  <tbody>\n",
       "    <tr>\n",
       "      <th>0</th>\n",
       "      <td>Добавить два новых канала привлечения трафика,...</td>\n",
       "      <td>3</td>\n",
       "      <td>10</td>\n",
       "      <td>8</td>\n",
       "      <td>6</td>\n",
       "    </tr>\n",
       "    <tr>\n",
       "      <th>1</th>\n",
       "      <td>Запустить собственную службу доставки, что сок...</td>\n",
       "      <td>2</td>\n",
       "      <td>5</td>\n",
       "      <td>4</td>\n",
       "      <td>10</td>\n",
       "    </tr>\n",
       "    <tr>\n",
       "      <th>2</th>\n",
       "      <td>Добавить блоки рекомендаций товаров на сайт ин...</td>\n",
       "      <td>8</td>\n",
       "      <td>3</td>\n",
       "      <td>7</td>\n",
       "      <td>3</td>\n",
       "    </tr>\n",
       "    <tr>\n",
       "      <th>3</th>\n",
       "      <td>Изменить структура категорий, что увеличит кон...</td>\n",
       "      <td>8</td>\n",
       "      <td>3</td>\n",
       "      <td>3</td>\n",
       "      <td>8</td>\n",
       "    </tr>\n",
       "    <tr>\n",
       "      <th>4</th>\n",
       "      <td>Изменить цвет фона главной страницы, чтобы уве...</td>\n",
       "      <td>3</td>\n",
       "      <td>1</td>\n",
       "      <td>1</td>\n",
       "      <td>1</td>\n",
       "    </tr>\n",
       "    <tr>\n",
       "      <th>5</th>\n",
       "      <td>Добавить страницу отзывов клиентов о магазине,...</td>\n",
       "      <td>3</td>\n",
       "      <td>2</td>\n",
       "      <td>2</td>\n",
       "      <td>3</td>\n",
       "    </tr>\n",
       "    <tr>\n",
       "      <th>6</th>\n",
       "      <td>Показать на главной странице баннеры с актуаль...</td>\n",
       "      <td>5</td>\n",
       "      <td>3</td>\n",
       "      <td>8</td>\n",
       "      <td>3</td>\n",
       "    </tr>\n",
       "    <tr>\n",
       "      <th>7</th>\n",
       "      <td>Добавить форму подписки на все основные страни...</td>\n",
       "      <td>10</td>\n",
       "      <td>7</td>\n",
       "      <td>8</td>\n",
       "      <td>5</td>\n",
       "    </tr>\n",
       "    <tr>\n",
       "      <th>8</th>\n",
       "      <td>Запустить акцию, дающую скидку на товар в день...</td>\n",
       "      <td>1</td>\n",
       "      <td>9</td>\n",
       "      <td>9</td>\n",
       "      <td>5</td>\n",
       "    </tr>\n",
       "  </tbody>\n",
       "</table>\n",
       "</div>"
      ],
      "text/plain": [
       "                                          hypothesis  reach  impact  \\\n",
       "0  Добавить два новых канала привлечения трафика,...      3      10   \n",
       "1  Запустить собственную службу доставки, что сок...      2       5   \n",
       "2  Добавить блоки рекомендаций товаров на сайт ин...      8       3   \n",
       "3  Изменить структура категорий, что увеличит кон...      8       3   \n",
       "4  Изменить цвет фона главной страницы, чтобы уве...      3       1   \n",
       "5  Добавить страницу отзывов клиентов о магазине,...      3       2   \n",
       "6  Показать на главной странице баннеры с актуаль...      5       3   \n",
       "7  Добавить форму подписки на все основные страни...     10       7   \n",
       "8  Запустить акцию, дающую скидку на товар в день...      1       9   \n",
       "\n",
       "   confidence  efforts  \n",
       "0           8        6  \n",
       "1           4       10  \n",
       "2           7        3  \n",
       "3           3        8  \n",
       "4           1        1  \n",
       "5           2        3  \n",
       "6           8        3  \n",
       "7           8        5  \n",
       "8           9        5  "
      ]
     },
     "execution_count": 27,
     "metadata": {},
     "output_type": "execute_result"
    }
   ],
   "source": [
    "hypothesis"
   ]
  },
  {
   "cell_type": "code",
   "execution_count": 28,
   "metadata": {},
   "outputs": [
    {
     "data": {
      "text/html": [
       "<style type=\"text/css\">\n",
       "#T_93e50_row0_col1, #T_93e50_row4_col0, #T_93e50_row8_col2, #T_93e50_row8_col3, #T_93e50_row8_col4, #T_93e50_row8_col5 {\n",
       "  background-color: mistyrose;\n",
       "}\n",
       "#T_93e50_row0_col3, #T_93e50_row0_col5, #T_93e50_row1_col2, #T_93e50_row2_col1, #T_93e50_row3_col0, #T_93e50_row5_col4 {\n",
       "  background-color: lavender;\n",
       "}\n",
       "</style>\n",
       "<table id=\"T_93e50\">\n",
       "  <thead>\n",
       "    <tr>\n",
       "      <th class=\"blank level0\" >&nbsp;</th>\n",
       "      <th id=\"T_93e50_level0_col0\" class=\"col_heading level0 col0\" >hypothesis</th>\n",
       "      <th id=\"T_93e50_level0_col1\" class=\"col_heading level0 col1\" >reach</th>\n",
       "      <th id=\"T_93e50_level0_col2\" class=\"col_heading level0 col2\" >impact</th>\n",
       "      <th id=\"T_93e50_level0_col3\" class=\"col_heading level0 col3\" >confidence</th>\n",
       "      <th id=\"T_93e50_level0_col4\" class=\"col_heading level0 col4\" >efforts</th>\n",
       "      <th id=\"T_93e50_level0_col5\" class=\"col_heading level0 col5\" >ice</th>\n",
       "    </tr>\n",
       "  </thead>\n",
       "  <tbody>\n",
       "    <tr>\n",
       "      <th id=\"T_93e50_level0_row0\" class=\"row_heading level0 row0\" >8</th>\n",
       "      <td id=\"T_93e50_row0_col0\" class=\"data row0 col0\" >Запустить акцию, дающую скидку на товар в день рождения</td>\n",
       "      <td id=\"T_93e50_row0_col1\" class=\"data row0 col1\" >1</td>\n",
       "      <td id=\"T_93e50_row0_col2\" class=\"data row0 col2\" >9</td>\n",
       "      <td id=\"T_93e50_row0_col3\" class=\"data row0 col3\" >9</td>\n",
       "      <td id=\"T_93e50_row0_col4\" class=\"data row0 col4\" >5</td>\n",
       "      <td id=\"T_93e50_row0_col5\" class=\"data row0 col5\" >16.200000</td>\n",
       "    </tr>\n",
       "    <tr>\n",
       "      <th id=\"T_93e50_level0_row1\" class=\"row_heading level0 row1\" >0</th>\n",
       "      <td id=\"T_93e50_row1_col0\" class=\"data row1 col0\" >Добавить два новых канала привлечения трафика, что позволит привлекать на 30% больше пользователей</td>\n",
       "      <td id=\"T_93e50_row1_col1\" class=\"data row1 col1\" >3</td>\n",
       "      <td id=\"T_93e50_row1_col2\" class=\"data row1 col2\" >10</td>\n",
       "      <td id=\"T_93e50_row1_col3\" class=\"data row1 col3\" >8</td>\n",
       "      <td id=\"T_93e50_row1_col4\" class=\"data row1 col4\" >6</td>\n",
       "      <td id=\"T_93e50_row1_col5\" class=\"data row1 col5\" >13.333333</td>\n",
       "    </tr>\n",
       "    <tr>\n",
       "      <th id=\"T_93e50_level0_row2\" class=\"row_heading level0 row2\" >7</th>\n",
       "      <td id=\"T_93e50_row2_col0\" class=\"data row2 col0\" >Добавить форму подписки на все основные страницы, чтобы собрать базу клиентов для email-рассылок</td>\n",
       "      <td id=\"T_93e50_row2_col1\" class=\"data row2 col1\" >10</td>\n",
       "      <td id=\"T_93e50_row2_col2\" class=\"data row2 col2\" >7</td>\n",
       "      <td id=\"T_93e50_row2_col3\" class=\"data row2 col3\" >8</td>\n",
       "      <td id=\"T_93e50_row2_col4\" class=\"data row2 col4\" >5</td>\n",
       "      <td id=\"T_93e50_row2_col5\" class=\"data row2 col5\" >11.200000</td>\n",
       "    </tr>\n",
       "    <tr>\n",
       "      <th id=\"T_93e50_level0_row3\" class=\"row_heading level0 row3\" >6</th>\n",
       "      <td id=\"T_93e50_row3_col0\" class=\"data row3 col0\" >Показать на главной странице баннеры с актуальными акциями и распродажами, чтобы увеличить конверсию</td>\n",
       "      <td id=\"T_93e50_row3_col1\" class=\"data row3 col1\" >5</td>\n",
       "      <td id=\"T_93e50_row3_col2\" class=\"data row3 col2\" >3</td>\n",
       "      <td id=\"T_93e50_row3_col3\" class=\"data row3 col3\" >8</td>\n",
       "      <td id=\"T_93e50_row3_col4\" class=\"data row3 col4\" >3</td>\n",
       "      <td id=\"T_93e50_row3_col5\" class=\"data row3 col5\" >8.000000</td>\n",
       "    </tr>\n",
       "    <tr>\n",
       "      <th id=\"T_93e50_level0_row4\" class=\"row_heading level0 row4\" >2</th>\n",
       "      <td id=\"T_93e50_row4_col0\" class=\"data row4 col0\" >Добавить блоки рекомендаций товаров на сайт интернет магазина, чтобы повысить конверсию и средний чек заказа</td>\n",
       "      <td id=\"T_93e50_row4_col1\" class=\"data row4 col1\" >8</td>\n",
       "      <td id=\"T_93e50_row4_col2\" class=\"data row4 col2\" >3</td>\n",
       "      <td id=\"T_93e50_row4_col3\" class=\"data row4 col3\" >7</td>\n",
       "      <td id=\"T_93e50_row4_col4\" class=\"data row4 col4\" >3</td>\n",
       "      <td id=\"T_93e50_row4_col5\" class=\"data row4 col5\" >7.000000</td>\n",
       "    </tr>\n",
       "    <tr>\n",
       "      <th id=\"T_93e50_level0_row5\" class=\"row_heading level0 row5\" >1</th>\n",
       "      <td id=\"T_93e50_row5_col0\" class=\"data row5 col0\" >Запустить собственную службу доставки, что сократит срок доставки заказов</td>\n",
       "      <td id=\"T_93e50_row5_col1\" class=\"data row5 col1\" >2</td>\n",
       "      <td id=\"T_93e50_row5_col2\" class=\"data row5 col2\" >5</td>\n",
       "      <td id=\"T_93e50_row5_col3\" class=\"data row5 col3\" >4</td>\n",
       "      <td id=\"T_93e50_row5_col4\" class=\"data row5 col4\" >10</td>\n",
       "      <td id=\"T_93e50_row5_col5\" class=\"data row5 col5\" >2.000000</td>\n",
       "    </tr>\n",
       "    <tr>\n",
       "      <th id=\"T_93e50_level0_row6\" class=\"row_heading level0 row6\" >5</th>\n",
       "      <td id=\"T_93e50_row6_col0\" class=\"data row6 col0\" >Добавить страницу отзывов клиентов о магазине, что позволит увеличить количество заказов</td>\n",
       "      <td id=\"T_93e50_row6_col1\" class=\"data row6 col1\" >3</td>\n",
       "      <td id=\"T_93e50_row6_col2\" class=\"data row6 col2\" >2</td>\n",
       "      <td id=\"T_93e50_row6_col3\" class=\"data row6 col3\" >2</td>\n",
       "      <td id=\"T_93e50_row6_col4\" class=\"data row6 col4\" >3</td>\n",
       "      <td id=\"T_93e50_row6_col5\" class=\"data row6 col5\" >1.333333</td>\n",
       "    </tr>\n",
       "    <tr>\n",
       "      <th id=\"T_93e50_level0_row7\" class=\"row_heading level0 row7\" >3</th>\n",
       "      <td id=\"T_93e50_row7_col0\" class=\"data row7 col0\" >Изменить структура категорий, что увеличит конверсию, т.к. пользователи быстрее найдут нужный товар</td>\n",
       "      <td id=\"T_93e50_row7_col1\" class=\"data row7 col1\" >8</td>\n",
       "      <td id=\"T_93e50_row7_col2\" class=\"data row7 col2\" >3</td>\n",
       "      <td id=\"T_93e50_row7_col3\" class=\"data row7 col3\" >3</td>\n",
       "      <td id=\"T_93e50_row7_col4\" class=\"data row7 col4\" >8</td>\n",
       "      <td id=\"T_93e50_row7_col5\" class=\"data row7 col5\" >1.125000</td>\n",
       "    </tr>\n",
       "    <tr>\n",
       "      <th id=\"T_93e50_level0_row8\" class=\"row_heading level0 row8\" >4</th>\n",
       "      <td id=\"T_93e50_row8_col0\" class=\"data row8 col0\" >Изменить цвет фона главной страницы, чтобы увеличить вовлеченность пользователей</td>\n",
       "      <td id=\"T_93e50_row8_col1\" class=\"data row8 col1\" >3</td>\n",
       "      <td id=\"T_93e50_row8_col2\" class=\"data row8 col2\" >1</td>\n",
       "      <td id=\"T_93e50_row8_col3\" class=\"data row8 col3\" >1</td>\n",
       "      <td id=\"T_93e50_row8_col4\" class=\"data row8 col4\" >1</td>\n",
       "      <td id=\"T_93e50_row8_col5\" class=\"data row8 col5\" >1.000000</td>\n",
       "    </tr>\n",
       "  </tbody>\n",
       "</table>\n"
      ],
      "text/plain": [
       "<pandas.io.formats.style.Styler at 0x1d3cb49ba10>"
      ]
     },
     "execution_count": 28,
     "metadata": {},
     "output_type": "execute_result"
    }
   ],
   "source": [
    "hypothesis['ice'] = (hypothesis['impact'] * hypothesis['confidence']) / hypothesis['efforts'] \n",
    "\n",
    "hypothesis.sort_values(by='ice', ascending = False).style\\\n",
    ".highlight_max(color='lavender')\\\n",
    ".highlight_min(color='mistyrose')"
   ]
  },
  {
   "cell_type": "markdown",
   "metadata": {},
   "source": [
    "### Примените фреймворк RICE для приоритизации гипотез. Сортируем их по убыванию приоритета.\n"
   ]
  },
  {
   "cell_type": "markdown",
   "metadata": {},
   "source": [
    "RICE = (reach * impact * confidence) / efforts "
   ]
  },
  {
   "cell_type": "code",
   "execution_count": 29,
   "metadata": {},
   "outputs": [
    {
     "data": {
      "text/html": [
       "<div>\n",
       "<style scoped>\n",
       "    .dataframe tbody tr th:only-of-type {\n",
       "        vertical-align: middle;\n",
       "    }\n",
       "\n",
       "    .dataframe tbody tr th {\n",
       "        vertical-align: top;\n",
       "    }\n",
       "\n",
       "    .dataframe thead th {\n",
       "        text-align: right;\n",
       "    }\n",
       "</style>\n",
       "<table border=\"1\" class=\"dataframe\">\n",
       "  <thead>\n",
       "    <tr style=\"text-align: right;\">\n",
       "      <th></th>\n",
       "      <th>hypothesis</th>\n",
       "      <th>reach</th>\n",
       "      <th>impact</th>\n",
       "      <th>confidence</th>\n",
       "      <th>efforts</th>\n",
       "      <th>ice</th>\n",
       "      <th>rice</th>\n",
       "    </tr>\n",
       "  </thead>\n",
       "  <tbody>\n",
       "    <tr>\n",
       "      <th>7</th>\n",
       "      <td>Добавить форму подписки на все основные страни...</td>\n",
       "      <td>10</td>\n",
       "      <td>7</td>\n",
       "      <td>8</td>\n",
       "      <td>5</td>\n",
       "      <td>11.200000</td>\n",
       "      <td>112.0</td>\n",
       "    </tr>\n",
       "    <tr>\n",
       "      <th>2</th>\n",
       "      <td>Добавить блоки рекомендаций товаров на сайт ин...</td>\n",
       "      <td>8</td>\n",
       "      <td>3</td>\n",
       "      <td>7</td>\n",
       "      <td>3</td>\n",
       "      <td>7.000000</td>\n",
       "      <td>56.0</td>\n",
       "    </tr>\n",
       "    <tr>\n",
       "      <th>0</th>\n",
       "      <td>Добавить два новых канала привлечения трафика,...</td>\n",
       "      <td>3</td>\n",
       "      <td>10</td>\n",
       "      <td>8</td>\n",
       "      <td>6</td>\n",
       "      <td>13.333333</td>\n",
       "      <td>40.0</td>\n",
       "    </tr>\n",
       "    <tr>\n",
       "      <th>6</th>\n",
       "      <td>Показать на главной странице баннеры с актуаль...</td>\n",
       "      <td>5</td>\n",
       "      <td>3</td>\n",
       "      <td>8</td>\n",
       "      <td>3</td>\n",
       "      <td>8.000000</td>\n",
       "      <td>40.0</td>\n",
       "    </tr>\n",
       "    <tr>\n",
       "      <th>8</th>\n",
       "      <td>Запустить акцию, дающую скидку на товар в день...</td>\n",
       "      <td>1</td>\n",
       "      <td>9</td>\n",
       "      <td>9</td>\n",
       "      <td>5</td>\n",
       "      <td>16.200000</td>\n",
       "      <td>16.2</td>\n",
       "    </tr>\n",
       "    <tr>\n",
       "      <th>3</th>\n",
       "      <td>Изменить структура категорий, что увеличит кон...</td>\n",
       "      <td>8</td>\n",
       "      <td>3</td>\n",
       "      <td>3</td>\n",
       "      <td>8</td>\n",
       "      <td>1.125000</td>\n",
       "      <td>9.0</td>\n",
       "    </tr>\n",
       "    <tr>\n",
       "      <th>1</th>\n",
       "      <td>Запустить собственную службу доставки, что сок...</td>\n",
       "      <td>2</td>\n",
       "      <td>5</td>\n",
       "      <td>4</td>\n",
       "      <td>10</td>\n",
       "      <td>2.000000</td>\n",
       "      <td>4.0</td>\n",
       "    </tr>\n",
       "    <tr>\n",
       "      <th>5</th>\n",
       "      <td>Добавить страницу отзывов клиентов о магазине,...</td>\n",
       "      <td>3</td>\n",
       "      <td>2</td>\n",
       "      <td>2</td>\n",
       "      <td>3</td>\n",
       "      <td>1.333333</td>\n",
       "      <td>4.0</td>\n",
       "    </tr>\n",
       "    <tr>\n",
       "      <th>4</th>\n",
       "      <td>Изменить цвет фона главной страницы, чтобы уве...</td>\n",
       "      <td>3</td>\n",
       "      <td>1</td>\n",
       "      <td>1</td>\n",
       "      <td>1</td>\n",
       "      <td>1.000000</td>\n",
       "      <td>3.0</td>\n",
       "    </tr>\n",
       "  </tbody>\n",
       "</table>\n",
       "</div>"
      ],
      "text/plain": [
       "                                          hypothesis  reach  impact  \\\n",
       "7  Добавить форму подписки на все основные страни...     10       7   \n",
       "2  Добавить блоки рекомендаций товаров на сайт ин...      8       3   \n",
       "0  Добавить два новых канала привлечения трафика,...      3      10   \n",
       "6  Показать на главной странице баннеры с актуаль...      5       3   \n",
       "8  Запустить акцию, дающую скидку на товар в день...      1       9   \n",
       "3  Изменить структура категорий, что увеличит кон...      8       3   \n",
       "1  Запустить собственную службу доставки, что сок...      2       5   \n",
       "5  Добавить страницу отзывов клиентов о магазине,...      3       2   \n",
       "4  Изменить цвет фона главной страницы, чтобы уве...      3       1   \n",
       "\n",
       "   confidence  efforts        ice   rice  \n",
       "7           8        5  11.200000  112.0  \n",
       "2           7        3   7.000000   56.0  \n",
       "0           8        6  13.333333   40.0  \n",
       "6           8        3   8.000000   40.0  \n",
       "8           9        5  16.200000   16.2  \n",
       "3           3        8   1.125000    9.0  \n",
       "1           4       10   2.000000    4.0  \n",
       "5           2        3   1.333333    4.0  \n",
       "4           1        1   1.000000    3.0  "
      ]
     },
     "execution_count": 29,
     "metadata": {},
     "output_type": "execute_result"
    }
   ],
   "source": [
    "hypothesis['rice'] = (hypothesis['impact'] * hypothesis['confidence'] * hypothesis['reach']) / hypothesis['efforts'] \n",
    "hypothesis.sort_values(by='rice', ascending = False)"
   ]
  },
  {
   "cell_type": "markdown",
   "metadata": {},
   "source": [
    "#### Как изменилась приоритизация гипотез при применении RICE вместо ICE? "
   ]
  },
  {
   "cell_type": "code",
   "execution_count": 30,
   "metadata": {},
   "outputs": [
    {
     "data": {
      "text/html": [
       "<style type=\"text/css\">\n",
       "#T_9e28c_row0_col1, #T_9e28c_row0_col6, #T_9e28c_row2_col2, #T_9e28c_row3_col0, #T_9e28c_row4_col3, #T_9e28c_row4_col5, #T_9e28c_row6_col4 {\n",
       "  background-color: lavender;\n",
       "}\n",
       "#T_9e28c_row1_col0, #T_9e28c_row4_col1, #T_9e28c_row8_col2, #T_9e28c_row8_col3, #T_9e28c_row8_col4, #T_9e28c_row8_col5, #T_9e28c_row8_col6 {\n",
       "  background-color: mistyrose;\n",
       "}\n",
       "</style>\n",
       "<table id=\"T_9e28c\">\n",
       "  <thead>\n",
       "    <tr>\n",
       "      <th class=\"blank level0\" >&nbsp;</th>\n",
       "      <th id=\"T_9e28c_level0_col0\" class=\"col_heading level0 col0\" >hypothesis</th>\n",
       "      <th id=\"T_9e28c_level0_col1\" class=\"col_heading level0 col1\" >reach</th>\n",
       "      <th id=\"T_9e28c_level0_col2\" class=\"col_heading level0 col2\" >impact</th>\n",
       "      <th id=\"T_9e28c_level0_col3\" class=\"col_heading level0 col3\" >confidence</th>\n",
       "      <th id=\"T_9e28c_level0_col4\" class=\"col_heading level0 col4\" >efforts</th>\n",
       "      <th id=\"T_9e28c_level0_col5\" class=\"col_heading level0 col5\" >ice</th>\n",
       "      <th id=\"T_9e28c_level0_col6\" class=\"col_heading level0 col6\" >rice</th>\n",
       "    </tr>\n",
       "  </thead>\n",
       "  <tbody>\n",
       "    <tr>\n",
       "      <th id=\"T_9e28c_level0_row0\" class=\"row_heading level0 row0\" >7</th>\n",
       "      <td id=\"T_9e28c_row0_col0\" class=\"data row0 col0\" >Добавить форму подписки на все основные страницы, чтобы собрать базу клиентов для email-рассылок</td>\n",
       "      <td id=\"T_9e28c_row0_col1\" class=\"data row0 col1\" >10</td>\n",
       "      <td id=\"T_9e28c_row0_col2\" class=\"data row0 col2\" >7</td>\n",
       "      <td id=\"T_9e28c_row0_col3\" class=\"data row0 col3\" >8</td>\n",
       "      <td id=\"T_9e28c_row0_col4\" class=\"data row0 col4\" >5</td>\n",
       "      <td id=\"T_9e28c_row0_col5\" class=\"data row0 col5\" >11.200000</td>\n",
       "      <td id=\"T_9e28c_row0_col6\" class=\"data row0 col6\" >112.000000</td>\n",
       "    </tr>\n",
       "    <tr>\n",
       "      <th id=\"T_9e28c_level0_row1\" class=\"row_heading level0 row1\" >2</th>\n",
       "      <td id=\"T_9e28c_row1_col0\" class=\"data row1 col0\" >Добавить блоки рекомендаций товаров на сайт интернет магазина, чтобы повысить конверсию и средний чек заказа</td>\n",
       "      <td id=\"T_9e28c_row1_col1\" class=\"data row1 col1\" >8</td>\n",
       "      <td id=\"T_9e28c_row1_col2\" class=\"data row1 col2\" >3</td>\n",
       "      <td id=\"T_9e28c_row1_col3\" class=\"data row1 col3\" >7</td>\n",
       "      <td id=\"T_9e28c_row1_col4\" class=\"data row1 col4\" >3</td>\n",
       "      <td id=\"T_9e28c_row1_col5\" class=\"data row1 col5\" >7.000000</td>\n",
       "      <td id=\"T_9e28c_row1_col6\" class=\"data row1 col6\" >56.000000</td>\n",
       "    </tr>\n",
       "    <tr>\n",
       "      <th id=\"T_9e28c_level0_row2\" class=\"row_heading level0 row2\" >0</th>\n",
       "      <td id=\"T_9e28c_row2_col0\" class=\"data row2 col0\" >Добавить два новых канала привлечения трафика, что позволит привлекать на 30% больше пользователей</td>\n",
       "      <td id=\"T_9e28c_row2_col1\" class=\"data row2 col1\" >3</td>\n",
       "      <td id=\"T_9e28c_row2_col2\" class=\"data row2 col2\" >10</td>\n",
       "      <td id=\"T_9e28c_row2_col3\" class=\"data row2 col3\" >8</td>\n",
       "      <td id=\"T_9e28c_row2_col4\" class=\"data row2 col4\" >6</td>\n",
       "      <td id=\"T_9e28c_row2_col5\" class=\"data row2 col5\" >13.333333</td>\n",
       "      <td id=\"T_9e28c_row2_col6\" class=\"data row2 col6\" >40.000000</td>\n",
       "    </tr>\n",
       "    <tr>\n",
       "      <th id=\"T_9e28c_level0_row3\" class=\"row_heading level0 row3\" >6</th>\n",
       "      <td id=\"T_9e28c_row3_col0\" class=\"data row3 col0\" >Показать на главной странице баннеры с актуальными акциями и распродажами, чтобы увеличить конверсию</td>\n",
       "      <td id=\"T_9e28c_row3_col1\" class=\"data row3 col1\" >5</td>\n",
       "      <td id=\"T_9e28c_row3_col2\" class=\"data row3 col2\" >3</td>\n",
       "      <td id=\"T_9e28c_row3_col3\" class=\"data row3 col3\" >8</td>\n",
       "      <td id=\"T_9e28c_row3_col4\" class=\"data row3 col4\" >3</td>\n",
       "      <td id=\"T_9e28c_row3_col5\" class=\"data row3 col5\" >8.000000</td>\n",
       "      <td id=\"T_9e28c_row3_col6\" class=\"data row3 col6\" >40.000000</td>\n",
       "    </tr>\n",
       "    <tr>\n",
       "      <th id=\"T_9e28c_level0_row4\" class=\"row_heading level0 row4\" >8</th>\n",
       "      <td id=\"T_9e28c_row4_col0\" class=\"data row4 col0\" >Запустить акцию, дающую скидку на товар в день рождения</td>\n",
       "      <td id=\"T_9e28c_row4_col1\" class=\"data row4 col1\" >1</td>\n",
       "      <td id=\"T_9e28c_row4_col2\" class=\"data row4 col2\" >9</td>\n",
       "      <td id=\"T_9e28c_row4_col3\" class=\"data row4 col3\" >9</td>\n",
       "      <td id=\"T_9e28c_row4_col4\" class=\"data row4 col4\" >5</td>\n",
       "      <td id=\"T_9e28c_row4_col5\" class=\"data row4 col5\" >16.200000</td>\n",
       "      <td id=\"T_9e28c_row4_col6\" class=\"data row4 col6\" >16.200000</td>\n",
       "    </tr>\n",
       "    <tr>\n",
       "      <th id=\"T_9e28c_level0_row5\" class=\"row_heading level0 row5\" >3</th>\n",
       "      <td id=\"T_9e28c_row5_col0\" class=\"data row5 col0\" >Изменить структура категорий, что увеличит конверсию, т.к. пользователи быстрее найдут нужный товар</td>\n",
       "      <td id=\"T_9e28c_row5_col1\" class=\"data row5 col1\" >8</td>\n",
       "      <td id=\"T_9e28c_row5_col2\" class=\"data row5 col2\" >3</td>\n",
       "      <td id=\"T_9e28c_row5_col3\" class=\"data row5 col3\" >3</td>\n",
       "      <td id=\"T_9e28c_row5_col4\" class=\"data row5 col4\" >8</td>\n",
       "      <td id=\"T_9e28c_row5_col5\" class=\"data row5 col5\" >1.125000</td>\n",
       "      <td id=\"T_9e28c_row5_col6\" class=\"data row5 col6\" >9.000000</td>\n",
       "    </tr>\n",
       "    <tr>\n",
       "      <th id=\"T_9e28c_level0_row6\" class=\"row_heading level0 row6\" >1</th>\n",
       "      <td id=\"T_9e28c_row6_col0\" class=\"data row6 col0\" >Запустить собственную службу доставки, что сократит срок доставки заказов</td>\n",
       "      <td id=\"T_9e28c_row6_col1\" class=\"data row6 col1\" >2</td>\n",
       "      <td id=\"T_9e28c_row6_col2\" class=\"data row6 col2\" >5</td>\n",
       "      <td id=\"T_9e28c_row6_col3\" class=\"data row6 col3\" >4</td>\n",
       "      <td id=\"T_9e28c_row6_col4\" class=\"data row6 col4\" >10</td>\n",
       "      <td id=\"T_9e28c_row6_col5\" class=\"data row6 col5\" >2.000000</td>\n",
       "      <td id=\"T_9e28c_row6_col6\" class=\"data row6 col6\" >4.000000</td>\n",
       "    </tr>\n",
       "    <tr>\n",
       "      <th id=\"T_9e28c_level0_row7\" class=\"row_heading level0 row7\" >5</th>\n",
       "      <td id=\"T_9e28c_row7_col0\" class=\"data row7 col0\" >Добавить страницу отзывов клиентов о магазине, что позволит увеличить количество заказов</td>\n",
       "      <td id=\"T_9e28c_row7_col1\" class=\"data row7 col1\" >3</td>\n",
       "      <td id=\"T_9e28c_row7_col2\" class=\"data row7 col2\" >2</td>\n",
       "      <td id=\"T_9e28c_row7_col3\" class=\"data row7 col3\" >2</td>\n",
       "      <td id=\"T_9e28c_row7_col4\" class=\"data row7 col4\" >3</td>\n",
       "      <td id=\"T_9e28c_row7_col5\" class=\"data row7 col5\" >1.333333</td>\n",
       "      <td id=\"T_9e28c_row7_col6\" class=\"data row7 col6\" >4.000000</td>\n",
       "    </tr>\n",
       "    <tr>\n",
       "      <th id=\"T_9e28c_level0_row8\" class=\"row_heading level0 row8\" >4</th>\n",
       "      <td id=\"T_9e28c_row8_col0\" class=\"data row8 col0\" >Изменить цвет фона главной страницы, чтобы увеличить вовлеченность пользователей</td>\n",
       "      <td id=\"T_9e28c_row8_col1\" class=\"data row8 col1\" >3</td>\n",
       "      <td id=\"T_9e28c_row8_col2\" class=\"data row8 col2\" >1</td>\n",
       "      <td id=\"T_9e28c_row8_col3\" class=\"data row8 col3\" >1</td>\n",
       "      <td id=\"T_9e28c_row8_col4\" class=\"data row8 col4\" >1</td>\n",
       "      <td id=\"T_9e28c_row8_col5\" class=\"data row8 col5\" >1.000000</td>\n",
       "      <td id=\"T_9e28c_row8_col6\" class=\"data row8 col6\" >3.000000</td>\n",
       "    </tr>\n",
       "  </tbody>\n",
       "</table>\n"
      ],
      "text/plain": [
       "<pandas.io.formats.style.Styler at 0x1d3cc9680d0>"
      ]
     },
     "execution_count": 30,
     "metadata": {},
     "output_type": "execute_result"
    }
   ],
   "source": [
    "hypothesis.sort_values(by = 'rice', ascending = False).style\\\n",
    ".highlight_max(color='lavender')\\\n",
    ".highlight_min(color='mistyrose')\n"
   ]
  },
  {
   "cell_type": "markdown",
   "metadata": {},
   "source": [
    "Согласно фреймворку ICE самой приоритетной гипотезой должна стать \"Запустить акцию, дающую скидку на товар в день рождения\". Согласно фреймворку RICE - \"Добавить форму подписки на все основные страницы, чтобы собрать базу клиентов для email-рассылок\", а запуск акции в день рождения находится далеко не на первом месте. \n",
    "\n",
    "Теория по Rice могут иметь больший приоритет по прчине того, что её введение отразится на большем числе пользователей при той же стоимости проведения. В то же время теория по ICE вызывает большую уверенность и лучше отразится а опыте пользования продуктом"
   ]
  },
  {
   "cell_type": "markdown",
   "metadata": {},
   "source": [
    "## Анализируем A/B-тест:\n",
    "- [x] Постройте график кумулятивной выручки по группам. Сделайте выводы и предположения.\n",
    "- [x] Постройте график кумулятивного среднего чека по группам. Сделайте выводы и предположения.\n",
    "- [x] Постройте график относительного изменения кумулятивного среднего чека группы B к группе A. Сделайте выводы и предположения.\n",
    "- [x] Постройте график кумулятивного среднего количества заказов на посетителя по группам. Сделайте выводы и предположения.\n",
    "- [x] Постройте график относительного изменения кумулятивного среднего количества заказов на посетителя группы B к группе A.  Сделайте выводы и предположения.\n",
    "- [x] Постройте точечный график количества заказов по пользователям. Сделайте выводы и предположения.\n",
    "- [x] Посчитайте 95-й и 99-й перцентили количества заказов на пользователя. Выберите границу для определения аномальных пользователей.\n",
    "- [x] Постройте точечный график стоимостей заказов. Сделайте выводы и предположения.\n",
    "- [x] Посчитайте 95-й и 99-й перцентили стоимости заказов. Выберите границу для определения аномальных заказов.\n",
    "-[x] Посчитайте статистическую значимость различий в среднем количестве заказов на посетителя между группами по «сырым» данным. - - Сделайте выводы и предположения.\n",
    "- [x] Посчитайте статистическую значимость различий в среднем чеке заказа между группами по «сырым» данным. Сделайте выводы и предположения.\n",
    "- [x] Посчитайте статистическую значимость различий в среднем количестве заказов на посетителя между группами по «очищенным» данным. Сделайте выводы и предположения.\n",
    "- [x] Посчитайте статистическую значимость различий в среднем чеке заказа между группами по «очищенным» данным. Сделайте выводы и предположения.\n",
    "- [x] Примите решение по результатам теста и объясните его. Варианты решений:\n",
    "1. Остановить тест, зафиксировать победу одной из групп.\n",
    "2. Остановить тест, зафиксировать отсутствие различий между группами.\n",
    "3. Продолжить тест."
   ]
  },
  {
   "cell_type": "markdown",
   "metadata": {},
   "source": [
    "### График кумулятивной выручки по группам"
   ]
  },
  {
   "cell_type": "markdown",
   "metadata": {},
   "source": [
    "#### Создаю кумулятивный датафрейм"
   ]
  },
  {
   "cell_type": "code",
   "execution_count": 31,
   "metadata": {},
   "outputs": [
    {
     "data": {
      "text/plain": [
       "0"
      ]
     },
     "execution_count": 31,
     "metadata": {},
     "output_type": "execute_result"
    }
   ],
   "source": [
    "date_group = orders[['date','group']].drop_duplicates()\n",
    "date_group.duplicated().sum()"
   ]
  },
  {
   "cell_type": "code",
   "execution_count": 32,
   "metadata": {},
   "outputs": [
    {
     "data": {
      "text/html": [
       "<div>\n",
       "<style scoped>\n",
       "    .dataframe tbody tr th:only-of-type {\n",
       "        vertical-align: middle;\n",
       "    }\n",
       "\n",
       "    .dataframe tbody tr th {\n",
       "        vertical-align: top;\n",
       "    }\n",
       "\n",
       "    .dataframe thead th {\n",
       "        text-align: right;\n",
       "    }\n",
       "</style>\n",
       "<table border=\"1\" class=\"dataframe\">\n",
       "  <thead>\n",
       "    <tr style=\"text-align: right;\">\n",
       "      <th></th>\n",
       "      <th>date</th>\n",
       "      <th>group</th>\n",
       "      <th>transaction_id</th>\n",
       "      <th>visitor_id</th>\n",
       "      <th>revenue</th>\n",
       "    </tr>\n",
       "  </thead>\n",
       "  <tbody>\n",
       "    <tr>\n",
       "      <th>55</th>\n",
       "      <td>2019-08-01</td>\n",
       "      <td>A</td>\n",
       "      <td>23</td>\n",
       "      <td>19</td>\n",
       "      <td>142779</td>\n",
       "    </tr>\n",
       "    <tr>\n",
       "      <th>66</th>\n",
       "      <td>2019-08-01</td>\n",
       "      <td>B</td>\n",
       "      <td>17</td>\n",
       "      <td>17</td>\n",
       "      <td>59758</td>\n",
       "    </tr>\n",
       "    <tr>\n",
       "      <th>175</th>\n",
       "      <td>2019-08-02</td>\n",
       "      <td>A</td>\n",
       "      <td>42</td>\n",
       "      <td>36</td>\n",
       "      <td>234381</td>\n",
       "    </tr>\n",
       "    <tr>\n",
       "      <th>173</th>\n",
       "      <td>2019-08-02</td>\n",
       "      <td>B</td>\n",
       "      <td>40</td>\n",
       "      <td>39</td>\n",
       "      <td>221801</td>\n",
       "    </tr>\n",
       "    <tr>\n",
       "      <th>291</th>\n",
       "      <td>2019-08-03</td>\n",
       "      <td>A</td>\n",
       "      <td>66</td>\n",
       "      <td>60</td>\n",
       "      <td>346854</td>\n",
       "    </tr>\n",
       "  </tbody>\n",
       "</table>\n",
       "</div>"
      ],
      "text/plain": [
       "          date group  transaction_id  visitor_id  revenue\n",
       "55  2019-08-01     A              23          19   142779\n",
       "66  2019-08-01     B              17          17    59758\n",
       "175 2019-08-02     A              42          36   234381\n",
       "173 2019-08-02     B              40          39   221801\n",
       "291 2019-08-03     A              66          60   346854"
      ]
     },
     "execution_count": 32,
     "metadata": {},
     "output_type": "execute_result"
    }
   ],
   "source": [
    "orders_ag = date_group.apply(lambda x: orders[np.logical_and(orders['date'] <= x['date'], orders['group'] == x['group'])]\\\n",
    ".agg({'date' : 'max', 'group' : 'max', 'transaction_id' : 'nunique', 'visitor_id' : 'nunique', 'revenue' : 'sum'}), axis=1).sort_values(by=['date','group'])\n",
    "\n",
    "orders_ag.head()"
   ]
  },
  {
   "cell_type": "code",
   "execution_count": 33,
   "metadata": {},
   "outputs": [
    {
     "data": {
      "text/html": [
       "<div>\n",
       "<style scoped>\n",
       "    .dataframe tbody tr th:only-of-type {\n",
       "        vertical-align: middle;\n",
       "    }\n",
       "\n",
       "    .dataframe tbody tr th {\n",
       "        vertical-align: top;\n",
       "    }\n",
       "\n",
       "    .dataframe thead th {\n",
       "        text-align: right;\n",
       "    }\n",
       "</style>\n",
       "<table border=\"1\" class=\"dataframe\">\n",
       "  <thead>\n",
       "    <tr style=\"text-align: right;\">\n",
       "      <th></th>\n",
       "      <th>date</th>\n",
       "      <th>group</th>\n",
       "      <th>visitors</th>\n",
       "    </tr>\n",
       "  </thead>\n",
       "  <tbody>\n",
       "    <tr>\n",
       "      <th>55</th>\n",
       "      <td>2019-08-01</td>\n",
       "      <td>A</td>\n",
       "      <td>1</td>\n",
       "    </tr>\n",
       "    <tr>\n",
       "      <th>66</th>\n",
       "      <td>2019-08-01</td>\n",
       "      <td>B</td>\n",
       "      <td>1</td>\n",
       "    </tr>\n",
       "    <tr>\n",
       "      <th>175</th>\n",
       "      <td>2019-08-02</td>\n",
       "      <td>A</td>\n",
       "      <td>2</td>\n",
       "    </tr>\n",
       "    <tr>\n",
       "      <th>173</th>\n",
       "      <td>2019-08-02</td>\n",
       "      <td>B</td>\n",
       "      <td>2</td>\n",
       "    </tr>\n",
       "    <tr>\n",
       "      <th>291</th>\n",
       "      <td>2019-08-03</td>\n",
       "      <td>A</td>\n",
       "      <td>3</td>\n",
       "    </tr>\n",
       "  </tbody>\n",
       "</table>\n",
       "</div>"
      ],
      "text/plain": [
       "          date group  visitors\n",
       "55  2019-08-01     A         1\n",
       "66  2019-08-01     B         1\n",
       "175 2019-08-02     A         2\n",
       "173 2019-08-02     B         2\n",
       "291 2019-08-03     A         3"
      ]
     },
     "execution_count": 33,
     "metadata": {},
     "output_type": "execute_result"
    }
   ],
   "source": [
    "visitors_ag = date_group.apply(lambda x: visitors[np.logical_and(visitors['date'] <= x['date'], visitors['group'] == x['group'])]\\\n",
    ".agg({'date' : 'max', 'group' : 'max', 'visitors' : 'nunique'}), axis=1).sort_values(by=['date','group'])\n",
    "\n",
    "visitors_ag.head()"
   ]
  },
  {
   "cell_type": "code",
   "execution_count": 34,
   "metadata": {},
   "outputs": [
    {
     "data": {
      "text/html": [
       "<div>\n",
       "<style scoped>\n",
       "    .dataframe tbody tr th:only-of-type {\n",
       "        vertical-align: middle;\n",
       "    }\n",
       "\n",
       "    .dataframe tbody tr th {\n",
       "        vertical-align: top;\n",
       "    }\n",
       "\n",
       "    .dataframe thead th {\n",
       "        text-align: right;\n",
       "    }\n",
       "</style>\n",
       "<table border=\"1\" class=\"dataframe\">\n",
       "  <thead>\n",
       "    <tr style=\"text-align: right;\">\n",
       "      <th></th>\n",
       "      <th>date</th>\n",
       "      <th>group</th>\n",
       "      <th>orders</th>\n",
       "      <th>buyers</th>\n",
       "      <th>revenue</th>\n",
       "      <th>visitors</th>\n",
       "    </tr>\n",
       "  </thead>\n",
       "  <tbody>\n",
       "    <tr>\n",
       "      <th>0</th>\n",
       "      <td>2019-08-01</td>\n",
       "      <td>A</td>\n",
       "      <td>23</td>\n",
       "      <td>19</td>\n",
       "      <td>142779</td>\n",
       "      <td>1</td>\n",
       "    </tr>\n",
       "    <tr>\n",
       "      <th>1</th>\n",
       "      <td>2019-08-01</td>\n",
       "      <td>B</td>\n",
       "      <td>17</td>\n",
       "      <td>17</td>\n",
       "      <td>59758</td>\n",
       "      <td>1</td>\n",
       "    </tr>\n",
       "    <tr>\n",
       "      <th>2</th>\n",
       "      <td>2019-08-02</td>\n",
       "      <td>A</td>\n",
       "      <td>42</td>\n",
       "      <td>36</td>\n",
       "      <td>234381</td>\n",
       "      <td>2</td>\n",
       "    </tr>\n",
       "    <tr>\n",
       "      <th>3</th>\n",
       "      <td>2019-08-02</td>\n",
       "      <td>B</td>\n",
       "      <td>40</td>\n",
       "      <td>39</td>\n",
       "      <td>221801</td>\n",
       "      <td>2</td>\n",
       "    </tr>\n",
       "    <tr>\n",
       "      <th>4</th>\n",
       "      <td>2019-08-03</td>\n",
       "      <td>A</td>\n",
       "      <td>66</td>\n",
       "      <td>60</td>\n",
       "      <td>346854</td>\n",
       "      <td>3</td>\n",
       "    </tr>\n",
       "  </tbody>\n",
       "</table>\n",
       "</div>"
      ],
      "text/plain": [
       "        date group  orders  buyers  revenue  visitors\n",
       "0 2019-08-01     A      23      19   142779         1\n",
       "1 2019-08-01     B      17      17    59758         1\n",
       "2 2019-08-02     A      42      36   234381         2\n",
       "3 2019-08-02     B      40      39   221801         2\n",
       "4 2019-08-03     A      66      60   346854         3"
      ]
     },
     "execution_count": 34,
     "metadata": {},
     "output_type": "execute_result"
    }
   ],
   "source": [
    "cumulative_df = orders_ag.merge(visitors_ag, left_on= ['date', 'group'], right_on = ['date', 'group'])\n",
    "cumulative_df.columns = ['date', 'group', 'orders', 'buyers', 'revenue', 'visitors']\n",
    "\n",
    "cumulative_df.head()"
   ]
  },
  {
   "cell_type": "markdown",
   "metadata": {},
   "source": [
    "#### График кумулятивной выручки по группам"
   ]
  },
  {
   "cell_type": "code",
   "execution_count": 35,
   "metadata": {},
   "outputs": [],
   "source": [
    "cumrev_a = cumulative_df.query('group == \"A\"')[['date','revenue', 'orders']]\n",
    "cumrev_b = cumulative_df.query('group == \"B\"')[['date','revenue', 'orders']]"
   ]
  },
  {
   "cell_type": "code",
   "execution_count": 36,
   "metadata": {},
   "outputs": [
    {
     "data": {
      "image/png": "[encoded data removed]",
      "text/plain": [
       "<Figure size 1000x600 with 1 Axes>"
      ]
     },
     "metadata": {},
     "output_type": "display_data"
    }
   ],
   "source": [
    "plt.figure(figsize = (10,6))\n",
    "plt.plot(cumrev_a['date'], cumrev_a['revenue'], label='A')\n",
    "plt.plot(cumrev_b['date'], cumrev_b['revenue'], label='B')\n",
    "plt.title('Кумулятивная выручка по группам')\n",
    "plt.xlabel('Дата')\n",
    "plt.ylabel('Выручка')\n",
    "plt.xticks(rotation=50)\n",
    "plt.legend()\n",
    "plt.show()"
   ]
  },
  {
   "cell_type": "markdown",
   "metadata": {},
   "source": [
    "Выручка в обеих группах увеличиваются, но у группы В между 17 и 21 августа обнаруживается резкий рост. Это может быть вызвано резким повышением числа покупок в эти дни"
   ]
  },
  {
   "cell_type": "markdown",
   "metadata": {},
   "source": [
    "### График кумулятивного среднего чека по группам. "
   ]
  },
  {
   "cell_type": "code",
   "execution_count": 37,
   "metadata": {},
   "outputs": [
    {
     "data": {
      "image/png": "[encoded data removed]",
      "text/plain": [
       "<Figure size 1000x600 with 1 Axes>"
      ]
     },
     "metadata": {},
     "output_type": "display_data"
    }
   ],
   "source": [
    "plt.figure(figsize = (10,6))\n",
    "plt.plot(cumrev_a['date'], cumrev_a['revenue'] /cumrev_a['orders'], label='A')\n",
    "plt.plot(cumrev_b['date'], cumrev_b['revenue'] /cumrev_b['orders'], label='B')\n",
    "plt.title('Кумулятивный средний чек по группам')\n",
    "plt.xlabel('Дата')\n",
    "plt.ylabel('Выручка')\n",
    "plt.xticks(rotation=50)\n",
    "plt.legend()\n",
    "plt.show()"
   ]
  },
  {
   "cell_type": "markdown",
   "metadata": {},
   "source": [
    "Средний чек между группами в начале флуктуирует, значения среднего чека то растут, то падают. Затем у группы В обнаруживается резкий рост, затем снижение. Это может быть объяснено покупкой на большую сумму. В то же время возножны и ошибки сервера/продавца и т.д. "
   ]
  },
  {
   "cell_type": "markdown",
   "metadata": {},
   "source": [
    "### График относительного изменения кумулятивного среднего чека группы B к группе A"
   ]
  },
  {
   "cell_type": "code",
   "execution_count": 38,
   "metadata": {},
   "outputs": [
    {
     "data": {
      "text/html": [
       "<div>\n",
       "<style scoped>\n",
       "    .dataframe tbody tr th:only-of-type {\n",
       "        vertical-align: middle;\n",
       "    }\n",
       "\n",
       "    .dataframe tbody tr th {\n",
       "        vertical-align: top;\n",
       "    }\n",
       "\n",
       "    .dataframe thead th {\n",
       "        text-align: right;\n",
       "    }\n",
       "</style>\n",
       "<table border=\"1\" class=\"dataframe\">\n",
       "  <thead>\n",
       "    <tr style=\"text-align: right;\">\n",
       "      <th></th>\n",
       "      <th>date</th>\n",
       "      <th>revenueA</th>\n",
       "      <th>ordersA</th>\n",
       "      <th>revenueB</th>\n",
       "      <th>ordersB</th>\n",
       "    </tr>\n",
       "  </thead>\n",
       "  <tbody>\n",
       "    <tr>\n",
       "      <th>0</th>\n",
       "      <td>2019-08-01</td>\n",
       "      <td>142779</td>\n",
       "      <td>23</td>\n",
       "      <td>59758</td>\n",
       "      <td>17</td>\n",
       "    </tr>\n",
       "    <tr>\n",
       "      <th>1</th>\n",
       "      <td>2019-08-02</td>\n",
       "      <td>234381</td>\n",
       "      <td>42</td>\n",
       "      <td>221801</td>\n",
       "      <td>40</td>\n",
       "    </tr>\n",
       "    <tr>\n",
       "      <th>2</th>\n",
       "      <td>2019-08-03</td>\n",
       "      <td>346854</td>\n",
       "      <td>66</td>\n",
       "      <td>288850</td>\n",
       "      <td>54</td>\n",
       "    </tr>\n",
       "    <tr>\n",
       "      <th>3</th>\n",
       "      <td>2019-08-04</td>\n",
       "      <td>388030</td>\n",
       "      <td>77</td>\n",
       "      <td>385740</td>\n",
       "      <td>68</td>\n",
       "    </tr>\n",
       "    <tr>\n",
       "      <th>4</th>\n",
       "      <td>2019-08-05</td>\n",
       "      <td>474413</td>\n",
       "      <td>99</td>\n",
       "      <td>475648</td>\n",
       "      <td>89</td>\n",
       "    </tr>\n",
       "  </tbody>\n",
       "</table>\n",
       "</div>"
      ],
      "text/plain": [
       "        date  revenueA  ordersA  revenueB  ordersB\n",
       "0 2019-08-01    142779       23     59758       17\n",
       "1 2019-08-02    234381       42    221801       40\n",
       "2 2019-08-03    346854       66    288850       54\n",
       "3 2019-08-04    388030       77    385740       68\n",
       "4 2019-08-05    474413       99    475648       89"
      ]
     },
     "execution_count": 38,
     "metadata": {},
     "output_type": "execute_result"
    }
   ],
   "source": [
    "cumrev_both = cumrev_a.merge(cumrev_b, left_on = 'date', right_on = 'date', suffixes = ['A', 'B'])\n",
    "cumrev_both.head()"
   ]
  },
  {
   "cell_type": "code",
   "execution_count": 39,
   "metadata": {},
   "outputs": [
    {
     "data": {
      "image/png": "[encoded data removed]",
      "text/plain": [
       "<Figure size 1000x600 with 1 Axes>"
      ]
     },
     "metadata": {},
     "output_type": "display_data"
    }
   ],
   "source": [
    "plt.figure(figsize = (10,6))\n",
    "plt.plot(cumrev_both['date'], (cumrev_both['revenueB']/cumrev_both['ordersB'])/(cumrev_both['revenueA']/cumrev_both['ordersA'])-1)\n",
    "plt.axhline(y=0, color='black', linestyle ='--')\n",
    "plt.title('Относительное изменение кумулятивного среднего чека группы В к группе А')\n",
    "plt.xlabel('Дата')\n",
    "plt.ylabel('Выручка')\n",
    "plt.xticks(rotation=50)\n",
    "plt.show()"
   ]
  },
  {
   "cell_type": "markdown",
   "metadata": {},
   "source": [
    "\n",
    "\n",
    "Из графика видим, что средний чек сильно меняется от одного дня к другому. 9-13 августа произошла сильная просадка и падение среднего чека."
   ]
  },
  {
   "cell_type": "markdown",
   "metadata": {},
   "source": [
    "### График кумулятивного среднего количества заказов на посетителя по группам"
   ]
  },
  {
   "cell_type": "code",
   "execution_count": 40,
   "metadata": {},
   "outputs": [],
   "source": [
    "cumulative_df['conversion'] = cumulative_df['orders']/cumulative_df['visitors']\n",
    "cumulative_df_a = cumulative_df.query('group ==\"A\"')\n",
    "cumulative_df_b = cumulative_df.query('group == \"B\"')"
   ]
  },
  {
   "cell_type": "code",
   "execution_count": 41,
   "metadata": {},
   "outputs": [
    {
     "data": {
      "text/plain": [
       "Timestamp('2019-08-01 00:00:00')"
      ]
     },
     "execution_count": 41,
     "metadata": {},
     "output_type": "execute_result"
    }
   ],
   "source": [
    "cumulative_df['date'].min()"
   ]
  },
  {
   "cell_type": "code",
   "execution_count": 42,
   "metadata": {},
   "outputs": [
    {
     "data": {
      "text/plain": [
       "Timestamp('2019-08-31 00:00:00')"
      ]
     },
     "execution_count": 42,
     "metadata": {},
     "output_type": "execute_result"
    }
   ],
   "source": [
    "cumulative_df['date'].max()"
   ]
  },
  {
   "cell_type": "code",
   "execution_count": 43,
   "metadata": {},
   "outputs": [
    {
     "data": {
      "image/png": "[encoded data removed]",
      "text/plain": [
       "<Figure size 1000x600 with 1 Axes>"
      ]
     },
     "metadata": {},
     "output_type": "display_data"
    }
   ],
   "source": [
    "plt.figure(figsize = (10,6))\n",
    "plt.plot(cumulative_df_a['date'], cumulative_df_a['conversion'], label='A')\n",
    "plt.plot(cumulative_df_b['date'], cumulative_df_b['conversion'], label='B')\n",
    "plt.axis([dt.datetime(2019, 8, 1), dt.datetime(2019, 8, 31), 10, 30])\n",
    "plt.title('Кумулятивное среднее количество заказов на посетителя по группам')\n",
    "plt.xlabel('Дата')\n",
    "plt.ylabel('Выручка')\n",
    "plt.xticks(rotation=50)\n",
    "plt.legend()\n",
    "plt.show()"
   ]
  },
  {
   "cell_type": "markdown",
   "metadata": {},
   "source": [
    "В начале среднее число заказов группы А было выше, но затем группа В обогнала группу А по этому показателю. Заметно редкое падение у группы В, затем такой же резкий рост, в то время как показатели группы А стабильно снижались"
   ]
  },
  {
   "cell_type": "markdown",
   "metadata": {},
   "source": [
    "### График относительного изменения кумулятивного среднего количества заказов на посетителя группы B к группе A"
   ]
  },
  {
   "cell_type": "code",
   "execution_count": 44,
   "metadata": {},
   "outputs": [],
   "source": [
    "merged_cumulative_df = cumulative_df_a[['date','conversion']]\\\n",
    ".merge(cumulative_df_b[['date','conversion']], left_on='date', right_on='date', how='left', suffixes=['A', 'B'])    "
   ]
  },
  {
   "cell_type": "code",
   "execution_count": 45,
   "metadata": {},
   "outputs": [
    {
     "data": {
      "image/png": "[encoded data removed]",
      "text/plain": [
       "<Figure size 1000x600 with 1 Axes>"
      ]
     },
     "metadata": {},
     "output_type": "display_data"
    }
   ],
   "source": [
    "plt.figure(figsize = (10,6))\n",
    "plt.plot(merged_cumulative_df['date'], merged_cumulative_df['conversionB']/merged_cumulative_df['conversionA'] -1)\n",
    "\n",
    "plt.axhline(y=0, color='green', linestyle='--')\n",
    "plt.axhline(y=0.2, color='grey', linestyle='--')\n",
    "\n",
    "plt.title('Oтносительное изменение кумулятивного среднего количества заказов на посетителя группы B к группе A')\n",
    "plt.xlabel('Дата')\n",
    "plt.ylabel('Выручка')\n",
    "plt.xticks(rotation=50)\n",
    "\n",
    "plt.axis([dt.datetime(2019, 8, 1), dt.datetime(2019, 8, 31), -0.5, 0.5])\n",
    "\n",
    "plt.show()"
   ]
  },
  {
   "cell_type": "markdown",
   "metadata": {},
   "source": [
    "Группа В лидирует. Прирост относительно группы А составил почти 20%"
   ]
  },
  {
   "cell_type": "markdown",
   "metadata": {},
   "source": [
    "### Точечный график количества заказов по пользователям"
   ]
  },
  {
   "cell_type": "code",
   "execution_count": 46,
   "metadata": {},
   "outputs": [
    {
     "data": {
      "text/html": [
       "<div>\n",
       "<style scoped>\n",
       "    .dataframe tbody tr th:only-of-type {\n",
       "        vertical-align: middle;\n",
       "    }\n",
       "\n",
       "    .dataframe tbody tr th {\n",
       "        vertical-align: top;\n",
       "    }\n",
       "\n",
       "    .dataframe thead th {\n",
       "        text-align: right;\n",
       "    }\n",
       "</style>\n",
       "<table border=\"1\" class=\"dataframe\">\n",
       "  <thead>\n",
       "    <tr style=\"text-align: right;\">\n",
       "      <th></th>\n",
       "      <th>visitor_id</th>\n",
       "      <th>transaction_id</th>\n",
       "    </tr>\n",
       "  </thead>\n",
       "  <tbody>\n",
       "    <tr>\n",
       "      <th>908</th>\n",
       "      <td>3967698036</td>\n",
       "      <td>3</td>\n",
       "    </tr>\n",
       "    <tr>\n",
       "      <th>55</th>\n",
       "      <td>249864742</td>\n",
       "      <td>3</td>\n",
       "    </tr>\n",
       "    <tr>\n",
       "      <th>478</th>\n",
       "      <td>2108163459</td>\n",
       "      <td>3</td>\n",
       "    </tr>\n",
       "    <tr>\n",
       "      <th>687</th>\n",
       "      <td>2988190573</td>\n",
       "      <td>3</td>\n",
       "    </tr>\n",
       "    <tr>\n",
       "      <th>890</th>\n",
       "      <td>3908431265</td>\n",
       "      <td>3</td>\n",
       "    </tr>\n",
       "  </tbody>\n",
       "</table>\n",
       "</div>"
      ],
      "text/plain": [
       "     visitor_id  transaction_id\n",
       "908  3967698036               3\n",
       "55    249864742               3\n",
       "478  2108163459               3\n",
       "687  2988190573               3\n",
       "890  3908431265               3"
      ]
     },
     "execution_count": 46,
     "metadata": {},
     "output_type": "execute_result"
    }
   ],
   "source": [
    "orders_by_users = orders.groupby('visitor_id', as_index = False).agg({'transaction_id' : 'nunique'})\\\n",
    ".sort_values(by = 'transaction_id', ascending = False)\n",
    "\n",
    "orders_by_users.head()"
   ]
  },
  {
   "cell_type": "code",
   "execution_count": 47,
   "metadata": {},
   "outputs": [
    {
     "data": {
      "image/png": "[encoded data removed]",
      "text/plain": [
       "<Figure size 1000x600 with 1 Axes>"
      ]
     },
     "metadata": {},
     "output_type": "display_data"
    }
   ],
   "source": [
    "plt.figure(figsize = (10,6))\n",
    "orders_by_users['transaction_id'].hist()\n",
    "plt.title('Гистограмма количества заказов по пользователям')\n",
    "plt.xlabel('Заказы')\n",
    "plt.ylabel('Количество пользователей')\n",
    "#plt.xticks(rotation=50)\n",
    "\n",
    "plt.show()"
   ]
  },
  {
   "cell_type": "code",
   "execution_count": 48,
   "metadata": {},
   "outputs": [
    {
     "data": {
      "image/png": "[encoded data removed]",
      "text/plain": [
       "<Figure size 1000x600 with 1 Axes>"
      ]
     },
     "metadata": {},
     "output_type": "display_data"
    }
   ],
   "source": [
    "plt.figure(figsize = (10,6))\n",
    "xval = pd.Series(range(0, len(orders_by_users)))\n",
    "plt.scatter(xval, orders_by_users['transaction_id']) \n",
    "\n",
    "plt.title('Точечный график количества заказов по пользователям')\n",
    "plt.xlabel('Количество пользователей')\n",
    "plt.ylabel ('заказы')\n",
    "#plt.xticks(rotation=50)\n",
    "\n",
    "plt.show()"
   ]
  },
  {
   "cell_type": "markdown",
   "metadata": {},
   "source": [
    "В основном на одного клиента приходится по 1-2 заказа, реже до 4х, но есть аномальные значения с бОльшим числом заказов. Есть несколько пользователей, которые совершили больше 10 заказов"
   ]
  },
  {
   "cell_type": "markdown",
   "metadata": {},
   "source": [
    "### Считаем 95-й и 99-й перцентили количества заказов на пользователя. Выбор границ для определения аномальных пользователей."
   ]
  },
  {
   "cell_type": "code",
   "execution_count": 49,
   "metadata": {},
   "outputs": [
    {
     "data": {
      "text/plain": [
       "array([1., 1., 2.])"
      ]
     },
     "execution_count": 49,
     "metadata": {},
     "output_type": "execute_result"
    }
   ],
   "source": [
    "#order_by_users\n",
    "np.percentile(orders_by_users['transaction_id'], [90, 95, 99])"
   ]
  },
  {
   "cell_type": "markdown",
   "metadata": {},
   "source": [
    "Всего 1 процент пользователей совершил больше 4х заказов и не более 5% пользователей совершили больше 2х заказов. Иными словами 95% пользователей совершили всего 1-2 заказа (до изменений)"
   ]
  },
  {
   "cell_type": "code",
   "execution_count": 50,
   "metadata": {},
   "outputs": [
    {
     "data": {
      "text/plain": [
       "array([1., 1., 1.])"
      ]
     },
     "execution_count": 50,
     "metadata": {},
     "output_type": "execute_result"
    }
   ],
   "source": [
    "np.percentile(orders_by_users['transaction_id'], [90, 92, 93])"
   ]
  },
  {
   "cell_type": "markdown",
   "metadata": {},
   "source": [
    "Можем наблюдать, что только 7% пользователей совершили больше 1 заказа"
   ]
  },
  {
   "cell_type": "markdown",
   "metadata": {},
   "source": [
    "### Точечный график стоимостей заказов"
   ]
  },
  {
   "cell_type": "code",
   "execution_count": 51,
   "metadata": {},
   "outputs": [
    {
     "data": {
      "text/html": [
       "<div>\n",
       "<style scoped>\n",
       "    .dataframe tbody tr th:only-of-type {\n",
       "        vertical-align: middle;\n",
       "    }\n",
       "\n",
       "    .dataframe tbody tr th {\n",
       "        vertical-align: top;\n",
       "    }\n",
       "\n",
       "    .dataframe thead th {\n",
       "        text-align: right;\n",
       "    }\n",
       "</style>\n",
       "<table border=\"1\" class=\"dataframe\">\n",
       "  <thead>\n",
       "    <tr style=\"text-align: right;\">\n",
       "      <th></th>\n",
       "      <th>transaction_id</th>\n",
       "      <th>visitor_id</th>\n",
       "      <th>date</th>\n",
       "      <th>revenue</th>\n",
       "      <th>group</th>\n",
       "    </tr>\n",
       "  </thead>\n",
       "  <tbody>\n",
       "    <tr>\n",
       "      <th>425</th>\n",
       "      <td>590470918</td>\n",
       "      <td>1920142716</td>\n",
       "      <td>2019-08-19</td>\n",
       "      <td>1294500</td>\n",
       "      <td>B</td>\n",
       "    </tr>\n",
       "    <tr>\n",
       "      <th>1196</th>\n",
       "      <td>3936777065</td>\n",
       "      <td>2108080724</td>\n",
       "      <td>2019-08-15</td>\n",
       "      <td>202740</td>\n",
       "      <td>B</td>\n",
       "    </tr>\n",
       "    <tr>\n",
       "      <th>1136</th>\n",
       "      <td>666610489</td>\n",
       "      <td>1307669133</td>\n",
       "      <td>2019-08-13</td>\n",
       "      <td>92550</td>\n",
       "      <td>A</td>\n",
       "    </tr>\n",
       "    <tr>\n",
       "      <th>744</th>\n",
       "      <td>3668308183</td>\n",
       "      <td>888512513</td>\n",
       "      <td>2019-08-27</td>\n",
       "      <td>86620</td>\n",
       "      <td>B</td>\n",
       "    </tr>\n",
       "    <tr>\n",
       "      <th>743</th>\n",
       "      <td>3603576309</td>\n",
       "      <td>4133034833</td>\n",
       "      <td>2019-08-09</td>\n",
       "      <td>67990</td>\n",
       "      <td>A</td>\n",
       "    </tr>\n",
       "    <tr>\n",
       "      <th>1103</th>\n",
       "      <td>1348774318</td>\n",
       "      <td>1164614297</td>\n",
       "      <td>2019-08-12</td>\n",
       "      <td>66350</td>\n",
       "      <td>A</td>\n",
       "    </tr>\n",
       "    <tr>\n",
       "      <th>1099</th>\n",
       "      <td>316924019</td>\n",
       "      <td>148427295</td>\n",
       "      <td>2019-08-12</td>\n",
       "      <td>65710</td>\n",
       "      <td>A</td>\n",
       "    </tr>\n",
       "    <tr>\n",
       "      <th>949</th>\n",
       "      <td>1347999392</td>\n",
       "      <td>887908475</td>\n",
       "      <td>2019-08-21</td>\n",
       "      <td>60450</td>\n",
       "      <td>A</td>\n",
       "    </tr>\n",
       "    <tr>\n",
       "      <th>940</th>\n",
       "      <td>2420050534</td>\n",
       "      <td>4003628586</td>\n",
       "      <td>2019-08-08</td>\n",
       "      <td>58550</td>\n",
       "      <td>B</td>\n",
       "    </tr>\n",
       "    <tr>\n",
       "      <th>131</th>\n",
       "      <td>3163614039</td>\n",
       "      <td>2254586615</td>\n",
       "      <td>2019-08-22</td>\n",
       "      <td>53904</td>\n",
       "      <td>A</td>\n",
       "    </tr>\n",
       "  </tbody>\n",
       "</table>\n",
       "</div>"
      ],
      "text/plain": [
       "      transaction_id  visitor_id       date  revenue group\n",
       "425        590470918  1920142716 2019-08-19  1294500     B\n",
       "1196      3936777065  2108080724 2019-08-15   202740     B\n",
       "1136       666610489  1307669133 2019-08-13    92550     A\n",
       "744       3668308183   888512513 2019-08-27    86620     B\n",
       "743       3603576309  4133034833 2019-08-09    67990     A\n",
       "1103      1348774318  1164614297 2019-08-12    66350     A\n",
       "1099       316924019   148427295 2019-08-12    65710     A\n",
       "949       1347999392   887908475 2019-08-21    60450     A\n",
       "940       2420050534  4003628586 2019-08-08    58550     B\n",
       "131       3163614039  2254586615 2019-08-22    53904     A"
      ]
     },
     "execution_count": 51,
     "metadata": {},
     "output_type": "execute_result"
    }
   ],
   "source": [
    "orders.sort_values(by = 'revenue', ascending = False).head(10)"
   ]
  },
  {
   "cell_type": "code",
   "execution_count": 52,
   "metadata": {},
   "outputs": [
    {
     "data": {
      "image/png": "[encoded data removed]",
      "text/plain": [
       "<Figure size 1000x600 with 1 Axes>"
      ]
     },
     "metadata": {},
     "output_type": "display_data"
    }
   ],
   "source": [
    "\n",
    "plt.figure(figsize = (10,6))\n",
    "orders['revenue'].hist()\n",
    "plt.title('Гистограмма стоимости заказов')\n",
    "plt.xlabel('Заказы')\n",
    "plt.ylabel('Количество пользователей')\n",
    "#plt.xticks(rotation=50)\n",
    "\n",
    "plt.show()"
   ]
  },
  {
   "cell_type": "code",
   "execution_count": 53,
   "metadata": {},
   "outputs": [
    {
     "data": {
      "image/png": "[encoded data removed]",
      "text/plain": [
       "<Figure size 1000x600 with 1 Axes>"
      ]
     },
     "metadata": {},
     "output_type": "display_data"
    }
   ],
   "source": [
    "plt.figure(figsize = (10,6))\n",
    "xval = pd.Series(range(0, len(orders_by_users)))\n",
    "plt.scatter(xval, orders_by_users['transaction_id']) \n",
    "\n",
    "plt.title('Точечный график стоимости заказов')\n",
    "plt.xlabel('Количество пользователей')\n",
    "plt.ylabel ('заказы')\n",
    "#plt.xticks(rotation=50)\n",
    "\n",
    "plt.show()"
   ]
  },
  {
   "cell_type": "markdown",
   "metadata": {},
   "source": [
    "Видим, что в стоимости заказов довольно мало выбросов. В основном все заказы стоимостью до 200000 у.е., но есть два выброса: один стоимостью 202740 у.е., другой 1294500 у.е. Любопытно, что оба выброса из группы В"
   ]
  },
  {
   "cell_type": "markdown",
   "metadata": {},
   "source": [
    "### Считаем 95-й и 99-й перцентили стоимости заказов. Выбор границы для определения аномальных заказов."
   ]
  },
  {
   "cell_type": "code",
   "execution_count": 54,
   "metadata": {},
   "outputs": [
    {
     "data": {
      "text/plain": [
       "array([17990., 26785., 53904.])"
      ]
     },
     "execution_count": 54,
     "metadata": {},
     "output_type": "execute_result"
    }
   ],
   "source": [
    "np.percentile(orders['revenue'], [90, 95, 99])"
   ]
  },
  {
   "cell_type": "markdown",
   "metadata": {},
   "source": [
    "95% пользователей совершили заказы на сумму до 28000 у.е. И только 1% пользователей совершил заказы на сумму больше 58233 у.е. "
   ]
  },
  {
   "cell_type": "code",
   "execution_count": 55,
   "metadata": {},
   "outputs": [
    {
     "data": {
      "text/plain": [
       "array([17990., 19260., 53904.])"
      ]
     },
     "execution_count": 55,
     "metadata": {},
     "output_type": "execute_result"
    }
   ],
   "source": [
    "np.percentile(orders['revenue'], [90, 92, 99])"
   ]
  },
  {
   "cell_type": "markdown",
   "metadata": {},
   "source": [
    "### Считаем статистическую значимость различий в среднем количестве заказов на посетителя между группами по «сырым» данным"
   ]
  },
  {
   "cell_type": "markdown",
   "metadata": {},
   "source": [
    "H0 = среднее количество заказов на посетителя между группами не отличается\n",
    "\n",
    "H1 = среднее количество заказов на посетителя между группами отличается"
   ]
  },
  {
   "cell_type": "code",
   "execution_count": 56,
   "metadata": {},
   "outputs": [],
   "source": [
    "# собираем посетителей группы А по дате\n",
    "visitors_a = visitors.query('group == \"A\"')[['date', 'visitors']]\n",
    "visitors_a.columns = ['date', 'visitors_a']\n",
    "\n",
    "visitors_a_cummulative = visitors_a.apply(\n",
    "    lambda x: visitors_a[visitors_a['date'] <= x['date']].agg(\n",
    "        {'date': 'max', 'visitors_a': 'sum'}), axis=1)\n",
    "\n",
    "visitors_a_cummulative.columns = ['date', 'cumulative_a']\n",
    "\n",
    "\n",
    "# собираем посетителей группы В по дате\n",
    "visitors_b = visitors.query('group == \"B\"')[['date', 'visitors']]\n",
    "visitors_b.columns = ['date', 'visitors_b']\n",
    "\n",
    "visitors_b_cummulative = visitors_b.apply(\n",
    "    lambda x: visitors_b[visitors_b['date'] <= x['date']].agg(\n",
    "        {'date': 'max', 'visitors_b': 'sum'}), axis=1)\n",
    "\n",
    "visitors_b_cummulative.columns = ['date', 'cumulative_b']"
   ]
  },
  {
   "cell_type": "code",
   "execution_count": 57,
   "metadata": {},
   "outputs": [],
   "source": [
    "# собираем заказы группы А по дате\n",
    "orders_a = (\n",
    "    orders.query('group ==\"A\"')[['date', 'transaction_id', 'visitor_id', 'revenue']]\n",
    "    .groupby('date', as_index=False)\n",
    "    .agg({'transaction_id': pd.Series.nunique, 'revenue': 'sum'}))\n",
    "\n",
    "orders_a.columns = ['date', 'orders_a', 'revenue_a']\n",
    "\n",
    "\n",
    "orders_a_cummulative = orders_a.apply(\n",
    "    lambda x: orders_a[orders_a['date'] <= x['date']].agg(\n",
    "        {'date': 'max', 'orders_a': 'sum', 'revenue_a': 'sum'}),\n",
    "    axis=1).sort_values(by=['date'])\n",
    "\n",
    "orders_a_cummulative.columns = ['date','cumorders_a', 'cumrevenue_a']\n",
    "\n",
    "\n",
    "#собираем заказы группы В по дате\n",
    "orders_b = (\n",
    "    orders.query('group ==\"B\"')[['date', 'transaction_id', 'visitor_id', 'revenue']]\n",
    "    .groupby('date', as_index=False)\n",
    "    .agg({'transaction_id': pd.Series.nunique, 'revenue': 'sum'}))\n",
    "\n",
    "orders_b.columns = ['date', 'orders_b', 'revenue_b']\n",
    "\n",
    "\n",
    "orders_b_cummulative = orders_b.apply(\n",
    "    lambda x: orders_b[orders_b['date'] <= x['date']].agg(\n",
    "        {'date': 'max', 'orders_b': 'sum', 'revenue_b': 'sum'}),\n",
    "    axis=1).sort_values(by=['date'])\n",
    "\n",
    "orders_b_cummulative.columns = ['date','cumorders_b', 'cumrevenue_b']"
   ]
  },
  {
   "cell_type": "code",
   "execution_count": 58,
   "metadata": {},
   "outputs": [
    {
     "data": {
      "text/html": [
       "<div>\n",
       "<style scoped>\n",
       "    .dataframe tbody tr th:only-of-type {\n",
       "        vertical-align: middle;\n",
       "    }\n",
       "\n",
       "    .dataframe tbody tr th {\n",
       "        vertical-align: top;\n",
       "    }\n",
       "\n",
       "    .dataframe thead th {\n",
       "        text-align: right;\n",
       "    }\n",
       "</style>\n",
       "<table border=\"1\" class=\"dataframe\">\n",
       "  <thead>\n",
       "    <tr style=\"text-align: right;\">\n",
       "      <th></th>\n",
       "      <th>date</th>\n",
       "      <th>orders_a</th>\n",
       "      <th>revenue_a</th>\n",
       "      <th>orders_b</th>\n",
       "      <th>revenue_b</th>\n",
       "      <th>cumorders_a</th>\n",
       "      <th>cumrevenue_a</th>\n",
       "      <th>cumorders_b</th>\n",
       "      <th>cumrevenue_b</th>\n",
       "      <th>visitors_a</th>\n",
       "      <th>visitors_b</th>\n",
       "      <th>cumulative_a</th>\n",
       "      <th>cumulative_b</th>\n",
       "    </tr>\n",
       "  </thead>\n",
       "  <tbody>\n",
       "    <tr>\n",
       "      <th>0</th>\n",
       "      <td>2019-08-01</td>\n",
       "      <td>23</td>\n",
       "      <td>142779</td>\n",
       "      <td>17</td>\n",
       "      <td>59758</td>\n",
       "      <td>23</td>\n",
       "      <td>142779</td>\n",
       "      <td>17</td>\n",
       "      <td>59758</td>\n",
       "      <td>719</td>\n",
       "      <td>713</td>\n",
       "      <td>719</td>\n",
       "      <td>713</td>\n",
       "    </tr>\n",
       "    <tr>\n",
       "      <th>1</th>\n",
       "      <td>2019-08-02</td>\n",
       "      <td>19</td>\n",
       "      <td>91602</td>\n",
       "      <td>23</td>\n",
       "      <td>162043</td>\n",
       "      <td>42</td>\n",
       "      <td>234381</td>\n",
       "      <td>40</td>\n",
       "      <td>221801</td>\n",
       "      <td>619</td>\n",
       "      <td>581</td>\n",
       "      <td>1338</td>\n",
       "      <td>1294</td>\n",
       "    </tr>\n",
       "    <tr>\n",
       "      <th>2</th>\n",
       "      <td>2019-08-03</td>\n",
       "      <td>24</td>\n",
       "      <td>112473</td>\n",
       "      <td>14</td>\n",
       "      <td>67049</td>\n",
       "      <td>66</td>\n",
       "      <td>346854</td>\n",
       "      <td>54</td>\n",
       "      <td>288850</td>\n",
       "      <td>507</td>\n",
       "      <td>509</td>\n",
       "      <td>1845</td>\n",
       "      <td>1803</td>\n",
       "    </tr>\n",
       "    <tr>\n",
       "      <th>3</th>\n",
       "      <td>2019-08-04</td>\n",
       "      <td>11</td>\n",
       "      <td>41176</td>\n",
       "      <td>14</td>\n",
       "      <td>96890</td>\n",
       "      <td>77</td>\n",
       "      <td>388030</td>\n",
       "      <td>68</td>\n",
       "      <td>385740</td>\n",
       "      <td>717</td>\n",
       "      <td>770</td>\n",
       "      <td>2562</td>\n",
       "      <td>2573</td>\n",
       "    </tr>\n",
       "    <tr>\n",
       "      <th>4</th>\n",
       "      <td>2019-08-05</td>\n",
       "      <td>22</td>\n",
       "      <td>86383</td>\n",
       "      <td>21</td>\n",
       "      <td>89908</td>\n",
       "      <td>99</td>\n",
       "      <td>474413</td>\n",
       "      <td>89</td>\n",
       "      <td>475648</td>\n",
       "      <td>756</td>\n",
       "      <td>707</td>\n",
       "      <td>3318</td>\n",
       "      <td>3280</td>\n",
       "    </tr>\n",
       "  </tbody>\n",
       "</table>\n",
       "</div>"
      ],
      "text/plain": [
       "        date  orders_a  revenue_a  orders_b  revenue_b  cumorders_a  \\\n",
       "0 2019-08-01        23     142779        17      59758           23   \n",
       "1 2019-08-02        19      91602        23     162043           42   \n",
       "2 2019-08-03        24     112473        14      67049           66   \n",
       "3 2019-08-04        11      41176        14      96890           77   \n",
       "4 2019-08-05        22      86383        21      89908           99   \n",
       "\n",
       "   cumrevenue_a  cumorders_b  cumrevenue_b  visitors_a  visitors_b  \\\n",
       "0        142779           17         59758         719         713   \n",
       "1        234381           40        221801         619         581   \n",
       "2        346854           54        288850         507         509   \n",
       "3        388030           68        385740         717         770   \n",
       "4        474413           89        475648         756         707   \n",
       "\n",
       "   cumulative_a  cumulative_b  \n",
       "0           719           713  \n",
       "1          1338          1294  \n",
       "2          1845          1803  \n",
       "3          2562          2573  \n",
       "4          3318          3280  "
      ]
     },
     "execution_count": 58,
     "metadata": {},
     "output_type": "execute_result"
    }
   ],
   "source": [
    "data = (\n",
    "    orders_a.merge(\n",
    "        orders_b, left_on='date', right_on='date', how='left')\n",
    "    .merge(orders_a_cummulative, left_on='date', right_on='date', how='left')\n",
    "    .merge(orders_b_cummulative, left_on='date', right_on='date', how='left')\n",
    "    .merge(visitors_a, left_on='date', right_on='date', how='left')\n",
    "    .merge(visitors_b, left_on='date', right_on='date', how='left')\n",
    "    .merge(visitors_a_cummulative, left_on='date', right_on='date', how='left')\n",
    "    .merge(visitors_b_cummulative, left_on='date', right_on='date', how='left'))\n",
    "\n",
    "data.head(5)"
   ]
  },
  {
   "cell_type": "code",
   "execution_count": 59,
   "metadata": {},
   "outputs": [],
   "source": [
    "# собираем уникальные заказы группы А для каждого пользователя \n",
    "orders_by_user_a = (\n",
    "    orders.query('group == \"A\"')\n",
    "    .groupby('visitor_id', as_index=False)\n",
    "    .agg({'transaction_id': pd.Series.nunique}))\n",
    "\n",
    "orders_by_user_a.columns = ['user_id', 'orders']\n",
    "\n",
    "# собираем уникальные заказы группы В для каждого пользователя \n",
    "orders_by_user_b = (\n",
    "    orders.query('group == \"B\"')\n",
    "    .groupby('visitor_id', as_index=False)\n",
    "    .agg({'transaction_id': pd.Series.nunique}))\n",
    "\n",
    "orders_by_user_b.columns = ['user_id', 'orders']"
   ]
  },
  {
   "cell_type": "code",
   "execution_count": 60,
   "metadata": {},
   "outputs": [],
   "source": [
    "# создает Series с данными по заказам, пробелы заполняем нулями\n",
    "sample_a = pd.concat([orders_by_user_a['orders'],pd.Series(0,index=np.arange(\n",
    "    data['visitors_a'].sum() - len(orders_by_user_a['orders'])), name='orders')],\n",
    "    axis=0,)\n",
    "\n",
    "\n",
    "# создает Series с данными по заказам, пробелы заполняем нулями\n",
    "sample_b = pd.concat([orders_by_user_b['orders'],pd.Series(0,index=np.arange(\n",
    "    data['visitors_b'].sum() - len(orders_by_user_b['orders'])), name='orders')],\n",
    "    axis=0,)"
   ]
  },
  {
   "cell_type": "code",
   "execution_count": 61,
   "metadata": {},
   "outputs": [
    {
     "name": "stdout",
     "output_type": "stream",
     "text": [
      "p-value 0.011\n",
      "разница средних 0.160\n"
     ]
    }
   ],
   "source": [
    "print(\"p-value {0:.3f}\".format(stats.mannwhitneyu(sample_a, sample_b)[1]))\n",
    "\n",
    "print(\"разница средних {0:.3f}\".format((data['orders_b'].sum()/data['visitors_b'].sum())/(data['orders_a'].sum()/data['visitors_a'].sum())-1)) "
   ]
  },
  {
   "cell_type": "markdown",
   "metadata": {},
   "source": [
    "\n",
    "Значение p<0.011, значит нулевую гипотезу отвергаем. Получается, что среднее количество заказов на посетителя между группами отличается. Разница в средних количествах заказов 16%"
   ]
  },
  {
   "cell_type": "markdown",
   "metadata": {},
   "source": [
    "###  Считаем статистическую значимость различий в среднем чеке заказа между группами по «сырым» данным"
   ]
  },
  {
   "cell_type": "markdown",
   "metadata": {},
   "source": [
    "H0 = средний чек между группами не отличается\n",
    "\n",
    "H1 = средний чек между группами отличается"
   ]
  },
  {
   "cell_type": "code",
   "execution_count": 62,
   "metadata": {},
   "outputs": [
    {
     "name": "stdout",
     "output_type": "stream",
     "text": [
      "p-value 0.829\n",
      "разница в средних 0.287\n"
     ]
    }
   ],
   "source": [
    "print('p-value {0:.3f}'.format(stats.mannwhitneyu(orders.query('group ==\"A\"')['revenue'], orders.query('group ==\"B\"')['revenue'])[1]))\n",
    "print('разница в средних {0:.3f}'.format(orders.query('group ==\"B\"')['revenue'].mean()/orders.query('group ==\"A\"')['revenue'].mean()-1))"
   ]
  },
  {
   "cell_type": "markdown",
   "metadata": {},
   "source": [
    "\n",
    "Средний чек отличается на 28.7%, но статистически значимых различий не обнаружено, следовательно нулевую гипотезу не отвергаем. Значит, принимаем, что средний чек между группами не отличается"
   ]
  },
  {
   "cell_type": "markdown",
   "metadata": {},
   "source": [
    "### Считаем статистическую значимость различий в среднем количестве заказов на посетителя между группами по «очищенным» данным"
   ]
  },
  {
   "cell_type": "markdown",
   "metadata": {},
   "source": [
    "H0 = среднее количество заказов на посетителя между группами не отличается\n",
    "\n",
    "H1 = среднее количество заказов на посетителя между группами отличается"
   ]
  },
  {
   "cell_type": "code",
   "execution_count": 63,
   "metadata": {},
   "outputs": [
    {
     "data": {
      "text/plain": [
       "1    427\n",
       "2     13\n",
       "3      5\n",
       "Name: orders, dtype: int64"
      ]
     },
     "execution_count": 63,
     "metadata": {},
     "output_type": "execute_result"
    }
   ],
   "source": [
    "orders_by_user_a['orders'].value_counts()"
   ]
  },
  {
   "cell_type": "code",
   "execution_count": 64,
   "metadata": {},
   "outputs": [
    {
     "name": "stdout",
     "output_type": "stream",
     "text": [
      "568     113298937\n",
      "1099    148427295\n",
      "928     204675465\n",
      "684     358944393\n",
      "648     382846391\n",
      "dtype: int64\n",
      "********************\n",
      "51\n"
     ]
    }
   ],
   "source": [
    "revenue_lim = np.percentile(orders['revenue'], 95)\n",
    "\n",
    "many_orders = pd.concat(\n",
    "    [\n",
    "        orders_by_user_a.query('orders > 4')['user_id'],\n",
    "        orders_by_user_b.query('orders > 4')['user_id'],\n",
    "    ],\n",
    "    axis=0,\n",
    ")\n",
    "\n",
    "big_revenue = orders.query('revenue > @revenue_lim')['visitor_id']\n",
    "\n",
    "abnormal_users = (\n",
    "    pd.concat([many_orders, big_revenue], axis=0)\n",
    "    .drop_duplicates()\n",
    "    .sort_values()\n",
    ")\n",
    "print(abnormal_users.head(5))\n",
    "print(\"*\" *20)\n",
    "print(abnormal_users.shape[0]) "
   ]
  },
  {
   "cell_type": "code",
   "execution_count": 65,
   "metadata": {},
   "outputs": [],
   "source": [
    "sample_a_filtered = pd.concat([orders_by_user_a[np.logical_not(orders_by_user_a['user_id'].isin(abnormal_users))]['orders'],\\\n",
    "                               pd.Series(0, index = np.arange(data['visitors_a']\\\n",
    "                                .sum() - len(orders_by_user_a['orders'])), name = 'orders')], axis = 0)\n",
    "\n",
    "sample_b_filtered = pd.concat([orders_by_user_b[np.logical_not(orders_by_user_b['user_id'].isin(abnormal_users))]['orders'],\\\n",
    "                               pd.Series(0, index = np.arange(data['visitors_b']\\\n",
    "                                .sum() - len(orders_by_user_b['orders'])), name = 'orders')], axis = 0)"
   ]
  },
  {
   "cell_type": "code",
   "execution_count": 66,
   "metadata": {},
   "outputs": [
    {
     "name": "stdout",
     "output_type": "stream",
     "text": [
      "p-value 0.017\n",
      "разница в средних 0.156\n"
     ]
    }
   ],
   "source": [
    "print('p-value {0:.3f}'.format(stats.mannwhitneyu(sample_a_filtered, sample_b_filtered)[1]))\n",
    "print('разница в средних {0:.3f}'.format(sample_b_filtered.mean()/sample_a_filtered.mean()-1)) "
   ]
  },
  {
   "cell_type": "markdown",
   "metadata": {},
   "source": [
    "Статистические различия по-прежнему есть. То есть нулевую гипотезу мы отвергаем, принимаем альтернативную - различия в количестве заказов между двумя группами есть. Разница в средних значениях 15.6%"
   ]
  },
  {
   "cell_type": "markdown",
   "metadata": {},
   "source": [
    "### Считаем статистическую значимость различий в среднем чеке заказа между группами по «очищенным» данным"
   ]
  },
  {
   "cell_type": "markdown",
   "metadata": {},
   "source": [
    "H0 = различий в среднем чеке нет\n",
    "\n",
    "H1 = различия в среднем чеке есть"
   ]
  },
  {
   "cell_type": "code",
   "execution_count": 67,
   "metadata": {},
   "outputs": [
    {
     "name": "stdout",
     "output_type": "stream",
     "text": [
      "p-value 0.741\n",
      "разница в средних -0.053\n"
     ]
    }
   ],
   "source": [
    "print('p-value {0:.3f}'.format(stats.mannwhitneyu(\n",
    "                orders[np.logical_and(orders['group'] == 'A',\\\n",
    "                np.logical_not(orders['visitor_id'].isin(abnormal_users)))]['revenue'],\n",
    "                \n",
    "                orders[np.logical_and(orders['group'] == 'B',\n",
    "                np.logical_not(orders['visitor_id'].isin(abnormal_users)))]['revenue'])[1]))\n",
    "\n",
    "print(\"разница в средних {0:.3f}\".format(\n",
    "                orders[np.logical_and(orders['group'] == 'B',\n",
    "                np.logical_not(orders['visitor_id'].isin(abnormal_users)))]['revenue'].mean()\n",
    "                \n",
    "                / orders[np.logical_and(orders['group'] == 'A', \n",
    "                np.logical_not(orders['visitor_id'].isin(abnormal_users)))]['revenue'].mean()- 1)) "
   ]
  },
  {
   "cell_type": "markdown",
   "metadata": {},
   "source": [
    "\n",
    "\n",
    "Различия в среднем чеке минимальны, поэтому различия оказываются недостоверными. Следовательно нулевую гипотезу не отвергаем и принимаем нулевую гипотезу о том, что различий в среднем чеке нет"
   ]
  },
  {
   "cell_type": "markdown",
   "metadata": {},
   "source": [
    "## Выводы\n"
   ]
  },
  {
   "cell_type": "markdown",
   "metadata": {},
   "source": [
    "В начале данные были предобработаны: названия столбов приведены к нижнему регистру, а также изменены названия столбов для удобства. В целом данные получены в хорошем состоянии, без дубликатов, пропусков и тд. Однако в данных были сведения о пользователях, которые попали в обе тестовые группы. Пользователей, совершивших более 2х покупок было принято решение удалить из выборки. \n",
    "\n",
    "Была проведена приоритизация гипотез по ICE и RICE. По Ice лидирует гипотеза: \"Запустить акцию, дающую скидку на товар в день рождения\". Согласно фреймворку RICE - \"Добавить форму подписки на все основные страницы, чтобы собрать базу клиентов для email-рассылок\". Теория по Rice могут иметь больший приоритет по прчине того, что её введение отразится на большем числе пользователей при той же стоимости проведения. В то же время теория по ICE вызывает большую уверенность и лучше отразится а опыте пользования продуктом.\n",
    "\n",
    "Всего 1% пользователей совершил больше 4х заказов и не более 7% пользователей совершили больше 2х заказов. Иными словами 95% пользователей совершили всего 1-2 заказа\n",
    "95% пользователей совершили заказы на сумму до 28000 у.е. И только 1% пользователей совершил заказы на сумму больше 58233 у.е.\n",
    "\n",
    "По результатам А/В теста видим, что среднее количество заказов на посетителя между группами отличается. У группы В в среднем заказов больше на 16%. После очистки данных группа В также имеет большее количество заказов, а разница увеличилась до 15.6%. \n",
    "Разницы между средними чеками нет ни в одном из случаев. \n",
    "\n",
    "Тест рекомендуется остановить т.к. данных достаточно для уставновления статистических различий между группами теста. Таким образом можем считать, что группа В показала лучший результат в количестве заказов. \n"
   ]
  }
 ],
 "metadata": {
  "ExecuteTimeLog": [
   {
    "duration": 45,
    "start_time": "2024-02-13T13:03:35.487Z"
   },
   {
    "duration": 1156,
    "start_time": "2024-02-13T14:27:18.542Z"
   },
   {
    "duration": 55,
    "start_time": "2024-02-13T14:27:39.267Z"
   },
   {
    "duration": 119,
    "start_time": "2024-02-13T14:27:44.652Z"
   },
   {
    "duration": 159,
    "start_time": "2024-02-13T14:28:20.287Z"
   },
   {
    "duration": 3,
    "start_time": "2024-02-13T14:29:56.790Z"
   },
   {
    "duration": 27,
    "start_time": "2024-02-13T14:30:12.007Z"
   },
   {
    "duration": 9,
    "start_time": "2024-02-13T14:30:28.804Z"
   },
   {
    "duration": 24,
    "start_time": "2024-02-13T14:30:35.838Z"
   },
   {
    "duration": 18,
    "start_time": "2024-02-13T14:30:42.769Z"
   },
   {
    "duration": 3,
    "start_time": "2024-02-13T14:31:25.795Z"
   },
   {
    "duration": 23,
    "start_time": "2024-02-13T14:31:26.959Z"
   },
   {
    "duration": 20,
    "start_time": "2024-02-13T14:31:28.488Z"
   },
   {
    "duration": 10,
    "start_time": "2024-02-13T14:31:35.829Z"
   },
   {
    "duration": 10,
    "start_time": "2024-02-13T14:31:40.160Z"
   },
   {
    "duration": 6,
    "start_time": "2024-02-13T14:32:44.616Z"
   },
   {
    "duration": 6,
    "start_time": "2024-02-13T14:32:48.391Z"
   },
   {
    "duration": 4,
    "start_time": "2024-02-13T14:33:07.574Z"
   },
   {
    "duration": 5,
    "start_time": "2024-02-13T14:33:21.022Z"
   },
   {
    "duration": 6,
    "start_time": "2024-02-13T14:33:29.590Z"
   },
   {
    "duration": 3,
    "start_time": "2024-02-13T14:34:10.618Z"
   },
   {
    "duration": 19,
    "start_time": "2024-02-13T14:34:12.346Z"
   },
   {
    "duration": 4,
    "start_time": "2024-02-13T14:34:47.223Z"
   },
   {
    "duration": 24,
    "start_time": "2024-02-13T14:34:51.664Z"
   },
   {
    "duration": 7,
    "start_time": "2024-02-13T14:41:48.176Z"
   },
   {
    "duration": 1222,
    "start_time": "2024-02-13T14:46:45.142Z"
   },
   {
    "duration": 4,
    "start_time": "2024-02-13T14:48:06.932Z"
   },
   {
    "duration": 1212,
    "start_time": "2024-02-13T14:48:10.704Z"
   },
   {
    "duration": 4,
    "start_time": "2024-02-13T14:48:28.663Z"
   },
   {
    "duration": 8,
    "start_time": "2024-02-13T14:48:33.116Z"
   },
   {
    "duration": 9,
    "start_time": "2024-02-13T14:48:47.295Z"
   },
   {
    "duration": 9,
    "start_time": "2024-02-13T14:48:49.916Z"
   },
   {
    "duration": 10,
    "start_time": "2024-02-13T14:49:24.053Z"
   },
   {
    "duration": 72,
    "start_time": "2024-02-13T14:50:31.101Z"
   },
   {
    "duration": 76,
    "start_time": "2024-02-13T14:50:35.043Z"
   },
   {
    "duration": 58,
    "start_time": "2024-02-13T14:50:53.707Z"
   },
   {
    "duration": 24,
    "start_time": "2024-02-13T17:02:40.274Z"
   },
   {
    "duration": 33,
    "start_time": "2024-02-13T17:02:54.348Z"
   },
   {
    "duration": 22,
    "start_time": "2024-02-13T17:05:32.727Z"
   },
   {
    "duration": 1232,
    "start_time": "2024-02-14T10:12:40.976Z"
   },
   {
    "duration": 260,
    "start_time": "2024-02-14T10:12:42.210Z"
   },
   {
    "duration": 3,
    "start_time": "2024-02-14T10:12:42.472Z"
   },
   {
    "duration": 14,
    "start_time": "2024-02-14T10:12:42.477Z"
   },
   {
    "duration": 3,
    "start_time": "2024-02-14T10:12:42.494Z"
   },
   {
    "duration": 14,
    "start_time": "2024-02-14T10:12:42.499Z"
   },
   {
    "duration": 37,
    "start_time": "2024-02-14T10:12:42.514Z"
   },
   {
    "duration": 5,
    "start_time": "2024-02-14T10:12:42.552Z"
   },
   {
    "duration": 25,
    "start_time": "2024-02-14T10:12:42.560Z"
   },
   {
    "duration": 6,
    "start_time": "2024-02-14T10:12:42.587Z"
   },
   {
    "duration": 23,
    "start_time": "2024-02-14T10:12:42.594Z"
   },
   {
    "duration": 42,
    "start_time": "2024-02-14T10:12:42.618Z"
   },
   {
    "duration": 4,
    "start_time": "2024-02-14T10:12:42.662Z"
   },
   {
    "duration": 12,
    "start_time": "2024-02-14T10:12:42.668Z"
   },
   {
    "duration": 6,
    "start_time": "2024-02-14T10:12:42.681Z"
   },
   {
    "duration": 14,
    "start_time": "2024-02-14T10:12:42.689Z"
   },
   {
    "duration": 13,
    "start_time": "2024-02-14T10:12:42.705Z"
   },
   {
    "duration": 12,
    "start_time": "2024-02-14T10:12:42.720Z"
   },
   {
    "duration": 86,
    "start_time": "2024-02-14T10:12:42.733Z"
   },
   {
    "duration": 25,
    "start_time": "2024-02-14T10:12:42.820Z"
   },
   {
    "duration": 12,
    "start_time": "2024-02-14T10:18:33.037Z"
   },
   {
    "duration": 5,
    "start_time": "2024-02-14T10:45:02.086Z"
   },
   {
    "duration": 7,
    "start_time": "2024-02-14T10:45:14.573Z"
   },
   {
    "duration": 9,
    "start_time": "2024-02-14T10:45:22.089Z"
   },
   {
    "duration": 8,
    "start_time": "2024-02-14T10:49:58.410Z"
   },
   {
    "duration": 13,
    "start_time": "2024-02-14T10:50:11.208Z"
   },
   {
    "duration": 101,
    "start_time": "2024-02-14T10:53:37.163Z"
   },
   {
    "duration": 11,
    "start_time": "2024-02-14T10:53:41.505Z"
   },
   {
    "duration": 11,
    "start_time": "2024-02-14T10:54:55.420Z"
   },
   {
    "duration": 8,
    "start_time": "2024-02-14T10:54:58.933Z"
   },
   {
    "duration": 13,
    "start_time": "2024-02-14T10:55:01.102Z"
   },
   {
    "duration": 73,
    "start_time": "2024-02-14T10:56:27.205Z"
   },
   {
    "duration": 14,
    "start_time": "2024-02-14T10:57:59.201Z"
   },
   {
    "duration": 12,
    "start_time": "2024-02-14T10:58:02.357Z"
   },
   {
    "duration": 4,
    "start_time": "2024-02-14T10:58:31.939Z"
   },
   {
    "duration": 12,
    "start_time": "2024-02-14T10:58:33.323Z"
   },
   {
    "duration": 4,
    "start_time": "2024-02-14T10:58:43.773Z"
   },
   {
    "duration": 13,
    "start_time": "2024-02-14T10:58:45.411Z"
   },
   {
    "duration": 4,
    "start_time": "2024-02-14T10:58:52.304Z"
   },
   {
    "duration": 16,
    "start_time": "2024-02-14T10:58:52.635Z"
   },
   {
    "duration": 4,
    "start_time": "2024-02-14T10:59:00.144Z"
   },
   {
    "duration": 13,
    "start_time": "2024-02-14T10:59:01.273Z"
   },
   {
    "duration": 4,
    "start_time": "2024-02-14T10:59:27.166Z"
   },
   {
    "duration": 12,
    "start_time": "2024-02-14T10:59:53.520Z"
   },
   {
    "duration": 181,
    "start_time": "2024-02-14T11:00:31.322Z"
   },
   {
    "duration": 200,
    "start_time": "2024-02-14T11:00:38.481Z"
   },
   {
    "duration": 172,
    "start_time": "2024-02-14T11:00:42.805Z"
   },
   {
    "duration": 167,
    "start_time": "2024-02-14T11:00:46.748Z"
   },
   {
    "duration": 12,
    "start_time": "2024-02-14T11:01:14.714Z"
   },
   {
    "duration": 144,
    "start_time": "2024-02-14T11:01:41.400Z"
   },
   {
    "duration": 19,
    "start_time": "2024-02-14T11:02:14.460Z"
   },
   {
    "duration": 141,
    "start_time": "2024-02-14T11:02:24.501Z"
   },
   {
    "duration": 7,
    "start_time": "2024-02-14T11:04:03.124Z"
   },
   {
    "duration": 6,
    "start_time": "2024-02-14T11:04:11.047Z"
   },
   {
    "duration": 7,
    "start_time": "2024-02-14T11:04:28.011Z"
   },
   {
    "duration": 18,
    "start_time": "2024-02-14T11:04:33.957Z"
   },
   {
    "duration": 24,
    "start_time": "2024-02-14T11:47:13.554Z"
   },
   {
    "duration": 309,
    "start_time": "2024-02-14T11:47:30.012Z"
   },
   {
    "duration": 55,
    "start_time": "2024-02-14T11:48:19.018Z"
   },
   {
    "duration": 252,
    "start_time": "2024-02-14T11:48:30.829Z"
   },
   {
    "duration": 208,
    "start_time": "2024-02-14T11:48:50.357Z"
   },
   {
    "duration": 8,
    "start_time": "2024-02-14T11:49:04.035Z"
   },
   {
    "duration": 225,
    "start_time": "2024-02-14T11:49:13.852Z"
   },
   {
    "duration": 343,
    "start_time": "2024-02-14T11:50:32.137Z"
   },
   {
    "duration": 281,
    "start_time": "2024-02-14T11:50:44.386Z"
   },
   {
    "duration": 305,
    "start_time": "2024-02-14T11:51:04.724Z"
   },
   {
    "duration": 54,
    "start_time": "2024-02-14T11:53:39.115Z"
   },
   {
    "duration": 160,
    "start_time": "2024-02-14T11:53:42.469Z"
   },
   {
    "duration": 210,
    "start_time": "2024-02-14T11:53:52.255Z"
   },
   {
    "duration": 14,
    "start_time": "2024-02-14T11:54:16.777Z"
   },
   {
    "duration": 182,
    "start_time": "2024-02-14T11:58:15.976Z"
   },
   {
    "duration": 214,
    "start_time": "2024-02-14T11:58:45.253Z"
   },
   {
    "duration": 11,
    "start_time": "2024-02-14T12:02:14.376Z"
   },
   {
    "duration": 321,
    "start_time": "2024-02-14T12:03:24.989Z"
   },
   {
    "duration": 303,
    "start_time": "2024-02-14T12:04:17.507Z"
   },
   {
    "duration": 338,
    "start_time": "2024-02-14T12:04:26.642Z"
   },
   {
    "duration": 9,
    "start_time": "2024-02-14T12:23:35.047Z"
   },
   {
    "duration": 12,
    "start_time": "2024-02-14T12:23:59.427Z"
   },
   {
    "duration": 4,
    "start_time": "2024-02-14T12:24:02.711Z"
   },
   {
    "duration": 5,
    "start_time": "2024-02-14T12:24:09.640Z"
   },
   {
    "duration": 167,
    "start_time": "2024-02-14T12:24:37.292Z"
   },
   {
    "duration": 176,
    "start_time": "2024-02-14T12:24:45.843Z"
   },
   {
    "duration": 206,
    "start_time": "2024-02-14T12:24:54.334Z"
   },
   {
    "duration": 198,
    "start_time": "2024-02-14T12:27:46.387Z"
   },
   {
    "duration": 295,
    "start_time": "2024-02-14T12:28:31.557Z"
   },
   {
    "duration": 11,
    "start_time": "2024-02-14T12:29:00.059Z"
   },
   {
    "duration": 170,
    "start_time": "2024-02-14T12:29:53.300Z"
   },
   {
    "duration": 201,
    "start_time": "2024-02-14T12:30:51.515Z"
   },
   {
    "duration": 186,
    "start_time": "2024-02-14T12:31:09.941Z"
   },
   {
    "duration": 195,
    "start_time": "2024-02-14T12:31:43.963Z"
   },
   {
    "duration": 61,
    "start_time": "2024-02-14T12:36:49.087Z"
   },
   {
    "duration": 359,
    "start_time": "2024-02-14T12:36:56.559Z"
   },
   {
    "duration": 1081,
    "start_time": "2024-02-14T12:37:17.781Z"
   },
   {
    "duration": 127,
    "start_time": "2024-02-14T12:37:18.863Z"
   },
   {
    "duration": 4,
    "start_time": "2024-02-14T12:37:18.992Z"
   },
   {
    "duration": 20,
    "start_time": "2024-02-14T12:37:18.997Z"
   },
   {
    "duration": 11,
    "start_time": "2024-02-14T12:37:19.019Z"
   },
   {
    "duration": 26,
    "start_time": "2024-02-14T12:37:19.031Z"
   },
   {
    "duration": 43,
    "start_time": "2024-02-14T12:37:19.058Z"
   },
   {
    "duration": 451,
    "start_time": "2024-02-14T12:37:19.102Z"
   },
   {
    "duration": 0,
    "start_time": "2024-02-14T12:37:19.555Z"
   },
   {
    "duration": 0,
    "start_time": "2024-02-14T12:37:19.556Z"
   },
   {
    "duration": 0,
    "start_time": "2024-02-14T12:37:19.557Z"
   },
   {
    "duration": 0,
    "start_time": "2024-02-14T12:37:19.558Z"
   },
   {
    "duration": 0,
    "start_time": "2024-02-14T12:37:19.559Z"
   },
   {
    "duration": 0,
    "start_time": "2024-02-14T12:37:19.560Z"
   },
   {
    "duration": 0,
    "start_time": "2024-02-14T12:37:19.561Z"
   },
   {
    "duration": 0,
    "start_time": "2024-02-14T12:37:19.562Z"
   },
   {
    "duration": 0,
    "start_time": "2024-02-14T12:37:19.563Z"
   },
   {
    "duration": 0,
    "start_time": "2024-02-14T12:37:19.565Z"
   },
   {
    "duration": 0,
    "start_time": "2024-02-14T12:37:19.565Z"
   },
   {
    "duration": 0,
    "start_time": "2024-02-14T12:37:19.567Z"
   },
   {
    "duration": 0,
    "start_time": "2024-02-14T12:37:19.568Z"
   },
   {
    "duration": 0,
    "start_time": "2024-02-14T12:37:19.569Z"
   },
   {
    "duration": 0,
    "start_time": "2024-02-14T12:37:19.570Z"
   },
   {
    "duration": 0,
    "start_time": "2024-02-14T12:37:19.571Z"
   },
   {
    "duration": 0,
    "start_time": "2024-02-14T12:37:19.572Z"
   },
   {
    "duration": 0,
    "start_time": "2024-02-14T12:37:19.573Z"
   },
   {
    "duration": 0,
    "start_time": "2024-02-14T12:37:19.574Z"
   },
   {
    "duration": 0,
    "start_time": "2024-02-14T12:37:19.575Z"
   },
   {
    "duration": 0,
    "start_time": "2024-02-14T12:37:19.576Z"
   },
   {
    "duration": 0,
    "start_time": "2024-02-14T12:37:19.577Z"
   },
   {
    "duration": 0,
    "start_time": "2024-02-14T12:37:19.578Z"
   },
   {
    "duration": 0,
    "start_time": "2024-02-14T12:37:19.579Z"
   },
   {
    "duration": 0,
    "start_time": "2024-02-14T12:37:19.580Z"
   },
   {
    "duration": 0,
    "start_time": "2024-02-14T12:37:19.581Z"
   },
   {
    "duration": 12,
    "start_time": "2024-02-14T12:37:39.229Z"
   },
   {
    "duration": 362,
    "start_time": "2024-02-14T12:37:55.864Z"
   },
   {
    "duration": 5,
    "start_time": "2024-02-14T12:38:30.077Z"
   },
   {
    "duration": 1006,
    "start_time": "2024-02-14T12:38:35.729Z"
   },
   {
    "duration": 134,
    "start_time": "2024-02-14T12:38:36.737Z"
   },
   {
    "duration": 3,
    "start_time": "2024-02-14T12:38:36.873Z"
   },
   {
    "duration": 12,
    "start_time": "2024-02-14T12:38:36.877Z"
   },
   {
    "duration": 4,
    "start_time": "2024-02-14T12:38:36.891Z"
   },
   {
    "duration": 14,
    "start_time": "2024-02-14T12:38:36.896Z"
   },
   {
    "duration": 27,
    "start_time": "2024-02-14T12:38:36.912Z"
   },
   {
    "duration": 12,
    "start_time": "2024-02-14T12:38:36.940Z"
   },
   {
    "duration": 5,
    "start_time": "2024-02-14T12:38:36.981Z"
   },
   {
    "duration": 6,
    "start_time": "2024-02-14T12:38:36.988Z"
   },
   {
    "duration": 6,
    "start_time": "2024-02-14T12:38:36.996Z"
   },
   {
    "duration": 10,
    "start_time": "2024-02-14T12:38:37.003Z"
   },
   {
    "duration": 20,
    "start_time": "2024-02-14T12:38:37.014Z"
   },
   {
    "duration": 4,
    "start_time": "2024-02-14T12:38:37.037Z"
   },
   {
    "duration": 40,
    "start_time": "2024-02-14T12:38:37.042Z"
   },
   {
    "duration": 6,
    "start_time": "2024-02-14T12:38:37.084Z"
   },
   {
    "duration": 8,
    "start_time": "2024-02-14T12:38:37.091Z"
   },
   {
    "duration": 12,
    "start_time": "2024-02-14T12:38:37.101Z"
   },
   {
    "duration": 12,
    "start_time": "2024-02-14T12:38:37.114Z"
   },
   {
    "duration": 96,
    "start_time": "2024-02-14T12:38:37.127Z"
   },
   {
    "duration": 26,
    "start_time": "2024-02-14T12:38:37.225Z"
   },
   {
    "duration": 10,
    "start_time": "2024-02-14T12:38:37.253Z"
   },
   {
    "duration": 179,
    "start_time": "2024-02-14T12:38:37.281Z"
   },
   {
    "duration": 133,
    "start_time": "2024-02-14T12:38:37.462Z"
   },
   {
    "duration": 13,
    "start_time": "2024-02-14T12:38:37.597Z"
   },
   {
    "duration": 10,
    "start_time": "2024-02-14T12:38:37.612Z"
   },
   {
    "duration": 312,
    "start_time": "2024-02-14T12:38:37.623Z"
   },
   {
    "duration": 224,
    "start_time": "2024-02-14T12:38:37.937Z"
   },
   {
    "duration": 17,
    "start_time": "2024-02-14T12:38:38.164Z"
   },
   {
    "duration": 343,
    "start_time": "2024-02-14T12:38:38.183Z"
   },
   {
    "duration": 8,
    "start_time": "2024-02-14T12:38:38.528Z"
   },
   {
    "duration": 15,
    "start_time": "2024-02-14T12:38:38.537Z"
   },
   {
    "duration": 6,
    "start_time": "2024-02-14T12:38:38.554Z"
   },
   {
    "duration": 26,
    "start_time": "2024-02-14T12:38:38.561Z"
   },
   {
    "duration": 307,
    "start_time": "2024-02-14T12:38:38.589Z"
   },
   {
    "duration": 194,
    "start_time": "2024-02-14T12:38:48.630Z"
   },
   {
    "duration": 201,
    "start_time": "2024-02-14T12:39:15.155Z"
   },
   {
    "duration": 178,
    "start_time": "2024-02-14T12:39:21.769Z"
   },
   {
    "duration": 172,
    "start_time": "2024-02-14T12:39:25.648Z"
   },
   {
    "duration": 264,
    "start_time": "2024-02-14T12:39:32.796Z"
   },
   {
    "duration": 168,
    "start_time": "2024-02-14T12:39:36.324Z"
   },
   {
    "duration": 186,
    "start_time": "2024-02-14T12:39:49.451Z"
   },
   {
    "duration": 189,
    "start_time": "2024-02-14T12:40:01.225Z"
   },
   {
    "duration": 212,
    "start_time": "2024-02-14T13:05:48.919Z"
   },
   {
    "duration": 184,
    "start_time": "2024-02-14T13:05:59.386Z"
   },
   {
    "duration": 211,
    "start_time": "2024-02-14T13:06:53.468Z"
   },
   {
    "duration": 215,
    "start_time": "2024-02-14T13:07:00.900Z"
   },
   {
    "duration": 9,
    "start_time": "2024-02-14T13:10:00.158Z"
   },
   {
    "duration": 311,
    "start_time": "2024-02-14T13:10:19.059Z"
   },
   {
    "duration": 249,
    "start_time": "2024-02-14T13:10:46.400Z"
   },
   {
    "duration": 275,
    "start_time": "2024-02-14T13:11:02.285Z"
   },
   {
    "duration": 307,
    "start_time": "2024-02-14T13:11:50.195Z"
   },
   {
    "duration": 384,
    "start_time": "2024-02-14T13:12:18.849Z"
   },
   {
    "duration": 291,
    "start_time": "2024-02-14T13:12:35.911Z"
   },
   {
    "duration": 289,
    "start_time": "2024-02-14T13:12:45.601Z"
   },
   {
    "duration": 62,
    "start_time": "2024-02-14T13:12:52.866Z"
   },
   {
    "duration": 8,
    "start_time": "2024-02-14T13:12:55.790Z"
   },
   {
    "duration": 17,
    "start_time": "2024-02-14T14:01:35.187Z"
   },
   {
    "duration": 20,
    "start_time": "2024-02-14T14:06:39.134Z"
   },
   {
    "duration": 12,
    "start_time": "2024-02-14T14:06:47.076Z"
   },
   {
    "duration": 12,
    "start_time": "2024-02-14T14:06:53.093Z"
   },
   {
    "duration": 6,
    "start_time": "2024-02-14T14:07:10.920Z"
   },
   {
    "duration": 11,
    "start_time": "2024-02-14T14:07:23.936Z"
   },
   {
    "duration": 1334,
    "start_time": "2024-02-14T14:07:46.742Z"
   },
   {
    "duration": 123,
    "start_time": "2024-02-14T14:08:01.651Z"
   },
   {
    "duration": 146,
    "start_time": "2024-02-14T14:09:57.140Z"
   },
   {
    "duration": 126,
    "start_time": "2024-02-14T14:10:11.094Z"
   },
   {
    "duration": 132,
    "start_time": "2024-02-14T14:10:14.090Z"
   },
   {
    "duration": 4,
    "start_time": "2024-02-14T14:18:34.278Z"
   },
   {
    "duration": 10,
    "start_time": "2024-02-14T14:18:36.990Z"
   },
   {
    "duration": 5,
    "start_time": "2024-02-14T14:18:44.636Z"
   },
   {
    "duration": 138,
    "start_time": "2024-02-14T14:23:23.452Z"
   },
   {
    "duration": 5,
    "start_time": "2024-02-14T14:23:42.809Z"
   },
   {
    "duration": 8,
    "start_time": "2024-02-14T14:23:48.298Z"
   },
   {
    "duration": 148,
    "start_time": "2024-02-14T14:23:52.530Z"
   },
   {
    "duration": 138,
    "start_time": "2024-02-14T14:43:04.385Z"
   },
   {
    "duration": 127,
    "start_time": "2024-02-14T14:43:18.197Z"
   },
   {
    "duration": 133,
    "start_time": "2024-02-14T14:43:25.975Z"
   },
   {
    "duration": 124,
    "start_time": "2024-02-14T14:44:10.650Z"
   },
   {
    "duration": 8,
    "start_time": "2024-02-14T14:47:27.137Z"
   },
   {
    "duration": 19,
    "start_time": "2024-02-14T14:47:52.081Z"
   },
   {
    "duration": 244,
    "start_time": "2024-02-14T14:49:27.853Z"
   },
   {
    "duration": 10,
    "start_time": "2024-02-14T14:49:52.436Z"
   },
   {
    "duration": 5,
    "start_time": "2024-02-14T14:50:53.607Z"
   },
   {
    "duration": 16,
    "start_time": "2024-02-14T15:49:07.127Z"
   },
   {
    "duration": 73,
    "start_time": "2024-02-14T15:49:51.476Z"
   },
   {
    "duration": 92,
    "start_time": "2024-02-14T15:49:58.089Z"
   },
   {
    "duration": 98,
    "start_time": "2024-02-14T16:03:59.751Z"
   },
   {
    "duration": 12,
    "start_time": "2024-02-14T16:05:09.538Z"
   },
   {
    "duration": 11,
    "start_time": "2024-02-14T16:05:30.119Z"
   },
   {
    "duration": 124,
    "start_time": "2024-02-14T16:16:23.258Z"
   },
   {
    "duration": 121,
    "start_time": "2024-02-14T16:17:38.953Z"
   },
   {
    "duration": 14,
    "start_time": "2024-02-14T18:06:02.981Z"
   },
   {
    "duration": 27,
    "start_time": "2024-02-14T18:06:52.433Z"
   },
   {
    "duration": 12,
    "start_time": "2024-02-14T18:07:55.200Z"
   },
   {
    "duration": 141,
    "start_time": "2024-02-14T18:08:40.682Z"
   },
   {
    "duration": 7,
    "start_time": "2024-02-14T18:11:00.897Z"
   },
   {
    "duration": 35,
    "start_time": "2024-02-14T18:11:22.195Z"
   },
   {
    "duration": 26,
    "start_time": "2024-02-14T18:12:15.677Z"
   },
   {
    "duration": 31,
    "start_time": "2024-02-14T18:18:17.184Z"
   },
   {
    "duration": 26,
    "start_time": "2024-02-14T18:18:43.812Z"
   },
   {
    "duration": 6,
    "start_time": "2024-02-14T18:25:01.484Z"
   },
   {
    "duration": 6,
    "start_time": "2024-02-14T18:25:10.996Z"
   },
   {
    "duration": 6,
    "start_time": "2024-02-14T18:25:20.596Z"
   },
   {
    "duration": 6,
    "start_time": "2024-02-14T18:26:37.770Z"
   },
   {
    "duration": 7,
    "start_time": "2024-02-14T18:26:45.123Z"
   },
   {
    "duration": 6,
    "start_time": "2024-02-14T18:26:57.607Z"
   },
   {
    "duration": 7,
    "start_time": "2024-02-14T18:27:01.207Z"
   },
   {
    "duration": 10,
    "start_time": "2024-02-14T18:27:59.281Z"
   },
   {
    "duration": 8,
    "start_time": "2024-02-14T18:40:40.927Z"
   },
   {
    "duration": 7,
    "start_time": "2024-02-14T18:41:58.670Z"
   },
   {
    "duration": 5,
    "start_time": "2024-02-14T18:42:30.269Z"
   },
   {
    "duration": 3,
    "start_time": "2024-02-14T18:42:48.272Z"
   },
   {
    "duration": 93,
    "start_time": "2024-02-14T19:08:08.632Z"
   },
   {
    "duration": 5,
    "start_time": "2024-02-14T19:08:18.425Z"
   },
   {
    "duration": 9,
    "start_time": "2024-02-14T19:08:33.616Z"
   },
   {
    "duration": 52,
    "start_time": "2024-02-14T19:08:50.933Z"
   },
   {
    "duration": 52,
    "start_time": "2024-02-14T19:09:05.910Z"
   },
   {
    "duration": 52,
    "start_time": "2024-02-14T19:09:38.327Z"
   },
   {
    "duration": 63,
    "start_time": "2024-02-14T19:12:34.182Z"
   },
   {
    "duration": 52,
    "start_time": "2024-02-14T19:14:05.561Z"
   },
   {
    "duration": 61,
    "start_time": "2024-02-14T19:37:18.970Z"
   },
   {
    "duration": 4,
    "start_time": "2024-02-14T19:37:29.855Z"
   },
   {
    "duration": 100,
    "start_time": "2024-02-14T19:37:35.519Z"
   },
   {
    "duration": 13,
    "start_time": "2024-02-14T19:37:46.829Z"
   },
   {
    "duration": 27,
    "start_time": "2024-02-14T19:40:58.043Z"
   },
   {
    "duration": 14,
    "start_time": "2024-02-14T19:41:14.709Z"
   },
   {
    "duration": 25,
    "start_time": "2024-02-14T19:43:40.333Z"
   },
   {
    "duration": 26,
    "start_time": "2024-02-14T19:43:53.874Z"
   },
   {
    "duration": 26,
    "start_time": "2024-02-14T19:44:11.337Z"
   },
   {
    "duration": 50,
    "start_time": "2024-02-14T19:44:14.788Z"
   },
   {
    "duration": 26,
    "start_time": "2024-02-14T19:44:17.573Z"
   },
   {
    "duration": 1272,
    "start_time": "2024-02-15T17:33:58.056Z"
   },
   {
    "duration": 262,
    "start_time": "2024-02-15T17:33:59.330Z"
   },
   {
    "duration": 3,
    "start_time": "2024-02-15T17:33:59.594Z"
   },
   {
    "duration": 17,
    "start_time": "2024-02-15T17:33:59.599Z"
   },
   {
    "duration": 4,
    "start_time": "2024-02-15T17:33:59.617Z"
   },
   {
    "duration": 20,
    "start_time": "2024-02-15T17:33:59.622Z"
   },
   {
    "duration": 37,
    "start_time": "2024-02-15T17:33:59.643Z"
   },
   {
    "duration": 11,
    "start_time": "2024-02-15T17:33:59.682Z"
   },
   {
    "duration": 11,
    "start_time": "2024-02-15T17:33:59.694Z"
   },
   {
    "duration": 14,
    "start_time": "2024-02-15T17:33:59.708Z"
   },
   {
    "duration": 14,
    "start_time": "2024-02-15T17:33:59.723Z"
   },
   {
    "duration": 16,
    "start_time": "2024-02-15T17:33:59.738Z"
   },
   {
    "duration": 36,
    "start_time": "2024-02-15T17:33:59.755Z"
   },
   {
    "duration": 5,
    "start_time": "2024-02-15T17:33:59.793Z"
   },
   {
    "duration": 10,
    "start_time": "2024-02-15T17:33:59.800Z"
   },
   {
    "duration": 9,
    "start_time": "2024-02-15T17:33:59.812Z"
   },
   {
    "duration": 11,
    "start_time": "2024-02-15T17:33:59.822Z"
   },
   {
    "duration": 17,
    "start_time": "2024-02-15T17:33:59.835Z"
   },
   {
    "duration": 28,
    "start_time": "2024-02-15T17:33:59.853Z"
   },
   {
    "duration": 64,
    "start_time": "2024-02-15T17:33:59.883Z"
   },
   {
    "duration": 47,
    "start_time": "2024-02-15T17:33:59.949Z"
   },
   {
    "duration": 34,
    "start_time": "2024-02-15T17:33:59.997Z"
   },
   {
    "duration": 207,
    "start_time": "2024-02-15T17:34:00.032Z"
   },
   {
    "duration": 273,
    "start_time": "2024-02-15T17:34:00.241Z"
   },
   {
    "duration": 23,
    "start_time": "2024-02-15T17:34:00.568Z"
   },
   {
    "duration": 86,
    "start_time": "2024-02-15T17:34:00.592Z"
   },
   {
    "duration": 789,
    "start_time": "2024-02-15T17:34:00.680Z"
   },
   {
    "duration": 367,
    "start_time": "2024-02-15T17:34:01.474Z"
   },
   {
    "duration": 11,
    "start_time": "2024-02-15T17:34:01.843Z"
   },
   {
    "duration": 370,
    "start_time": "2024-02-15T17:34:01.866Z"
   },
   {
    "duration": 8,
    "start_time": "2024-02-15T17:34:02.237Z"
   },
   {
    "duration": 38,
    "start_time": "2024-02-15T17:34:02.246Z"
   },
   {
    "duration": 27,
    "start_time": "2024-02-15T17:34:02.286Z"
   },
   {
    "duration": 244,
    "start_time": "2024-02-15T17:34:02.315Z"
   },
   {
    "duration": 15,
    "start_time": "2024-02-15T17:34:02.565Z"
   },
   {
    "duration": 302,
    "start_time": "2024-02-15T17:34:02.583Z"
   },
   {
    "duration": 11,
    "start_time": "2024-02-15T17:34:02.887Z"
   },
   {
    "duration": 149,
    "start_time": "2024-02-15T17:34:02.900Z"
   },
   {
    "duration": 131,
    "start_time": "2024-02-15T17:34:03.051Z"
   },
   {
    "duration": 5,
    "start_time": "2024-02-15T17:34:03.183Z"
   },
   {
    "duration": 38,
    "start_time": "2024-02-15T17:34:03.190Z"
   },
   {
    "duration": 176,
    "start_time": "2024-02-15T17:34:03.230Z"
   },
   {
    "duration": 218,
    "start_time": "2024-02-15T17:34:03.408Z"
   },
   {
    "duration": 6,
    "start_time": "2024-02-15T17:34:03.627Z"
   },
   {
    "duration": 100,
    "start_time": "2024-02-15T17:34:03.634Z"
   },
   {
    "duration": 119,
    "start_time": "2024-02-15T17:34:03.735Z"
   },
   {
    "duration": 34,
    "start_time": "2024-02-15T17:34:03.856Z"
   },
   {
    "duration": 158,
    "start_time": "2024-02-15T17:34:03.892Z"
   },
   {
    "duration": 6,
    "start_time": "2024-02-15T17:34:04.052Z"
   },
   {
    "duration": 59,
    "start_time": "2024-02-15T17:34:04.060Z"
   },
   {
    "duration": 36,
    "start_time": "2024-02-15T17:34:04.121Z"
   },
   {
    "duration": 24,
    "start_time": "2024-02-15T17:34:04.159Z"
   },
   {
    "duration": 11,
    "start_time": "2024-02-15T18:55:49.923Z"
   },
   {
    "duration": 11,
    "start_time": "2024-02-15T18:56:43.818Z"
   },
   {
    "duration": 118,
    "start_time": "2024-02-15T18:59:11.594Z"
   },
   {
    "duration": 1196,
    "start_time": "2024-02-15T18:59:34.727Z"
   },
   {
    "duration": 1102,
    "start_time": "2024-02-15T18:59:38.290Z"
   },
   {
    "duration": 1086,
    "start_time": "2024-02-15T18:59:51.806Z"
   },
   {
    "duration": 13,
    "start_time": "2024-02-15T19:00:12.161Z"
   },
   {
    "duration": 11,
    "start_time": "2024-02-15T19:00:17.660Z"
   },
   {
    "duration": 77,
    "start_time": "2024-02-15T19:00:34.503Z"
   },
   {
    "duration": 11,
    "start_time": "2024-02-15T19:00:41.654Z"
   },
   {
    "duration": 4,
    "start_time": "2024-02-15T19:02:29.796Z"
   },
   {
    "duration": 10,
    "start_time": "2024-02-15T19:02:47.309Z"
   },
   {
    "duration": 16,
    "start_time": "2024-02-15T19:03:46.106Z"
   },
   {
    "duration": 5,
    "start_time": "2024-02-15T19:03:57.814Z"
   },
   {
    "duration": 65,
    "start_time": "2024-02-15T19:04:27.582Z"
   },
   {
    "duration": 1417,
    "start_time": "2024-02-15T19:04:34.468Z"
   },
   {
    "duration": 8,
    "start_time": "2024-02-15T19:05:13.301Z"
   },
   {
    "duration": 5,
    "start_time": "2024-02-15T19:05:35.098Z"
   },
   {
    "duration": 7,
    "start_time": "2024-02-15T19:05:38.203Z"
   },
   {
    "duration": 8,
    "start_time": "2024-02-15T19:05:46.026Z"
   },
   {
    "duration": 6,
    "start_time": "2024-02-15T19:06:08.819Z"
   },
   {
    "duration": 7,
    "start_time": "2024-02-15T19:06:11.061Z"
   },
   {
    "duration": 8,
    "start_time": "2024-02-15T19:06:17.431Z"
   },
   {
    "duration": 8,
    "start_time": "2024-02-15T19:06:28.686Z"
   },
   {
    "duration": 8,
    "start_time": "2024-02-15T19:06:39.020Z"
   },
   {
    "duration": 6,
    "start_time": "2024-02-15T19:06:58.327Z"
   },
   {
    "duration": 1148,
    "start_time": "2024-02-15T19:08:37.867Z"
   },
   {
    "duration": 1151,
    "start_time": "2024-02-15T19:09:00.873Z"
   },
   {
    "duration": 8,
    "start_time": "2024-02-15T19:09:22.870Z"
   },
   {
    "duration": 1137,
    "start_time": "2024-02-15T19:11:13.185Z"
   },
   {
    "duration": 8,
    "start_time": "2024-02-15T19:11:27.040Z"
   },
   {
    "duration": 5,
    "start_time": "2024-02-15T19:11:35.216Z"
   },
   {
    "duration": 10,
    "start_time": "2024-02-15T19:11:39.345Z"
   },
   {
    "duration": 3,
    "start_time": "2024-02-15T19:11:50.955Z"
   },
   {
    "duration": 3,
    "start_time": "2024-02-15T19:12:26.119Z"
   },
   {
    "duration": 6,
    "start_time": "2024-02-15T19:14:09.793Z"
   },
   {
    "duration": 75,
    "start_time": "2024-02-15T19:15:23.301Z"
   },
   {
    "duration": 12,
    "start_time": "2024-02-15T19:15:26.583Z"
   },
   {
    "duration": 5,
    "start_time": "2024-02-15T19:15:40.277Z"
   },
   {
    "duration": 6,
    "start_time": "2024-02-15T19:15:46.394Z"
   },
   {
    "duration": 4,
    "start_time": "2024-02-15T19:15:51.820Z"
   },
   {
    "duration": 4,
    "start_time": "2024-02-15T19:16:54.414Z"
   },
   {
    "duration": 8,
    "start_time": "2024-02-15T19:17:21.223Z"
   },
   {
    "duration": 4,
    "start_time": "2024-02-15T19:17:29.763Z"
   },
   {
    "duration": 5,
    "start_time": "2024-02-15T19:17:38.347Z"
   },
   {
    "duration": 7,
    "start_time": "2024-02-15T19:18:44.519Z"
   },
   {
    "duration": 9,
    "start_time": "2024-02-15T19:29:15.965Z"
   },
   {
    "duration": 7,
    "start_time": "2024-02-15T19:29:50.534Z"
   },
   {
    "duration": 3,
    "start_time": "2024-02-15T19:29:51.178Z"
   },
   {
    "duration": 3,
    "start_time": "2024-02-15T19:29:56.260Z"
   },
   {
    "duration": 11,
    "start_time": "2024-02-15T19:30:18.836Z"
   },
   {
    "duration": 8,
    "start_time": "2024-02-15T19:30:24.226Z"
   },
   {
    "duration": 5,
    "start_time": "2024-02-15T19:30:25.448Z"
   },
   {
    "duration": 4,
    "start_time": "2024-02-15T19:30:26.116Z"
   },
   {
    "duration": 4,
    "start_time": "2024-02-15T19:32:21.551Z"
   },
   {
    "duration": 77,
    "start_time": "2024-02-15T19:32:32.230Z"
   },
   {
    "duration": 4,
    "start_time": "2024-02-15T19:32:52.825Z"
   },
   {
    "duration": 95,
    "start_time": "2024-02-15T19:33:13.406Z"
   },
   {
    "duration": 68,
    "start_time": "2024-02-15T19:33:27.704Z"
   },
   {
    "duration": 9,
    "start_time": "2024-02-15T19:34:08.436Z"
   },
   {
    "duration": 4,
    "start_time": "2024-02-15T19:34:28.270Z"
   },
   {
    "duration": 4,
    "start_time": "2024-02-15T19:35:01.930Z"
   },
   {
    "duration": 73,
    "start_time": "2024-02-15T19:35:10.016Z"
   },
   {
    "duration": 11,
    "start_time": "2024-02-15T19:35:12.656Z"
   },
   {
    "duration": 848,
    "start_time": "2024-02-15T19:35:41.975Z"
   },
   {
    "duration": 7,
    "start_time": "2024-02-15T19:36:40.123Z"
   },
   {
    "duration": 3,
    "start_time": "2024-02-15T19:36:45.590Z"
   },
   {
    "duration": 4,
    "start_time": "2024-02-15T19:37:10.419Z"
   },
   {
    "duration": 4,
    "start_time": "2024-02-15T19:37:16.882Z"
   },
   {
    "duration": 26,
    "start_time": "2024-02-15T19:41:18.864Z"
   },
   {
    "duration": 12,
    "start_time": "2024-02-15T19:43:53.521Z"
   },
   {
    "duration": 14,
    "start_time": "2024-02-15T19:44:46.748Z"
   },
   {
    "duration": 15,
    "start_time": "2024-02-15T19:46:19.397Z"
   },
   {
    "duration": 12,
    "start_time": "2024-02-15T19:48:21.826Z"
   },
   {
    "duration": 1221,
    "start_time": "2024-02-16T15:00:31.685Z"
   },
   {
    "duration": 250,
    "start_time": "2024-02-16T15:00:32.908Z"
   },
   {
    "duration": 3,
    "start_time": "2024-02-16T15:00:33.159Z"
   },
   {
    "duration": 19,
    "start_time": "2024-02-16T15:00:33.164Z"
   },
   {
    "duration": 4,
    "start_time": "2024-02-16T15:00:33.184Z"
   },
   {
    "duration": 13,
    "start_time": "2024-02-16T15:00:33.189Z"
   },
   {
    "duration": 32,
    "start_time": "2024-02-16T15:00:33.203Z"
   },
   {
    "duration": 11,
    "start_time": "2024-02-16T15:00:33.236Z"
   },
   {
    "duration": 17,
    "start_time": "2024-02-16T15:00:33.248Z"
   },
   {
    "duration": 5,
    "start_time": "2024-02-16T15:00:33.267Z"
   },
   {
    "duration": 5,
    "start_time": "2024-02-16T15:00:33.274Z"
   },
   {
    "duration": 11,
    "start_time": "2024-02-16T15:00:33.280Z"
   },
   {
    "duration": 20,
    "start_time": "2024-02-16T15:00:33.292Z"
   },
   {
    "duration": 3,
    "start_time": "2024-02-16T15:00:33.313Z"
   },
   {
    "duration": 7,
    "start_time": "2024-02-16T15:00:33.318Z"
   },
   {
    "duration": 5,
    "start_time": "2024-02-16T15:00:33.326Z"
   },
   {
    "duration": 7,
    "start_time": "2024-02-16T15:00:33.365Z"
   },
   {
    "duration": 12,
    "start_time": "2024-02-16T15:00:33.374Z"
   },
   {
    "duration": 12,
    "start_time": "2024-02-16T15:00:33.387Z"
   },
   {
    "duration": 86,
    "start_time": "2024-02-16T15:00:33.400Z"
   },
   {
    "duration": 23,
    "start_time": "2024-02-16T15:00:33.488Z"
   },
   {
    "duration": 9,
    "start_time": "2024-02-16T15:00:33.512Z"
   },
   {
    "duration": 181,
    "start_time": "2024-02-16T15:00:33.523Z"
   },
   {
    "duration": 139,
    "start_time": "2024-02-16T15:00:33.706Z"
   },
   {
    "duration": 23,
    "start_time": "2024-02-16T15:00:33.847Z"
   },
   {
    "duration": 22,
    "start_time": "2024-02-16T15:00:33.872Z"
   },
   {
    "duration": 276,
    "start_time": "2024-02-16T15:00:33.896Z"
   },
   {
    "duration": 208,
    "start_time": "2024-02-16T15:00:34.177Z"
   },
   {
    "duration": 11,
    "start_time": "2024-02-16T15:00:34.387Z"
   },
   {
    "duration": 330,
    "start_time": "2024-02-16T15:00:34.399Z"
   },
   {
    "duration": 7,
    "start_time": "2024-02-16T15:00:34.731Z"
   },
   {
    "duration": 20,
    "start_time": "2024-02-16T15:00:34.739Z"
   },
   {
    "duration": 4,
    "start_time": "2024-02-16T15:00:34.761Z"
   },
   {
    "duration": 215,
    "start_time": "2024-02-16T15:00:34.767Z"
   },
   {
    "duration": 7,
    "start_time": "2024-02-16T15:00:34.984Z"
   },
   {
    "duration": 296,
    "start_time": "2024-02-16T15:00:34.992Z"
   },
   {
    "duration": 10,
    "start_time": "2024-02-16T15:00:35.290Z"
   },
   {
    "duration": 128,
    "start_time": "2024-02-16T15:00:35.301Z"
   },
   {
    "duration": 117,
    "start_time": "2024-02-16T15:00:35.431Z"
   },
   {
    "duration": 4,
    "start_time": "2024-02-16T15:00:35.550Z"
   },
   {
    "duration": 9,
    "start_time": "2024-02-16T15:00:35.565Z"
   },
   {
    "duration": 146,
    "start_time": "2024-02-16T15:00:35.575Z"
   },
   {
    "duration": 201,
    "start_time": "2024-02-16T15:00:35.722Z"
   },
   {
    "duration": 5,
    "start_time": "2024-02-16T15:00:35.925Z"
   },
   {
    "duration": 101,
    "start_time": "2024-02-16T15:00:35.931Z"
   },
   {
    "duration": 116,
    "start_time": "2024-02-16T15:00:36.034Z"
   },
   {
    "duration": 29,
    "start_time": "2024-02-16T15:00:36.152Z"
   },
   {
    "duration": 136,
    "start_time": "2024-02-16T15:00:36.182Z"
   },
   {
    "duration": 5,
    "start_time": "2024-02-16T15:00:36.320Z"
   },
   {
    "duration": 24,
    "start_time": "2024-02-16T15:00:36.327Z"
   },
   {
    "duration": 22,
    "start_time": "2024-02-16T15:00:36.353Z"
   },
   {
    "duration": 12,
    "start_time": "2024-02-16T15:00:36.376Z"
   },
   {
    "duration": 6,
    "start_time": "2024-02-16T15:00:36.389Z"
   },
   {
    "duration": 27,
    "start_time": "2024-02-16T15:00:36.396Z"
   },
   {
    "duration": 13,
    "start_time": "2024-02-16T15:00:36.424Z"
   },
   {
    "duration": 10,
    "start_time": "2024-02-16T15:04:10.946Z"
   },
   {
    "duration": 26,
    "start_time": "2024-02-16T15:04:57.620Z"
   },
   {
    "duration": 25,
    "start_time": "2024-02-16T15:05:36.261Z"
   },
   {
    "duration": 9,
    "start_time": "2024-02-16T15:27:03.412Z"
   },
   {
    "duration": 72,
    "start_time": "2024-02-16T15:46:15.127Z"
   },
   {
    "duration": 4,
    "start_time": "2024-02-16T15:46:18.764Z"
   },
   {
    "duration": 29,
    "start_time": "2024-02-16T15:46:22.396Z"
   },
   {
    "duration": 23,
    "start_time": "2024-02-16T15:46:29.729Z"
   },
   {
    "duration": 254,
    "start_time": "2024-02-16T15:49:05.414Z"
   },
   {
    "duration": 276,
    "start_time": "2024-02-16T15:49:08.819Z"
   },
   {
    "duration": 5,
    "start_time": "2024-02-16T16:02:07.555Z"
   },
   {
    "duration": 7,
    "start_time": "2024-02-16T16:02:18.721Z"
   },
   {
    "duration": 5,
    "start_time": "2024-02-16T16:03:17.122Z"
   },
   {
    "duration": 5,
    "start_time": "2024-02-16T16:03:52.358Z"
   },
   {
    "duration": 1074,
    "start_time": "2024-02-16T16:23:48.980Z"
   },
   {
    "duration": 273,
    "start_time": "2024-02-16T16:23:50.056Z"
   },
   {
    "duration": 5,
    "start_time": "2024-02-16T16:23:50.331Z"
   },
   {
    "duration": 49,
    "start_time": "2024-02-16T16:23:50.338Z"
   },
   {
    "duration": 14,
    "start_time": "2024-02-16T16:23:50.389Z"
   },
   {
    "duration": 21,
    "start_time": "2024-02-16T16:23:50.405Z"
   },
   {
    "duration": 79,
    "start_time": "2024-02-16T16:23:50.428Z"
   },
   {
    "duration": 11,
    "start_time": "2024-02-16T16:23:50.509Z"
   },
   {
    "duration": 6,
    "start_time": "2024-02-16T16:23:50.521Z"
   },
   {
    "duration": 5,
    "start_time": "2024-02-16T16:23:50.583Z"
   },
   {
    "duration": 11,
    "start_time": "2024-02-16T16:23:50.590Z"
   },
   {
    "duration": 38,
    "start_time": "2024-02-16T16:23:50.602Z"
   },
   {
    "duration": 59,
    "start_time": "2024-02-16T16:23:50.641Z"
   },
   {
    "duration": 4,
    "start_time": "2024-02-16T16:23:50.703Z"
   },
   {
    "duration": 8,
    "start_time": "2024-02-16T16:23:50.708Z"
   },
   {
    "duration": 67,
    "start_time": "2024-02-16T16:23:50.717Z"
   },
   {
    "duration": 117,
    "start_time": "2024-02-16T16:23:50.786Z"
   },
   {
    "duration": 12,
    "start_time": "2024-02-16T16:23:50.905Z"
   },
   {
    "duration": 78,
    "start_time": "2024-02-16T16:23:50.918Z"
   },
   {
    "duration": 19,
    "start_time": "2024-02-16T16:23:50.997Z"
   },
   {
    "duration": 381,
    "start_time": "2024-02-16T16:23:51.018Z"
   },
   {
    "duration": 173,
    "start_time": "2024-02-16T16:23:51.400Z"
   },
   {
    "duration": 12,
    "start_time": "2024-02-16T16:23:51.581Z"
   },
   {
    "duration": 11,
    "start_time": "2024-02-16T16:23:51.595Z"
   },
   {
    "duration": 334,
    "start_time": "2024-02-16T16:23:51.608Z"
   },
   {
    "duration": 221,
    "start_time": "2024-02-16T16:23:51.944Z"
   },
   {
    "duration": 17,
    "start_time": "2024-02-16T16:23:52.166Z"
   },
   {
    "duration": 323,
    "start_time": "2024-02-16T16:23:52.185Z"
   },
   {
    "duration": 9,
    "start_time": "2024-02-16T16:23:52.510Z"
   },
   {
    "duration": 8,
    "start_time": "2024-02-16T16:23:52.520Z"
   },
   {
    "duration": 5,
    "start_time": "2024-02-16T16:23:52.529Z"
   },
   {
    "duration": 237,
    "start_time": "2024-02-16T16:23:52.535Z"
   },
   {
    "duration": 12,
    "start_time": "2024-02-16T16:23:52.774Z"
   },
   {
    "duration": 340,
    "start_time": "2024-02-16T16:23:52.788Z"
   },
   {
    "duration": 10,
    "start_time": "2024-02-16T16:23:53.130Z"
   },
   {
    "duration": 140,
    "start_time": "2024-02-16T16:23:53.142Z"
   },
   {
    "duration": 126,
    "start_time": "2024-02-16T16:23:53.284Z"
   },
   {
    "duration": 4,
    "start_time": "2024-02-16T16:23:53.412Z"
   },
   {
    "duration": 13,
    "start_time": "2024-02-16T16:23:53.418Z"
   },
   {
    "duration": 159,
    "start_time": "2024-02-16T16:23:53.432Z"
   },
   {
    "duration": 322,
    "start_time": "2024-02-16T16:23:53.595Z"
   },
   {
    "duration": 5,
    "start_time": "2024-02-16T16:23:53.919Z"
   },
   {
    "duration": 259,
    "start_time": "2024-02-16T16:23:53.925Z"
   },
   {
    "duration": 224,
    "start_time": "2024-02-16T16:23:54.185Z"
   },
   {
    "duration": 76,
    "start_time": "2024-02-16T16:23:54.410Z"
   },
   {
    "duration": 317,
    "start_time": "2024-02-16T16:23:54.487Z"
   },
   {
    "duration": 7,
    "start_time": "2024-02-16T16:23:54.806Z"
   },
   {
    "duration": 78,
    "start_time": "2024-02-16T16:23:54.814Z"
   },
   {
    "duration": 15,
    "start_time": "2024-02-16T16:23:54.894Z"
   },
   {
    "duration": 12,
    "start_time": "2024-02-16T16:23:54.910Z"
   },
   {
    "duration": 65,
    "start_time": "2024-02-16T16:23:54.923Z"
   },
   {
    "duration": 26,
    "start_time": "2024-02-16T16:23:54.990Z"
   },
   {
    "duration": 69,
    "start_time": "2024-02-16T16:23:55.017Z"
   },
   {
    "duration": 86,
    "start_time": "2024-02-16T16:24:17.462Z"
   },
   {
    "duration": 1338,
    "start_time": "2024-02-17T07:54:00.063Z"
   },
   {
    "duration": 250,
    "start_time": "2024-02-17T07:54:01.403Z"
   },
   {
    "duration": 4,
    "start_time": "2024-02-17T07:54:01.655Z"
   },
   {
    "duration": 59,
    "start_time": "2024-02-17T07:54:01.661Z"
   },
   {
    "duration": 50,
    "start_time": "2024-02-17T07:54:01.721Z"
   },
   {
    "duration": 91,
    "start_time": "2024-02-17T07:54:01.773Z"
   },
   {
    "duration": 75,
    "start_time": "2024-02-17T07:54:01.866Z"
   },
   {
    "duration": 26,
    "start_time": "2024-02-17T07:54:01.943Z"
   },
   {
    "duration": 36,
    "start_time": "2024-02-17T07:54:01.970Z"
   },
   {
    "duration": 89,
    "start_time": "2024-02-17T07:54:02.009Z"
   },
   {
    "duration": 89,
    "start_time": "2024-02-17T07:54:02.100Z"
   },
   {
    "duration": 86,
    "start_time": "2024-02-17T07:54:02.190Z"
   },
   {
    "duration": 46,
    "start_time": "2024-02-17T07:54:02.278Z"
   },
   {
    "duration": 4,
    "start_time": "2024-02-17T07:54:02.326Z"
   },
   {
    "duration": 41,
    "start_time": "2024-02-17T07:54:02.331Z"
   },
   {
    "duration": 25,
    "start_time": "2024-02-17T07:54:02.374Z"
   },
   {
    "duration": 111,
    "start_time": "2024-02-17T07:54:02.401Z"
   },
   {
    "duration": 13,
    "start_time": "2024-02-17T07:54:02.514Z"
   },
   {
    "duration": 91,
    "start_time": "2024-02-17T07:54:02.529Z"
   },
   {
    "duration": 23,
    "start_time": "2024-02-17T07:54:02.621Z"
   },
   {
    "duration": 200,
    "start_time": "2024-02-17T07:54:02.646Z"
   },
   {
    "duration": 150,
    "start_time": "2024-02-17T07:54:02.847Z"
   },
   {
    "duration": 23,
    "start_time": "2024-02-17T07:54:02.999Z"
   },
   {
    "duration": 61,
    "start_time": "2024-02-17T07:54:03.024Z"
   },
   {
    "duration": 351,
    "start_time": "2024-02-17T07:54:03.087Z"
   },
   {
    "duration": 226,
    "start_time": "2024-02-17T07:54:03.440Z"
   },
   {
    "duration": 12,
    "start_time": "2024-02-17T07:54:03.668Z"
   },
   {
    "duration": 386,
    "start_time": "2024-02-17T07:54:03.691Z"
   },
   {
    "duration": 8,
    "start_time": "2024-02-17T07:54:04.079Z"
   },
   {
    "duration": 8,
    "start_time": "2024-02-17T07:54:04.092Z"
   },
   {
    "duration": 7,
    "start_time": "2024-02-17T07:54:04.101Z"
   },
   {
    "duration": 237,
    "start_time": "2024-02-17T07:54:04.109Z"
   },
   {
    "duration": 9,
    "start_time": "2024-02-17T07:54:04.347Z"
   },
   {
    "duration": 337,
    "start_time": "2024-02-17T07:54:04.358Z"
   },
   {
    "duration": 11,
    "start_time": "2024-02-17T07:54:04.696Z"
   },
   {
    "duration": 150,
    "start_time": "2024-02-17T07:54:04.709Z"
   },
   {
    "duration": 123,
    "start_time": "2024-02-17T07:54:04.860Z"
   },
   {
    "duration": 10,
    "start_time": "2024-02-17T07:54:04.984Z"
   },
   {
    "duration": 12,
    "start_time": "2024-02-17T07:54:04.996Z"
   },
   {
    "duration": 162,
    "start_time": "2024-02-17T07:54:05.010Z"
   },
   {
    "duration": 217,
    "start_time": "2024-02-17T07:54:05.174Z"
   },
   {
    "duration": 6,
    "start_time": "2024-02-17T07:54:05.393Z"
   },
   {
    "duration": 115,
    "start_time": "2024-02-17T07:54:05.401Z"
   },
   {
    "duration": 140,
    "start_time": "2024-02-17T07:54:05.518Z"
   },
   {
    "duration": 35,
    "start_time": "2024-02-17T07:54:05.660Z"
   },
   {
    "duration": 169,
    "start_time": "2024-02-17T07:54:05.696Z"
   },
   {
    "duration": 7,
    "start_time": "2024-02-17T07:54:05.867Z"
   },
   {
    "duration": 38,
    "start_time": "2024-02-17T07:54:05.875Z"
   },
   {
    "duration": 14,
    "start_time": "2024-02-17T07:54:05.915Z"
   },
   {
    "duration": 13,
    "start_time": "2024-02-17T07:54:05.931Z"
   },
   {
    "duration": 8,
    "start_time": "2024-02-17T07:54:05.945Z"
   },
   {
    "duration": 58,
    "start_time": "2024-02-17T07:54:05.955Z"
   },
   {
    "duration": 15,
    "start_time": "2024-02-17T07:54:06.014Z"
   },
   {
    "duration": 108,
    "start_time": "2024-02-17T07:54:25.623Z"
   },
   {
    "duration": 9,
    "start_time": "2024-02-17T07:54:31.747Z"
   },
   {
    "duration": 9,
    "start_time": "2024-02-17T07:55:07.282Z"
   },
   {
    "duration": 8,
    "start_time": "2024-02-17T07:55:13.212Z"
   },
   {
    "duration": 14,
    "start_time": "2024-02-17T07:56:54.444Z"
   },
   {
    "duration": 8,
    "start_time": "2024-02-17T07:56:57.116Z"
   },
   {
    "duration": 10,
    "start_time": "2024-02-17T07:57:05.750Z"
   },
   {
    "duration": 12,
    "start_time": "2024-02-17T07:57:17.151Z"
   },
   {
    "duration": 12,
    "start_time": "2024-02-17T08:01:30.570Z"
   },
   {
    "duration": 14,
    "start_time": "2024-02-17T08:01:43.781Z"
   },
   {
    "duration": 1628,
    "start_time": "2024-02-17T08:01:49.453Z"
   },
   {
    "duration": 8,
    "start_time": "2024-02-17T08:02:00.093Z"
   },
   {
    "duration": 10,
    "start_time": "2024-02-17T08:02:03.272Z"
   },
   {
    "duration": 14,
    "start_time": "2024-02-17T08:02:09.218Z"
   },
   {
    "duration": 8,
    "start_time": "2024-02-17T08:02:14.402Z"
   },
   {
    "duration": 7,
    "start_time": "2024-02-17T08:02:23.256Z"
   },
   {
    "duration": 6,
    "start_time": "2024-02-17T08:16:49.283Z"
   },
   {
    "duration": 8,
    "start_time": "2024-02-17T08:16:54.975Z"
   },
   {
    "duration": 6,
    "start_time": "2024-02-17T08:16:59.297Z"
   },
   {
    "duration": 1737,
    "start_time": "2024-02-17T08:17:29.243Z"
   },
   {
    "duration": 5,
    "start_time": "2024-02-17T08:17:35.177Z"
   },
   {
    "duration": 4,
    "start_time": "2024-02-17T08:17:39.095Z"
   },
   {
    "duration": 9,
    "start_time": "2024-02-17T08:19:52.359Z"
   },
   {
    "duration": 1241,
    "start_time": "2024-02-17T08:20:01.042Z"
   },
   {
    "duration": 12,
    "start_time": "2024-02-17T08:20:07.905Z"
   },
   {
    "duration": 15,
    "start_time": "2024-02-17T08:20:10.635Z"
   },
   {
    "duration": 7,
    "start_time": "2024-02-17T08:20:34.474Z"
   },
   {
    "duration": 8,
    "start_time": "2024-02-17T08:20:43.393Z"
   },
   {
    "duration": 8,
    "start_time": "2024-02-17T08:20:53.152Z"
   },
   {
    "duration": 9,
    "start_time": "2024-02-17T08:21:08.058Z"
   },
   {
    "duration": 11,
    "start_time": "2024-02-17T08:21:11.636Z"
   },
   {
    "duration": 3,
    "start_time": "2024-02-17T08:21:25.447Z"
   },
   {
    "duration": 4,
    "start_time": "2024-02-17T08:22:09.795Z"
   },
   {
    "duration": 4,
    "start_time": "2024-02-17T08:22:15.370Z"
   },
   {
    "duration": 10,
    "start_time": "2024-02-17T08:22:23.701Z"
   },
   {
    "duration": 7,
    "start_time": "2024-02-17T08:22:29.042Z"
   },
   {
    "duration": 125,
    "start_time": "2024-02-17T08:25:14.632Z"
   },
   {
    "duration": 123,
    "start_time": "2024-02-17T08:25:28.708Z"
   },
   {
    "duration": 8,
    "start_time": "2024-02-17T08:30:07.345Z"
   },
   {
    "duration": 6,
    "start_time": "2024-02-17T08:30:10.419Z"
   },
   {
    "duration": 5,
    "start_time": "2024-02-17T08:30:16.919Z"
   },
   {
    "duration": 15,
    "start_time": "2024-02-17T08:32:20.602Z"
   },
   {
    "duration": 11,
    "start_time": "2024-02-17T08:32:39.837Z"
   },
   {
    "duration": 18,
    "start_time": "2024-02-17T08:32:42.591Z"
   },
   {
    "duration": 17,
    "start_time": "2024-02-17T08:32:51.074Z"
   },
   {
    "duration": 17,
    "start_time": "2024-02-17T08:32:59.234Z"
   },
   {
    "duration": 18,
    "start_time": "2024-02-17T08:33:01.684Z"
   },
   {
    "duration": 9,
    "start_time": "2024-02-17T08:33:12.281Z"
   },
   {
    "duration": 10,
    "start_time": "2024-02-17T08:33:15.527Z"
   },
   {
    "duration": 16,
    "start_time": "2024-02-17T08:33:21.336Z"
   },
   {
    "duration": 17,
    "start_time": "2024-02-17T08:33:38.219Z"
   },
   {
    "duration": 11,
    "start_time": "2024-02-17T08:35:18.830Z"
   },
   {
    "duration": 25,
    "start_time": "2024-02-17T08:37:55.485Z"
   },
   {
    "duration": 14,
    "start_time": "2024-02-17T08:38:10.333Z"
   },
   {
    "duration": 12,
    "start_time": "2024-02-17T08:38:13.675Z"
   },
   {
    "duration": 16,
    "start_time": "2024-02-17T08:38:17.569Z"
   },
   {
    "duration": 17,
    "start_time": "2024-02-17T08:38:24.943Z"
   },
   {
    "duration": 12,
    "start_time": "2024-02-17T08:38:28.560Z"
   },
   {
    "duration": 12,
    "start_time": "2024-02-17T08:38:58.224Z"
   },
   {
    "duration": 12,
    "start_time": "2024-02-17T08:47:13.468Z"
   },
   {
    "duration": 5,
    "start_time": "2024-02-17T08:51:11.822Z"
   },
   {
    "duration": 7,
    "start_time": "2024-02-17T08:51:32.316Z"
   },
   {
    "duration": 5,
    "start_time": "2024-02-17T08:55:07.744Z"
   },
   {
    "duration": 10,
    "start_time": "2024-02-17T08:55:18.604Z"
   },
   {
    "duration": 9,
    "start_time": "2024-02-17T08:55:42.829Z"
   },
   {
    "duration": 7,
    "start_time": "2024-02-17T08:55:47.540Z"
   },
   {
    "duration": 7,
    "start_time": "2024-02-17T08:56:08.564Z"
   },
   {
    "duration": 9,
    "start_time": "2024-02-17T08:56:19.651Z"
   },
   {
    "duration": 7,
    "start_time": "2024-02-17T08:56:53.204Z"
   },
   {
    "duration": 7,
    "start_time": "2024-02-17T08:57:43.841Z"
   },
   {
    "duration": 7,
    "start_time": "2024-02-17T08:58:21.627Z"
   },
   {
    "duration": 10,
    "start_time": "2024-02-17T08:58:29.115Z"
   },
   {
    "duration": 10,
    "start_time": "2024-02-17T08:58:35.201Z"
   },
   {
    "duration": 6,
    "start_time": "2024-02-17T09:01:21.071Z"
   },
   {
    "duration": 13,
    "start_time": "2024-02-17T09:04:57.734Z"
   },
   {
    "duration": 6,
    "start_time": "2024-02-17T09:05:08.909Z"
   },
   {
    "duration": 13,
    "start_time": "2024-02-17T09:06:55.970Z"
   },
   {
    "duration": 880,
    "start_time": "2024-02-17T09:07:05.355Z"
   },
   {
    "duration": 4,
    "start_time": "2024-02-17T09:07:15.431Z"
   },
   {
    "duration": 7,
    "start_time": "2024-02-17T09:07:18.576Z"
   },
   {
    "duration": 11,
    "start_time": "2024-02-17T09:07:25.693Z"
   },
   {
    "duration": 14,
    "start_time": "2024-02-17T09:07:43.773Z"
   },
   {
    "duration": 19,
    "start_time": "2024-02-17T09:09:33.343Z"
   },
   {
    "duration": 56,
    "start_time": "2024-02-17T09:10:14.644Z"
   },
   {
    "duration": 11,
    "start_time": "2024-02-17T09:10:17.794Z"
   },
   {
    "duration": 6,
    "start_time": "2024-02-17T09:10:35.403Z"
   },
   {
    "duration": 10,
    "start_time": "2024-02-17T09:10:49.422Z"
   },
   {
    "duration": 21,
    "start_time": "2024-02-17T09:11:10.860Z"
   },
   {
    "duration": 19,
    "start_time": "2024-02-17T09:11:28.761Z"
   },
   {
    "duration": 18,
    "start_time": "2024-02-17T09:11:36.551Z"
   },
   {
    "duration": 19,
    "start_time": "2024-02-17T09:11:53.982Z"
   },
   {
    "duration": 20,
    "start_time": "2024-02-17T09:12:00.288Z"
   },
   {
    "duration": 4,
    "start_time": "2024-02-17T09:12:05.858Z"
   },
   {
    "duration": 6,
    "start_time": "2024-02-17T09:12:24.380Z"
   },
   {
    "duration": 4,
    "start_time": "2024-02-17T09:12:54.421Z"
   },
   {
    "duration": 5,
    "start_time": "2024-02-17T09:19:35.611Z"
   },
   {
    "duration": 118,
    "start_time": "2024-02-17T09:22:30.742Z"
   },
   {
    "duration": 11,
    "start_time": "2024-02-17T09:22:42.516Z"
   },
   {
    "duration": 16,
    "start_time": "2024-02-17T09:23:04.316Z"
   },
   {
    "duration": 17,
    "start_time": "2024-02-17T09:23:11.266Z"
   },
   {
    "duration": 7,
    "start_time": "2024-02-17T09:25:30.753Z"
   },
   {
    "duration": 15,
    "start_time": "2024-02-17T09:25:45.468Z"
   },
   {
    "duration": 5,
    "start_time": "2024-02-17T09:26:25.624Z"
   },
   {
    "duration": 8,
    "start_time": "2024-02-17T09:26:30.174Z"
   },
   {
    "duration": 8,
    "start_time": "2024-02-17T09:26:45.187Z"
   },
   {
    "duration": 8,
    "start_time": "2024-02-17T09:26:55.164Z"
   },
   {
    "duration": 9,
    "start_time": "2024-02-17T09:27:00.223Z"
   },
   {
    "duration": 9,
    "start_time": "2024-02-17T09:27:09.495Z"
   },
   {
    "duration": 11,
    "start_time": "2024-02-17T09:27:16.609Z"
   },
   {
    "duration": 10,
    "start_time": "2024-02-17T09:27:21.087Z"
   },
   {
    "duration": 5,
    "start_time": "2024-02-17T09:27:28.577Z"
   },
   {
    "duration": 5,
    "start_time": "2024-02-17T09:30:50.072Z"
   },
   {
    "duration": 11,
    "start_time": "2024-02-17T09:48:25.605Z"
   },
   {
    "duration": 1690,
    "start_time": "2024-02-17T09:49:25.622Z"
   },
   {
    "duration": 12,
    "start_time": "2024-02-17T09:49:34.812Z"
   },
   {
    "duration": 1620,
    "start_time": "2024-02-17T09:50:32.341Z"
   },
   {
    "duration": 1624,
    "start_time": "2024-02-17T09:50:47.203Z"
   },
   {
    "duration": 1706,
    "start_time": "2024-02-17T09:51:35.874Z"
   },
   {
    "duration": 4,
    "start_time": "2024-02-17T09:57:42.293Z"
   },
   {
    "duration": 1650,
    "start_time": "2024-02-17T09:57:45.180Z"
   },
   {
    "duration": 1727,
    "start_time": "2024-02-17T09:58:57.285Z"
   },
   {
    "duration": 12,
    "start_time": "2024-02-17T09:59:04.644Z"
   },
   {
    "duration": 1616,
    "start_time": "2024-02-17T10:00:08.056Z"
   },
   {
    "duration": 1673,
    "start_time": "2024-02-17T10:01:21.771Z"
   },
   {
    "duration": 7,
    "start_time": "2024-02-17T10:01:36.004Z"
   },
   {
    "duration": 1562,
    "start_time": "2024-02-17T10:01:40.956Z"
   },
   {
    "duration": 11,
    "start_time": "2024-02-17T10:03:43.887Z"
   },
   {
    "duration": 1528,
    "start_time": "2024-02-17T10:03:57.712Z"
   },
   {
    "duration": 4,
    "start_time": "2024-02-17T10:04:08.898Z"
   },
   {
    "duration": 5,
    "start_time": "2024-02-17T10:04:16.405Z"
   },
   {
    "duration": 5,
    "start_time": "2024-02-17T10:04:22.202Z"
   },
   {
    "duration": 4,
    "start_time": "2024-02-17T10:04:26.576Z"
   },
   {
    "duration": 15,
    "start_time": "2024-02-17T10:04:30.808Z"
   },
   {
    "duration": 8,
    "start_time": "2024-02-17T10:04:44.195Z"
   },
   {
    "duration": 13,
    "start_time": "2024-02-17T10:04:45.721Z"
   },
   {
    "duration": 19,
    "start_time": "2024-02-17T10:04:57.608Z"
   },
   {
    "duration": 4,
    "start_time": "2024-02-17T10:05:15.120Z"
   },
   {
    "duration": 19,
    "start_time": "2024-02-17T10:05:30.784Z"
   },
   {
    "duration": 17,
    "start_time": "2024-02-17T10:05:36.648Z"
   },
   {
    "duration": 7,
    "start_time": "2024-02-17T10:06:39.996Z"
   },
   {
    "duration": 8,
    "start_time": "2024-02-17T10:07:04.047Z"
   },
   {
    "duration": 102,
    "start_time": "2024-02-17T10:07:23.587Z"
   },
   {
    "duration": 10,
    "start_time": "2024-02-17T10:07:27.240Z"
   },
   {
    "duration": 7,
    "start_time": "2024-02-17T10:08:07.575Z"
   },
   {
    "duration": 104,
    "start_time": "2024-02-17T10:08:30.259Z"
   },
   {
    "duration": 6,
    "start_time": "2024-02-17T10:08:39.040Z"
   },
   {
    "duration": 7,
    "start_time": "2024-02-17T10:08:53.123Z"
   },
   {
    "duration": 5,
    "start_time": "2024-02-17T10:09:56.616Z"
   },
   {
    "duration": 7,
    "start_time": "2024-02-17T10:10:01.353Z"
   },
   {
    "duration": 6,
    "start_time": "2024-02-17T10:10:06.586Z"
   },
   {
    "duration": 1234,
    "start_time": "2024-02-17T10:10:17.370Z"
   },
   {
    "duration": 17,
    "start_time": "2024-02-17T10:10:27.948Z"
   },
   {
    "duration": 15,
    "start_time": "2024-02-17T10:10:33.925Z"
   },
   {
    "duration": 6,
    "start_time": "2024-02-17T10:12:10.242Z"
   },
   {
    "duration": 5,
    "start_time": "2024-02-17T10:12:16.122Z"
   },
   {
    "duration": 7,
    "start_time": "2024-02-17T10:18:03.932Z"
   },
   {
    "duration": 7,
    "start_time": "2024-02-17T10:18:18.774Z"
   },
   {
    "duration": 7,
    "start_time": "2024-02-17T10:18:23.629Z"
   },
   {
    "duration": 8,
    "start_time": "2024-02-17T10:18:38.955Z"
   },
   {
    "duration": 10,
    "start_time": "2024-02-17T10:18:43.841Z"
   },
   {
    "duration": 25,
    "start_time": "2024-02-17T10:18:52.002Z"
   },
   {
    "duration": 16,
    "start_time": "2024-02-17T10:19:07.045Z"
   },
   {
    "duration": 5,
    "start_time": "2024-02-17T10:19:14.386Z"
   },
   {
    "duration": 11,
    "start_time": "2024-02-17T10:19:19.293Z"
   },
   {
    "duration": 7,
    "start_time": "2024-02-17T10:19:23.834Z"
   },
   {
    "duration": 11,
    "start_time": "2024-02-17T10:19:29.172Z"
   },
   {
    "duration": 8,
    "start_time": "2024-02-17T10:19:51.734Z"
   },
   {
    "duration": 10,
    "start_time": "2024-02-17T10:21:03.911Z"
   },
   {
    "duration": 141,
    "start_time": "2024-02-17T10:21:45.606Z"
   },
   {
    "duration": 9,
    "start_time": "2024-02-17T10:21:56.619Z"
   },
   {
    "duration": 11,
    "start_time": "2024-02-17T10:22:15.853Z"
   },
   {
    "duration": 103,
    "start_time": "2024-02-17T10:22:53.983Z"
   },
   {
    "duration": 163,
    "start_time": "2024-02-17T10:22:56.280Z"
   },
   {
    "duration": 13,
    "start_time": "2024-02-17T10:23:11.545Z"
   },
   {
    "duration": 11,
    "start_time": "2024-02-17T10:23:21.389Z"
   },
   {
    "duration": 11,
    "start_time": "2024-02-17T10:23:31.665Z"
   },
   {
    "duration": 4,
    "start_time": "2024-02-17T10:25:13.963Z"
   },
   {
    "duration": 1625,
    "start_time": "2024-02-17T10:26:36.339Z"
   },
   {
    "duration": 4,
    "start_time": "2024-02-17T10:26:43.334Z"
   },
   {
    "duration": 4,
    "start_time": "2024-02-17T10:26:53.080Z"
   },
   {
    "duration": 16,
    "start_time": "2024-02-17T10:29:42.700Z"
   },
   {
    "duration": 5,
    "start_time": "2024-02-17T10:29:44.836Z"
   },
   {
    "duration": 5,
    "start_time": "2024-02-17T10:31:33.998Z"
   },
   {
    "duration": 154,
    "start_time": "2024-02-17T10:33:49.385Z"
   },
   {
    "duration": 157,
    "start_time": "2024-02-17T10:34:09.799Z"
   },
   {
    "duration": 108,
    "start_time": "2024-02-17T10:35:02.338Z"
   },
   {
    "duration": 145,
    "start_time": "2024-02-17T10:35:06.901Z"
   },
   {
    "duration": 9,
    "start_time": "2024-02-17T10:36:16.179Z"
   },
   {
    "duration": 11,
    "start_time": "2024-02-17T10:36:23.783Z"
   },
   {
    "duration": 22,
    "start_time": "2024-02-17T10:47:06.036Z"
   },
   {
    "duration": 1142,
    "start_time": "2024-02-17T10:47:16.555Z"
   },
   {
    "duration": 128,
    "start_time": "2024-02-17T10:47:17.700Z"
   },
   {
    "duration": 6,
    "start_time": "2024-02-17T10:47:17.830Z"
   },
   {
    "duration": 14,
    "start_time": "2024-02-17T10:47:17.838Z"
   },
   {
    "duration": 5,
    "start_time": "2024-02-17T10:47:17.853Z"
   },
   {
    "duration": 19,
    "start_time": "2024-02-17T10:47:17.859Z"
   },
   {
    "duration": 44,
    "start_time": "2024-02-17T10:47:17.880Z"
   },
   {
    "duration": 25,
    "start_time": "2024-02-17T10:47:17.925Z"
   },
   {
    "duration": 25,
    "start_time": "2024-02-17T10:47:17.952Z"
   },
   {
    "duration": 21,
    "start_time": "2024-02-17T10:47:17.980Z"
   },
   {
    "duration": 17,
    "start_time": "2024-02-17T10:47:18.003Z"
   },
   {
    "duration": 27,
    "start_time": "2024-02-17T10:47:18.022Z"
   },
   {
    "duration": 3,
    "start_time": "2024-02-17T10:47:18.051Z"
   },
   {
    "duration": 14,
    "start_time": "2024-02-17T10:47:18.056Z"
   },
   {
    "duration": 8,
    "start_time": "2024-02-17T10:47:18.071Z"
   },
   {
    "duration": 15,
    "start_time": "2024-02-17T10:47:18.081Z"
   },
   {
    "duration": 9,
    "start_time": "2024-02-17T10:47:18.097Z"
   },
   {
    "duration": 13,
    "start_time": "2024-02-17T10:47:18.107Z"
   },
   {
    "duration": 5,
    "start_time": "2024-02-17T10:47:18.122Z"
   },
   {
    "duration": 5,
    "start_time": "2024-02-17T10:47:18.128Z"
   },
   {
    "duration": 148,
    "start_time": "2024-02-17T10:47:18.134Z"
   },
   {
    "duration": 18,
    "start_time": "2024-02-17T10:47:18.283Z"
   },
   {
    "duration": 15,
    "start_time": "2024-02-17T10:47:18.303Z"
   },
   {
    "duration": 10,
    "start_time": "2024-02-17T10:47:18.320Z"
   },
   {
    "duration": 0,
    "start_time": "2024-02-17T10:47:18.333Z"
   },
   {
    "duration": 0,
    "start_time": "2024-02-17T10:47:18.334Z"
   },
   {
    "duration": 0,
    "start_time": "2024-02-17T10:47:18.335Z"
   },
   {
    "duration": 0,
    "start_time": "2024-02-17T10:47:18.336Z"
   },
   {
    "duration": 0,
    "start_time": "2024-02-17T10:47:18.337Z"
   },
   {
    "duration": 0,
    "start_time": "2024-02-17T10:47:18.338Z"
   },
   {
    "duration": 0,
    "start_time": "2024-02-17T10:47:18.339Z"
   },
   {
    "duration": 0,
    "start_time": "2024-02-17T10:47:18.340Z"
   },
   {
    "duration": 0,
    "start_time": "2024-02-17T10:47:18.341Z"
   },
   {
    "duration": 0,
    "start_time": "2024-02-17T10:47:18.343Z"
   },
   {
    "duration": 0,
    "start_time": "2024-02-17T10:47:18.344Z"
   },
   {
    "duration": 0,
    "start_time": "2024-02-17T10:47:18.345Z"
   },
   {
    "duration": 0,
    "start_time": "2024-02-17T10:47:18.346Z"
   },
   {
    "duration": 0,
    "start_time": "2024-02-17T10:47:18.347Z"
   },
   {
    "duration": 0,
    "start_time": "2024-02-17T10:47:18.393Z"
   },
   {
    "duration": 0,
    "start_time": "2024-02-17T10:47:18.394Z"
   },
   {
    "duration": 0,
    "start_time": "2024-02-17T10:47:18.395Z"
   },
   {
    "duration": 0,
    "start_time": "2024-02-17T10:47:18.397Z"
   },
   {
    "duration": 0,
    "start_time": "2024-02-17T10:47:18.399Z"
   },
   {
    "duration": 0,
    "start_time": "2024-02-17T10:47:18.400Z"
   },
   {
    "duration": 0,
    "start_time": "2024-02-17T10:47:18.401Z"
   },
   {
    "duration": 0,
    "start_time": "2024-02-17T10:47:18.403Z"
   },
   {
    "duration": 0,
    "start_time": "2024-02-17T10:47:18.404Z"
   },
   {
    "duration": 0,
    "start_time": "2024-02-17T10:47:18.406Z"
   },
   {
    "duration": 0,
    "start_time": "2024-02-17T10:47:18.408Z"
   },
   {
    "duration": 0,
    "start_time": "2024-02-17T10:47:18.409Z"
   },
   {
    "duration": 0,
    "start_time": "2024-02-17T10:47:18.410Z"
   },
   {
    "duration": 0,
    "start_time": "2024-02-17T10:47:18.412Z"
   },
   {
    "duration": 0,
    "start_time": "2024-02-17T10:47:18.413Z"
   },
   {
    "duration": 0,
    "start_time": "2024-02-17T10:47:18.414Z"
   },
   {
    "duration": 0,
    "start_time": "2024-02-17T10:47:18.416Z"
   },
   {
    "duration": 0,
    "start_time": "2024-02-17T10:47:18.417Z"
   },
   {
    "duration": 0,
    "start_time": "2024-02-17T10:47:18.419Z"
   },
   {
    "duration": 0,
    "start_time": "2024-02-17T10:47:18.420Z"
   },
   {
    "duration": 0,
    "start_time": "2024-02-17T10:47:18.422Z"
   },
   {
    "duration": 0,
    "start_time": "2024-02-17T10:47:18.425Z"
   },
   {
    "duration": 0,
    "start_time": "2024-02-17T10:47:18.427Z"
   },
   {
    "duration": 0,
    "start_time": "2024-02-17T10:47:18.428Z"
   },
   {
    "duration": 4,
    "start_time": "2024-02-17T10:47:34.755Z"
   },
   {
    "duration": 1153,
    "start_time": "2024-02-17T10:47:53.870Z"
   },
   {
    "duration": 147,
    "start_time": "2024-02-17T10:47:55.025Z"
   },
   {
    "duration": 4,
    "start_time": "2024-02-17T10:47:55.176Z"
   },
   {
    "duration": 33,
    "start_time": "2024-02-17T10:47:55.182Z"
   },
   {
    "duration": 5,
    "start_time": "2024-02-17T10:47:55.217Z"
   },
   {
    "duration": 34,
    "start_time": "2024-02-17T10:47:55.224Z"
   },
   {
    "duration": 61,
    "start_time": "2024-02-17T10:47:55.261Z"
   },
   {
    "duration": 5,
    "start_time": "2024-02-17T10:47:55.324Z"
   },
   {
    "duration": 33,
    "start_time": "2024-02-17T10:47:55.331Z"
   },
   {
    "duration": 10,
    "start_time": "2024-02-17T10:47:55.366Z"
   },
   {
    "duration": 16,
    "start_time": "2024-02-17T10:47:55.378Z"
   },
   {
    "duration": 45,
    "start_time": "2024-02-17T10:47:55.396Z"
   },
   {
    "duration": 25,
    "start_time": "2024-02-17T10:47:55.443Z"
   },
   {
    "duration": 26,
    "start_time": "2024-02-17T10:47:55.470Z"
   },
   {
    "duration": 20,
    "start_time": "2024-02-17T10:47:55.498Z"
   },
   {
    "duration": 21,
    "start_time": "2024-02-17T10:47:55.520Z"
   },
   {
    "duration": 32,
    "start_time": "2024-02-17T10:47:55.543Z"
   },
   {
    "duration": 32,
    "start_time": "2024-02-17T10:47:55.576Z"
   },
   {
    "duration": 14,
    "start_time": "2024-02-17T10:47:55.610Z"
   },
   {
    "duration": 13,
    "start_time": "2024-02-17T10:47:55.626Z"
   },
   {
    "duration": 128,
    "start_time": "2024-02-17T10:47:55.640Z"
   },
   {
    "duration": 13,
    "start_time": "2024-02-17T10:47:55.769Z"
   },
   {
    "duration": 22,
    "start_time": "2024-02-17T10:47:55.783Z"
   },
   {
    "duration": 3,
    "start_time": "2024-02-17T10:47:55.807Z"
   },
   {
    "duration": 27,
    "start_time": "2024-02-17T10:47:55.812Z"
   },
   {
    "duration": 78,
    "start_time": "2024-02-17T10:47:55.841Z"
   },
   {
    "duration": 13,
    "start_time": "2024-02-17T10:47:55.923Z"
   },
   {
    "duration": 35,
    "start_time": "2024-02-17T10:47:55.938Z"
   },
   {
    "duration": 52,
    "start_time": "2024-02-17T10:47:55.974Z"
   },
   {
    "duration": 215,
    "start_time": "2024-02-17T10:47:56.028Z"
   },
   {
    "duration": 138,
    "start_time": "2024-02-17T10:47:56.244Z"
   },
   {
    "duration": 14,
    "start_time": "2024-02-17T10:47:56.392Z"
   },
   {
    "duration": 22,
    "start_time": "2024-02-17T10:47:56.408Z"
   },
   {
    "duration": 344,
    "start_time": "2024-02-17T10:47:56.432Z"
   },
   {
    "duration": 235,
    "start_time": "2024-02-17T10:47:56.778Z"
   },
   {
    "duration": 12,
    "start_time": "2024-02-17T10:47:57.015Z"
   },
   {
    "duration": 294,
    "start_time": "2024-02-17T10:47:57.030Z"
   },
   {
    "duration": 8,
    "start_time": "2024-02-17T10:47:57.326Z"
   },
   {
    "duration": 8,
    "start_time": "2024-02-17T10:47:57.337Z"
   },
   {
    "duration": 12,
    "start_time": "2024-02-17T10:47:57.347Z"
   },
   {
    "duration": 327,
    "start_time": "2024-02-17T10:47:57.361Z"
   },
   {
    "duration": 8,
    "start_time": "2024-02-17T10:47:57.689Z"
   },
   {
    "duration": 327,
    "start_time": "2024-02-17T10:47:57.699Z"
   },
   {
    "duration": 12,
    "start_time": "2024-02-17T10:47:58.027Z"
   },
   {
    "duration": 227,
    "start_time": "2024-02-17T10:47:58.041Z"
   },
   {
    "duration": 171,
    "start_time": "2024-02-17T10:47:58.270Z"
   },
   {
    "duration": 5,
    "start_time": "2024-02-17T10:47:58.442Z"
   },
   {
    "duration": 11,
    "start_time": "2024-02-17T10:47:58.449Z"
   },
   {
    "duration": 163,
    "start_time": "2024-02-17T10:47:58.462Z"
   },
   {
    "duration": 216,
    "start_time": "2024-02-17T10:47:58.626Z"
   },
   {
    "duration": 6,
    "start_time": "2024-02-17T10:47:58.844Z"
   },
   {
    "duration": 115,
    "start_time": "2024-02-17T10:47:58.852Z"
   },
   {
    "duration": 137,
    "start_time": "2024-02-17T10:47:58.969Z"
   },
   {
    "duration": 26,
    "start_time": "2024-02-17T10:47:59.108Z"
   },
   {
    "duration": 157,
    "start_time": "2024-02-17T10:47:59.135Z"
   },
   {
    "duration": 7,
    "start_time": "2024-02-17T10:47:59.293Z"
   },
   {
    "duration": 29,
    "start_time": "2024-02-17T10:47:59.302Z"
   },
   {
    "duration": 15,
    "start_time": "2024-02-17T10:47:59.333Z"
   },
   {
    "duration": 18,
    "start_time": "2024-02-17T10:47:59.349Z"
   },
   {
    "duration": 27,
    "start_time": "2024-02-17T10:47:59.368Z"
   },
   {
    "duration": 31,
    "start_time": "2024-02-17T10:47:59.396Z"
   },
   {
    "duration": 14,
    "start_time": "2024-02-17T10:47:59.428Z"
   },
   {
    "duration": 5,
    "start_time": "2024-02-17T11:16:15.724Z"
   },
   {
    "duration": 4,
    "start_time": "2024-02-17T11:16:23.933Z"
   },
   {
    "duration": 5,
    "start_time": "2024-02-17T11:16:26.837Z"
   },
   {
    "duration": 5,
    "start_time": "2024-02-17T11:16:36.371Z"
   },
   {
    "duration": 7,
    "start_time": "2024-02-17T11:17:11.136Z"
   },
   {
    "duration": 6,
    "start_time": "2024-02-17T11:17:15.261Z"
   },
   {
    "duration": 5,
    "start_time": "2024-02-17T11:17:30.146Z"
   },
   {
    "duration": 4,
    "start_time": "2024-02-17T11:17:32.331Z"
   },
   {
    "duration": 6,
    "start_time": "2024-02-17T11:18:02.162Z"
   },
   {
    "duration": 5,
    "start_time": "2024-02-17T11:18:05.580Z"
   },
   {
    "duration": 166,
    "start_time": "2024-02-17T11:19:40.155Z"
   },
   {
    "duration": 179,
    "start_time": "2024-02-17T11:20:00.693Z"
   },
   {
    "duration": 163,
    "start_time": "2024-02-17T11:20:16.378Z"
   },
   {
    "duration": 5,
    "start_time": "2024-02-17T11:20:36.411Z"
   },
   {
    "duration": 5,
    "start_time": "2024-02-17T11:20:39.562Z"
   },
   {
    "duration": 6,
    "start_time": "2024-02-17T11:20:42.230Z"
   },
   {
    "duration": 5,
    "start_time": "2024-02-17T11:20:51.450Z"
   },
   {
    "duration": 7,
    "start_time": "2024-02-17T11:20:59.770Z"
   },
   {
    "duration": 29,
    "start_time": "2024-02-17T11:21:37.400Z"
   },
   {
    "duration": 6,
    "start_time": "2024-02-17T11:21:47.611Z"
   },
   {
    "duration": 30,
    "start_time": "2024-02-17T11:21:50.669Z"
   },
   {
    "duration": 29,
    "start_time": "2024-02-17T11:22:10.917Z"
   },
   {
    "duration": 27,
    "start_time": "2024-02-17T11:22:17.640Z"
   },
   {
    "duration": 9,
    "start_time": "2024-02-17T11:30:01.107Z"
   },
   {
    "duration": 6,
    "start_time": "2024-02-17T11:30:11.700Z"
   },
   {
    "duration": 121,
    "start_time": "2024-02-17T11:31:51.502Z"
   },
   {
    "duration": 16,
    "start_time": "2024-02-17T11:31:55.242Z"
   },
   {
    "duration": 3,
    "start_time": "2024-02-17T11:32:29.082Z"
   },
   {
    "duration": 5,
    "start_time": "2024-02-17T11:32:35.795Z"
   },
   {
    "duration": 1703,
    "start_time": "2024-02-17T11:33:09.632Z"
   },
   {
    "duration": 1629,
    "start_time": "2024-02-17T11:33:40.170Z"
   },
   {
    "duration": 1708,
    "start_time": "2024-02-17T11:33:56.300Z"
   },
   {
    "duration": 13,
    "start_time": "2024-02-17T11:34:11.739Z"
   },
   {
    "duration": 4,
    "start_time": "2024-02-17T11:34:30.472Z"
   },
   {
    "duration": 31,
    "start_time": "2024-02-17T11:34:43.318Z"
   },
   {
    "duration": 14,
    "start_time": "2024-02-17T11:35:46.988Z"
   },
   {
    "duration": 10,
    "start_time": "2024-02-17T11:35:53.932Z"
   },
   {
    "duration": 28,
    "start_time": "2024-02-17T11:35:54.389Z"
   },
   {
    "duration": 4,
    "start_time": "2024-02-17T11:49:46.451Z"
   },
   {
    "duration": 44,
    "start_time": "2024-02-17T11:49:50.350Z"
   },
   {
    "duration": 1155,
    "start_time": "2024-02-17T11:50:03.369Z"
   },
   {
    "duration": 132,
    "start_time": "2024-02-17T11:50:04.526Z"
   },
   {
    "duration": 4,
    "start_time": "2024-02-17T11:50:04.660Z"
   },
   {
    "duration": 22,
    "start_time": "2024-02-17T11:50:04.666Z"
   },
   {
    "duration": 9,
    "start_time": "2024-02-17T11:50:04.690Z"
   },
   {
    "duration": 13,
    "start_time": "2024-02-17T11:50:04.701Z"
   },
   {
    "duration": 52,
    "start_time": "2024-02-17T11:50:04.716Z"
   },
   {
    "duration": 27,
    "start_time": "2024-02-17T11:50:04.769Z"
   },
   {
    "duration": 22,
    "start_time": "2024-02-17T11:50:04.797Z"
   },
   {
    "duration": 8,
    "start_time": "2024-02-17T11:50:04.822Z"
   },
   {
    "duration": 20,
    "start_time": "2024-02-17T11:50:04.832Z"
   },
   {
    "duration": 63,
    "start_time": "2024-02-17T11:50:04.854Z"
   },
   {
    "duration": 4,
    "start_time": "2024-02-17T11:50:04.919Z"
   },
   {
    "duration": 20,
    "start_time": "2024-02-17T11:50:04.924Z"
   },
   {
    "duration": 8,
    "start_time": "2024-02-17T11:50:04.946Z"
   },
   {
    "duration": 8,
    "start_time": "2024-02-17T11:50:04.956Z"
   },
   {
    "duration": 28,
    "start_time": "2024-02-17T11:50:04.965Z"
   },
   {
    "duration": 15,
    "start_time": "2024-02-17T11:50:04.996Z"
   },
   {
    "duration": 5,
    "start_time": "2024-02-17T11:50:05.013Z"
   },
   {
    "duration": 11,
    "start_time": "2024-02-17T11:50:05.019Z"
   },
   {
    "duration": 140,
    "start_time": "2024-02-17T11:50:05.032Z"
   },
   {
    "duration": 19,
    "start_time": "2024-02-17T11:50:05.175Z"
   },
   {
    "duration": 24,
    "start_time": "2024-02-17T11:50:05.196Z"
   },
   {
    "duration": 15,
    "start_time": "2024-02-17T11:50:05.222Z"
   },
   {
    "duration": 10,
    "start_time": "2024-02-17T11:50:05.239Z"
   },
   {
    "duration": 81,
    "start_time": "2024-02-17T11:50:05.251Z"
   },
   {
    "duration": 14,
    "start_time": "2024-02-17T11:50:05.333Z"
   },
   {
    "duration": 43,
    "start_time": "2024-02-17T11:50:05.352Z"
   },
   {
    "duration": 9,
    "start_time": "2024-02-17T11:50:05.397Z"
   },
   {
    "duration": 185,
    "start_time": "2024-02-17T11:50:05.407Z"
   },
   {
    "duration": 152,
    "start_time": "2024-02-17T11:50:05.593Z"
   },
   {
    "duration": 13,
    "start_time": "2024-02-17T11:50:05.746Z"
   },
   {
    "duration": 10,
    "start_time": "2024-02-17T11:50:05.761Z"
   },
   {
    "duration": 337,
    "start_time": "2024-02-17T11:50:05.773Z"
   },
   {
    "duration": 248,
    "start_time": "2024-02-17T11:50:06.112Z"
   },
   {
    "duration": 13,
    "start_time": "2024-02-17T11:50:06.362Z"
   },
   {
    "duration": 340,
    "start_time": "2024-02-17T11:50:06.377Z"
   },
   {
    "duration": 10,
    "start_time": "2024-02-17T11:50:06.719Z"
   },
   {
    "duration": 23,
    "start_time": "2024-02-17T11:50:06.732Z"
   },
   {
    "duration": 12,
    "start_time": "2024-02-17T11:50:06.757Z"
   },
   {
    "duration": 256,
    "start_time": "2024-02-17T11:50:06.771Z"
   },
   {
    "duration": 9,
    "start_time": "2024-02-17T11:50:07.029Z"
   },
   {
    "duration": 352,
    "start_time": "2024-02-17T11:50:07.040Z"
   },
   {
    "duration": 13,
    "start_time": "2024-02-17T11:50:07.394Z"
   },
   {
    "duration": 218,
    "start_time": "2024-02-17T11:50:07.409Z"
   },
   {
    "duration": 198,
    "start_time": "2024-02-17T11:50:07.629Z"
   },
   {
    "duration": 5,
    "start_time": "2024-02-17T11:50:07.829Z"
   },
   {
    "duration": 14,
    "start_time": "2024-02-17T11:50:07.835Z"
   },
   {
    "duration": 11,
    "start_time": "2024-02-17T11:50:07.851Z"
   },
   {
    "duration": 199,
    "start_time": "2024-02-17T11:50:07.863Z"
   },
   {
    "duration": 246,
    "start_time": "2024-02-17T11:50:08.064Z"
   },
   {
    "duration": 5,
    "start_time": "2024-02-17T11:50:08.311Z"
   },
   {
    "duration": 6,
    "start_time": "2024-02-17T11:50:08.318Z"
   },
   {
    "duration": 118,
    "start_time": "2024-02-17T11:50:08.326Z"
   },
   {
    "duration": 126,
    "start_time": "2024-02-17T11:50:08.446Z"
   },
   {
    "duration": 40,
    "start_time": "2024-02-17T11:50:08.574Z"
   },
   {
    "duration": 150,
    "start_time": "2024-02-17T11:50:08.615Z"
   },
   {
    "duration": 7,
    "start_time": "2024-02-17T11:50:08.767Z"
   },
   {
    "duration": 41,
    "start_time": "2024-02-17T11:50:08.776Z"
   },
   {
    "duration": 16,
    "start_time": "2024-02-17T11:50:08.818Z"
   },
   {
    "duration": 9,
    "start_time": "2024-02-17T11:50:08.836Z"
   },
   {
    "duration": 14,
    "start_time": "2024-02-17T11:50:08.847Z"
   },
   {
    "duration": 33,
    "start_time": "2024-02-17T11:50:08.863Z"
   },
   {
    "duration": 28,
    "start_time": "2024-02-17T11:50:08.897Z"
   },
   {
    "duration": 15,
    "start_time": "2024-02-17T11:50:08.927Z"
   },
   {
    "duration": 13,
    "start_time": "2024-02-17T11:54:12.610Z"
   },
   {
    "duration": 12,
    "start_time": "2024-02-17T11:54:16.644Z"
   },
   {
    "duration": 15,
    "start_time": "2024-02-17T11:55:18.722Z"
   },
   {
    "duration": 27,
    "start_time": "2024-02-17T11:55:31.416Z"
   },
   {
    "duration": 15,
    "start_time": "2024-02-17T11:55:47.745Z"
   },
   {
    "duration": 1252,
    "start_time": "2024-02-17T15:41:38.910Z"
   },
   {
    "duration": 255,
    "start_time": "2024-02-17T15:41:40.165Z"
   },
   {
    "duration": 3,
    "start_time": "2024-02-17T15:41:40.423Z"
   },
   {
    "duration": 30,
    "start_time": "2024-02-17T15:41:40.428Z"
   },
   {
    "duration": 7,
    "start_time": "2024-02-17T15:41:40.459Z"
   },
   {
    "duration": 12,
    "start_time": "2024-02-17T15:41:40.467Z"
   },
   {
    "duration": 49,
    "start_time": "2024-02-17T15:41:40.481Z"
   },
   {
    "duration": 5,
    "start_time": "2024-02-17T15:41:40.531Z"
   },
   {
    "duration": 14,
    "start_time": "2024-02-17T15:41:40.538Z"
   },
   {
    "duration": 6,
    "start_time": "2024-02-17T15:41:40.572Z"
   },
   {
    "duration": 14,
    "start_time": "2024-02-17T15:41:40.580Z"
   },
   {
    "duration": 59,
    "start_time": "2024-02-17T15:41:40.596Z"
   },
   {
    "duration": 4,
    "start_time": "2024-02-17T15:41:40.656Z"
   },
   {
    "duration": 18,
    "start_time": "2024-02-17T15:41:40.661Z"
   },
   {
    "duration": 15,
    "start_time": "2024-02-17T15:41:40.681Z"
   },
   {
    "duration": 14,
    "start_time": "2024-02-17T15:41:40.697Z"
   },
   {
    "duration": 15,
    "start_time": "2024-02-17T15:41:40.712Z"
   },
   {
    "duration": 18,
    "start_time": "2024-02-17T15:41:40.728Z"
   },
   {
    "duration": 6,
    "start_time": "2024-02-17T15:41:40.748Z"
   },
   {
    "duration": 6,
    "start_time": "2024-02-17T15:41:40.756Z"
   },
   {
    "duration": 109,
    "start_time": "2024-02-17T15:41:40.764Z"
   },
   {
    "duration": 13,
    "start_time": "2024-02-17T15:41:40.874Z"
   },
   {
    "duration": 34,
    "start_time": "2024-02-17T15:41:40.888Z"
   },
   {
    "duration": 4,
    "start_time": "2024-02-17T15:41:40.924Z"
   },
   {
    "duration": 15,
    "start_time": "2024-02-17T15:41:40.930Z"
   },
   {
    "duration": 79,
    "start_time": "2024-02-17T15:41:40.947Z"
   },
   {
    "duration": 14,
    "start_time": "2024-02-17T15:41:41.027Z"
   },
   {
    "duration": 40,
    "start_time": "2024-02-17T15:41:41.044Z"
   },
   {
    "duration": 8,
    "start_time": "2024-02-17T15:41:41.085Z"
   },
   {
    "duration": 179,
    "start_time": "2024-02-17T15:41:41.095Z"
   },
   {
    "duration": 136,
    "start_time": "2024-02-17T15:41:41.275Z"
   },
   {
    "duration": 11,
    "start_time": "2024-02-17T15:41:41.413Z"
   },
   {
    "duration": 22,
    "start_time": "2024-02-17T15:41:41.425Z"
   },
   {
    "duration": 285,
    "start_time": "2024-02-17T15:41:41.448Z"
   },
   {
    "duration": 213,
    "start_time": "2024-02-17T15:41:41.735Z"
   },
   {
    "duration": 11,
    "start_time": "2024-02-17T15:41:41.949Z"
   },
   {
    "duration": 350,
    "start_time": "2024-02-17T15:41:41.973Z"
   },
   {
    "duration": 7,
    "start_time": "2024-02-17T15:41:42.325Z"
   },
   {
    "duration": 12,
    "start_time": "2024-02-17T15:41:42.333Z"
   },
   {
    "duration": 9,
    "start_time": "2024-02-17T15:41:42.346Z"
   },
   {
    "duration": 209,
    "start_time": "2024-02-17T15:41:42.357Z"
   },
   {
    "duration": 11,
    "start_time": "2024-02-17T15:41:42.567Z"
   },
   {
    "duration": 301,
    "start_time": "2024-02-17T15:41:42.580Z"
   },
   {
    "duration": 12,
    "start_time": "2024-02-17T15:41:42.882Z"
   },
   {
    "duration": 187,
    "start_time": "2024-02-17T15:41:42.895Z"
   },
   {
    "duration": 181,
    "start_time": "2024-02-17T15:41:43.084Z"
   },
   {
    "duration": 8,
    "start_time": "2024-02-17T15:41:43.267Z"
   },
   {
    "duration": 25,
    "start_time": "2024-02-17T15:41:43.276Z"
   },
   {
    "duration": 15,
    "start_time": "2024-02-17T15:41:43.302Z"
   },
   {
    "duration": 177,
    "start_time": "2024-02-17T15:41:43.319Z"
   },
   {
    "duration": 239,
    "start_time": "2024-02-17T15:41:43.498Z"
   },
   {
    "duration": 5,
    "start_time": "2024-02-17T15:41:43.739Z"
   },
   {
    "duration": 10,
    "start_time": "2024-02-17T15:41:43.745Z"
   },
   {
    "duration": 101,
    "start_time": "2024-02-17T15:41:43.756Z"
   },
   {
    "duration": 133,
    "start_time": "2024-02-17T15:41:43.858Z"
   },
   {
    "duration": 31,
    "start_time": "2024-02-17T15:41:43.992Z"
   },
   {
    "duration": 152,
    "start_time": "2024-02-17T15:41:44.025Z"
   },
   {
    "duration": 5,
    "start_time": "2024-02-17T15:41:44.179Z"
   },
   {
    "duration": 27,
    "start_time": "2024-02-17T15:41:44.186Z"
   },
   {
    "duration": 14,
    "start_time": "2024-02-17T15:41:44.215Z"
   },
   {
    "duration": 4,
    "start_time": "2024-02-17T15:41:44.231Z"
   },
   {
    "duration": 40,
    "start_time": "2024-02-17T15:41:44.237Z"
   },
   {
    "duration": 8,
    "start_time": "2024-02-17T15:41:44.279Z"
   },
   {
    "duration": 30,
    "start_time": "2024-02-17T15:41:44.288Z"
   },
   {
    "duration": 14,
    "start_time": "2024-02-17T15:41:44.319Z"
   },
   {
    "duration": 1226,
    "start_time": "2024-02-17T15:42:01.589Z"
   },
   {
    "duration": 212,
    "start_time": "2024-02-17T15:42:02.817Z"
   },
   {
    "duration": 3,
    "start_time": "2024-02-17T15:42:03.031Z"
   },
   {
    "duration": 38,
    "start_time": "2024-02-17T15:42:03.036Z"
   },
   {
    "duration": 4,
    "start_time": "2024-02-17T15:42:03.076Z"
   },
   {
    "duration": 26,
    "start_time": "2024-02-17T15:42:03.081Z"
   },
   {
    "duration": 90,
    "start_time": "2024-02-17T15:42:03.109Z"
   },
   {
    "duration": 4,
    "start_time": "2024-02-17T15:42:03.201Z"
   },
   {
    "duration": 70,
    "start_time": "2024-02-17T15:42:03.206Z"
   },
   {
    "duration": 5,
    "start_time": "2024-02-17T15:42:03.278Z"
   },
   {
    "duration": 25,
    "start_time": "2024-02-17T15:42:03.285Z"
   },
   {
    "duration": 82,
    "start_time": "2024-02-17T15:42:03.312Z"
   },
   {
    "duration": 3,
    "start_time": "2024-02-17T15:42:03.396Z"
   },
   {
    "duration": 73,
    "start_time": "2024-02-17T15:42:03.401Z"
   },
   {
    "duration": 25,
    "start_time": "2024-02-17T15:42:03.477Z"
   },
   {
    "duration": 37,
    "start_time": "2024-02-17T15:42:03.504Z"
   },
   {
    "duration": 23,
    "start_time": "2024-02-17T15:42:03.573Z"
   },
   {
    "duration": 22,
    "start_time": "2024-02-17T15:42:03.597Z"
   },
   {
    "duration": 7,
    "start_time": "2024-02-17T15:42:03.621Z"
   },
   {
    "duration": 48,
    "start_time": "2024-02-17T15:42:03.630Z"
   },
   {
    "duration": 247,
    "start_time": "2024-02-17T15:42:03.680Z"
   },
   {
    "duration": 13,
    "start_time": "2024-02-17T15:42:03.928Z"
   },
   {
    "duration": 38,
    "start_time": "2024-02-17T15:42:03.943Z"
   },
   {
    "duration": 51,
    "start_time": "2024-02-17T15:42:03.983Z"
   },
   {
    "duration": 27,
    "start_time": "2024-02-17T15:42:04.036Z"
   },
   {
    "duration": 91,
    "start_time": "2024-02-17T15:42:04.065Z"
   },
   {
    "duration": 13,
    "start_time": "2024-02-17T15:42:04.158Z"
   },
   {
    "duration": 64,
    "start_time": "2024-02-17T15:42:04.175Z"
   },
   {
    "duration": 23,
    "start_time": "2024-02-17T15:42:04.240Z"
   },
   {
    "duration": 190,
    "start_time": "2024-02-17T15:42:04.264Z"
   },
   {
    "duration": 149,
    "start_time": "2024-02-17T15:42:04.455Z"
   },
   {
    "duration": 12,
    "start_time": "2024-02-17T15:42:04.606Z"
   },
   {
    "duration": 23,
    "start_time": "2024-02-17T15:42:04.619Z"
   },
   {
    "duration": 317,
    "start_time": "2024-02-17T15:42:04.643Z"
   },
   {
    "duration": 224,
    "start_time": "2024-02-17T15:42:04.962Z"
   },
   {
    "duration": 11,
    "start_time": "2024-02-17T15:42:05.187Z"
   },
   {
    "duration": 318,
    "start_time": "2024-02-17T15:42:05.200Z"
   },
   {
    "duration": 8,
    "start_time": "2024-02-17T15:42:05.520Z"
   },
   {
    "duration": 21,
    "start_time": "2024-02-17T15:42:05.529Z"
   },
   {
    "duration": 28,
    "start_time": "2024-02-17T15:42:05.552Z"
   },
   {
    "duration": 220,
    "start_time": "2024-02-17T15:42:05.581Z"
   },
   {
    "duration": 9,
    "start_time": "2024-02-17T15:42:05.803Z"
   },
   {
    "duration": 298,
    "start_time": "2024-02-17T15:42:05.814Z"
   },
   {
    "duration": 12,
    "start_time": "2024-02-17T15:42:06.113Z"
   },
   {
    "duration": 191,
    "start_time": "2024-02-17T15:42:06.126Z"
   },
   {
    "duration": 163,
    "start_time": "2024-02-17T15:42:06.318Z"
   },
   {
    "duration": 4,
    "start_time": "2024-02-17T15:42:06.483Z"
   },
   {
    "duration": 21,
    "start_time": "2024-02-17T15:42:06.489Z"
   },
   {
    "duration": 22,
    "start_time": "2024-02-17T15:42:06.512Z"
   },
   {
    "duration": 172,
    "start_time": "2024-02-17T15:42:06.535Z"
   },
   {
    "duration": 234,
    "start_time": "2024-02-17T15:42:06.709Z"
   },
   {
    "duration": 5,
    "start_time": "2024-02-17T15:42:06.944Z"
   },
   {
    "duration": 25,
    "start_time": "2024-02-17T15:42:06.950Z"
   },
   {
    "duration": 116,
    "start_time": "2024-02-17T15:42:06.977Z"
   },
   {
    "duration": 142,
    "start_time": "2024-02-17T15:42:07.095Z"
   },
   {
    "duration": 29,
    "start_time": "2024-02-17T15:42:07.239Z"
   },
   {
    "duration": 152,
    "start_time": "2024-02-17T15:42:07.270Z"
   },
   {
    "duration": 6,
    "start_time": "2024-02-17T15:42:07.424Z"
   },
   {
    "duration": 31,
    "start_time": "2024-02-17T15:42:07.431Z"
   },
   {
    "duration": 24,
    "start_time": "2024-02-17T15:42:07.463Z"
   },
   {
    "duration": 6,
    "start_time": "2024-02-17T15:42:07.489Z"
   },
   {
    "duration": 26,
    "start_time": "2024-02-17T15:42:07.496Z"
   },
   {
    "duration": 8,
    "start_time": "2024-02-17T15:42:07.523Z"
   },
   {
    "duration": 63,
    "start_time": "2024-02-17T15:42:07.533Z"
   },
   {
    "duration": 14,
    "start_time": "2024-02-17T15:42:07.597Z"
   },
   {
    "duration": 1145,
    "start_time": "2024-04-16T13:04:03.340Z"
   },
   {
    "duration": 266,
    "start_time": "2024-04-16T13:04:04.487Z"
   },
   {
    "duration": 4,
    "start_time": "2024-04-16T13:04:04.754Z"
   },
   {
    "duration": 18,
    "start_time": "2024-04-16T13:04:04.761Z"
   },
   {
    "duration": 5,
    "start_time": "2024-04-16T13:04:04.781Z"
   },
   {
    "duration": 10,
    "start_time": "2024-04-16T13:04:04.789Z"
   },
   {
    "duration": 74,
    "start_time": "2024-04-16T13:04:04.800Z"
   },
   {
    "duration": 6,
    "start_time": "2024-04-16T13:04:04.876Z"
   },
   {
    "duration": 6,
    "start_time": "2024-04-16T13:04:04.885Z"
   },
   {
    "duration": 8,
    "start_time": "2024-04-16T13:04:04.893Z"
   },
   {
    "duration": 9,
    "start_time": "2024-04-16T13:04:04.903Z"
   },
   {
    "duration": 77,
    "start_time": "2024-04-16T13:04:04.914Z"
   },
   {
    "duration": 3,
    "start_time": "2024-04-16T13:04:04.993Z"
   },
   {
    "duration": 17,
    "start_time": "2024-04-16T13:04:04.998Z"
   },
   {
    "duration": 6,
    "start_time": "2024-04-16T13:04:05.016Z"
   },
   {
    "duration": 7,
    "start_time": "2024-04-16T13:04:05.024Z"
   },
   {
    "duration": 38,
    "start_time": "2024-04-16T13:04:05.033Z"
   },
   {
    "duration": 21,
    "start_time": "2024-04-16T13:04:05.073Z"
   },
   {
    "duration": 35,
    "start_time": "2024-04-16T13:04:05.096Z"
   },
   {
    "duration": 5,
    "start_time": "2024-04-16T13:04:05.133Z"
   },
   {
    "duration": 110,
    "start_time": "2024-04-16T13:04:05.139Z"
   },
   {
    "duration": 13,
    "start_time": "2024-04-16T13:04:05.251Z"
   },
   {
    "duration": 21,
    "start_time": "2024-04-16T13:04:05.270Z"
   },
   {
    "duration": 11,
    "start_time": "2024-04-16T13:04:05.293Z"
   },
   {
    "duration": 36,
    "start_time": "2024-04-16T13:04:05.305Z"
   },
   {
    "duration": 69,
    "start_time": "2024-04-16T13:04:05.343Z"
   },
   {
    "duration": 12,
    "start_time": "2024-04-16T13:04:05.413Z"
   },
   {
    "duration": 25,
    "start_time": "2024-04-16T13:04:05.429Z"
   },
   {
    "duration": 29,
    "start_time": "2024-04-16T13:04:05.455Z"
   },
   {
    "duration": 217,
    "start_time": "2024-04-16T13:04:05.486Z"
   },
   {
    "duration": 145,
    "start_time": "2024-04-16T13:04:05.705Z"
   },
   {
    "duration": 23,
    "start_time": "2024-04-16T13:04:05.852Z"
   },
   {
    "duration": 39,
    "start_time": "2024-04-16T13:04:05.876Z"
   },
   {
    "duration": 326,
    "start_time": "2024-04-16T13:04:05.917Z"
   },
   {
    "duration": 228,
    "start_time": "2024-04-16T13:04:06.245Z"
   },
   {
    "duration": 18,
    "start_time": "2024-04-16T13:04:06.475Z"
   },
   {
    "duration": 330,
    "start_time": "2024-04-16T13:04:06.495Z"
   },
   {
    "duration": 9,
    "start_time": "2024-04-16T13:04:06.827Z"
   },
   {
    "duration": 14,
    "start_time": "2024-04-16T13:04:06.838Z"
   },
   {
    "duration": 18,
    "start_time": "2024-04-16T13:04:06.853Z"
   },
   {
    "duration": 247,
    "start_time": "2024-04-16T13:04:06.873Z"
   },
   {
    "duration": 8,
    "start_time": "2024-04-16T13:04:07.122Z"
   },
   {
    "duration": 355,
    "start_time": "2024-04-16T13:04:07.131Z"
   },
   {
    "duration": 11,
    "start_time": "2024-04-16T13:04:07.487Z"
   },
   {
    "duration": 199,
    "start_time": "2024-04-16T13:04:07.500Z"
   },
   {
    "duration": 190,
    "start_time": "2024-04-16T13:04:07.701Z"
   },
   {
    "duration": 4,
    "start_time": "2024-04-16T13:04:07.893Z"
   },
   {
    "duration": 11,
    "start_time": "2024-04-16T13:04:07.899Z"
   },
   {
    "duration": 10,
    "start_time": "2024-04-16T13:04:07.912Z"
   },
   {
    "duration": 199,
    "start_time": "2024-04-16T13:04:07.924Z"
   },
   {
    "duration": 264,
    "start_time": "2024-04-16T13:04:08.125Z"
   },
   {
    "duration": 4,
    "start_time": "2024-04-16T13:04:08.391Z"
   },
   {
    "duration": 10,
    "start_time": "2024-04-16T13:04:08.397Z"
   },
   {
    "duration": 111,
    "start_time": "2024-04-16T13:04:08.409Z"
   },
   {
    "duration": 126,
    "start_time": "2024-04-16T13:04:08.522Z"
   },
   {
    "duration": 44,
    "start_time": "2024-04-16T13:04:08.650Z"
   },
   {
    "duration": 150,
    "start_time": "2024-04-16T13:04:08.695Z"
   },
   {
    "duration": 6,
    "start_time": "2024-04-16T13:04:08.847Z"
   },
   {
    "duration": 45,
    "start_time": "2024-04-16T13:04:08.855Z"
   },
   {
    "duration": 13,
    "start_time": "2024-04-16T13:04:08.902Z"
   },
   {
    "duration": 10,
    "start_time": "2024-04-16T13:04:08.917Z"
   },
   {
    "duration": 14,
    "start_time": "2024-04-16T13:04:08.929Z"
   }
  ],
  "kernelspec": {
   "display_name": "Python 3 (ipykernel)",
   "language": "python",
   "name": "python3"
  },
  "language_info": {
   "codemirror_mode": {
    "name": "ipython",
    "version": 3
   },
   "file_extension": ".py",
   "mimetype": "text/x-python",
   "name": "python",
   "nbconvert_exporter": "python",
   "pygments_lexer": "ipython3",
   "version": "3.11.4"
  },
  "toc": {
   "base_numbering": 1,
   "nav_menu": {},
   "number_sections": true,
   "sideBar": true,
   "skip_h1_title": true,
   "title_cell": "Table of Contents",
   "title_sidebar": "Contents",
   "toc_cell": false,
   "toc_position": {
    "height": "calc(100% - 180px)",
    "left": "10px",
    "top": "150px",
    "width": "351px"
   },
   "toc_section_display": true,
   "toc_window_display": true
  }
 },
 "nbformat": 4,
 "nbformat_minor": 2
}
